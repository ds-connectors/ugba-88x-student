{
 "cells": [
  {
   "cell_type": "code",
   "execution_count": null,
   "metadata": {
    "deletable": false,
    "editable": false
   },
   "outputs": [],
   "source": [
    "# Initialize Otter\n",
    "import otter\n",
    "grader = otter.Notebook(\"lab_m2.ipynb\")"
   ]
  },
  {
   "cell_type": "markdown",
   "metadata": {},
   "source": [
    "# Lab M2: Seasonality"
   ]
  },
  {
   "cell_type": "markdown",
   "metadata": {},
   "source": [
    "## Setup"
   ]
  },
  {
   "cell_type": "code",
   "execution_count": null,
   "metadata": {},
   "outputs": [],
   "source": [
    "import warnings\n",
    "from datascience import Table\n",
    "from numpy import mean, mod, sqrt\n",
    "from statsmodels.formula.api import ols\n",
    "\n",
    "# Force display of all values \n",
    "from IPython.core.interactiveshell import InteractiveShell\n",
    "InteractiveShell.ast_node_interactivity = \"all\"\n",
    "\n",
    "# Handle some obnoxious warning messages\n",
    "warnings.filterwarnings(\"ignore\")"
   ]
  },
  {
   "cell_type": "markdown",
   "metadata": {},
   "source": [
    "## Investing in Smartphones"
   ]
  },
  {
   "cell_type": "markdown",
   "metadata": {},
   "source": [
    "### Business Decision\n",
    "\n",
    "Investors in a smartphone retailer want to assess the company's growth potential.  They are especially interested in how stable revenue growth is.\n",
    "\n",
    "Assume that you are the director of financial planning and analysis for the smartphone company.  How would you estimate next year's sales?  How confident would you be about your estimate?\n",
    "\n",
    "Assume that you are an investor in the smartphone company.  How confident are you about the company's growth potential?"
   ]
  },
  {
   "cell_type": "markdown",
   "metadata": {
    "deletable": false,
    "editable": false
   },
   "source": [
    "### Data"
   ]
  },
  {
   "cell_type": "markdown",
   "metadata": {
    "deletable": false,
    "editable": false
   },
   "source": [
    "Retrieve a dataset from file 'Smartphones.csv'.  Show the first few observations.\n",
    "Visualize the dataset as a scatterplot."
   ]
  },
  {
   "cell_type": "code",
   "execution_count": null,
   "metadata": {
    "tags": [
     "otter_answer_cell"
    ]
   },
   "outputs": [],
   "source": [
    "smartphones = ...\n",
    "smartphones\n",
    "\n",
    "smartphones.scatter('quarter')"
   ]
  },
  {
   "cell_type": "code",
   "execution_count": null,
   "metadata": {
    "deletable": false,
    "editable": false
   },
   "outputs": [],
   "source": [
    "grader.check(\"q1_1\")"
   ]
  },
  {
   "cell_type": "markdown",
   "metadata": {},
   "source": [
    "Visualize the dataset as a lineplot."
   ]
  },
  {
   "cell_type": "code",
   "execution_count": null,
   "metadata": {
    "scrolled": false
   },
   "outputs": [],
   "source": [
    "smartphones_plot = smartphones.plot('quarter')\n",
    "smartphones_plot"
   ]
  },
  {
   "cell_type": "markdown",
   "metadata": {},
   "source": [
    "### Analysis: Linear Regression with Seasonality Variables"
   ]
  },
  {
   "cell_type": "markdown",
   "metadata": {
    "deletable": false,
    "editable": false
   },
   "source": [
    "#### Model That Accounts for Trend"
   ]
  },
  {
   "cell_type": "markdown",
   "metadata": {
    "deletable": false,
    "editable": false
   },
   "source": [
    "Build a linear regression model to predict sales based on quarter.\n",
    "Show the model goodness of fit (R^2).\n",
    "Show the model parameters."
   ]
  },
  {
   "cell_type": "code",
   "execution_count": null,
   "metadata": {
    "tags": [
     "otter_answer_cell"
    ]
   },
   "outputs": [],
   "source": [
    "model_1 = ...\n",
    "model_1.rsquared\n",
    "model_1.params"
   ]
  },
  {
   "cell_type": "code",
   "execution_count": null,
   "metadata": {
    "deletable": false,
    "editable": false
   },
   "outputs": [],
   "source": [
    "grader.check(\"q2_1\")"
   ]
  },
  {
   "cell_type": "markdown",
   "metadata": {
    "deletable": false,
    "editable": false
   },
   "source": [
    "Add a variable to the dataset for predicted sales.\n",
    "Show the resulting dataset."
   ]
  },
  {
   "cell_type": "code",
   "execution_count": null,
   "metadata": {
    "tags": [
     "otter_answer_cell"
    ]
   },
   "outputs": [],
   "source": [
    "predicted_sales_1 = ...\n",
    "\n",
    "smartphones_predictions = smartphones.with_column('sales_predicted', predicted_sales_1)\n",
    "smartphones_predictions"
   ]
  },
  {
   "cell_type": "code",
   "execution_count": null,
   "metadata": {
    "deletable": false,
    "editable": false
   },
   "outputs": [],
   "source": [
    "grader.check(\"q2_2\")"
   ]
  },
  {
   "cell_type": "markdown",
   "metadata": {
    "deletable": false,
    "editable": false
   },
   "source": [
    "Show the RMSE calculated based on the dataset.  \n",
    "Visualize the performance of the model as a lineplot of sales and predicted sales vs. quarter."
   ]
  },
  {
   "cell_type": "code",
   "execution_count": null,
   "metadata": {
    "scrolled": false,
    "tags": [
     "otter_answer_cell"
    ]
   },
   "outputs": [],
   "source": [
    "RMSE_1 = ...\n",
    "RMSE_1\n",
    "\n",
    "smartphones_plot = smartphones_predictions.plot('quarter')\n",
    "smartphones_plot"
   ]
  },
  {
   "cell_type": "code",
   "execution_count": null,
   "metadata": {
    "deletable": false,
    "editable": false
   },
   "outputs": [],
   "source": [
    "grader.check(\"q2_3\")"
   ]
  },
  {
   "cell_type": "markdown",
   "metadata": {},
   "source": [
    "#### Model That Accounts for Trend & Seasonality"
   ]
  },
  {
   "cell_type": "markdown",
   "metadata": {},
   "source": [
    "Reset dataset to include only sales and quarter variables.  Show the first few observations."
   ]
  },
  {
   "cell_type": "code",
   "execution_count": null,
   "metadata": {},
   "outputs": [],
   "source": [
    "smartphones = smartphones.select('quarter','sales')\n",
    "smartphones"
   ]
  },
  {
   "cell_type": "markdown",
   "metadata": {
    "deletable": false,
    "editable": false
   },
   "source": [
    "Add a variable to the dataset for quarter name.  \n",
    "1 indicates a 1st quarter, 2 indicates a 2nd quarter, 3 indicates a 3rd quarter, 4 indicates a 4th quarter).  \n",
    "\n",
    "Show the first few observations of the resulting dataset.  \n",
    "You can use the `mod` function for modulo arithmetic, e.g., `mod(data.column('quarter'),4)+1`."
   ]
  },
  {
   "cell_type": "code",
   "execution_count": null,
   "metadata": {
    "tags": [
     "otter_answer_cell"
    ]
   },
   "outputs": [],
   "source": [
    "quarter_name = ...\n",
    "\n",
    "smartphones_quarter = smartphones.with_column('quarter_name', quarter_name)\n",
    "smartphones_quarter"
   ]
  },
  {
   "cell_type": "code",
   "execution_count": null,
   "metadata": {
    "deletable": false,
    "editable": false
   },
   "outputs": [],
   "source": [
    "grader.check(\"q3_1\")"
   ]
  },
  {
   "cell_type": "markdown",
   "metadata": {
    "deletable": false,
    "editable": false
   },
   "source": [
    "Convert the quarter name variable to dummy variables.  Show the first few observations."
   ]
  },
  {
   "cell_type": "code",
   "execution_count": null,
   "metadata": {
    "tags": [
     "otter_answer_cell"
    ]
   },
   "outputs": [],
   "source": [
    "q2_dummy = ...\n",
    "q3_dummy = ...\n",
    "q4_dummy = ...\n",
    "\n",
    "smartphones_dummy = smartphones_quarter.with_columns('q2', q2_dummy.astype(int),\n",
    "                         'q3', q3_dummy.astype(int),\n",
    "                         'q4', q4_dummy.astype(int))\n",
    "smartphones_dummy"
   ]
  },
  {
   "cell_type": "code",
   "execution_count": null,
   "metadata": {
    "deletable": false,
    "editable": false
   },
   "outputs": [],
   "source": [
    "grader.check(\"q3_2\")"
   ]
  },
  {
   "cell_type": "markdown",
   "metadata": {
    "deletable": false,
    "editable": false
   },
   "source": [
    "Build a linear regression model to predict sales based on quarter and quarter name dummy variables.  \n",
    "Show the model goodness of fit (R^2).  \n",
    "Show the model parameters."
   ]
  },
  {
   "cell_type": "code",
   "execution_count": null,
   "metadata": {
    "tags": [
     "otter_answer_cell"
    ]
   },
   "outputs": [],
   "source": [
    "model_2 = ...\n",
    "model_2.rsquared\n",
    "model_2.params"
   ]
  },
  {
   "cell_type": "code",
   "execution_count": null,
   "metadata": {
    "deletable": false,
    "editable": false
   },
   "outputs": [],
   "source": [
    "grader.check(\"q3_3\")"
   ]
  },
  {
   "cell_type": "markdown",
   "metadata": {
    "deletable": false,
    "editable": false
   },
   "source": [
    "Add a variable to the dataset for predicted sales."
   ]
  },
  {
   "cell_type": "code",
   "execution_count": null,
   "metadata": {
    "tags": [
     "otter_answer_cell"
    ]
   },
   "outputs": [],
   "source": [
    "predicted_sales_2 = ...\n",
    "\n",
    "smartphones_dummy_preds = smartphones_dummy.with_column('sales_predicted', predicted_sales_2)\n",
    "smartphones_dummy_preds"
   ]
  },
  {
   "cell_type": "code",
   "execution_count": null,
   "metadata": {
    "deletable": false,
    "editable": false
   },
   "outputs": [],
   "source": [
    "grader.check(\"q3_4\")"
   ]
  },
  {
   "cell_type": "markdown",
   "metadata": {
    "deletable": false,
    "editable": false
   },
   "source": [
    "Show the RMSE calculated based on the dataset.  \n",
    "Visualize the performance of the model as a lineplot of sales and predicted sales vs. quarter."
   ]
  },
  {
   "cell_type": "code",
   "execution_count": null,
   "metadata": {
    "tags": [
     "otter_answer_cell"
    ]
   },
   "outputs": [],
   "source": [
    "RMSE_2 = ...\n",
    "RMSE_2\n",
    "\n",
    "dummy_preds_plot = smartphones_dummy_preds.select('quarter','sales','sales_predicted').plot('quarter')\n",
    "dummy_preds_plot"
   ]
  },
  {
   "cell_type": "code",
   "execution_count": null,
   "metadata": {
    "deletable": false,
    "editable": false
   },
   "outputs": [],
   "source": [
    "grader.check(\"q3_4\")"
   ]
  },
  {
   "cell_type": "markdown",
   "metadata": {
    "deletable": false,
    "editable": false
   },
   "source": [
    "Predict the sales in quarter 32, which is the 1st quarter of the year."
   ]
  },
  {
   "cell_type": "code",
   "execution_count": null,
   "metadata": {
    "tags": [
     "otter_answer_cell"
    ]
   },
   "outputs": [],
   "source": [
    "q32_predictions = model_2.predict(Table().with_columns('quarter', 32, 'q2', 0, 'q3', 0, 'q4', 0))\n",
    "q32_predictions"
   ]
  },
  {
   "cell_type": "code",
   "execution_count": null,
   "metadata": {
    "deletable": false,
    "editable": false
   },
   "outputs": [],
   "source": [
    "grader.check(\"q3_5\")"
   ]
  },
  {
   "cell_type": "markdown",
   "metadata": {},
   "source": [
    "<p style=\"text-align:left; font-size:10px;\">\n",
    "Copyright (c) Huntsinger Associates, LLC\n",
    "<span style=\"float:right;\">\n",
    "Document revised November 18, 2023\n",
    "</span>\n",
    "</p>"
   ]
  }
 ],
 "metadata": {
  "kernelspec": {
   "display_name": ".venv",
   "language": "python",
   "name": "python3"
  },
  "language_info": {
   "codemirror_mode": {
    "name": "ipython",
    "version": 3
   },
   "file_extension": ".py",
   "mimetype": "text/x-python",
   "name": "python",
   "nbconvert_exporter": "python",
   "pygments_lexer": "ipython3",
   "version": "3.13.5"
  },
  "otter": {
   "OK_FORMAT": true,
   "tests": {
    "q1_1": {
     "name": "q1_1",
     "points": null,
     "suites": [
      {
       "cases": [
        {
         "code": ">>> smartphones.labels == ('quarter', 'sales') and smartphones.num_rows == 32\nTrue",
         "hidden": false,
         "locked": false
        }
       ],
       "scored": true,
       "setup": "",
       "teardown": "",
       "type": "doctest"
      }
     ]
    },
    "q2_1": {
     "name": "q2_1",
     "points": null,
     "suites": [
      {
       "cases": [
        {
         "code": ">>> cond1 = list(model_1.model.data.frame.labels) == list(smartphones.labels)\n>>> cond2 = model_1.model.data.frame.num_rows == smartphones.num_rows\n>>> cond3 = all((model_1.model.data.frame.row(i) == smartphones.row(i) for i in range(smartphones.num_rows)))\n>>> cond1 and cond2 and cond3\nTrue",
         "hidden": false,
         "locked": false
        },
        {
         "code": ">>> hasattr(model_1, 'rsquared') and hasattr(model_1, 'params') and (len(model_1.params) == 2)\nTrue",
         "hidden": false,
         "locked": false
        }
       ],
       "scored": true,
       "setup": "",
       "teardown": "",
       "type": "doctest"
      }
     ]
    },
    "q2_2": {
     "name": "q2_2",
     "points": null,
     "suites": [
      {
       "cases": [
        {
         "code": ">>> all(predicted_sales_1 == model_1.predict(smartphones))\nTrue",
         "hidden": false,
         "locked": false
        }
       ],
       "scored": true,
       "setup": "",
       "teardown": "",
       "type": "doctest"
      }
     ]
    },
    "q2_3": {
     "name": "q2_3",
     "points": null,
     "suites": [
      {
       "cases": [
        {
         "code": ">>> RMSE_1 == sqrt(mean(model_1.resid ** 2))\nTrue",
         "hidden": false,
         "locked": false
        }
       ],
       "scored": true,
       "setup": "",
       "teardown": "",
       "type": "doctest"
      }
     ]
    },
    "q3_1": {
     "name": "q3_1",
     "points": null,
     "suites": [
      {
       "cases": [
        {
         "code": ">>> all(quarter_name == mod(smartphones.column('quarter'), 4) + 1)\nTrue",
         "hidden": false,
         "locked": false
        }
       ],
       "scored": true,
       "setup": "",
       "teardown": "",
       "type": "doctest"
      }
     ]
    },
    "q3_2": {
     "name": "q3_2",
     "points": null,
     "suites": [
      {
       "cases": [
        {
         "code": ">>> all((row.q2 == (row.quarter_name == 2) for row in smartphones_dummy.rows))\nTrue",
         "hidden": false,
         "locked": false
        },
        {
         "code": ">>> all((row.q3 == (row.quarter_name == 3) for row in smartphones_dummy.rows))\nTrue",
         "hidden": false,
         "locked": false
        },
        {
         "code": ">>> all((row.q4 == (row.quarter_name == 4) for row in smartphones_dummy.rows))\nTrue",
         "hidden": false,
         "locked": false
        }
       ],
       "scored": true,
       "setup": "",
       "teardown": "",
       "type": "doctest"
      }
     ]
    },
    "q3_3": {
     "name": "q3_3",
     "points": null,
     "suites": [
      {
       "cases": [
        {
         "code": ">>> cond1 = list(model_2.model.data.frame.labels) == list(smartphones_dummy.labels)\n>>> cond2 = model_2.model.data.frame.num_rows == smartphones_dummy.num_rows\n>>> cond3 = all((model_2.model.data.frame.row(i) == smartphones_dummy.row(i) for i in range(smartphones_dummy.num_rows)))\n>>> cond1 and cond2 and cond3\nTrue",
         "hidden": false,
         "locked": false
        },
        {
         "code": ">>> hasattr(model_2, 'rsquared') and hasattr(model_2, 'params') and (len(model_2.params) == 5)\nTrue",
         "hidden": false,
         "locked": false
        }
       ],
       "scored": true,
       "setup": "",
       "teardown": "",
       "type": "doctest"
      }
     ]
    },
    "q3_4": {
     "name": "q3_4",
     "points": null,
     "suites": [
      {
       "cases": [
        {
         "code": ">>> all(predicted_sales_2 == model_2.predict(smartphones_dummy))\nTrue",
         "hidden": false,
         "locked": false
        },
        {
         "code": ">>> RMSE_2 == sqrt(mean(model_2.resid ** 2))\nTrue",
         "hidden": false,
         "locked": false
        }
       ],
       "scored": true,
       "setup": "",
       "teardown": "",
       "type": "doctest"
      }
     ]
    },
    "q3_5": {
     "name": "q3_5",
     "points": null,
     "suites": [
      {
       "cases": [
        {
         "code": ">>> all(q32_predictions == model_2.predict(Table().with_columns('quarter', 32, 'q2', 0, 'q3', 0, 'q4', 0)))\nTrue",
         "hidden": false,
         "locked": false
        }
       ],
       "scored": true,
       "setup": "",
       "teardown": "",
       "type": "doctest"
      }
     ]
    }
   }
  },
  "otter_service": {
   "assignment": "lab_m2",
   "course": "88bx",
   "section": "3"
  },
  "toc": {
   "base_numbering": 1,
   "nav_menu": {},
   "number_sections": true,
   "sideBar": true,
   "skip_h1_title": true,
   "title_cell": "Table of Contents",
   "title_sidebar": "Contents",
   "toc_cell": false,
   "toc_position": {
    "height": "calc(100% - 180px)",
    "left": "10px",
    "top": "150px",
    "width": "256.25px"
   },
   "toc_section_display": true,
   "toc_window_display": false
  }
 },
 "nbformat": 4,
 "nbformat_minor": 2
}
