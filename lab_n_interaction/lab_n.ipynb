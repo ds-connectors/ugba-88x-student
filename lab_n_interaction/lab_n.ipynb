{
 "cells": [
  {
   "cell_type": "code",
   "execution_count": null,
   "metadata": {
    "deletable": false,
    "editable": false
   },
   "outputs": [],
   "source": [
    "# Initialize Otter\n",
    "import otter\n",
    "grader = otter.Notebook(\"lab_n.ipynb\")"
   ]
  },
  {
   "cell_type": "markdown",
   "metadata": {},
   "source": [
    "# Lab N: Interaction"
   ]
  },
  {
   "cell_type": "markdown",
   "metadata": {},
   "source": [
    "## Setup"
   ]
  },
  {
   "cell_type": "code",
   "execution_count": null,
   "metadata": {},
   "outputs": [],
   "source": [
    "import builtins\n",
    "import math\n",
    "import warnings\n",
    "from datascience import Table, make_array\n",
    "from statsmodels.formula.api import ols\n",
    "\n",
    "# Force display of all values \n",
    "from IPython.core.interactiveshell import InteractiveShell\n",
    "InteractiveShell.ast_node_interactivity = \"all\"\n",
    "\n",
    "# Handle some obnoxious warning messages\n",
    "warnings.filterwarnings(\"ignore\")"
   ]
  },
  {
   "cell_type": "markdown",
   "metadata": {},
   "source": [
    "## Advertising & Pricing Beauty Products\n",
    "\n",
    "### Business Decision\n",
    "\n",
    "Tyler Beauty Products advertises and sells beauty products.  It recently conducted a set of marketing programs at various retail stores, where products were priced at 3 different levels: \\\\$2.00, \\\\$2.50, or \\\\$3.00.  Each of these stores advertised at 2 different budget levels: \\\\$50,000 or \\\\$100,000.  The product manager must now decide on advertising budgets of \\\\$50,000 or \\\\$100,000 at each of several new stores.  For various strategic reasons, each of the new stores has already decided whether to price the beauty products at \\\\$2.00, \\\\$2.50, or \\\\$3.00."
   ]
  },
  {
   "cell_type": "markdown",
   "metadata": {
    "deletable": false,
    "editable": false
   },
   "source": [
    "### Retrieve Data\n",
    "\n",
    "Retrieve data from file 'Tyler.csv'. Show ALL marketing program results."
   ]
  },
  {
   "cell_type": "code",
   "execution_count": null,
   "metadata": {
    "tags": [
     "otter_answer_cell"
    ]
   },
   "outputs": [],
   "source": [
    "data = ...\n",
    "data"
   ]
  },
  {
   "cell_type": "code",
   "execution_count": null,
   "metadata": {
    "deletable": false,
    "editable": false
   },
   "outputs": [],
   "source": [
    "grader.check(\"q1\")"
   ]
  },
  {
   "cell_type": "markdown",
   "metadata": {},
   "source": [
    "### Analysis"
   ]
  },
  {
   "cell_type": "markdown",
   "metadata": {},
   "source": [
    "#### Model 1\n",
    "\n",
    "Build a multiple linear regression model to predict 'Sales' based on 'Price' and 'Budget'.  Show the model goodness of fit (R^2).  Show the model parameter values (intercept and coefficients)."
   ]
  },
  {
   "cell_type": "code",
   "execution_count": null,
   "metadata": {
    "tags": [
     "otter_answer_cell"
    ]
   },
   "outputs": [],
   "source": [
    "model_formula = ...\n",
    "model = ...\n",
    "model.rsquared\n",
    "model.params"
   ]
  },
  {
   "cell_type": "code",
   "execution_count": null,
   "metadata": {
    "deletable": false,
    "editable": false
   },
   "outputs": [],
   "source": [
    "grader.check(\"q2\")"
   ]
  },
  {
   "cell_type": "markdown",
   "metadata": {
    "deletable": false,
    "editable": false
   },
   "source": [
    "Build a report that shows what sales and profits the model would predict for each combination of price and budget.\n",
    "Calculate profit as sales minus budget."
   ]
  },
  {
   "cell_type": "code",
   "execution_count": null,
   "metadata": {
    "tags": [
     "otter_answer_cell"
    ]
   },
   "outputs": [],
   "source": [
    "report = Table().with_columns('Price', make_array(2, 2.5, 3))\n",
    "report = report.with_column('Budget', make_array(50, 50, 50))\n",
    "\n",
    "sales_predicted_50 = ...\n",
    "report = report.with_column('sales_predicted_50', sales_predicted_50)\n",
    "\n",
    "profit_50 = ...\n",
    "report = report.with_column('profit_50', profit_50)\n",
    "\n",
    "report = report.with_column('Budget', make_array(100, 100, 100)) # replace Budget amount\n",
    "\n",
    "sales_predicted_100 = ...\n",
    "report = report.with_column('sales_predicted_100', sales_predicted_100)\n",
    "\n",
    "profit_100 = ...\n",
    "report = report.with_column('profit_100', profit_100)\n",
    "\n",
    "report = report.drop('Budget')\n",
    "\n",
    "report"
   ]
  },
  {
   "cell_type": "code",
   "execution_count": null,
   "metadata": {
    "deletable": false,
    "editable": false
   },
   "outputs": [],
   "source": [
    "grader.check(\"q3\")"
   ]
  },
  {
   "cell_type": "markdown",
   "metadata": {
    "deletable": false,
    "editable": false
   },
   "source": [
    "Visualize predicted profits at budget \\$50,000 and budget \\$100,000 vs. price, as a line plot."
   ]
  },
  {
   "cell_type": "code",
   "execution_count": null,
   "metadata": {
    "tags": [
     "otter_answer_cell"
    ]
   },
   "outputs": [],
   "source": [
    "x_axis_column_name = ...\n",
    "y_axis_column_name = ...\n",
    "y_axis_column_name_2 = ...\n",
    "report.select(x_axis_column_name, y_axis_column_name, y_axis_column_name_2).plot(x_axis_column_name)"
   ]
  },
  {
   "cell_type": "code",
   "execution_count": null,
   "metadata": {
    "deletable": false,
    "editable": false
   },
   "outputs": [],
   "source": [
    "grader.check(\"q4\")"
   ]
  },
  {
   "cell_type": "markdown",
   "metadata": {
    "deletable": false,
    "editable": false
   },
   "source": [
    "For each price, determine which budget results in the best predicted profit."
   ]
  },
  {
   "cell_type": "code",
   "execution_count": null,
   "metadata": {
    "tags": [
     "otter_answer_cell"
    ]
   },
   "outputs": [],
   "source": [
    "for price in make_array(2, 2.5, 3):\n",
    "    budget = make_array('Budget 50', 'Budget 100')\n",
    "    profit_50  = ...\n",
    "    profit_100 = ...\n",
    "    larger_profit = ...\n",
    "    (price, budget.item((profit_50<profit_100)*1), larger_profit)"
   ]
  },
  {
   "cell_type": "code",
   "execution_count": null,
   "metadata": {
    "deletable": false,
    "editable": false
   },
   "outputs": [],
   "source": [
    "grader.check(\"q5\")"
   ]
  },
  {
   "cell_type": "markdown",
   "metadata": {},
   "source": [
    "#### Model 2\n",
    "\n",
    "Add a synthetic numeric variable called 'priceXbudget' to the data, with values that are the product of 'Price' and\n",
    "'Budget'. This is an INTERACTION variable. Show ALL the marketing program results."
   ]
  },
  {
   "cell_type": "code",
   "execution_count": null,
   "metadata": {
    "tags": [
     "otter_answer_cell"
    ]
   },
   "outputs": [],
   "source": [
    "syth_col_data = ...\n",
    "data = data.with_column('priceXbudget', syth_col_data)\n",
    "data.show()"
   ]
  },
  {
   "cell_type": "code",
   "execution_count": null,
   "metadata": {
    "deletable": false,
    "editable": false
   },
   "outputs": [],
   "source": [
    "grader.check(\"q6\")"
   ]
  },
  {
   "cell_type": "markdown",
   "metadata": {
    "deletable": false,
    "editable": false
   },
   "source": [
    "Build a multiple linear regression model to predict 'Sales' based on 'Price', 'Budget', and 'priceXbudget'.  Show the model goodness of fit (R^2).  Show the model parameter values (intercept and coefficients)."
   ]
  },
  {
   "cell_type": "code",
   "execution_count": null,
   "metadata": {
    "tags": [
     "otter_answer_cell"
    ]
   },
   "outputs": [],
   "source": [
    "model_formula = ...\n",
    "model = ols(model_formula, data).fit()\n",
    "r_squared = ...\n",
    "model.params"
   ]
  },
  {
   "cell_type": "code",
   "execution_count": null,
   "metadata": {
    "deletable": false,
    "editable": false
   },
   "outputs": [],
   "source": [
    "grader.check(\"q7\")"
   ]
  },
  {
   "cell_type": "markdown",
   "metadata": {
    "deletable": false,
    "editable": false
   },
   "source": [
    "Build a report that shows what sales and profits the model would predict for each combination of price and budget.\n",
    "Calculate profit as sales minus budget."
   ]
  },
  {
   "cell_type": "code",
   "execution_count": null,
   "metadata": {
    "tags": [
     "otter_answer_cell"
    ]
   },
   "outputs": [],
   "source": [
    "report = Table().with_columns('Price', make_array(2, 2.5, 3))\n",
    "report = report.with_column('Budget', make_array(50, 50, 50))\n",
    "\n",
    "array_price_50_budget = ...\n",
    "report = report.with_column('priceXbudget', array_price_50_budget)\n",
    "\n",
    "sales_predicted_50 = ...\n",
    "report = report.with_column('sales_predicted_50', sales_predicted_50)\n",
    "\n",
    "profit_50 = ...\n",
    "report = report.with_column('profit_50', profit_50)\n",
    "\n",
    "\n",
    "report = report.with_column('Budget', make_array(100, 100, 100)) # replace Budget amount\n",
    "\n",
    "array_price_100_budget = ...\n",
    "report = report.with_column('priceXbudget', array_price_100_budget)\n",
    "\n",
    "sales_predicted_100 = ...\n",
    "report = report.with_column('sales_predicted_100', sales_predicted_100)\n",
    "\n",
    "profit_100 = ...\n",
    "report = report.with_column('profit_100', profit_100)\n",
    "\n",
    "report = report.drop('Budget')\n",
    "report = report.drop('priceXbudget')\n",
    "\n",
    "report"
   ]
  },
  {
   "cell_type": "code",
   "execution_count": null,
   "metadata": {
    "deletable": false,
    "editable": false
   },
   "outputs": [],
   "source": [
    "grader.check(\"q8\")"
   ]
  },
  {
   "cell_type": "markdown",
   "metadata": {
    "deletable": false,
    "editable": false
   },
   "source": [
    "Visualize predicted profits at budget \\$50,000 and budget \\$100,000 vs. price, as a line plot."
   ]
  },
  {
   "cell_type": "code",
   "execution_count": null,
   "metadata": {
    "tags": [
     "otter_answer_cell"
    ]
   },
   "outputs": [],
   "source": [
    "x_axis_column_name_2 = ...\n",
    "y_axis_column_name_2 = ...\n",
    "y_axis_column_name_3 = ...\n",
    "report.select(x_axis_column_name_2, y_axis_column_name_2, y_axis_column_name_3).plot(x_axis_column_name_2)"
   ]
  },
  {
   "cell_type": "code",
   "execution_count": null,
   "metadata": {
    "deletable": false,
    "editable": false
   },
   "outputs": [],
   "source": [
    "grader.check(\"q9\")"
   ]
  },
  {
   "cell_type": "markdown",
   "metadata": {
    "deletable": false,
    "editable": false
   },
   "source": [
    "For each price, determine which budget results in the best predicted profit."
   ]
  },
  {
   "cell_type": "code",
   "execution_count": null,
   "metadata": {
    "tags": [
     "otter_answer_cell"
    ]
   },
   "outputs": [],
   "source": [
    "for price in make_array(2, 2.5, 3):\n",
    "    budget = make_array('Budget 50', 'Budget 100')\n",
    "    profit_50  = ...\n",
    "    profit_100 = ...\n",
    "    larger_profit = ...\n",
    "    (price, budget.item((profit_50<profit_100)*1), larger_profit)"
   ]
  },
  {
   "cell_type": "code",
   "execution_count": null,
   "metadata": {
    "deletable": false,
    "editable": false
   },
   "outputs": [],
   "source": [
    "grader.check(\"q10\")"
   ]
  },
  {
   "cell_type": "markdown",
   "metadata": {
    "deletable": false,
    "editable": false
   },
   "source": [
    "Calculate the price where it becomes more profitable to budget \\$50,000 than to budget \\$100,000."
   ]
  },
  {
   "cell_type": "markdown",
   "metadata": {
    "deletable": false,
    "editable": false
   },
   "source": [
    "$$\n",
    "\\textit{predicted profit at budget 50,000} = \\big( i + (c_1)(\\textit{price}) + (c_2)(50) + (c_3)(\\textit{price})(50) \\big) - 50\n",
    "$$\n",
    "\n",
    "$$\n",
    "\\textit{predicted profit at budget 100,000} = \\big( i + (c_1)(\\textit{price}) + (c_2)(100) + (c_3)(\\textit{price})(100) \\big) - 100\n",
    "$$"
   ]
  },
  {
   "cell_type": "markdown",
   "metadata": {
    "deletable": false,
    "editable": false
   },
   "source": [
    "$$\n",
    "i + (c_1)(\\textit{price}) + (c_2)(50) + (c_3)(\\textit{price})(50) - 50 = i + (c_1)(\\textit{price}) + (c_2)(100) + (c_3)(\\textit{price})(100) - 100\n",
    "$$\n",
    "\n",
    "$$\n",
    "(c_2)(50) + (c_3)(\\textit{price})(50) - 50 = (c_2)(100) + (c_3)(\\textit{price})(100) - 100\n",
    "$$\n",
    "\n",
    "$$\n",
    "(c_2)(50) - (c_2)(100) - 50 + 100 =  (c_3)(\\textit{price})(100) - (c_3)(\\textit{price})(50)\n",
    "$$\n",
    "\n",
    "$$\n",
    "(c_2)(50) - (c_2)(100) - 50 + 100 = (\\textit{price}) \\big((c_3)(100) - (c_3)(50)\\big)\n",
    "$$\n",
    "\n",
    "$$\n",
    "\\cfrac{(c_2)(50) - (c_2)(100) - 50 + 100}{(c_3)(100) - (c_3)(50)}  = \\textit{price}\n",
    "$$\n"
   ]
  },
  {
   "cell_type": "code",
   "execution_count": null,
   "metadata": {
    "tags": [
     "otter_answer_cell"
    ]
   },
   "outputs": [],
   "source": [
    "c2 = ...\n",
    "c3 = ...\n",
    "\n",
    "crossover_numerator = ...\n",
    "crossover_denominator = ...\n",
    "crossover = crossover_numerator / crossover_denominator\n",
    "crossover"
   ]
  },
  {
   "cell_type": "code",
   "execution_count": null,
   "metadata": {
    "deletable": false,
    "editable": false
   },
   "outputs": [],
   "source": [
    "grader.check(\"q11\")"
   ]
  },
  {
   "cell_type": "markdown",
   "metadata": {},
   "source": [
    "<p style=\"text-align:left; font-size:10px;\">\n",
    "Copyright (c) Huntsinger Associates, LLC\n",
    "<span style=\"float:right;\">\n",
    "Document revised November 24, 2023\n",
    "</span>\n",
    "</p>"
   ]
  }
 ],
 "metadata": {
  "kernelspec": {
   "display_name": ".venv",
   "language": "python",
   "name": "python3"
  },
  "language_info": {
   "codemirror_mode": {
    "name": "ipython",
    "version": 3
   },
   "file_extension": ".py",
   "mimetype": "text/x-python",
   "name": "python",
   "nbconvert_exporter": "python",
   "pygments_lexer": "ipython3",
   "version": "3.13.5"
  },
  "otter": {
   "OK_FORMAT": true,
   "tests": {
    "q1": {
     "name": "q1",
     "points": null,
     "suites": [
      {
       "cases": [
        {
         "code": ">>> data.labels == ('Store', 'Price', 'Budget', 'Sales') and data.num_rows == 24\nTrue",
         "hidden": false,
         "locked": false
        }
       ],
       "scored": true,
       "setup": "",
       "teardown": "",
       "type": "doctest"
      }
     ]
    },
    "q10": {
     "name": "q10",
     "points": null,
     "suites": [
      {
       "cases": [
        {
         "code": ">>> any(profit_100 == report.column('profit_100'))\nTrue",
         "hidden": false,
         "locked": false
        },
        {
         "code": ">>> any(profit_100 == report.column('profit_100'))\nTrue",
         "hidden": false,
         "locked": false
        },
        {
         "code": ">>> any(profit_50 == report.column('profit_50'))\nTrue",
         "hidden": false,
         "locked": false
        },
        {
         "code": ">>> any(larger_profit == report.column('profit_100'))\nFalse",
         "hidden": false,
         "locked": false
        }
       ],
       "scored": true,
       "setup": "",
       "teardown": "",
       "type": "doctest"
      }
     ]
    },
    "q11": {
     "name": "q11",
     "points": null,
     "suites": [
      {
       "cases": [
        {
         "code": ">>> c2 == model.params[2]\nTrue",
         "hidden": false,
         "locked": false
        },
        {
         "code": ">>> c3 == model.params[3]\nTrue",
         "hidden": false,
         "locked": false
        },
        {
         "code": ">>> crossover_numerator == c2 * 50 - c2 * 100 - 50 + 100\nTrue",
         "hidden": false,
         "locked": false
        },
        {
         "code": ">>> crossover_denominator == c3 * 100 - c3 * 50\nTrue",
         "hidden": false,
         "locked": false
        }
       ],
       "scored": true,
       "setup": "",
       "teardown": "",
       "type": "doctest"
      }
     ]
    },
    "q2": {
     "name": "q2",
     "points": null,
     "suites": [
      {
       "cases": [
        {
         "code": ">>> 'Budget' in model_formula\nTrue",
         "hidden": false,
         "locked": false
        },
        {
         "code": ">>> math.isclose(model.rsquared, 0.791, abs_tol=0.001)\nTrue",
         "hidden": false,
         "locked": false
        },
        {
         "code": ">>> hasattr(model, 'rsquared') and hasattr(model, 'params') and (len(model.params) == 3)\nTrue",
         "hidden": false,
         "locked": false
        }
       ],
       "scored": true,
       "setup": "",
       "teardown": "",
       "type": "doctest"
      }
     ]
    },
    "q3": {
     "name": "q3",
     "points": null,
     "suites": [
      {
       "cases": [
        {
         "code": ">>> report = report.with_column('Budget', make_array(50, 50, 50))\n>>> all(sales_predicted_50 == model.predict(report))\nTrue",
         "hidden": false,
         "locked": false
        },
        {
         "code": ">>> report = report.with_column('Budget', make_array(100, 100, 100))\n>>> all(sales_predicted_100 == model.predict(report))\nTrue",
         "hidden": false,
         "locked": false
        },
        {
         "code": ">>> report = report.with_column('Budget', make_array(100, 100, 100))\n>>> all(profit_100 == sales_predicted_100 - report.column('Budget'))\nTrue",
         "hidden": false,
         "locked": false
        },
        {
         "code": ">>> report = report.with_column('Budget', make_array(50, 50, 50))\n>>> all(profit_50 == sales_predicted_50 - report.column('Budget'))\nTrue",
         "hidden": false,
         "locked": false
        }
       ],
       "scored": true,
       "setup": "",
       "teardown": "",
       "type": "doctest"
      }
     ]
    },
    "q4": {
     "name": "q4",
     "points": null,
     "suites": [
      {
       "cases": [
        {
         "code": ">>> x_axis_column_name == 'Price'\nTrue",
         "hidden": false,
         "locked": false
        },
        {
         "code": ">>> y_axis_column_name == 'profit_50'\nTrue",
         "hidden": false,
         "locked": false
        },
        {
         "code": ">>> x_axis_column_name == 'Price'\nTrue",
         "hidden": false,
         "locked": false
        },
        {
         "code": ">>> y_axis_column_name_2 == 'profit_100'\nTrue",
         "hidden": false,
         "locked": false
        }
       ],
       "scored": true,
       "setup": "",
       "teardown": "",
       "type": "doctest"
      }
     ]
    },
    "q5": {
     "name": "q5",
     "points": null,
     "suites": [
      {
       "cases": [
        {
         "code": ">>> any(profit_100 == report.column('profit_100'))\nTrue",
         "hidden": false,
         "locked": false
        },
        {
         "code": ">>> any(profit_100 == report.column('profit_100'))\nTrue",
         "hidden": false,
         "locked": false
        },
        {
         "code": ">>> any(profit_50 == report.column('profit_50'))\nTrue",
         "hidden": false,
         "locked": false
        },
        {
         "code": ">>> any(larger_profit == report.column('profit_100'))\nTrue",
         "hidden": false,
         "locked": false
        }
       ],
       "scored": true,
       "setup": "",
       "teardown": "",
       "type": "doctest"
      }
     ]
    },
    "q6": {
     "name": "q6",
     "points": null,
     "suites": [
      {
       "cases": [
        {
         "code": ">>> all(syth_col_data == data.column('Price') * data.column('Budget'))\nTrue",
         "hidden": false,
         "locked": false
        }
       ],
       "scored": true,
       "setup": "",
       "teardown": "",
       "type": "doctest"
      }
     ]
    },
    "q7": {
     "name": "q7",
     "points": null,
     "suites": [
      {
       "cases": [
        {
         "code": ">>> 'priceXbudget' in model_formula\nTrue",
         "hidden": false,
         "locked": false
        },
        {
         "code": ">>> import math\n>>> math.isclose(r_squared, 0.97, abs_tol=0.05)\nTrue",
         "hidden": false,
         "locked": false
        }
       ],
       "scored": true,
       "setup": "",
       "teardown": "",
       "type": "doctest"
      }
     ]
    },
    "q8": {
     "name": "q8",
     "points": null,
     "suites": [
      {
       "cases": [
        {
         "code": ">>> report = report.with_column('Budget', make_array(50, 50, 50))\n>>> report = report.with_column('priceXbudget', make_array(50 * 2, 50 * 2.5, 50 * 3))\n>>> all(sales_predicted_50 == model.predict(report))\nTrue",
         "hidden": false,
         "locked": false
        },
        {
         "code": ">>> report = report.with_column('Budget', make_array(100, 100, 100))\n>>> report = report.with_column('priceXbudget', make_array(100 * 2, 100 * 2.5, 100 * 3))\n>>> all(sales_predicted_100 == model.predict(report))\nTrue",
         "hidden": false,
         "locked": false
        }
       ],
       "scored": true,
       "setup": "",
       "teardown": "",
       "type": "doctest"
      }
     ]
    },
    "q9": {
     "name": "q9",
     "points": null,
     "suites": [
      {
       "cases": [
        {
         "code": ">>> x_axis_column_name_2 == 'Price'\nTrue",
         "hidden": false,
         "locked": false
        },
        {
         "code": ">>> y_axis_column_name_2 == 'profit_50'\nTrue",
         "hidden": false,
         "locked": false
        },
        {
         "code": ">>> y_axis_column_name_3 == 'profit_100'\nTrue",
         "hidden": false,
         "locked": false
        }
       ],
       "scored": true,
       "setup": "",
       "teardown": "",
       "type": "doctest"
      }
     ]
    }
   }
  },
  "otter_service": {
   "assignment": "lab_n",
   "course": "88bx",
   "section": "3"
  },
  "toc": {
   "base_numbering": 1,
   "nav_menu": {},
   "number_sections": true,
   "sideBar": true,
   "skip_h1_title": true,
   "title_cell": "Table of Contents",
   "title_sidebar": "Contents",
   "toc_cell": false,
   "toc_position": {
    "height": "calc(100% - 180px)",
    "left": "10px",
    "top": "150px",
    "width": "256.25px"
   },
   "toc_section_display": true,
   "toc_window_display": false
  }
 },
 "nbformat": 4,
 "nbformat_minor": 4
}
