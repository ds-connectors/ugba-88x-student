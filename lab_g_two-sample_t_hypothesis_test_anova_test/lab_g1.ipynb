{
 "cells": [
  {
   "cell_type": "code",
   "execution_count": null,
   "metadata": {
    "deletable": false,
    "editable": false
   },
   "outputs": [],
   "source": [
    "# Initialize Otter\n",
    "import otter\n",
    "grader = otter.Notebook(\"lab_g1.ipynb\")"
   ]
  },
  {
   "cell_type": "markdown",
   "metadata": {},
   "source": [
    "# Lab G: Two-Sample t Hypothesis Test"
   ]
  },
  {
   "cell_type": "markdown",
   "metadata": {},
   "source": [
    "## Setup"
   ]
  },
  {
   "cell_type": "code",
   "execution_count": null,
   "metadata": {},
   "outputs": [],
   "source": [
    "import warnings\n",
    "from datascience import Table, make_array, are, percentile\n",
    "from numpy import mean, std, sqrt, isfinite\n",
    "from numpy.random import standard_t\n",
    "\n",
    "\n",
    "# Force display of all values \n",
    "from IPython.core.interactiveshell import InteractiveShell\n",
    "InteractiveShell.ast_node_interactivity = \"all\"\n",
    "\n",
    "# Handle some obnoxious warning messages\n",
    "warnings.filterwarnings(\"ignore\")"
   ]
  },
  {
   "cell_type": "markdown",
   "metadata": {},
   "source": [
    "## Precision Manufacturing Quality\n",
    "\n",
    "### Business Decision\n",
    "\n",
    "A manufacturing organization uses 2 special 3D printers to produce precision parts, specificallly 10cm-diameter tubes.  Recently, the machine operators have become suspicious that the first machine produces tubes on average slightly larger than the second machine on average does.  If so, that would necessitate expensive action to get the machines aligned.\n",
    "\n",
    "Assume that you are the Vice President of Manufacturing.  Does the second machine produce on average tubes of smaller diameter than the first machine does?  Should you invest in aligning the machines?"
   ]
  },
  {
   "cell_type": "markdown",
   "metadata": {
    "deletable": false,
    "editable": false
   },
   "source": [
    "### Data\n",
    "\n",
    "Machine #1 produces a sample of 12 tubes with these diameters:  \n",
    "10.03, 10.04, 10.02, 9.98, 9.99, 10.04, 10.01, 10.04, 10.05, 9.95, 9.96, 9.99\n",
    "\n",
    "Show the sample size, sample mean, sample standard deviation, and\n",
    "a histogram of the sample diameters (10 bins, range 9.95 to 10.1)."
   ]
  },
  {
   "cell_type": "code",
   "execution_count": null,
   "metadata": {
    "tags": [
     "otter_answer_cell"
    ]
   },
   "outputs": [],
   "source": [
    "sample_1 = Table().with_column('score', make_array(10.03, 10.04, 10.02, 9.98, 9.99, 10.04,\n",
    "                                                   10.01, 10.04, 10.05, 9.95, 9.96, 9.99))\n",
    "\n",
    "sample_size_1 = ...\n",
    "sample_mean_1 = ...\n",
    "sample_std_1  = ...\n",
    "\n",
    "sample_size_1\n",
    "sample_mean_1\n",
    "sample_std_1\n",
    "sample_1.hist(bins=10, range=make_array(9.95,10.1))"
   ]
  },
  {
   "cell_type": "code",
   "execution_count": null,
   "metadata": {
    "deletable": false,
    "editable": false
   },
   "outputs": [],
   "source": [
    "grader.check(\"q1_1\")"
   ]
  },
  {
   "cell_type": "markdown",
   "metadata": {
    "deletable": false,
    "editable": false
   },
   "source": [
    "Machine #2 produces a sample of 12 tubes with these diameters:  \n",
    "10.03, 9.75, 10.01, 9.75, 9.99, 10.01, 10.01, 10.08, 10.08, 9.95, 9.96, 9.99\n",
    "\n",
    "Show the sample size, sample mean, sample standard deviation, and a histogram of the sample diameters (10 bins, range 9.95 to 10.1)."
   ]
  },
  {
   "cell_type": "code",
   "execution_count": null,
   "metadata": {
    "scrolled": false,
    "tags": [
     "otter_answer_cell"
    ]
   },
   "outputs": [],
   "source": [
    "sample_2 = Table().with_column('score', make_array(10.03, 9.75, 10.01, 9.75, 9.99, 10.01,\n",
    "                                                   10.01, 10.08, 10.08, 9.95, 9.96, 9.99))\n",
    "\n",
    "sample_size_2 = ...\n",
    "sample_mean_2 = ...\n",
    "sample_std_2  = ...\n",
    "\n",
    "sample_size_2\n",
    "sample_mean_2\n",
    "sample_std_2\n",
    "sample_2.hist(bins=10, range=make_array(9.95,10.1))"
   ]
  },
  {
   "cell_type": "code",
   "execution_count": null,
   "metadata": {
    "deletable": false,
    "editable": false
   },
   "outputs": [],
   "source": [
    "grader.check(\"q1_2\")"
   ]
  },
  {
   "cell_type": "markdown",
   "metadata": {},
   "source": [
    "### Analysis"
   ]
  },
  {
   "cell_type": "markdown",
   "metadata": {},
   "source": [
    "Hypothesize that the difference between population means (pop_mean_1 - pop_mean_2) is $\\leq$ 0.\n",
    "The alternative to this hypothesis is that the difference between population means is $\\gt$ 0."
   ]
  },
  {
   "cell_type": "code",
   "execution_count": null,
   "metadata": {},
   "outputs": [],
   "source": [
    "pop_mean_diff_hypo = 0\n",
    "pop_mean_diff_hypo"
   ]
  },
  {
   "cell_type": "markdown",
   "metadata": {
    "deletable": false,
    "editable": false,
    "hide_input": false
   },
   "source": [
    "Calculate and show the two-sample t @ hypothesized population means difference 0.\n",
    "\n",
    "$$\n",
    "\\textit{two-sample t} = \\cfrac{(\\textit{sample mean}_1 - \\textit{sample mean}_2) - \\textit{pop mean diff hypo}}\n",
    "                              {\\sqrt{\\cfrac{{\\textit{sample std}_1}^2}{\\textit{sample size}_1} +\n",
    "                                     \\cfrac{{\\textit{sample std}_2}^2}{\\textit{sample size}_2}}}\n",
    "$$"
   ]
  },
  {
   "cell_type": "code",
   "execution_count": null,
   "metadata": {
    "tags": [
     "otter_answer_cell"
    ]
   },
   "outputs": [],
   "source": [
    "two_sample_t = ( (sample_mean_1 - sample_mean_2) - pop_mean_diff_hypo) / \\\n",
    "                 ...\n",
    "\n",
    "two_sample_t"
   ]
  },
  {
   "cell_type": "code",
   "execution_count": null,
   "metadata": {
    "deletable": false,
    "editable": false
   },
   "outputs": [],
   "source": [
    "grader.check(\"q2_1\")"
   ]
  },
  {
   "cell_type": "markdown",
   "metadata": {
    "deletable": false,
    "editable": false
   },
   "source": [
    "Calculate and show the degrees of freedom for two samples.  This number will be used to choose a specific standard t distribution.\n",
    "\n",
    "$$\n",
    "\\textit{df} =\n",
    "\\cfrac{\\left(\\cfrac{{\\textit{sample std}_1}^2}{\\textit{sample size}_1} + \\cfrac{{\\textit{sample std}_2}^2}{\\textit{sample size}_2}\\right)^2}\n",
    "{\\left(\\left(\\cfrac{1}{\\textit{sample size}_1-1}\\right) \\times \\left(\\cfrac{{\\textit{sample std}_1}^2}{\\textit{sample size}_1}\\right) ^2 \\right)    +\n",
    "\\left(\\left(\\cfrac{1}{\\textit{sample size}_2-1}\\right) \\times \\left(\\cfrac{{\\textit{sample std}_2}^2}{\\textit{sample size}_2}\\right) ^2 \\right)}$$\n",
    "\n",
    "Note, if the sample standard deviations are the same, then you can use a simpler formula for degrees of freedom.\n",
    "\n",
    "$$\n",
    "\\textit{df} = (\\textit{sample size}_1 - 1) + (\\textit{sample size}_2 - 1)\n",
    "$$"
   ]
  },
  {
   "cell_type": "code",
   "execution_count": null,
   "metadata": {
    "tags": [
     "otter_answer_cell"
    ]
   },
   "outputs": [],
   "source": [
    "df = ((sample_std_1**2 / sample_size_1) + (sample_std_2**2 / sample_size_2))**2 / \\\n",
    "     ((1/(sample_size_1-1))*(sample_std_1**2/sample_size_1)**2 + (1/(sample_size_2-1))*(sample_std_2**2/sample_size_2)**2)\n",
    "df"
   ]
  },
  {
   "cell_type": "code",
   "execution_count": null,
   "metadata": {
    "deletable": false,
    "editable": false
   },
   "outputs": [],
   "source": [
    "grader.check(\"q2_2\")"
   ]
  },
  {
   "cell_type": "markdown",
   "metadata": {
    "deletable": false,
    "editable": false
   },
   "source": [
    "Get 1,000,000 values from the standard t distribution for the appropriate degrees of freedom.\n",
    "\n",
    "Show a few of the values and a histogram of all the values (50 bins, range -4 to 4)."
   ]
  },
  {
   "cell_type": "code",
   "execution_count": null,
   "metadata": {
    "tags": [
     "otter_answer_cell"
    ]
   },
   "outputs": [],
   "source": [
    "dist_array = ...\n",
    "dist = Table().with_column('t', dist_array)\n",
    "\n",
    "dist\n",
    "dist.hist(bins=50, range=make_array(-4,4))"
   ]
  },
  {
   "cell_type": "code",
   "execution_count": null,
   "metadata": {
    "deletable": false,
    "editable": false
   },
   "outputs": [],
   "source": [
    "grader.check(\"q2_3\")"
   ]
  },
  {
   "cell_type": "markdown",
   "metadata": {
    "deletable": false,
    "editable": false
   },
   "source": [
    "Calculate and show the probability that the two-sample t $\\ge$ 1.2398 when the difference\n",
    "in population means is $\\le$ 0 (this is the p-value).\n",
    "Also show the two-sample t and histogram of standard t distribution with the area\n",
    "corresponding to the probability highlighted."
   ]
  },
  {
   "cell_type": "code",
   "execution_count": null,
   "metadata": {
    "tags": [
     "otter_answer_cell"
    ]
   },
   "outputs": [],
   "source": [
    "p_value = ...\n",
    "values_for_hist = ...\n",
    "\n",
    "two_sample_t\n",
    "p_value\n",
    "dist.hist(bins=50, range=make_array(-4,4), left_end=values_for_hist, right_end=4)"
   ]
  },
  {
   "cell_type": "code",
   "execution_count": null,
   "metadata": {
    "deletable": false,
    "editable": false
   },
   "outputs": [],
   "source": [
    "grader.check(\"q2_4\")"
   ]
  },
  {
   "cell_type": "markdown",
   "metadata": {
    "deletable": false,
    "editable": false
   },
   "source": [
    "Calculate and show the critical value at significance level 0.05.\n",
    "Note that the suspected difference between population means is ABOVE the hypothesized difference between\n",
    "population means (0).\n",
    "Also show the significance level and histogram of standard t distribution with the area corresponding\n",
    "to the significance level highlighted."
   ]
  },
  {
   "cell_type": "code",
   "execution_count": null,
   "metadata": {
    "scrolled": true,
    "tags": [
     "otter_answer_cell"
    ]
   },
   "outputs": [],
   "source": [
    "sig_level = 0.05\n",
    "cv = ...\n",
    "\n",
    "sig_level\n",
    "cv\n",
    "dist.hist(bins=50, range=make_array(-4,4), left_end=cv, right_end=4)"
   ]
  },
  {
   "cell_type": "code",
   "execution_count": null,
   "metadata": {
    "deletable": false,
    "editable": false
   },
   "outputs": [],
   "source": [
    "grader.check(\"q2_5\")"
   ]
  },
  {
   "cell_type": "markdown",
   "metadata": {
    "deletable": false,
    "editable": false
   },
   "source": [
    "In a string, fill in the blank to show why you should assume the hypothesis is correct (difference in population means is $\\le$ 0), at significance level 0.05. You should only use comparison symbols (>, <, =) in the blank. Define reason_1 and reason_2 as the full string expressing the statement. For example, reason_1 = \"p_value = sig_level\". Don't include any extra spaces."
   ]
  },
  {
   "cell_type": "code",
   "execution_count": null,
   "metadata": {
    "tags": [
     "otter_answer_cell"
    ]
   },
   "outputs": [],
   "source": [
    "# Reason 1: \"p_value ___ sig_level\"\n",
    "reason_1 = ...\n",
    "\n",
    "# Reason 2: \"two_sample_t ___ cv\"\n",
    "reason_2 = ...\n",
    "\n",
    "reason_1, reason_2"
   ]
  },
  {
   "cell_type": "code",
   "execution_count": null,
   "metadata": {
    "deletable": false,
    "editable": false
   },
   "outputs": [],
   "source": [
    "grader.check(\"q2_6\")"
   ]
  },
  {
   "cell_type": "markdown",
   "metadata": {},
   "source": [
    "<p style=\"text-align:left; font-size:10px;\">\n",
    "Copyright (c) Huntsinger Associates, LLC\n",
    "<span style=\"float:right;\">\n",
    "Document revised October 5, 2023\n",
    "</span>\n",
    "</p>"
   ]
  }
 ],
 "metadata": {
  "kernelspec": {
   "display_name": ".venv (3.11.4)",
   "language": "python",
   "name": "python3"
  },
  "language_info": {
   "codemirror_mode": {
    "name": "ipython",
    "version": 3
   },
   "file_extension": ".py",
   "mimetype": "text/x-python",
   "name": "python",
   "nbconvert_exporter": "python",
   "pygments_lexer": "ipython3",
   "version": "3.13.5"
  },
  "otter": {
   "OK_FORMAT": true,
   "tests": {
    "q1_1": {
     "name": "q1_1",
     "points": null,
     "suites": [
      {
       "cases": [
        {
         "code": ">>> sample_size_1 == 12\nTrue",
         "hidden": false,
         "locked": false
        },
        {
         "code": ">>> round(sample_mean_1, 0) == 10\nTrue",
         "hidden": false,
         "locked": false
        },
        {
         "code": ">>> round(sample_std_1, 2) == 0.03\nTrue",
         "hidden": false,
         "locked": false
        }
       ],
       "scored": true,
       "setup": "",
       "teardown": "",
       "type": "doctest"
      }
     ]
    },
    "q1_2": {
     "name": "q1_2",
     "points": null,
     "suites": [
      {
       "cases": [
        {
         "code": ">>> sample_size_2 == 12\nTrue",
         "hidden": false,
         "locked": false
        },
        {
         "code": ">>> round(sample_mean_2, 0) == 10\nTrue",
         "hidden": false,
         "locked": false
        },
        {
         "code": ">>> round(sample_std_2, 2) == 0.11\nTrue",
         "hidden": false,
         "locked": false
        }
       ],
       "scored": true,
       "setup": "",
       "teardown": "",
       "type": "doctest"
      }
     ]
    },
    "q2_1": {
     "name": "q2_1",
     "points": null,
     "suites": [
      {
       "cases": [
        {
         "code": ">>> round(two_sample_t, 2) == 1.24\nTrue",
         "hidden": false,
         "locked": false
        }
       ],
       "scored": true,
       "setup": "",
       "teardown": "",
       "type": "doctest"
      }
     ]
    },
    "q2_2": {
     "name": "q2_2",
     "points": null,
     "suites": [
      {
       "cases": [
        {
         "code": ">>> round(df, 0) == 13\nTrue",
         "hidden": false,
         "locked": false
        }
       ],
       "scored": true,
       "setup": "",
       "teardown": "",
       "type": "doctest"
      }
     ]
    },
    "q2_3": {
     "name": "q2_3",
     "points": null,
     "suites": [
      {
       "cases": [
        {
         "code": ">>> isinstance(dist, Table) and dist.num_columns == 1 and (dist.num_rows == 1000000) and all(isfinite(dist.column(0)))\nTrue",
         "hidden": false,
         "locked": false
        }
       ],
       "scored": true,
       "setup": "",
       "teardown": "",
       "type": "doctest"
      }
     ]
    },
    "q2_4": {
     "name": "q2_4",
     "points": null,
     "suites": [
      {
       "cases": [
        {
         "code": ">>> round(p_value, 2) == 0.12\nTrue",
         "hidden": false,
         "locked": false
        },
        {
         "code": ">>> values_for_hist == two_sample_t\nTrue",
         "hidden": false,
         "locked": false
        }
       ],
       "scored": true,
       "setup": "",
       "teardown": "",
       "type": "doctest"
      }
     ]
    },
    "q2_5": {
     "name": "q2_5",
     "points": null,
     "suites": [
      {
       "cases": [
        {
         "code": ">>> round(cv, 0) == 2\nTrue",
         "hidden": false,
         "locked": false
        }
       ],
       "scored": true,
       "setup": "",
       "teardown": "",
       "type": "doctest"
      }
     ]
    },
    "q2_6": {
     "name": "q2_6",
     "points": null,
     "suites": [
      {
       "cases": [
        {
         "code": ">>> (reason_1 == 'p_value > sig_level') | (reason_1 == 'p_value>sig_level')\nTrue",
         "hidden": false,
         "locked": false
        },
        {
         "code": ">>> (reason_2 == 'two_sample_t < cv') | (reason_2 == 'two_sample_t<cv')\nTrue",
         "hidden": false,
         "locked": false
        }
       ],
       "scored": true,
       "setup": "",
       "teardown": "",
       "type": "doctest"
      }
     ]
    }
   }
  },
  "otter_service": {
   "assignment": "lab_g1",
   "course": "88bx",
   "section": "2"
  },
  "toc": {
   "base_numbering": 1,
   "nav_menu": {},
   "number_sections": true,
   "sideBar": true,
   "skip_h1_title": true,
   "title_cell": "Table of Contents",
   "title_sidebar": "Contents",
   "toc_cell": false,
   "toc_position": {
    "height": "calc(100% - 180px)",
    "left": "10px",
    "top": "150px",
    "width": "256.25px"
   },
   "toc_section_display": true,
   "toc_window_display": false
  }
 },
 "nbformat": 4,
 "nbformat_minor": 2
}
