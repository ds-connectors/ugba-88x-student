{
 "cells": [
  {
   "cell_type": "code",
   "execution_count": null,
   "metadata": {
    "deletable": false,
    "editable": false
   },
   "outputs": [],
   "source": [
    "# Initialize Otter\n",
    "import otter\n",
    "grader = otter.Notebook(\"lab_g2.ipynb\")"
   ]
  },
  {
   "cell_type": "markdown",
   "metadata": {},
   "source": [
    "# Lab G: ANOVA Test"
   ]
  },
  {
   "cell_type": "markdown",
   "metadata": {},
   "source": [
    "## Setup"
   ]
  },
  {
   "cell_type": "code",
   "execution_count": null,
   "metadata": {},
   "outputs": [],
   "source": [
    "import warnings\n",
    "from datascience import Table, make_array, are, percentile\n",
    "from numpy import mean, unique, array, var\n",
    "from numpy.random import f\n",
    "\n",
    "# Force display of all values \n",
    "from IPython.core.interactiveshell import InteractiveShell\n",
    "InteractiveShell.ast_node_interactivity = \"all\"\n",
    "\n",
    "# Handle some obnoxious warning messages\n",
    "warnings.filterwarnings(\"ignore\")"
   ]
  },
  {
   "cell_type": "markdown",
   "metadata": {},
   "source": [
    "## Shipping Hazardous Materials\n",
    "\n",
    "### Business Decision\n",
    "\n",
    "A large logistics company wants to determine whether three different training delivery modes have different effects on employees' ability to pass a test on shipping hazardous materials.  The three delivery modes are in-class live instructor, online asynchronous recorded instructor, and individualized tutors.\n",
    "\n",
    "Assume that you are the Vice President of Operations.  Individualized tutoring is the most expensive delivery mode.  Online is the least expensive delivery mode.  Is there a difference in the effectiveness of the delivery modes?  Which delivery mode(s) should you use?"
   ]
  },
  {
   "cell_type": "markdown",
   "metadata": {
    "deletable": false,
    "editable": false
   },
   "source": [
    "### Data"
   ]
  },
  {
   "cell_type": "markdown",
   "metadata": {
    "deletable": false,
    "editable": false
   },
   "source": [
    "Retrieve 3 samples of employee test scores, one sample from each delivery mode. \n",
    "\n",
    "Show the treatment count (number of delivery modes $c$), unit count (number of employees $n$),\n",
    "and the samples (in one two-column table)."
   ]
  },
  {
   "cell_type": "code",
   "execution_count": null,
   "metadata": {
    "tags": [
     "otter_answer_cell"
    ]
   },
   "outputs": [],
   "source": [
    "data = ...\n",
    "\n",
    "c = ...\n",
    "n = ...\n",
    "\n",
    "c\n",
    "n\n",
    "data.show()"
   ]
  },
  {
   "cell_type": "code",
   "execution_count": null,
   "metadata": {
    "deletable": false,
    "editable": false
   },
   "outputs": [],
   "source": [
    "grader.check(\"q1\")"
   ]
  },
  {
   "cell_type": "markdown",
   "metadata": {},
   "source": [
    "### Analysis"
   ]
  },
  {
   "cell_type": "markdown",
   "metadata": {},
   "source": [
    "Hypothesize that the three delivery mode population mean scores are all equal.  The alternative to this hypothesis is that the three delivery mode population mean scores are not all equal."
   ]
  },
  {
   "cell_type": "code",
   "execution_count": null,
   "metadata": {},
   "outputs": [],
   "source": [
    "# no code necessary"
   ]
  },
  {
   "cell_type": "markdown",
   "metadata": {
    "deletable": false,
    "editable": false
   },
   "source": [
    "For convenience, extract each sample into its own array ($x_1$, $x_2$, $x_3$). "
   ]
  },
  {
   "cell_type": "code",
   "execution_count": null,
   "metadata": {
    "tags": [
     "otter_answer_cell"
    ]
   },
   "outputs": [],
   "source": [
    "x1 = ...\n",
    "x2 = ...\n",
    "x3 = ...\n",
    "\n",
    "x1\n",
    "x2\n",
    "x3"
   ]
  },
  {
   "cell_type": "code",
   "execution_count": null,
   "metadata": {
    "deletable": false,
    "editable": false
   },
   "outputs": [],
   "source": [
    "grader.check(\"q2_1\")"
   ]
  },
  {
   "cell_type": "markdown",
   "metadata": {
    "deletable": false,
    "editable": false
   },
   "source": [
    "Calculate and show the weighted average of sample means like this:\n",
    "\n",
    "$$\n",
    "\\textit{mmx} =\n",
    "\\cfrac{(\\textit{sample size}_1 \\times \\textit{sample mean}_1) +\n",
    "       (\\textit{sample size}_2 \\times \\textit{sample mean}_2) +\n",
    "       (\\textit{sample size}_3 \\times \\textit{sample mean}_3)}\n",
    "      {n}\n",
    "$$"
   ]
  },
  {
   "cell_type": "code",
   "execution_count": null,
   "metadata": {
    "tags": [
     "otter_answer_cell"
    ]
   },
   "outputs": [],
   "source": [
    "mmx = ...\n",
    "mmx"
   ]
  },
  {
   "cell_type": "code",
   "execution_count": null,
   "metadata": {
    "deletable": false,
    "editable": false
   },
   "outputs": [],
   "source": [
    "grader.check(\"q2_2\")"
   ]
  },
  {
   "cell_type": "markdown",
   "metadata": {
    "deletable": false,
    "editable": false
   },
   "source": [
    "Calculate and show the \"treatment sum of squares\" like this:\n",
    "\n",
    "$$\n",
    "sst = \n",
    "\\left(\\textit{sample size}_1 \\times (\\textit{sample mean}_1 - \\textit{mmx})^2\\right) +\n",
    "\\left(\\textit{sample size}_2 \\times (\\textit{sample mean}_2 - \\textit{mmx})^2\\right) +\n",
    "\\left(\\textit{sample size}_3 \\times (\\textit{sample mean}_3 - \\textit{mmx})^2\\right)\n",
    "$$"
   ]
  },
  {
   "cell_type": "code",
   "execution_count": null,
   "metadata": {
    "tags": [
     "otter_answer_cell"
    ]
   },
   "outputs": [],
   "source": [
    "sst = ...\n",
    "sst"
   ]
  },
  {
   "cell_type": "code",
   "execution_count": null,
   "metadata": {
    "deletable": false,
    "editable": false
   },
   "outputs": [],
   "source": [
    "grader.check(\"q2_3\")"
   ]
  },
  {
   "cell_type": "markdown",
   "metadata": {
    "deletable": false,
    "editable": false
   },
   "source": [
    "Calculate and show the \"treatment mean of squares\" (mean variance between groups) like this:\n",
    "\n",
    "$$\n",
    "\\textit{mst} = \n",
    "\\cfrac{\\textit{sst}}{c-1}\n",
    "$$\n",
    "\n"
   ]
  },
  {
   "cell_type": "code",
   "execution_count": null,
   "metadata": {
    "tags": [
     "otter_answer_cell"
    ]
   },
   "outputs": [],
   "source": [
    "mst = ...\n",
    "mst"
   ]
  },
  {
   "cell_type": "code",
   "execution_count": null,
   "metadata": {
    "deletable": false,
    "editable": false
   },
   "outputs": [],
   "source": [
    "grader.check(\"q2_4\")"
   ]
  },
  {
   "cell_type": "markdown",
   "metadata": {
    "deletable": false,
    "editable": false
   },
   "source": [
    "Calculate and show the \"error sum of squares\" like this:\n",
    "\n",
    "$$\n",
    "\\textit{sse} =\n",
    "\\sum{(\\textit{sample}_1-\\textit{sample mean}_1)^2} + \\sum{(\\textit{sample}_2-\\textit{sample mean}_2)^2} + \\sum{(\\textit{sample}_3-\\textit{sample mean}_3)^2}\n",
    "$$"
   ]
  },
  {
   "cell_type": "code",
   "execution_count": null,
   "metadata": {
    "tags": [
     "otter_answer_cell"
    ]
   },
   "outputs": [],
   "source": [
    "sse = ...\n",
    "sse"
   ]
  },
  {
   "cell_type": "code",
   "execution_count": null,
   "metadata": {
    "deletable": false,
    "editable": false
   },
   "outputs": [],
   "source": [
    "grader.check(\"q2_5\")"
   ]
  },
  {
   "cell_type": "markdown",
   "metadata": {
    "deletable": false,
    "editable": false
   },
   "source": [
    "Calculate and show the \"error mean of squares\" like this:\n",
    "\n",
    "$$\n",
    "\\textit{mse}  =\n",
    "\\cfrac{\\textit{sse}}{n-c}\n",
    "$$\n",
    "\n",
    "(This is the mean variance within groups.)"
   ]
  },
  {
   "cell_type": "code",
   "execution_count": null,
   "metadata": {
    "tags": [
     "otter_answer_cell"
    ]
   },
   "outputs": [],
   "source": [
    "mse  = ...\n",
    "mse"
   ]
  },
  {
   "cell_type": "code",
   "execution_count": null,
   "metadata": {
    "deletable": false,
    "editable": false
   },
   "outputs": [],
   "source": [
    "grader.check(\"q2_6\")"
   ]
  },
  {
   "cell_type": "markdown",
   "metadata": {
    "deletable": false,
    "editable": false
   },
   "source": [
    "Calculate and show the multi-sample f like this:\n",
    "\n",
    "\n",
    "$$\n",
    "\\textit{multi-sample f} =\n",
    "\\cfrac{\\textit{mst}}{\\textit{mse}}\n",
    "$$"
   ]
  },
  {
   "cell_type": "code",
   "execution_count": null,
   "metadata": {
    "scrolled": true,
    "tags": [
     "otter_answer_cell"
    ]
   },
   "outputs": [],
   "source": [
    "multi_sample_f = ...\n",
    "multi_sample_f"
   ]
  },
  {
   "cell_type": "code",
   "execution_count": null,
   "metadata": {
    "deletable": false,
    "editable": false
   },
   "outputs": [],
   "source": [
    "grader.check(\"q2_7\")"
   ]
  },
  {
   "cell_type": "markdown",
   "metadata": {
    "deletable": false,
    "editable": false
   },
   "source": [
    "Calculate and show the upper and lower degrees of freedom for the samples.\n",
    "These numbers will be used to choose a specific f distribution.\n",
    "\n",
    "$$\n",
    "\\begin{array}{rcl}\n",
    "\\textit{df upper} &=& c-1 \\\\  \n",
    "\\textit{df lower} &=& n-c\n",
    "\\end{array}\n",
    "$$"
   ]
  },
  {
   "cell_type": "code",
   "execution_count": null,
   "metadata": {
    "tags": [
     "otter_answer_cell"
    ]
   },
   "outputs": [],
   "source": [
    "df_upper = ...\n",
    "df_lower = ...\n",
    "\n",
    "df_upper\n",
    "df_lower"
   ]
  },
  {
   "cell_type": "code",
   "execution_count": null,
   "metadata": {
    "deletable": false,
    "editable": false
   },
   "outputs": [],
   "source": [
    "grader.check(\"q2_8\")"
   ]
  },
  {
   "cell_type": "markdown",
   "metadata": {
    "deletable": false,
    "editable": false
   },
   "source": [
    "Get 1,000,000 values from the f distribution for the appropriate degrees of freedom.\n",
    "\n",
    "Show a few of the values and a histogram of all the values (50 bins, range 0 to 10)."
   ]
  },
  {
   "cell_type": "code",
   "execution_count": null,
   "metadata": {
    "tags": [
     "otter_answer_cell"
    ]
   },
   "outputs": [],
   "source": [
    "dist_array = ...\n",
    "dist = Table().with_column('f', dist_array)\n",
    "dist\n",
    "\n",
    "dist_hist = ...\n",
    "dist_hist"
   ]
  },
  {
   "cell_type": "code",
   "execution_count": null,
   "metadata": {
    "deletable": false,
    "editable": false
   },
   "outputs": [],
   "source": [
    "grader.check(\"q2_9\")"
   ]
  },
  {
   "cell_type": "markdown",
   "metadata": {
    "deletable": false,
    "editable": false
   },
   "source": [
    "Calculate and show the probability that the multi-sample f $\\ge$ 1.94 when the population mean scores\n",
    "are all equal (this is the p-value).\n",
    "Also show the multi-sample f and histogram of standard f distribution with the area corresponding to the\n",
    "probability highlighted."
   ]
  },
  {
   "cell_type": "code",
   "execution_count": null,
   "metadata": {
    "tags": [
     "otter_answer_cell"
    ]
   },
   "outputs": [],
   "source": [
    "p_value_anova = ...\n",
    "values_for_hist_anova = ...\n",
    "\n",
    "multi_sample_f\n",
    "p_value_anova\n",
    "dist.hist(bins=50, range=make_array(0,10), left_end=values_for_hist_anova, right_end=10)"
   ]
  },
  {
   "cell_type": "code",
   "execution_count": null,
   "metadata": {
    "deletable": false,
    "editable": false
   },
   "outputs": [],
   "source": [
    "grader.check(\"q2_10\")"
   ]
  },
  {
   "cell_type": "markdown",
   "metadata": {
    "deletable": false,
    "editable": false
   },
   "source": [
    "Calculate and show the critical value at significance level 0.05.\n",
    "Also show the significance level and histogram of standard f distribution with the area corresponding to\n",
    "the significance level highlighted."
   ]
  },
  {
   "cell_type": "code",
   "execution_count": null,
   "metadata": {
    "tags": [
     "otter_answer_cell"
    ]
   },
   "outputs": [],
   "source": [
    "sig_level_anova = 0.05\n",
    "cv_anova = ...\n",
    "\n",
    "sig_level_anova\n",
    "cv_anova\n",
    "dist.hist(bins=50, range=make_array(0,10), left_end=cv_anova, right_end=10)"
   ]
  },
  {
   "cell_type": "code",
   "execution_count": null,
   "metadata": {
    "deletable": false,
    "editable": false
   },
   "outputs": [],
   "source": [
    "grader.check(\"q2_11\")"
   ]
  },
  {
   "cell_type": "markdown",
   "metadata": {
    "deletable": false,
    "editable": false
   },
   "source": [
    "Show that you should assume the hypothesis is correct (all population mean scores are equal), at significance level 0.05. You should only use comparison symbols (>, <, =) in the blank. Define reason_1 and reason_2 as the full string expressing the statement. For example, reason_1 = \"p_value = sig_level\". Don't include any extra spaces."
   ]
  },
  {
   "cell_type": "code",
   "execution_count": null,
   "metadata": {
    "tags": [
     "otter_answer_cell"
    ]
   },
   "outputs": [],
   "source": [
    "# Reason 1: \"p_value ___ sig_level\"\n",
    "anova_reason_1 = \"p_value > sig_level\"\n",
    "\n",
    "# Reason 2: \"two_sample_t ___ cv\"\n",
    "anova_reason_2 = \"multi_sample_f < cv\"\n",
    "\n",
    "anova_reason_1, anova_reason_2"
   ]
  },
  {
   "cell_type": "code",
   "execution_count": null,
   "metadata": {
    "deletable": false,
    "editable": false
   },
   "outputs": [],
   "source": [
    "grader.check(\"q2_12\")"
   ]
  },
  {
   "cell_type": "markdown",
   "metadata": {
    "deletable": false,
    "editable": false
   },
   "source": [
    "Show the ANOVA table for analysis."
   ]
  },
  {
   "cell_type": "code",
   "execution_count": null,
   "metadata": {
    "tags": [
     "otter_answer_cell"
    ]
   },
   "outputs": [],
   "source": [
    "sum_squares_values = ...\n",
    "df_values = ...\n",
    "mean_squares_values = ...\n",
    "f_values = ...\n",
    "\n",
    "anova_table = Table().with_columns('source of variation', make_array('between groups','within groups','total'),\n",
    "                     'sum squares', sum_squares_values,\n",
    "                     'df', df_values,\n",
    "                     'mean squares', mean_squares_values,\n",
    "                     'f', f_values)\n",
    "\n",
    "anova_table"
   ]
  },
  {
   "cell_type": "code",
   "execution_count": null,
   "metadata": {
    "deletable": false,
    "editable": false
   },
   "outputs": [],
   "source": [
    "grader.check(\"q2_13\")"
   ]
  },
  {
   "cell_type": "markdown",
   "metadata": {},
   "source": [
    "<p style=\"text-align:left; font-size:10px;\">\n",
    "Copyright (c) Huntsinger Associates, LLC\n",
    "<span style=\"float:right;\">\n",
    "Document revised October 5, 2023\n",
    "</span>\n",
    "</p>"
   ]
  }
 ],
 "metadata": {
  "kernelspec": {
   "display_name": ".venv (3.11.4)",
   "language": "python",
   "name": "python3"
  },
  "language_info": {
   "codemirror_mode": {
    "name": "ipython",
    "version": 3
   },
   "file_extension": ".py",
   "mimetype": "text/x-python",
   "name": "python",
   "nbconvert_exporter": "python",
   "pygments_lexer": "ipython3",
   "version": "3.13.5"
  },
  "otter": {
   "OK_FORMAT": true,
   "tests": {
    "q1": {
     "name": "q1",
     "points": null,
     "suites": [
      {
       "cases": [
        {
         "code": ">>> set(data.labels) >= {'delivery', 'score'}\nTrue",
         "hidden": false,
         "locked": false
        },
        {
         "code": ">>> c == 3\nTrue",
         "hidden": false,
         "locked": false
        },
        {
         "code": ">>> n == 14\nTrue",
         "hidden": false,
         "locked": false
        }
       ],
       "scored": true,
       "setup": "",
       "teardown": "",
       "type": "doctest"
      }
     ]
    },
    "q2_1": {
     "name": "q2_1",
     "points": null,
     "suites": [
      {
       "cases": [
        {
         "code": ">>> all(x1 == array([85, 72, 83, 80]))\nTrue",
         "hidden": false,
         "locked": false
        },
        {
         "code": ">>> all(x2 == array([80, 84, 81, 78, 82]))\nTrue",
         "hidden": false,
         "locked": false
        },
        {
         "code": ">>> all(x3 == array([82, 80, 85, 90, 88]))\nTrue",
         "hidden": false,
         "locked": false
        }
       ],
       "scored": true,
       "setup": "",
       "teardown": "",
       "type": "doctest"
      }
     ]
    },
    "q2_10": {
     "name": "q2_10",
     "points": null,
     "suites": [
      {
       "cases": [
        {
         "code": ">>> round(p_value_anova, 2) == 0.19\nTrue",
         "hidden": false,
         "locked": false
        },
        {
         "code": ">>> values_for_hist_anova == multi_sample_f\nTrue",
         "hidden": false,
         "locked": false
        }
       ],
       "scored": true,
       "setup": "",
       "teardown": "",
       "type": "doctest"
      }
     ]
    },
    "q2_11": {
     "name": "q2_11",
     "points": null,
     "suites": [
      {
       "cases": [
        {
         "code": ">>> round(cv_anova, 0) == 4\nTrue",
         "hidden": false,
         "locked": false
        }
       ],
       "scored": true,
       "setup": "",
       "teardown": "",
       "type": "doctest"
      }
     ]
    },
    "q2_12": {
     "name": "q2_12",
     "points": null,
     "suites": [
      {
       "cases": [
        {
         "code": ">>> (anova_reason_1 == 'p_value > sig_level') | (anova_reason_1 == 'p_value>sig_level')\nTrue",
         "hidden": false,
         "locked": false
        },
        {
         "code": ">>> (anova_reason_2 == 'multi_sample_f < cv') | (anova_reason_2 == 'multi_sample_f<cv')\nTrue",
         "hidden": false,
         "locked": false
        }
       ],
       "scored": true,
       "setup": "",
       "teardown": "",
       "type": "doctest"
      }
     ]
    },
    "q2_13": {
     "name": "q2_13",
     "points": null,
     "suites": [
      {
       "cases": [
        {
         "code": ">>> all(sum_squares_values == make_array(sst, sse, sst + sse))\nTrue",
         "hidden": false,
         "locked": false
        },
        {
         "code": ">>> all(df_values == make_array(df_upper, df_lower, df_upper + df_lower))\nTrue",
         "hidden": false,
         "locked": false
        },
        {
         "code": ">>> all(mean_squares_values == make_array(mst, mse, None))\nTrue",
         "hidden": false,
         "locked": false
        },
        {
         "code": ">>> all(f_values == make_array(multi_sample_f, None, None))\nTrue",
         "hidden": false,
         "locked": false
        }
       ],
       "scored": true,
       "setup": "",
       "teardown": "",
       "type": "doctest"
      }
     ]
    },
    "q2_2": {
     "name": "q2_2",
     "points": null,
     "suites": [
      {
       "cases": [
        {
         "code": ">>> round(mmx, 0) == 82\nTrue",
         "hidden": false,
         "locked": false
        }
       ],
       "scored": true,
       "setup": "",
       "teardown": "",
       "type": "doctest"
      }
     ]
    },
    "q2_3": {
     "name": "q2_3",
     "points": null,
     "suites": [
      {
       "cases": [
        {
         "code": ">>> round(sst, 0) == 66\nTrue",
         "hidden": false,
         "locked": false
        }
       ],
       "scored": true,
       "setup": "",
       "teardown": "",
       "type": "doctest"
      }
     ]
    },
    "q2_4": {
     "name": "q2_4",
     "points": null,
     "suites": [
      {
       "cases": [
        {
         "code": ">>> round(mst, 0) == 33\nTrue",
         "hidden": false,
         "locked": false
        }
       ],
       "scored": true,
       "setup": "",
       "teardown": "",
       "type": "doctest"
      }
     ]
    },
    "q2_5": {
     "name": "q2_5",
     "points": null,
     "suites": [
      {
       "cases": [
        {
         "code": ">>> round(sse, 0) == 186\nTrue",
         "hidden": false,
         "locked": false
        }
       ],
       "scored": true,
       "setup": "",
       "teardown": "",
       "type": "doctest"
      }
     ]
    },
    "q2_6": {
     "name": "q2_6",
     "points": null,
     "suites": [
      {
       "cases": [
        {
         "code": ">>> round(mse, 0) == 17\nTrue",
         "hidden": false,
         "locked": false
        }
       ],
       "scored": true,
       "setup": "",
       "teardown": "",
       "type": "doctest"
      }
     ]
    },
    "q2_7": {
     "name": "q2_7",
     "points": null,
     "suites": [
      {
       "cases": [
        {
         "code": ">>> round(multi_sample_f, 0) == 2\nTrue",
         "hidden": false,
         "locked": false
        }
       ],
       "scored": true,
       "setup": "",
       "teardown": "",
       "type": "doctest"
      }
     ]
    },
    "q2_8": {
     "name": "q2_8",
     "points": null,
     "suites": [
      {
       "cases": [
        {
         "code": ">>> df_upper == 2\nTrue",
         "hidden": false,
         "locked": false
        },
        {
         "code": ">>> df_lower == 11\nTrue",
         "hidden": false,
         "locked": false
        }
       ],
       "scored": true,
       "setup": "",
       "teardown": "",
       "type": "doctest"
      }
     ]
    },
    "q2_9": {
     "name": "q2_9",
     "points": null,
     "suites": [
      {
       "cases": [
        {
         "code": ">>> col_values = dist.column(0)\n>>> all(col_values >= 0) and mean(col_values) > 0 and (len(dist.column(0)) == 1000000)\nTrue",
         "hidden": false,
         "locked": false
        },
        {
         "code": ">>> data_col = dist.column(0)\n>>> column_is_floats = all((isinstance(x, float) for x in data_col[:100]))\n>>> column_is_positive = all((x >= 0 for x in data_col[:100]))\n>>> column_variance = var(data_col) > 0\n>>> column_is_floats and column_is_positive and column_variance and (dist_hist is None)\nTrue",
         "hidden": false,
         "locked": false
        }
       ],
       "scored": true,
       "setup": "",
       "teardown": "",
       "type": "doctest"
      }
     ]
    }
   }
  },
  "otter_service": {
   "assignment": "lab_g2",
   "course": "88bx",
   "section": "2"
  },
  "toc": {
   "base_numbering": 1,
   "nav_menu": {},
   "number_sections": true,
   "sideBar": true,
   "skip_h1_title": true,
   "title_cell": "Table of Contents",
   "title_sidebar": "Contents",
   "toc_cell": false,
   "toc_position": {
    "height": "calc(100% - 180px)",
    "left": "10px",
    "top": "150px",
    "width": "256.25px"
   },
   "toc_section_display": true,
   "toc_window_display": false
  }
 },
 "nbformat": 4,
 "nbformat_minor": 2
}
