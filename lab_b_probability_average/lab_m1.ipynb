{
 "cells": [
  {
   "cell_type": "code",
   "execution_count": null,
   "metadata": {
    "deletable": false,
    "editable": false
   },
   "outputs": [],
   "source": [
    "# Initialize Otter\n",
    "import otter\n",
    "grader = otter.Notebook(\"lab_m1.ipynb\")"
   ]
  },
  {
   "cell_type": "markdown",
   "metadata": {},
   "source": [
    "# Lab M1: Discontinuity"
   ]
  },
  {
   "cell_type": "markdown",
   "metadata": {},
   "source": [
    "## Setup"
   ]
  },
  {
   "cell_type": "code",
   "execution_count": null,
   "metadata": {},
   "outputs": [],
   "source": [
    "import warnings\n",
    "from datascience import Table, are\n",
    "from numpy import mean, sqrt\n",
    "from statsmodels.formula.api import ols\n",
    "\n",
    "# Force display of all values \n",
    "from IPython.core.interactiveshell import InteractiveShell\n",
    "InteractiveShell.ast_node_interactivity = \"all\"\n",
    "\n",
    "# Handle some obnoxious warning messages\n",
    "warnings.filterwarnings(\"ignore\")"
   ]
  },
  {
   "cell_type": "markdown",
   "metadata": {},
   "source": [
    "## Sales Experience\n",
    "\n",
    "### Business Decision\n",
    "\n",
    "Reynolds Products is assessing the effectiveness of its new sales staff, which is hired contigent on sales performance during an intial 90-day probation period.  Management suspects that average daily sales for an individual salesperson increases with experience during and beyond the probation period.\n",
    "\n",
    "Assume that you are the manager of new hire sales for Reynolds Products.  What do you think about the effectiveness of the probation period for new new salespeople?"
   ]
  },
  {
   "cell_type": "markdown",
   "metadata": {
    "deletable": false,
    "editable": false
   },
   "source": [
    "### Data"
   ]
  },
  {
   "cell_type": "markdown",
   "metadata": {
    "deletable": false,
    "editable": false
   },
   "source": [
    "Retrieve a dataset from file 'Reynolds.csv'.  Show the first few observations.\n",
    "Visualize the dataset as a scatterplot."
   ]
  },
  {
   "cell_type": "code",
   "execution_count": null,
   "metadata": {
    "scrolled": false,
    "tags": [
     "otter_answer_cell"
    ]
   },
   "outputs": [],
   "source": [
    "reynolds = ...\n",
    "reynolds\n",
    "\n",
    "reynolds.scatter('Employed')"
   ]
  },
  {
   "cell_type": "code",
   "execution_count": null,
   "metadata": {
    "deletable": false,
    "editable": false
   },
   "outputs": [],
   "source": [
    "grader.check(\"q1\")"
   ]
  },
  {
   "cell_type": "markdown",
   "metadata": {
    "deletable": false,
    "editable": false
   },
   "source": [
    "### Analysis: One-Piece Model"
   ]
  },
  {
   "cell_type": "markdown",
   "metadata": {
    "deletable": false,
    "editable": false
   },
   "source": [
    "Build a linear regression model to predict a salesperson's average sales based on number of days employed.\n",
    "Show the model goodness of fit (R^2).  \n",
    "Show the model parameters."
   ]
  },
  {
   "cell_type": "code",
   "execution_count": null,
   "metadata": {
    "scrolled": true,
    "tags": [
     "otter_answer_cell"
    ]
   },
   "outputs": [],
   "source": [
    "model_1 = ...\n",
    "model_1.rsquared\n",
    "model_1.params"
   ]
  },
  {
   "cell_type": "code",
   "execution_count": null,
   "metadata": {
    "deletable": false,
    "editable": false
   },
   "outputs": [],
   "source": [
    "grader.check(\"q2_1\")"
   ]
  },
  {
   "cell_type": "markdown",
   "metadata": {
    "deletable": false,
    "editable": false
   },
   "source": [
    "Add a variable for the predicted average sales. \n",
    "Add a variable for the prediction errors. _(these are called \"residuals\", use the .resid function)_"
   ]
  },
  {
   "cell_type": "code",
   "execution_count": null,
   "metadata": {
    "tags": [
     "otter_answer_cell"
    ]
   },
   "outputs": [],
   "source": [
    "predicted_sales_1 = ...\n",
    "prediction_errors_1 = ...\n",
    "\n",
    "reynolds_predictions = reynolds.with_columns('sales_predicted', predicted_sales_1,\n",
    "                         'error', prediction_errors_1)\n",
    "reynolds_predictions"
   ]
  },
  {
   "cell_type": "code",
   "execution_count": null,
   "metadata": {
    "deletable": false,
    "editable": false
   },
   "outputs": [],
   "source": [
    "grader.check(\"q2_2\")"
   ]
  },
  {
   "cell_type": "markdown",
   "metadata": {
    "deletable": false,
    "editable": false
   },
   "source": [
    "RMSE is $\\textit{sqrt}(\\textit{mean}(\\textit{error}^2))$.  It is a measure of predictive peformance, similar to R^2.\n",
    "\n",
    "Show the RMSE calculated based on the dataset.  \n",
    "Visualize the model performance as a scatterplot of average sales and predicted average sales vs. number of days employed."
   ]
  },
  {
   "cell_type": "code",
   "execution_count": null,
   "metadata": {
    "tags": [
     "otter_answer_cell"
    ]
   },
   "outputs": [],
   "source": [
    "RMSE_1 = ...\n",
    "RMSE_1\n",
    "\n",
    "selected_cols = ...\n",
    "selected_cols.scatter('Employed')"
   ]
  },
  {
   "cell_type": "code",
   "execution_count": null,
   "metadata": {
    "deletable": false,
    "editable": false
   },
   "outputs": [],
   "source": [
    "grader.check(\"q2_3\")"
   ]
  },
  {
   "cell_type": "markdown",
   "metadata": {
    "deletable": false,
    "editable": false
   },
   "source": [
    "#### Predict"
   ]
  },
  {
   "cell_type": "markdown",
   "metadata": {
    "deletable": false,
    "editable": false
   },
   "source": [
    "Predict the average sales of a salesperson that has been employed for 80 days."
   ]
  },
  {
   "cell_type": "code",
   "execution_count": null,
   "metadata": {
    "tags": [
     "otter_answer_cell"
    ]
   },
   "outputs": [],
   "source": [
    "sales_80_prediction_1 = model_1.predict(Table().with_columns('Employed', 80))\n",
    "sales_80_prediction_1"
   ]
  },
  {
   "cell_type": "code",
   "execution_count": null,
   "metadata": {
    "deletable": false,
    "editable": false
   },
   "outputs": [],
   "source": [
    "grader.check(\"q2_4\")"
   ]
  },
  {
   "cell_type": "markdown",
   "metadata": {
    "deletable": false,
    "editable": false
   },
   "source": [
    "### Analysis: Two-Piece Model"
   ]
  },
  {
   "cell_type": "markdown",
   "metadata": {
    "deletable": false,
    "editable": false
   },
   "source": [
    "Reset the dataset to include only average sales and number of days employed variables.  \n",
    "Visualize the dataset as a scatterplot."
   ]
  },
  {
   "cell_type": "code",
   "execution_count": null,
   "metadata": {
    "tags": [
     "otter_answer_cell"
    ]
   },
   "outputs": [],
   "source": [
    "sales_employed = ...\n",
    "\n",
    "sales_employed.scatter('Employed')"
   ]
  },
  {
   "cell_type": "code",
   "execution_count": null,
   "metadata": {
    "deletable": false,
    "editable": false
   },
   "outputs": [],
   "source": [
    "grader.check(\"q3_1\")"
   ]
  },
  {
   "cell_type": "markdown",
   "metadata": {},
   "source": [
    "Set the breakpoint to 90.  This is the predictor variable value at which an apparent discontinuity occurs."
   ]
  },
  {
   "cell_type": "code",
   "execution_count": null,
   "metadata": {},
   "outputs": [],
   "source": [
    "breakpoint = 90\n",
    "breakpoint"
   ]
  },
  {
   "cell_type": "markdown",
   "metadata": {
    "deletable": false,
    "editable": false
   },
   "source": [
    "#### Model 1"
   ]
  },
  {
   "cell_type": "markdown",
   "metadata": {
    "deletable": false,
    "editable": false
   },
   "source": [
    "Filter the dataset to include only sales associated with number of days employed less than or equal to the breakpoint.  \n",
    "Show the resulting filtered dataset."
   ]
  },
  {
   "cell_type": "code",
   "execution_count": null,
   "metadata": {
    "tags": [
     "otter_answer_cell"
    ]
   },
   "outputs": [],
   "source": [
    "sales_employed_below_break = ...\n",
    "sales_employed_below_break.show()"
   ]
  },
  {
   "cell_type": "code",
   "execution_count": null,
   "metadata": {
    "deletable": false,
    "editable": false
   },
   "outputs": [],
   "source": [
    "grader.check(\"q3_2\")"
   ]
  },
  {
   "cell_type": "markdown",
   "metadata": {
    "deletable": false,
    "editable": false
   },
   "source": [
    "Build a linear regression model to predict a salesperson's average sales based on number of days employed (use the filtered dataset).  \n",
    "Show the model goodness of fit (R^2).  \n",
    "Show the model parameters."
   ]
  },
  {
   "cell_type": "code",
   "execution_count": null,
   "metadata": {
    "tags": [
     "otter_answer_cell"
    ]
   },
   "outputs": [],
   "source": [
    "model_below_break = ...\n",
    "model_below_break.rsquared\n",
    "model_below_break.params"
   ]
  },
  {
   "cell_type": "code",
   "execution_count": null,
   "metadata": {
    "deletable": false,
    "editable": false
   },
   "outputs": [],
   "source": [
    "grader.check(\"q3_3\")"
   ]
  },
  {
   "cell_type": "markdown",
   "metadata": {
    "deletable": false,
    "editable": false
   },
   "source": [
    "#### Model 2"
   ]
  },
  {
   "cell_type": "markdown",
   "metadata": {
    "deletable": false,
    "editable": false
   },
   "source": [
    "Filter the (unfiltered) data to include only sales associated with number of days employed greater than the breakpoint.  \n",
    "Show the resulting filtered dataset."
   ]
  },
  {
   "cell_type": "code",
   "execution_count": null,
   "metadata": {
    "tags": [
     "otter_answer_cell"
    ]
   },
   "outputs": [],
   "source": [
    "sales_employed_above_break = ...\n",
    "sales_employed_above_break.show()"
   ]
  },
  {
   "cell_type": "code",
   "execution_count": null,
   "metadata": {
    "deletable": false,
    "editable": false
   },
   "outputs": [],
   "source": [
    "grader.check(\"q3_4\")"
   ]
  },
  {
   "cell_type": "markdown",
   "metadata": {
    "deletable": false,
    "editable": false
   },
   "source": [
    "Build a linear regression model to predict a salesperson's average sales based on number of days employed (use the filtered dataset).  \n",
    "Show the model goodness of fit (R^2).  \n",
    "Show the model parameters."
   ]
  },
  {
   "cell_type": "code",
   "execution_count": null,
   "metadata": {
    "tags": [
     "otter_answer_cell"
    ]
   },
   "outputs": [],
   "source": [
    "model_above_break = ...\n",
    "model_above_break.rsquared\n",
    "model_above_break.params"
   ]
  },
  {
   "cell_type": "code",
   "execution_count": null,
   "metadata": {
    "deletable": false,
    "editable": false
   },
   "outputs": [],
   "source": [
    "grader.check(\"q3_5\")"
   ]
  },
  {
   "cell_type": "markdown",
   "metadata": {
    "deletable": false,
    "editable": false
   },
   "source": [
    "#### Recombine"
   ]
  },
  {
   "cell_type": "markdown",
   "metadata": {
    "deletable": false,
    "editable": false
   },
   "source": [
    "Add a variable for predicted sales to each filtered dataset.  \n",
    "Add a variable for errors to each filtered dataset.  \n",
    "Build a new dataset that combines the filtered datasets.  \n",
    "Show the resulting dataset."
   ]
  },
  {
   "cell_type": "code",
   "execution_count": null,
   "metadata": {
    "scrolled": false,
    "tags": [
     "otter_answer_cell"
    ]
   },
   "outputs": [],
   "source": [
    "predicted_sales_below_break = ...\n",
    "errors_below_break = ...\n",
    "\n",
    "predicted_sales_above_break = ...\n",
    "errors_above_break = ...\n",
    "\n",
    "below_break_preds = sales_employed_below_break.with_columns('sales_predicted', predicted_sales_below_break, 'error', errors_below_break)\n",
    "above_break_preds = sales_employed_above_break.with_columns('sales_predicted', predicted_sales_above_break, 'error', errors_above_break)\n",
    "data_combo = ...\n",
    "\n",
    "data_combo.show()"
   ]
  },
  {
   "cell_type": "code",
   "execution_count": null,
   "metadata": {
    "deletable": false,
    "editable": false
   },
   "outputs": [],
   "source": [
    "grader.check(\"q3_4\")"
   ]
  },
  {
   "cell_type": "markdown",
   "metadata": {
    "deletable": false,
    "editable": false
   },
   "source": [
    "Show the RMSE calculated based on the new dataset.  \n",
    "Visualize the performance of the 2-piece model as a scatterplot of average sales and predicted average sales\n",
    "vs. number of days employed."
   ]
  },
  {
   "cell_type": "code",
   "execution_count": null,
   "metadata": {
    "tags": [
     "otter_answer_cell"
    ]
   },
   "outputs": [],
   "source": [
    "RMSE_combo = ...\n",
    "RMSE_combo\n",
    "\n",
    "selected_cols_combo = ...\n",
    "selected_cols_combo.scatter('Employed')"
   ]
  },
  {
   "cell_type": "code",
   "execution_count": null,
   "metadata": {
    "deletable": false,
    "editable": false
   },
   "outputs": [],
   "source": [
    "grader.check(\"q3_5\")"
   ]
  },
  {
   "cell_type": "markdown",
   "metadata": {
    "deletable": false,
    "editable": false
   },
   "source": [
    "#### Predict"
   ]
  },
  {
   "cell_type": "markdown",
   "metadata": {
    "deletable": false,
    "editable": false
   },
   "source": [
    "Predict the average sales of a salesperson that has been employed for 80 days."
   ]
  },
  {
   "cell_type": "code",
   "execution_count": null,
   "metadata": {
    "tags": [
     "otter_answer_cell"
    ]
   },
   "outputs": [],
   "source": [
    "sales_80_prediction = ...\n",
    "sales_80_prediction"
   ]
  },
  {
   "cell_type": "code",
   "execution_count": null,
   "metadata": {
    "deletable": false,
    "editable": false
   },
   "outputs": [],
   "source": [
    "grader.check(\"q3_6\")"
   ]
  },
  {
   "cell_type": "markdown",
   "metadata": {
    "deletable": false,
    "editable": false
   },
   "source": [
    "Predict the average sales of a salesperson that has been employed for 100 days."
   ]
  },
  {
   "cell_type": "code",
   "execution_count": null,
   "metadata": {
    "tags": [
     "otter_answer_cell"
    ]
   },
   "outputs": [],
   "source": [
    "sales_100_prediction = ...\n",
    "sales_100_prediction"
   ]
  },
  {
   "cell_type": "code",
   "execution_count": null,
   "metadata": {
    "deletable": false,
    "editable": false
   },
   "outputs": [],
   "source": [
    "grader.check(\"q3_7\")"
   ]
  },
  {
   "cell_type": "markdown",
   "metadata": {
    "deletable": false,
    "editable": false
   },
   "source": [
    "### Analysis: Piecewise Model"
   ]
  },
  {
   "cell_type": "markdown",
   "metadata": {
    "deletable": false,
    "editable": false
   },
   "source": [
    "Reset dataset to include average sales and number of days employed variables only.\n",
    "Visualize the dataset as a scatterplot."
   ]
  },
  {
   "cell_type": "code",
   "execution_count": null,
   "metadata": {
    "tags": [
     "otter_answer_cell"
    ]
   },
   "outputs": [],
   "source": [
    "sales_employed_2 = ...\n",
    "\n",
    "sales_employed_2.scatter('Employed')"
   ]
  },
  {
   "cell_type": "code",
   "execution_count": null,
   "metadata": {
    "deletable": false,
    "editable": false
   },
   "outputs": [],
   "source": [
    "grader.check(\"q4_1\")"
   ]
  },
  {
   "cell_type": "markdown",
   "metadata": {
    "deletable": false,
    "editable": false
   },
   "source": [
    "Set the breakpoint to 90.  This is the predictor variable value at which an apparent discontinuity occurs.  \n",
    "Add a variable to the datset for switching (1 means number of days employed is greater than breakpoint, 0 means otherwise).  \n",
    "Add a variable to the dataset for adjustment, like this: $(\\textit{number of days employed} - \\textit{breakpoint}) \\times \\textit{switch}$  \n",
    "Show the resulting dataset."
   ]
  },
  {
   "cell_type": "code",
   "execution_count": null,
   "metadata": {
    "tags": [
     "otter_answer_cell"
    ]
   },
   "outputs": [],
   "source": [
    "breakpoint = 90\n",
    "\n",
    "switch = ...\n",
    "switch_adjustment = sales_employed_2.with_column('switch', (switch).astype(int))\n",
    "\n",
    "adjustment = ...\n",
    "switch_adjustment = switch_adjustment.with_column('adjust', adjustment)\n",
    "\n",
    "switch_adjustment.show()"
   ]
  },
  {
   "cell_type": "code",
   "execution_count": null,
   "metadata": {
    "deletable": false,
    "editable": false
   },
   "outputs": [],
   "source": [
    "grader.check(\"q4_2\")"
   ]
  },
  {
   "cell_type": "markdown",
   "metadata": {
    "deletable": false,
    "editable": false
   },
   "source": [
    "Build a linear regression model to predict a salesperson's average sales based on number of days employed and an adjustment.  \n",
    "Show the model goodness of fit (R^2).  \n",
    "Show the model parameters."
   ]
  },
  {
   "cell_type": "code",
   "execution_count": null,
   "metadata": {
    "tags": [
     "otter_answer_cell"
    ]
   },
   "outputs": [],
   "source": [
    "model_2 = ...\n",
    "model_2.rsquared\n",
    "model_2.params"
   ]
  },
  {
   "cell_type": "code",
   "execution_count": null,
   "metadata": {
    "deletable": false,
    "editable": false
   },
   "outputs": [],
   "source": [
    "grader.check(\"q4_3\")"
   ]
  },
  {
   "cell_type": "markdown",
   "metadata": {
    "deletable": false,
    "editable": false
   },
   "source": [
    "Add a variable to the dataset for predicted sales.  Show the resulting dataset."
   ]
  },
  {
   "cell_type": "code",
   "execution_count": null,
   "metadata": {
    "scrolled": false,
    "tags": [
     "otter_answer_cell"
    ]
   },
   "outputs": [],
   "source": [
    "predicted_sales_2 = ...\n",
    "\n",
    "switch_adjustment_preds = switch_adjustment.with_column('sales_predicted', predicted_sales_2)\n",
    "switch_adjustment_preds.show()"
   ]
  },
  {
   "cell_type": "code",
   "execution_count": null,
   "metadata": {
    "deletable": false,
    "editable": false
   },
   "outputs": [],
   "source": [
    "grader.check(\"q4_4\")"
   ]
  },
  {
   "cell_type": "markdown",
   "metadata": {
    "deletable": false,
    "editable": false
   },
   "source": [
    "Show the RMSE calculated based on the dataset.\n",
    "Visualize the performance of the model as a scatterplot of average sales and predicted average sales\n",
    "vs. number of days employed."
   ]
  },
  {
   "cell_type": "code",
   "execution_count": null,
   "metadata": {
    "tags": [
     "otter_answer_cell"
    ]
   },
   "outputs": [],
   "source": [
    "RMSE_2 = ...\n",
    "RMSE_2\n",
    "\n",
    "selected_cols_switch_adjust = switch_adjustment_preds.select('Employed','Sales', 'sales_predicted')\n",
    "selected_cols_switch_adjust.scatter('Employed')"
   ]
  },
  {
   "cell_type": "code",
   "execution_count": null,
   "metadata": {
    "deletable": false,
    "editable": false
   },
   "outputs": [],
   "source": [
    "grader.check(\"q4_5\")"
   ]
  },
  {
   "cell_type": "markdown",
   "metadata": {
    "deletable": false,
    "editable": false
   },
   "source": [
    "Predict the average sales of a salesperson that has been employed for 80 days."
   ]
  },
  {
   "cell_type": "code",
   "execution_count": null,
   "metadata": {
    "tags": [
     "otter_answer_cell"
    ]
   },
   "outputs": [],
   "source": [
    "sales_80_prediction_2 = model_2.predict(Table().with_columns('Employed', 80, 'adjust', (100-breakpoint)*0))\n",
    "sales_80_prediction_2"
   ]
  },
  {
   "cell_type": "code",
   "execution_count": null,
   "metadata": {
    "deletable": false,
    "editable": false
   },
   "outputs": [],
   "source": [
    "grader.check(\"q4_6\")"
   ]
  },
  {
   "cell_type": "markdown",
   "metadata": {
    "deletable": false,
    "editable": false
   },
   "source": [
    "Predict the average sales of a salesperson that has been employed for 100 days."
   ]
  },
  {
   "cell_type": "code",
   "execution_count": null,
   "metadata": {
    "tags": [
     "otter_answer_cell"
    ]
   },
   "outputs": [],
   "source": [
    "sales_100_prediction_2 = model_2.predict(Table().with_columns('Employed', 100, 'adjust', (100-breakpoint)*1))\n",
    "sales_100_prediction_2"
   ]
  },
  {
   "cell_type": "code",
   "execution_count": null,
   "metadata": {
    "deletable": false,
    "editable": false
   },
   "outputs": [],
   "source": [
    "grader.check(\"q4_7\")"
   ]
  },
  {
   "cell_type": "markdown",
   "metadata": {
    "deletable": false,
    "editable": false
   },
   "source": [
    "Predict the average sales of a salesperson that has been employed for 90 days."
   ]
  },
  {
   "cell_type": "code",
   "execution_count": null,
   "metadata": {
    "tags": [
     "otter_answer_cell"
    ]
   },
   "outputs": [],
   "source": [
    "sales_90_prediction = model_2.predict(Table().with_columns('Employed', 90, 'adjust', (90-breakpoint)*1))\n",
    "sales_90_prediction"
   ]
  },
  {
   "cell_type": "code",
   "execution_count": null,
   "metadata": {
    "deletable": false,
    "editable": false
   },
   "outputs": [],
   "source": [
    "grader.check(\"q4_8\")"
   ]
  },
  {
   "cell_type": "markdown",
   "metadata": {},
   "source": [
    "<p style=\"text-align:left; font-size:10px;\">\n",
    "Copyright (c) Huntsinger Associates, LLC\n",
    "<span style=\"float:right;\">\n",
    "Document revised November 18, 2023\n",
    "</span>\n",
    "</p>"
   ]
  }
 ],
 "metadata": {
  "kernelspec": {
   "display_name": ".venv",
   "language": "python",
   "name": "python3"
  },
  "language_info": {
   "codemirror_mode": {
    "name": "ipython",
    "version": 3
   },
   "file_extension": ".py",
   "mimetype": "text/x-python",
   "name": "python",
   "nbconvert_exporter": "python",
   "pygments_lexer": "ipython3",
   "version": "3.13.5"
  },
  "otter": {
   "OK_FORMAT": true,
   "tests": {
    "q1": {
     "name": "q1",
     "points": null,
     "suites": [
      {
       "cases": [
        {
         "code": ">>> reynolds.labels == ('Employed', 'Sales') and reynolds.num_rows == 18\nTrue",
         "hidden": false,
         "locked": false
        }
       ],
       "scored": true,
       "setup": "",
       "teardown": "",
       "type": "doctest"
      }
     ]
    },
    "q2_1": {
     "name": "q2_1",
     "points": null,
     "suites": [
      {
       "cases": [
        {
         "code": ">>> cond1 = list(model_1.model.data.frame.labels) == list(reynolds.labels)\n>>> cond2 = model_1.model.data.frame.num_rows == reynolds.num_rows\n>>> cond3 = all((model_1.model.data.frame.row(i) == reynolds.row(i) for i in range(reynolds.num_rows)))\n>>> cond1 and cond2 and cond3\nTrue",
         "hidden": false,
         "locked": false
        },
        {
         "code": ">>> hasattr(model_1, 'rsquared') and hasattr(model_1, 'params') and (len(model_1.params) == 2)\nTrue",
         "hidden": false,
         "locked": false
        }
       ],
       "scored": true,
       "setup": "",
       "teardown": "",
       "type": "doctest"
      }
     ]
    },
    "q2_2": {
     "name": "q2_2",
     "points": null,
     "suites": [
      {
       "cases": [
        {
         "code": ">>> all(predicted_sales_1 == model_1.predict(reynolds))\nTrue",
         "hidden": false,
         "locked": false
        },
        {
         "code": ">>> all(prediction_errors_1 == model_1.resid)\nTrue",
         "hidden": false,
         "locked": false
        }
       ],
       "scored": true,
       "setup": "",
       "teardown": "",
       "type": "doctest"
      }
     ]
    },
    "q2_3": {
     "name": "q2_3",
     "points": null,
     "suites": [
      {
       "cases": [
        {
         "code": ">>> RMSE_1 == sqrt(mean(reynolds_predictions.column('error') ** 2))\nTrue",
         "hidden": false,
         "locked": false
        },
        {
         "code": ">>> selected_cols.labels == ('Sales', 'sales_predicted', 'Employed')\nTrue",
         "hidden": false,
         "locked": false
        }
       ],
       "scored": true,
       "setup": "",
       "teardown": "",
       "type": "doctest"
      }
     ]
    },
    "q2_4": {
     "name": "q2_4",
     "points": null,
     "suites": [
      {
       "cases": [
        {
         "code": ">>> all(sales_80_prediction_1 == model_1.predict(Table().with_columns('Employed', 80)))\nTrue",
         "hidden": false,
         "locked": false
        }
       ],
       "scored": true,
       "setup": "",
       "teardown": "",
       "type": "doctest"
      }
     ]
    },
    "q3_1": {
     "name": "q3_1",
     "points": null,
     "suites": [
      {
       "cases": [
        {
         "code": ">>> sales_employed.labels == ('Employed', 'Sales') and sales_employed.num_rows == 18\nTrue",
         "hidden": false,
         "locked": false
        }
       ],
       "scored": true,
       "setup": "",
       "teardown": "",
       "type": "doctest"
      }
     ]
    },
    "q3_2": {
     "name": "q3_2",
     "points": null,
     "suites": [
      {
       "cases": [
        {
         "code": ">>> sales_employed_below_break.column('Employed').max() <= breakpoint\nTrue",
         "hidden": false,
         "locked": false
        },
        {
         "code": ">>> sales_employed_below_break.labels == ('Employed', 'Sales') and sales_employed_below_break.num_rows == 12\nTrue",
         "hidden": false,
         "locked": false
        }
       ],
       "scored": true,
       "setup": "",
       "teardown": "",
       "type": "doctest"
      }
     ]
    },
    "q3_3": {
     "name": "q3_3",
     "points": null,
     "suites": [
      {
       "cases": [
        {
         "code": ">>> cond1 = list(model_below_break.model.data.frame.labels) == list(sales_employed_below_break.labels)\n>>> cond2 = model_below_break.model.data.frame.num_rows == sales_employed_below_break.num_rows\n>>> cond3 = all((model_below_break.model.data.frame.row(i) == sales_employed_below_break.row(i) for i in range(sales_employed_below_break.num_rows)))\n>>> cond1 and cond2 and cond3\nTrue",
         "hidden": false,
         "locked": false
        },
        {
         "code": ">>> hasattr(model_below_break, 'rsquared') and hasattr(model_below_break, 'params') and (len(model_below_break.params) == 2)\nTrue",
         "hidden": false,
         "locked": false
        }
       ],
       "scored": true,
       "setup": "",
       "teardown": "",
       "type": "doctest"
      }
     ]
    },
    "q3_4": {
     "name": "q3_4",
     "points": null,
     "suites": [
      {
       "cases": [
        {
         "code": ">>> sales_employed_above_break.column('Employed').min() > breakpoint\nTrue",
         "hidden": false,
         "locked": false
        },
        {
         "code": ">>> all(predicted_sales_below_break == model_below_break.predict(sales_employed_below_break))\nTrue",
         "hidden": false,
         "locked": false
        },
        {
         "code": ">>> all(errors_below_break == model_below_break.resid)\nTrue",
         "hidden": false,
         "locked": false
        },
        {
         "code": ">>> all(predicted_sales_above_break == model_above_break.predict(sales_employed_above_break))\nTrue",
         "hidden": false,
         "locked": false
        },
        {
         "code": ">>> all(errors_above_break == model_above_break.resid)\nTrue",
         "hidden": false,
         "locked": false
        },
        {
         "code": ">>> data_combo.labels == ('Employed', 'Sales', 'sales_predicted', 'error') and data_combo.num_rows == 18\nTrue",
         "hidden": false,
         "locked": false
        }
       ],
       "scored": true,
       "setup": "",
       "teardown": "",
       "type": "doctest"
      }
     ]
    },
    "q3_5": {
     "name": "q3_5",
     "points": null,
     "suites": [
      {
       "cases": [
        {
         "code": ">>> cond1 = list(model_above_break.model.data.frame.labels) == list(sales_employed_above_break.labels)\n>>> cond2 = model_above_break.model.data.frame.num_rows == sales_employed_above_break.num_rows\n>>> cond3 = all((model_above_break.model.data.frame.row(i) == sales_employed_above_break.row(i) for i in range(sales_employed_above_break.num_rows)))\n>>> cond1 and cond2 and cond3\nTrue",
         "hidden": false,
         "locked": false
        },
        {
         "code": ">>> hasattr(model_above_break, 'rsquared') and hasattr(model_above_break, 'params') and (len(model_above_break.params) == 2)\nTrue",
         "hidden": false,
         "locked": false
        },
        {
         "code": ">>> RMSE_combo == sqrt(mean(data_combo.column('error') ** 2))\nTrue",
         "hidden": false,
         "locked": false
        },
        {
         "code": ">>> selected_cols_combo.labels == ('Employed', 'Sales', 'sales_predicted')\nTrue",
         "hidden": false,
         "locked": false
        }
       ],
       "scored": true,
       "setup": "",
       "teardown": "",
       "type": "doctest"
      }
     ]
    },
    "q3_6": {
     "name": "q3_6",
     "points": null,
     "suites": [
      {
       "cases": [
        {
         "code": ">>> all(sales_80_prediction == model_below_break.predict(Table().with_columns('Employed', 80)))\nTrue",
         "hidden": false,
         "locked": false
        }
       ],
       "scored": true,
       "setup": "",
       "teardown": "",
       "type": "doctest"
      }
     ]
    },
    "q3_7": {
     "name": "q3_7",
     "points": null,
     "suites": [
      {
       "cases": [
        {
         "code": ">>> all(sales_100_prediction == model_above_break.predict(Table().with_columns('Employed', 100)))\nTrue",
         "hidden": false,
         "locked": false
        }
       ],
       "scored": true,
       "setup": "",
       "teardown": "",
       "type": "doctest"
      }
     ]
    },
    "q4_1": {
     "name": "q4_1",
     "points": null,
     "suites": [
      {
       "cases": [
        {
         "code": ">>> sales_employed_2.labels == ('Employed', 'Sales') and sales_employed_2.num_rows == 18\nTrue",
         "hidden": false,
         "locked": false
        }
       ],
       "scored": true,
       "setup": "",
       "teardown": "",
       "type": "doctest"
      }
     ]
    },
    "q4_2": {
     "name": "q4_2",
     "points": null,
     "suites": [
      {
       "cases": [
        {
         "code": ">>> all(switch == (switch_adjustment.column('Employed') > breakpoint))\nTrue",
         "hidden": false,
         "locked": false
        },
        {
         "code": ">>> all(adjustment == (switch_adjustment.column('Employed') - breakpoint) * switch_adjustment.column('switch'))\nTrue",
         "hidden": false,
         "locked": false
        }
       ],
       "scored": true,
       "setup": "",
       "teardown": "",
       "type": "doctest"
      }
     ]
    },
    "q4_3": {
     "name": "q4_3",
     "points": null,
     "suites": [
      {
       "cases": [
        {
         "code": ">>> cond1 = list(model_2.model.data.frame.labels) == list(switch_adjustment.labels)\n>>> cond2 = model_2.model.data.frame.num_rows == switch_adjustment.num_rows\n>>> cond3 = all((model_2.model.data.frame.row(i) == switch_adjustment.row(i) for i in range(switch_adjustment.num_rows)))\n>>> cond1 and cond2 and cond3\nTrue",
         "hidden": false,
         "locked": false
        },
        {
         "code": ">>> hasattr(model_2, 'rsquared') and hasattr(model_2, 'params') and (len(model_2.params) == 3)\nTrue",
         "hidden": false,
         "locked": false
        }
       ],
       "scored": true,
       "setup": "",
       "teardown": "",
       "type": "doctest"
      }
     ]
    },
    "q4_4": {
     "name": "q4_4",
     "points": null,
     "suites": [
      {
       "cases": [
        {
         "code": ">>> all(predicted_sales_2 == model_2.predict(switch_adjustment))\nTrue",
         "hidden": false,
         "locked": false
        }
       ],
       "scored": true,
       "setup": "",
       "teardown": "",
       "type": "doctest"
      }
     ]
    },
    "q4_5": {
     "name": "q4_5",
     "points": null,
     "suites": [
      {
       "cases": [
        {
         "code": ">>> RMSE_2 == sqrt(mean(model_2.resid ** 2))\nTrue",
         "hidden": false,
         "locked": false
        },
        {
         "code": ">>> selected_cols_switch_adjust.labels == ('Employed', 'Sales', 'sales_predicted')\nTrue",
         "hidden": false,
         "locked": false
        }
       ],
       "scored": true,
       "setup": "",
       "teardown": "",
       "type": "doctest"
      }
     ]
    },
    "q4_6": {
     "name": "q4_6",
     "points": null,
     "suites": [
      {
       "cases": [
        {
         "code": ">>> all(sales_80_prediction_2 == model_2.predict(Table().with_columns('Employed', 80, 'adjust', (100 - breakpoint) * 0)))\nTrue",
         "hidden": false,
         "locked": false
        }
       ],
       "scored": true,
       "setup": "",
       "teardown": "",
       "type": "doctest"
      }
     ]
    },
    "q4_7": {
     "name": "q4_7",
     "points": null,
     "suites": [
      {
       "cases": [
        {
         "code": ">>> all(sales_100_prediction_2 == model_2.predict(Table().with_columns('Employed', 100, 'adjust', (100 - breakpoint) * 1)))\nTrue",
         "hidden": false,
         "locked": false
        }
       ],
       "scored": true,
       "setup": "",
       "teardown": "",
       "type": "doctest"
      }
     ]
    },
    "q4_8": {
     "name": "q4_8",
     "points": null,
     "suites": [
      {
       "cases": [
        {
         "code": ">>> all(sales_90_prediction == model_2.predict(Table().with_columns('Employed', 90, 'adjust', (90 - breakpoint) * 1)))\nTrue",
         "hidden": false,
         "locked": false
        }
       ],
       "scored": true,
       "setup": "",
       "teardown": "",
       "type": "doctest"
      }
     ]
    }
   }
  },
  "toc": {
   "base_numbering": 1,
   "nav_menu": {},
   "number_sections": true,
   "sideBar": true,
   "skip_h1_title": true,
   "title_cell": "Table of Contents",
   "title_sidebar": "Contents",
   "toc_cell": false,
   "toc_position": {
    "height": "calc(100% - 180px)",
    "left": "10px",
    "top": "150px",
    "width": "256.25px"
   },
   "toc_section_display": true,
   "toc_window_display": false
  }
 },
 "nbformat": 4,
 "nbformat_minor": 2
}
