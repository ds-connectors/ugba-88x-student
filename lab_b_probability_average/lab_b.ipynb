{
 "cells": [
  {
   "cell_type": "code",
   "execution_count": null,
   "metadata": {
    "deletable": false,
    "editable": false
   },
   "outputs": [],
   "source": [
    "# Initialize Otter\n",
    "import otter\n",
    "grader = otter.Notebook(\"lab_b.ipynb\")"
   ]
  },
  {
   "cell_type": "markdown",
   "metadata": {},
   "source": [
    "**THIS SOLUTION DIFFERS SLIGHTLY FROM THE SOLUTION SHOWN IN THE LECTURE VIDEO.**  \n",
    "**IT USES A DATA FILE COMPRISING 637 OBSERVATIONS, RATHER THAN 638 OBSERVATIONS.**"
   ]
  },
  {
   "cell_type": "markdown",
   "metadata": {
    "hide_input": true
   },
   "source": [
    "# Lab B: Probability & Average"
   ]
  },
  {
   "cell_type": "markdown",
   "metadata": {},
   "source": [
    "## Setup"
   ]
  },
  {
   "cell_type": "code",
   "execution_count": null,
   "metadata": {},
   "outputs": [],
   "source": [
    "# Import some useful functions\n",
    "from numpy import *\n",
    "from numpy.random import *\n",
    "from datascience import *\n",
    "from statsmodels.formula.api import *\n",
    "\n",
    "# Define some useful functions\n",
    "def correlation(array_1, array_2):\n",
    "    return corrcoef(array_1, array_2).item(1)\n",
    "\n",
    "# Customize look of graphics\n",
    "import matplotlib.pyplot as plt\n",
    "plt.style.use('fivethirtyeight')\n",
    "plt.rcParams['figure.dpi'] = 60\n",
    "%matplotlib inline\n",
    "\n",
    "# Force display of all values \n",
    "from IPython.core.interactiveshell import InteractiveShell\n",
    "InteractiveShell.ast_node_interactivity = \"all\"\n",
    "\n",
    "# Hide some unnecessary warning messages\n",
    "import warnings\n",
    "warnings.filterwarnings(\"ignore\")\n",
    "import numpy\n",
    "numpy.int = numpy.int_"
   ]
  },
  {
   "cell_type": "markdown",
   "metadata": {},
   "source": [
    "## Shopping for Real Estate Investments"
   ]
  },
  {
   "cell_type": "markdown",
   "metadata": {},
   "source": [
    "### Business Decision\n",
    "\n",
    "A real estate brokerage has been engaged by an investor interested in understanding the San Francisco bay area residential real estate market.  Characterize the San Francisco bay area residential real estate market to inform a decision about what to buy. "
   ]
  },
  {
   "cell_type": "markdown",
   "metadata": {
    "deletable": false,
    "editable": false
   },
   "source": [
    "### Data\n",
    "\n",
    "Retrieve real estate data, show the number of observations and the first few observations."
   ]
  },
  {
   "cell_type": "code",
   "execution_count": null,
   "metadata": {
    "hide_input": false,
    "scrolled": false,
    "tags": [
     "otter_answer_cell"
    ]
   },
   "outputs": [],
   "source": [
    "data = ...\n",
    "observations = ...\n",
    "observations, data"
   ]
  },
  {
   "cell_type": "code",
   "execution_count": null,
   "metadata": {
    "deletable": false,
    "editable": false
   },
   "outputs": [],
   "source": [
    "grader.check(\"q1\")"
   ]
  },
  {
   "cell_type": "markdown",
   "metadata": {},
   "source": [
    "### Analysis"
   ]
  },
  {
   "cell_type": "markdown",
   "metadata": {},
   "source": [
    "#### Mean & Median"
   ]
  },
  {
   "cell_type": "markdown",
   "metadata": {},
   "source": [
    "Calculate the mean price."
   ]
  },
  {
   "cell_type": "code",
   "execution_count": null,
   "metadata": {
    "hide_input": false,
    "tags": [
     "otter_answer_cell"
    ]
   },
   "outputs": [],
   "source": [
    "# Calculate the mean price (use the mean function, don't call the data object \"mean\" !!!)\n",
    "mean_price = ...\n",
    "mean_price\n",
    "\n",
    "# Calculate the mean price (use the sum function and divide by the appropriate number)\n",
    "mean_price = ...\n",
    "mean_price"
   ]
  },
  {
   "cell_type": "code",
   "execution_count": null,
   "metadata": {
    "deletable": false,
    "editable": false
   },
   "outputs": [],
   "source": [
    "grader.check(\"q2\")"
   ]
  },
  {
   "cell_type": "markdown",
   "metadata": {},
   "source": [
    "Calculate the median price."
   ]
  },
  {
   "cell_type": "code",
   "execution_count": null,
   "metadata": {
    "hide_input": false,
    "tags": [
     "otter_answer_cell"
    ]
   },
   "outputs": [],
   "source": [
    "median_price = ...\n",
    "median_price"
   ]
  },
  {
   "cell_type": "code",
   "execution_count": null,
   "metadata": {
    "deletable": false,
    "editable": false
   },
   "outputs": [],
   "source": [
    "grader.check(\"q3\")"
   ]
  },
  {
   "cell_type": "markdown",
   "metadata": {},
   "source": [
    "Calculate the minimum price."
   ]
  },
  {
   "cell_type": "code",
   "execution_count": null,
   "metadata": {
    "hide_input": false,
    "tags": [
     "otter_answer_cell"
    ]
   },
   "outputs": [],
   "source": [
    "min_price = ...\n",
    "min_price"
   ]
  },
  {
   "cell_type": "code",
   "execution_count": null,
   "metadata": {
    "deletable": false,
    "editable": false
   },
   "outputs": [],
   "source": [
    "grader.check(\"q4\")"
   ]
  },
  {
   "cell_type": "markdown",
   "metadata": {},
   "source": [
    "Calculate the maximum price."
   ]
  },
  {
   "cell_type": "code",
   "execution_count": null,
   "metadata": {
    "hide_input": false,
    "tags": [
     "otter_answer_cell"
    ]
   },
   "outputs": [],
   "source": [
    "max_price = max(data.column('PRICE'))\n",
    "max_price"
   ]
  },
  {
   "cell_type": "code",
   "execution_count": null,
   "metadata": {
    "deletable": false,
    "editable": false
   },
   "outputs": [],
   "source": [
    "grader.check(\"q5\")"
   ]
  },
  {
   "cell_type": "markdown",
   "metadata": {},
   "source": [
    "#### Probability"
   ]
  },
  {
   "cell_type": "markdown",
   "metadata": {},
   "source": [
    "Sanity check: Calculate the probability that a price is equal to the mean price.  \n",
    "Sanity check: Calculate the probability that a price is equal to the mean price (rounded down to the nearest dollar).  \n",
    "Sanity check: Calculate the probability that a price is equal to the mean price (rounded up to the nearest dollar)."
   ]
  },
  {
   "cell_type": "code",
   "execution_count": null,
   "metadata": {
    "hide_input": false,
    "tags": [
     "otter_answer_cell"
    ]
   },
   "outputs": [],
   "source": [
    "# Calculate the probability that a price is equal to the mean price\n",
    "price_equal = ...\n",
    "\n",
    "# Calculate the probability that a price is equal to the mean price (rounded down to the nearest dollar, use the int function)\n",
    "price_eq_round_down = ...\n",
    "\n",
    "# Calculate the probability that a price is equal to the mean price (rounded up to the nearest dollar, use the int function)\n",
    "price_eq_round_up = ..."
   ]
  },
  {
   "cell_type": "code",
   "execution_count": null,
   "metadata": {
    "deletable": false,
    "editable": false
   },
   "outputs": [],
   "source": [
    "grader.check(\"q6\")"
   ]
  },
  {
   "cell_type": "markdown",
   "metadata": {},
   "source": [
    "Calculate the probability that a price is less than or equal to the mean price."
   ]
  },
  {
   "cell_type": "code",
   "execution_count": null,
   "metadata": {
    "hide_input": false,
    "tags": [
     "otter_answer_cell"
    ]
   },
   "outputs": [],
   "source": [
    "probability = ...\n",
    "probability"
   ]
  },
  {
   "cell_type": "code",
   "execution_count": null,
   "metadata": {
    "deletable": false,
    "editable": false
   },
   "outputs": [],
   "source": [
    "grader.check(\"q7\")"
   ]
  },
  {
   "cell_type": "markdown",
   "metadata": {},
   "source": [
    "Sanity check: Calculate the probability that a price is less than or equal to median price."
   ]
  },
  {
   "cell_type": "code",
   "execution_count": null,
   "metadata": {
    "hide_input": false,
    "tags": [
     "otter_answer_cell"
    ]
   },
   "outputs": [],
   "source": [
    "..."
   ]
  },
  {
   "cell_type": "code",
   "execution_count": null,
   "metadata": {
    "deletable": false,
    "editable": false
   },
   "outputs": [],
   "source": [
    "grader.check(\"q8\")"
   ]
  },
  {
   "cell_type": "markdown",
   "metadata": {},
   "source": [
    "#### Percentile\n",
    "\n",
    "Calculate the 25th percentile of prices.  \n",
    "Calculate the 50th percentile of prices.  \n",
    "Calculate the 75th percentile of prices."
   ]
  },
  {
   "cell_type": "code",
   "execution_count": null,
   "metadata": {
    "hide_input": false,
    "tags": [
     "otter_answer_cell"
    ]
   },
   "outputs": [],
   "source": [
    "# Calculate the 25th percentile of prices (use the percentile function) \n",
    "p25 = ...\n",
    "p25\n",
    "\n",
    "# Calculate the 50th percentile of prices (use the percentile function)\n",
    "p50 = ...\n",
    "p50\n",
    "\n",
    "# Calculate the 75th percentile of prices (use the percentile function)\n",
    "p75 = ...\n",
    "p75"
   ]
  },
  {
   "cell_type": "code",
   "execution_count": null,
   "metadata": {
    "deletable": false,
    "editable": false
   },
   "outputs": [],
   "source": [
    "grader.check(\"q9\")"
   ]
  },
  {
   "cell_type": "markdown",
   "metadata": {},
   "source": [
    "Sanity check: Calculate the probability that a price is less than or equal to 25th percentile of prices.  \n",
    "Sanity check: Calculate the probability that a price is less than or equal to 50th percentile of prices.  \n",
    "Sanity check: Calculate the probability that a price is less than or equal to 75th percentile or prices."
   ]
  },
  {
   "cell_type": "code",
   "execution_count": null,
   "metadata": {
    "hide_input": false,
    "tags": [
     "otter_answer_cell"
    ]
   },
   "outputs": [],
   "source": [
    "# Calculate the probability that a price is less than or equal to 25th percentile of prices\n",
    "...\n",
    "\n",
    "# Calculate the probability that a price is less than or equal to 50th percentile of prices\n",
    "...\n",
    "\n",
    "# Calculate the probability that a price is less than or equal to 75th percentile or prices\n",
    "..."
   ]
  },
  {
   "cell_type": "code",
   "execution_count": null,
   "metadata": {
    "deletable": false,
    "editable": false
   },
   "outputs": [],
   "source": [
    "grader.check(\"q10\")"
   ]
  },
  {
   "cell_type": "markdown",
   "metadata": {},
   "source": [
    "Sanity check: Calculate the probability that a price is in 1st quartile of prices (min to percentile 25th).  \n",
    "Sanity check: Calculate the probability that a price is in 2nd quartile of prices (just above 25th percentile to 50th percentile).  \n",
    "Sanity check: Calculate the probability that a price is in 3rd quartile of prices (just above 50th percentile to 75th percentile).  \n",
    "Sanity check: Calculate the probability that a price is in 4th quartile of prices (just above 75th percentile to max)."
   ]
  },
  {
   "cell_type": "code",
   "execution_count": null,
   "metadata": {
    "hide_input": false,
    "tags": [
     "otter_answer_cell"
    ]
   },
   "outputs": [],
   "source": [
    "# Calculate the probability that a price is in 1st quartile of prices (min to percentile 25th)\n",
    "data_q1 = ...\n",
    "...\n",
    "\n",
    "# Calculate the probability that a price is in 2nd quartile of prices (percentile 25th to 50th)\n",
    "data_q2 = ...\n",
    "...\n",
    "\n",
    "# Calculate the probability that a price is in 3rd quartile of prices (percentile 50th to 75th)\n",
    "data_q3 = ...\n",
    "...\n",
    "\n",
    "# Calculate the probability that a price is in 4th quartile of prices (percentile 75th to max)\n",
    "data_q4 = ...\n",
    "..."
   ]
  },
  {
   "cell_type": "code",
   "execution_count": null,
   "metadata": {
    "tags": [
     "otter_answer_cell"
    ]
   },
   "outputs": [],
   "source": [
    "data_q1.num_rows"
   ]
  },
  {
   "cell_type": "code",
   "execution_count": null,
   "metadata": {
    "deletable": false,
    "editable": false
   },
   "outputs": [],
   "source": [
    "grader.check(\"q11\")"
   ]
  },
  {
   "cell_type": "markdown",
   "metadata": {},
   "source": [
    "Calculate the mean price of 1st quartile of prices (min to 25th percentile).  \n",
    "Calculate the mean price of 2nd quartile of prices (just above 25th percentile to 50th percentile).  \n",
    "Calculate the mean price of 3rd quartile of prices (just above 50th percentile to 75th percentile).  \n",
    "Calculate the mean price of 4th quartile of prices (just above 75th percentile to max)."
   ]
  },
  {
   "cell_type": "code",
   "execution_count": null,
   "metadata": {
    "hide_input": false,
    "tags": [
     "otter_answer_cell"
    ]
   },
   "outputs": [],
   "source": [
    "# Calculate the mean price of 1st quartile of prices (min to percentile 25th)\n",
    "...\n",
    "\n",
    "# Calculate the mean price of 2nd quartile of prices (just above percentile 25th to 50th)\n",
    "...\n",
    "\n",
    "# Calculate the mean price of 3rd quartile of prices (just above percentile 50th to 75th)\n",
    "...\n",
    "\n",
    "# Calculate the mean price of 4th quartile of prices (just above percentile 75th to max)\n",
    "..."
   ]
  },
  {
   "cell_type": "code",
   "execution_count": null,
   "metadata": {
    "deletable": false,
    "editable": false
   },
   "outputs": [],
   "source": [
    "grader.check(\"q12\")"
   ]
  },
  {
   "cell_type": "markdown",
   "metadata": {},
   "source": [
    "Calculate the median price of 1st quartile of prices (min to 25th percentile).  \n",
    "Calculate the median price of 2nd quartile of prices (just above 25th percentile to 50th percentile).  \n",
    "Calculate the median price of 3rd quartile of prices (just above 50th percentile to 75th percentile).  \n",
    "Calculate the median price of 1st quartile of prices (just above 75th percentile to max)."
   ]
  },
  {
   "cell_type": "code",
   "execution_count": null,
   "metadata": {
    "hide_input": false,
    "tags": [
     "otter_answer_cell"
    ]
   },
   "outputs": [],
   "source": [
    "# Calculate the median price of 1st quartile of prices (min to percentile 25th)\n",
    "...\n",
    "\n",
    "# Calculate the median price of 2nd quartile of prices (just above percentile 25th to 50th)\n",
    "...\n",
    "\n",
    "# Calculate the median price of 3rd quartile of prices (just above percentile 50th to 75th)\n",
    "...\n",
    "\n",
    "# Calculate the median price of 1st quartile of prices (just above percentile 75th to max)\n",
    "..."
   ]
  },
  {
   "cell_type": "code",
   "execution_count": null,
   "metadata": {
    "deletable": false,
    "editable": false
   },
   "outputs": [],
   "source": [
    "grader.check(\"q13\")"
   ]
  },
  {
   "cell_type": "markdown",
   "metadata": {},
   "source": [
    "#### Multiple Variables\n",
    "\n",
    "Calculate the mean area (SQUARE_FEET) of properties with price in 1st quartile of prices.  \n",
    "Calculate the mean area (SQUARE_FEET) of properties with price in 2nd quartile of prices.  \n",
    "Calculate the mean area (SQUARE_FEET) of properties with price in 3rd quartile of prices.  \n",
    "Calculate the mean area (SQUARE_FEET) of properties with price in 4th quartile of prices."
   ]
  },
  {
   "cell_type": "code",
   "execution_count": null,
   "metadata": {
    "hide_input": false,
    "tags": [
     "otter_answer_cell"
    ]
   },
   "outputs": [],
   "source": [
    "# Calculate the mean area (SQUARE_FEET) of properties with price in 1st quartile of prices\n",
    "...\n",
    "\n",
    "# Calculate the mean area (SQUARE_FEET) of properties with price in 2nd quartile of prices\n",
    "...\n",
    "\n",
    "# Calculate the mean area (SQUARE_FEET) of properties with price in 3rd quartile of prices\n",
    "...\n",
    "\n",
    "# Calculate the mean area (SQUARE_FEET) of properties with price in 4th quartile of prices\n",
    "..."
   ]
  },
  {
   "cell_type": "code",
   "execution_count": null,
   "metadata": {
    "deletable": false,
    "editable": false
   },
   "outputs": [],
   "source": [
    "grader.check(\"q14\")"
   ]
  },
  {
   "cell_type": "code",
   "execution_count": null,
   "metadata": {
    "hide_input": false,
    "tags": [
     "otter_answer_cell"
    ]
   },
   "outputs": [],
   "source": [
    "sq_feet_1st = ...\n",
    "mean(sq_feet_1st.column('PRICE'))"
   ]
  },
  {
   "cell_type": "code",
   "execution_count": null,
   "metadata": {
    "deletable": false,
    "editable": false
   },
   "outputs": [],
   "source": [
    "grader.check(\"q15\")"
   ]
  },
  {
   "cell_type": "markdown",
   "metadata": {},
   "source": [
    "#### Joint Probability\n",
    "\n",
    "Calculate the probability that a property has an area smaller than 1000 sqft and has a price in the 2nd quartile of prices."
   ]
  },
  {
   "cell_type": "code",
   "execution_count": null,
   "metadata": {
    "hide_input": false,
    "tags": [
     "otter_answer_cell"
    ]
   },
   "outputs": [],
   "source": [
    "..."
   ]
  },
  {
   "cell_type": "code",
   "execution_count": null,
   "metadata": {
    "deletable": false,
    "editable": false
   },
   "outputs": [],
   "source": [
    "grader.check(\"q16\")"
   ]
  },
  {
   "cell_type": "markdown",
   "metadata": {},
   "source": [
    "Calculate the probability that a property has an area smaller than 2000 sqft and has a price in the 4th quartile of prices."
   ]
  },
  {
   "cell_type": "code",
   "execution_count": null,
   "metadata": {
    "hide_input": false,
    "tags": [
     "otter_answer_cell"
    ]
   },
   "outputs": [],
   "source": [
    "..."
   ]
  },
  {
   "cell_type": "code",
   "execution_count": null,
   "metadata": {
    "deletable": false,
    "editable": false
   },
   "outputs": [],
   "source": [
    "grader.check(\"q17\")"
   ]
  },
  {
   "cell_type": "markdown",
   "metadata": {},
   "source": [
    "Calculate the probability that a property has an area larger than 1500 sqft and has a price in the 1st quartile of prices."
   ]
  },
  {
   "cell_type": "code",
   "execution_count": null,
   "metadata": {
    "hide_input": false,
    "tags": [
     "otter_answer_cell"
    ]
   },
   "outputs": [],
   "source": [
    "..."
   ]
  },
  {
   "cell_type": "code",
   "execution_count": null,
   "metadata": {
    "deletable": false,
    "editable": false
   },
   "outputs": [],
   "source": [
    "grader.check(\"q18\")"
   ]
  },
  {
   "cell_type": "code",
   "execution_count": null,
   "metadata": {
    "hide_input": false,
    "tags": [
     "otter_answer_cell"
    ]
   },
   "outputs": [],
   "source": [
    "..."
   ]
  },
  {
   "cell_type": "code",
   "execution_count": null,
   "metadata": {
    "deletable": false,
    "editable": false
   },
   "outputs": [],
   "source": [
    "grader.check(\"q19\")"
   ]
  },
  {
   "cell_type": "code",
   "execution_count": null,
   "metadata": {
    "hide_input": false,
    "tags": [
     "otter_answer_cell"
    ]
   },
   "outputs": [],
   "source": [
    "..."
   ]
  },
  {
   "cell_type": "code",
   "execution_count": null,
   "metadata": {
    "deletable": false,
    "editable": false
   },
   "outputs": [],
   "source": [
    "grader.check(\"q20\")"
   ]
  },
  {
   "cell_type": "code",
   "execution_count": null,
   "metadata": {
    "hide_input": false,
    "tags": [
     "otter_answer_cell"
    ]
   },
   "outputs": [],
   "source": [
    "..."
   ]
  },
  {
   "cell_type": "code",
   "execution_count": null,
   "metadata": {
    "deletable": false,
    "editable": false
   },
   "outputs": [],
   "source": [
    "grader.check(\"q21\")"
   ]
  },
  {
   "cell_type": "code",
   "execution_count": null,
   "metadata": {
    "hide_input": false,
    "tags": [
     "otter_answer_cell"
    ]
   },
   "outputs": [],
   "source": [
    "..."
   ]
  },
  {
   "cell_type": "code",
   "execution_count": null,
   "metadata": {
    "deletable": false,
    "editable": false
   },
   "outputs": [],
   "source": [
    "grader.check(\"q22\")"
   ]
  },
  {
   "cell_type": "code",
   "execution_count": null,
   "metadata": {
    "hide_input": false,
    "tags": [
     "otter_answer_cell"
    ]
   },
   "outputs": [],
   "source": [
    "data_notq1 = ...\n",
    "\n",
    "..."
   ]
  },
  {
   "cell_type": "code",
   "execution_count": null,
   "metadata": {
    "deletable": false,
    "editable": false
   },
   "outputs": [],
   "source": [
    "grader.check(\"q23\")"
   ]
  },
  {
   "cell_type": "markdown",
   "metadata": {},
   "source": [
    "<p style=\"text-align:left; font-size:10px;\">\n",
    "Copyright (c) Huntsinger Associates, LLC\n",
    "<span style=\"float:right;\">\n",
    "Document revised January 28, 2025\n",
    "</span>\n",
    "</p>"
   ]
  }
 ],
 "metadata": {
  "kernelspec": {
   "display_name": ".venv",
   "language": "python",
   "name": "python3"
  },
  "language_info": {
   "codemirror_mode": {
    "name": "ipython",
    "version": 3
   },
   "file_extension": ".py",
   "mimetype": "text/x-python",
   "name": "python",
   "nbconvert_exporter": "python",
   "pygments_lexer": "ipython3",
   "version": "3.13.5"
  },
  "otter": {
   "OK_FORMAT": true,
   "tests": {
    "q1": {
     "name": "q1",
     "points": null,
     "suites": [
      {
       "cases": [
        {
         "code": ">>> observations == data.num_rows\nTrue",
         "hidden": false,
         "locked": false
        }
       ],
       "scored": true,
       "setup": "",
       "teardown": "",
       "type": "doctest"
      }
     ]
    },
    "q10": {
     "name": "q10",
     "points": null,
     "suites": [
      {
       "cases": [
        {
         "code": ">>> data.where('PRICE', are.below_or_equal_to(p25)).num_rows / data.num_rows >= 0.25\nTrue",
         "hidden": false,
         "locked": false
        },
        {
         "code": ">>> data.where('PRICE', are.below_or_equal_to(p50)).num_rows / data.num_rows >= 0.5\nTrue",
         "hidden": false,
         "locked": false
        },
        {
         "code": ">>> data.where('PRICE', are.below_or_equal_to(p75)).num_rows / data.num_rows >= 0.75\nTrue",
         "hidden": false,
         "locked": false
        }
       ],
       "scored": true,
       "setup": "",
       "teardown": "",
       "type": "doctest"
      }
     ]
    },
    "q11": {
     "name": "q11",
     "points": null,
     "suites": [
      {
       "cases": [
        {
         "code": ">>> data_q1.num_rows == 161\nTrue",
         "hidden": false,
         "locked": false
        },
        {
         "code": ">>> data_q1.num_rows / data.num_rows >= 0.25\nTrue",
         "hidden": false,
         "locked": false
        },
        {
         "code": ">>> data_q2.num_rows == 160\nTrue",
         "hidden": false,
         "locked": false
        },
        {
         "code": ">>> data_q2.num_rows / data.num_rows >= 0.25\nTrue",
         "hidden": false,
         "locked": false
        },
        {
         "code": ">>> data_q3.num_rows == 158\nTrue",
         "hidden": false,
         "locked": false
        },
        {
         "code": ">>> data_q3.num_rows / data.num_rows >= 0.24\nTrue",
         "hidden": false,
         "locked": false
        },
        {
         "code": ">>> data_q4.num_rows == 158\nTrue",
         "hidden": false,
         "locked": false
        },
        {
         "code": ">>> data_q4.num_rows / data.num_rows >= 0.24\nTrue",
         "hidden": false,
         "locked": false
        }
       ],
       "scored": true,
       "setup": "",
       "teardown": "",
       "type": "doctest"
      }
     ]
    },
    "q12": {
     "name": "q12",
     "points": null,
     "suites": [
      {
       "cases": [
        {
         "code": ">>> round(mean(data_q1.column('PRICE'))) >= 70500\nTrue",
         "hidden": false,
         "locked": false
        },
        {
         "code": ">>> round(mean(data_q2.column('PRICE'))) >= 1090000\nTrue",
         "hidden": false,
         "locked": false
        },
        {
         "code": ">>> round(mean(data_q3.column('PRICE'))) >= 1600000\nTrue",
         "hidden": false,
         "locked": false
        },
        {
         "code": ">>> round(mean(data_q4.column('PRICE'))) >= 4500000\nTrue",
         "hidden": false,
         "locked": false
        }
       ],
       "scored": true,
       "setup": "",
       "teardown": "",
       "type": "doctest"
      }
     ]
    },
    "q13": {
     "name": "q13",
     "points": null,
     "suites": [
      {
       "cases": [
        {
         "code": ">>> median(data_q1.column('PRICE')) == 749000\nTrue",
         "hidden": false,
         "locked": false
        },
        {
         "code": ">>> median(data_q2.column('PRICE')) == 1090000\nTrue",
         "hidden": false,
         "locked": false
        },
        {
         "code": ">>> median(data_q3.column('PRICE')) == 1599500\nTrue",
         "hidden": false,
         "locked": false
        },
        {
         "code": ">>> median(data_q3.column('PRICE')) == 1599500\nTrue",
         "hidden": false,
         "locked": false
        }
       ],
       "scored": true,
       "setup": "",
       "teardown": "",
       "type": "doctest"
      }
     ]
    },
    "q14": {
     "name": "q14",
     "points": null,
     "suites": [
      {
       "cases": [
        {
         "code": ">>> round(mean(data_q1.column('SQUARE_FEET'))) >= 917\nTrue",
         "hidden": false,
         "locked": false
        },
        {
         "code": ">>> round(mean(data_q2.column('SQUARE_FEET'))) >= 1376\nTrue",
         "hidden": false,
         "locked": false
        },
        {
         "code": ">>> round(mean(data_q3.column('SQUARE_FEET'))) >= 1642\nTrue",
         "hidden": false,
         "locked": false
        },
        {
         "code": ">>> round(mean(data_q4.column('SQUARE_FEET'))) >= 3096\nTrue",
         "hidden": false,
         "locked": false
        }
       ],
       "scored": true,
       "setup": "",
       "teardown": "",
       "type": "doctest"
      }
     ]
    },
    "q15": {
     "name": "q15",
     "points": null,
     "suites": [
      {
       "cases": [
        {
         "code": ">>> sq_feet_1st.num_rows == 160\nTrue",
         "hidden": false,
         "locked": false
        },
        {
         "code": ">>> round(mean(sq_feet_1st.column('PRICE'))) >= 820000\nTrue",
         "hidden": false,
         "locked": false
        }
       ],
       "scored": true,
       "setup": "",
       "teardown": "",
       "type": "doctest"
      }
     ]
    },
    "q16": {
     "name": "q16",
     "points": null,
     "suites": [
      {
       "cases": [
        {
         "code": ">>> data_q2.where('SQUARE_FEET', are.below(1000)).num_rows / data.num_rows <= 0.1\nTrue",
         "hidden": false,
         "locked": false
        }
       ],
       "scored": true,
       "setup": "",
       "teardown": "",
       "type": "doctest"
      }
     ]
    },
    "q17": {
     "name": "q17",
     "points": null,
     "suites": [
      {
       "cases": [
        {
         "code": ">>> data_q4.where('SQUARE_FEET', are.below(2000)).num_rows / data.num_rows <= 0.1\nTrue",
         "hidden": false,
         "locked": false
        }
       ],
       "scored": true,
       "setup": "",
       "teardown": "",
       "type": "doctest"
      }
     ]
    },
    "q18": {
     "name": "q18",
     "points": null,
     "suites": [
      {
       "cases": [
        {
         "code": ">>> data_q1.where('SQUARE_FEET', are.above(1500)).num_rows / data.num_rows <= 0.1\nTrue",
         "hidden": false,
         "locked": false
        }
       ],
       "scored": true,
       "setup": "",
       "teardown": "",
       "type": "doctest"
      }
     ]
    },
    "q19": {
     "name": "q19",
     "points": null,
     "suites": [
      {
       "cases": [
        {
         "code": ">>> data_q2.where('SQUARE_FEET', are.below(1000)).num_rows / data_q2.num_rows <= 0.5\nTrue",
         "hidden": false,
         "locked": false
        }
       ],
       "scored": true,
       "setup": "",
       "teardown": "",
       "type": "doctest"
      }
     ]
    },
    "q2": {
     "name": "q2",
     "points": null,
     "suites": [
      {
       "cases": [
        {
         "code": ">>> assert isinstance(mean_price, (int, float))\n>>> expected = mean(data.column('PRICE'))\n>>> assert isclose(mean_price, expected)\n",
         "hidden": false,
         "locked": false
        }
       ],
       "scored": true,
       "setup": "",
       "teardown": "",
       "type": "doctest"
      }
     ]
    },
    "q20": {
     "name": "q20",
     "points": null,
     "suites": [
      {
       "cases": [
        {
         "code": ">>> data_q4.where('SQUARE_FEET', are.below(2000)).num_rows / data_q4.num_rows <= 0.5\nTrue",
         "hidden": false,
         "locked": false
        }
       ],
       "scored": true,
       "setup": "",
       "teardown": "",
       "type": "doctest"
      }
     ]
    },
    "q21": {
     "name": "q21",
     "points": null,
     "suites": [
      {
       "cases": [
        {
         "code": ">>> data_q1.where('SQUARE_FEET', are.above(1500)).num_rows / data_q1.num_rows <= 0.1\nTrue",
         "hidden": false,
         "locked": false
        }
       ],
       "scored": true,
       "setup": "",
       "teardown": "",
       "type": "doctest"
      }
     ]
    },
    "q22": {
     "name": "q22",
     "points": null,
     "suites": [
      {
       "cases": [
        {
         "code": ">>> (data_q1.num_rows + data.where('SQUARE_FEET', are.below(1000)).num_rows - data_q1.where('SQUARE_FEET', are.below(1000)).num_rows) / data.num_rows <= 0.5\nTrue",
         "hidden": false,
         "locked": false
        }
       ],
       "scored": true,
       "setup": "",
       "teardown": "",
       "type": "doctest"
      }
     ]
    },
    "q23": {
     "name": "q23",
     "points": null,
     "suites": [
      {
       "cases": [
        {
         "code": ">>> data_notq1.num_rows == 476\nTrue",
         "hidden": false,
         "locked": false
        },
        {
         "code": ">>> (data_notq1.num_rows + data.where('SQUARE_FEET', are.below(1000)).num_rows - data_notq1.where('SQUARE_FEET', are.below(1000)).num_rows) / data.num_rows <= 1\nTrue",
         "hidden": false,
         "locked": false
        }
       ],
       "scored": true,
       "setup": "",
       "teardown": "",
       "type": "doctest"
      }
     ]
    },
    "q3": {
     "name": "q3",
     "points": null,
     "suites": [
      {
       "cases": [
        {
         "code": ">>> def test_median_price():\n...     assert isinstance(median_price, (int, float))\n...     expected = median(data.column('PRICE'))\n...     assert np.isclose(median_price, expected)\n",
         "hidden": false,
         "locked": false
        }
       ],
       "scored": true,
       "setup": "",
       "teardown": "",
       "type": "doctest"
      }
     ]
    },
    "q4": {
     "name": "q4",
     "points": null,
     "suites": [
      {
       "cases": [
        {
         "code": ">>> def test_min_price():\n...     assert isinstance(min_price, (int, float))\n...     expected = min(data.column('PRICE'))\n...     assert isclose(min_price, expected)\n",
         "hidden": false,
         "locked": false
        }
       ],
       "scored": true,
       "setup": "",
       "teardown": "",
       "type": "doctest"
      }
     ]
    },
    "q5": {
     "name": "q5",
     "points": null,
     "suites": [
      {
       "cases": [
        {
         "code": ">>> def test_max_price():\n...     assert isinstance(max_price, (int, float))\n...     expected = max(data.column('PRICE'))\n...     assert isclose(max_price, expected)\n",
         "hidden": false,
         "locked": false
        }
       ],
       "scored": true,
       "setup": "",
       "teardown": "",
       "type": "doctest"
      }
     ]
    },
    "q6": {
     "name": "q6",
     "points": null,
     "suites": [
      {
       "cases": [
        {
         "code": ">>> def test_price_eq():\n...     assert isinstance(price_equal, (int, float))\n...     expected = data.where('PRICE', mean_price).num_rows / data.num_rows\n...     assert np.isclose(price_price, expected)\n",
         "hidden": false,
         "locked": false
        },
        {
         "code": ">>> def test_price_round_down():\n...     assert isinstance(price_eq_round_down, (int, float))\n...     expected = data.where('PRICE', int(mean_price)).num_rows / data.num_rows\n...     assert np.isclose(price_eq_round_down, expected)\n",
         "hidden": false,
         "locked": false
        },
        {
         "code": ">>> def test_price_round_up():\n...     assert isinstance(price_eq_round_up, (int, float))\n...     expected = data.where('PRICE', int(mean_price) + 1).num_rows / data.num_rows\n...     assert np.isclose(price_eq_round_up, expected)\n",
         "hidden": false,
         "locked": false
        }
       ],
       "scored": true,
       "setup": "",
       "teardown": "",
       "type": "doctest"
      }
     ]
    },
    "q7": {
     "name": "q7",
     "points": null,
     "suites": [
      {
       "cases": [
        {
         "code": ">>> import math\n>>> math.isclose(probability, 0.75, abs_tol=0.01)\nTrue",
         "hidden": false,
         "locked": false
        }
       ],
       "scored": true,
       "setup": "",
       "teardown": "",
       "type": "doctest"
      }
     ]
    },
    "q8": {
     "name": "q8",
     "points": null,
     "suites": [
      {
       "cases": [
        {
         "code": ">>> round(data.where('PRICE', are.below_or_equal_to(median_price)).num_rows / data.num_rows) == 0.5\nFalse",
         "hidden": false,
         "locked": false
        }
       ],
       "scored": true,
       "setup": "",
       "teardown": "",
       "type": "doctest"
      }
     ]
    },
    "q9": {
     "name": "q9",
     "points": null,
     "suites": [
      {
       "cases": [
        {
         "code": ">>> p25 <= 900000\nTrue",
         "hidden": false,
         "locked": false
        },
        {
         "code": ">>> p50 <= 1300000\nTrue",
         "hidden": false,
         "locked": false
        },
        {
         "code": ">>> p75 <= 2000000\nTrue",
         "hidden": false,
         "locked": false
        }
       ],
       "scored": true,
       "setup": "",
       "teardown": "",
       "type": "doctest"
      }
     ]
    }
   }
  },
  "toc": {
   "base_numbering": 1,
   "nav_menu": {},
   "number_sections": true,
   "sideBar": true,
   "skip_h1_title": true,
   "title_cell": "Table of Contents",
   "title_sidebar": "Contents",
   "toc_cell": false,
   "toc_position": {
    "height": "calc(100% - 180px)",
    "left": "10px",
    "top": "150px",
    "width": "256.25px"
   },
   "toc_section_display": true,
   "toc_window_display": false
  }
 },
 "nbformat": 4,
 "nbformat_minor": 2
}
