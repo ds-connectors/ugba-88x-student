{
 "cells": [
  {
   "cell_type": "code",
   "execution_count": null,
   "metadata": {
    "deletable": false,
    "editable": false
   },
   "outputs": [],
   "source": [
    "# Initialize Otter\n",
    "import otter\n",
    "grader = otter.Notebook(\"lab_k.ipynb\")"
   ]
  },
  {
   "cell_type": "markdown",
   "metadata": {},
   "source": [
    "# Lab K in-class: Linear Regression"
   ]
  },
  {
   "cell_type": "markdown",
   "metadata": {},
   "source": [
    "## Setup"
   ]
  },
  {
   "cell_type": "code",
   "execution_count": null,
   "metadata": {},
   "outputs": [],
   "source": [
    "import warnings\n",
    "from datascience import Table, make_array\n",
    "from numpy import mean, median, std, isnan, unique\n",
    "from statsmodels.formula.api import ols\n",
    "\n",
    "# Force display of all values \n",
    "from IPython.core.interactiveshell import InteractiveShell\n",
    "InteractiveShell.ast_node_interactivity = \"all\"\n",
    "\n",
    "# Handle some obnoxious warning messages\n",
    "warnings.filterwarnings(\"ignore\")"
   ]
  },
  {
   "cell_type": "markdown",
   "metadata": {},
   "source": [
    "## More Investing in Residential Real Estate"
   ]
  },
  {
   "cell_type": "markdown",
   "metadata": {},
   "source": [
    "### Business Decision\n",
    "\n",
    "A real estate broker at a San Francisco firm wants to evaluate prices of new properties becoming available.  She needs a model to predict prices based on historical property sales data."
   ]
  },
  {
   "cell_type": "markdown",
   "metadata": {
    "deletable": false,
    "editable": false
   },
   "source": [
    "### Data"
   ]
  },
  {
   "cell_type": "markdown",
   "metadata": {
    "deletable": false,
    "editable": false
   },
   "source": [
    "Retrieve data from file 'redfin.csv'.  Show the first few properties."
   ]
  },
  {
   "cell_type": "code",
   "execution_count": null,
   "metadata": {
    "tags": [
     "otter_answer_cell"
    ]
   },
   "outputs": [],
   "source": [
    "redfin = ...\n",
    "redfin"
   ]
  },
  {
   "cell_type": "code",
   "execution_count": null,
   "metadata": {
    "deletable": false,
    "editable": false
   },
   "outputs": [],
   "source": [
    "grader.check(\"q1\")"
   ]
  },
  {
   "cell_type": "markdown",
   "metadata": {
    "deletable": false,
    "editable": false
   },
   "source": [
    "### Analysis: Descriptive Statistics & Data Visualization"
   ]
  },
  {
   "cell_type": "markdown",
   "metadata": {
    "deletable": false,
    "editable": false
   },
   "source": [
    "Calculate and show the median, mean, and standard deviation of price."
   ]
  },
  {
   "cell_type": "code",
   "execution_count": null,
   "metadata": {
    "tags": [
     "otter_answer_cell"
    ]
   },
   "outputs": [],
   "source": [
    "median_price = ...\n",
    "mean_price = ...\n",
    "std_price = ...\n",
    "\n",
    "median_price\n",
    "mean_price\n",
    "std_price"
   ]
  },
  {
   "cell_type": "code",
   "execution_count": null,
   "metadata": {
    "deletable": false,
    "editable": false
   },
   "outputs": [],
   "source": [
    "grader.check(\"q2_1\")"
   ]
  },
  {
   "cell_type": "markdown",
   "metadata": {
    "deletable": false,
    "editable": false
   },
   "source": [
    "Visualize the correlation between price and square feet as a scatterplot."
   ]
  },
  {
   "cell_type": "code",
   "execution_count": null,
   "metadata": {
    "tags": [
     "otter_answer_cell"
    ]
   },
   "outputs": [],
   "source": [
    "x_col1 = ...\n",
    "y_col1 = ...\n",
    "\n",
    "redfin.select(x_col1,y_col1).scatter(x_col1)"
   ]
  },
  {
   "cell_type": "code",
   "execution_count": null,
   "metadata": {
    "deletable": false,
    "editable": false
   },
   "outputs": [],
   "source": [
    "grader.check(\"q2_2\")"
   ]
  },
  {
   "cell_type": "markdown",
   "metadata": {
    "deletable": false,
    "editable": false
   },
   "source": [
    "### Analysis: Simple Linear Regression"
   ]
  },
  {
   "cell_type": "markdown",
   "metadata": {
    "deletable": false,
    "editable": false
   },
   "source": [
    "#### Model"
   ]
  },
  {
   "cell_type": "markdown",
   "metadata": {
    "deletable": false,
    "editable": false
   },
   "source": [
    "Build a simple linear regression model to predict price based on square feet.\n",
    "Show the model goodness of fit (R^2).\n",
    "Show the model parameter values (intercept and coefficient of square feet)."
   ]
  },
  {
   "cell_type": "markdown",
   "metadata": {
    "deletable": false,
    "editable": false
   },
   "source": [
    "$$\n",
    "\\textit{price} \\;=\\; -702607.21 \\;+\\; 1526.17 \\times \\textit{square feet}\n",
    "$$"
   ]
  },
  {
   "cell_type": "code",
   "execution_count": null,
   "metadata": {
    "tags": [
     "otter_answer_cell"
    ]
   },
   "outputs": [],
   "source": [
    "model_1 = ...\n",
    "model_1.rsquared\n",
    "model_1.params\n",
    "i_1 = ...\n",
    "c_1 = ...\n",
    "i_1\n",
    "c_1"
   ]
  },
  {
   "cell_type": "code",
   "execution_count": null,
   "metadata": {
    "deletable": false,
    "editable": false
   },
   "outputs": [],
   "source": [
    "grader.check(\"q3_1\")"
   ]
  },
  {
   "cell_type": "markdown",
   "metadata": {
    "deletable": false,
    "editable": false
   },
   "source": [
    "Visualize the model goodness of fit as a scatterplot with best fit line."
   ]
  },
  {
   "cell_type": "code",
   "execution_count": null,
   "metadata": {
    "tags": [
     "otter_answer_cell"
    ]
   },
   "outputs": [],
   "source": [
    "x_col2 = ...\n",
    "y_col2 = ...\n",
    "\n",
    "redfin.select(x_col2, y_col2).scatter(x_col2, fit_line=True)"
   ]
  },
  {
   "cell_type": "code",
   "execution_count": null,
   "metadata": {
    "deletable": false,
    "editable": false
   },
   "outputs": [],
   "source": [
    "grader.check(\"q3_2\")"
   ]
  },
  {
   "cell_type": "markdown",
   "metadata": {
    "deletable": false,
    "editable": false
   },
   "source": [
    "#### Predictions"
   ]
  },
  {
   "cell_type": "markdown",
   "metadata": {
    "deletable": false,
    "editable": false
   },
   "source": [
    "Use the model parameters to predict the price of a 14,000 square feet property."
   ]
  },
  {
   "cell_type": "code",
   "execution_count": null,
   "metadata": {
    "tags": [
     "otter_answer_cell"
    ]
   },
   "outputs": [],
   "source": [
    "sqft_14000 = 14000\n",
    "price_predicted_14000 = ...\n",
    "price_predicted_14000"
   ]
  },
  {
   "cell_type": "code",
   "execution_count": null,
   "metadata": {
    "deletable": false,
    "editable": false
   },
   "outputs": [],
   "source": [
    "grader.check(\"q4_1\")"
   ]
  },
  {
   "cell_type": "markdown",
   "metadata": {
    "deletable": false,
    "editable": false
   },
   "source": [
    "Use the model parameters to predict the price of a 3,000 square feet property."
   ]
  },
  {
   "cell_type": "code",
   "execution_count": null,
   "metadata": {
    "tags": [
     "otter_answer_cell"
    ]
   },
   "outputs": [],
   "source": [
    "sqft_3000 = 3000\n",
    "price_predicted_3000 = ...\n",
    "price_predicted_3000"
   ]
  },
  {
   "cell_type": "code",
   "execution_count": null,
   "metadata": {
    "deletable": false,
    "editable": false
   },
   "outputs": [],
   "source": [
    "grader.check(\"q4_2\")"
   ]
  },
  {
   "cell_type": "markdown",
   "metadata": {
    "deletable": false,
    "editable": false
   },
   "source": [
    "Use the model parameters to predict the price of a 600 square feet property."
   ]
  },
  {
   "cell_type": "code",
   "execution_count": null,
   "metadata": {
    "tags": [
     "otter_answer_cell"
    ]
   },
   "outputs": [],
   "source": [
    "sqft_600 = 600\n",
    "price_predicted_600 = ...\n",
    "price_predicted_600"
   ]
  },
  {
   "cell_type": "code",
   "execution_count": null,
   "metadata": {
    "deletable": false,
    "editable": false
   },
   "outputs": [],
   "source": [
    "grader.check(\"q4_3\")"
   ]
  },
  {
   "cell_type": "markdown",
   "metadata": {
    "deletable": false,
    "editable": false
   },
   "source": [
    "Use the model parameters to predict the price of a 400 square feet property."
   ]
  },
  {
   "cell_type": "code",
   "execution_count": null,
   "metadata": {
    "tags": [
     "otter_answer_cell"
    ]
   },
   "outputs": [],
   "source": [
    "sqft_400 = ...\n",
    "price_predicted_400 = ...\n",
    "price_predicted_400"
   ]
  },
  {
   "cell_type": "code",
   "execution_count": null,
   "metadata": {
    "deletable": false,
    "editable": false
   },
   "outputs": [],
   "source": [
    "grader.check(\"q4_4\")"
   ]
  },
  {
   "cell_type": "markdown",
   "metadata": {
    "deletable": false,
    "editable": false
   },
   "source": [
    "Use the predict method to predict the prices of 14,000, 3,000, 600, and 400 square feet properties."
   ]
  },
  {
   "cell_type": "code",
   "execution_count": null,
   "metadata": {
    "tags": [
     "otter_answer_cell"
    ]
   },
   "outputs": [],
   "source": [
    "predictions_1 = ...\n",
    "predictions_1"
   ]
  },
  {
   "cell_type": "code",
   "execution_count": null,
   "metadata": {
    "deletable": false,
    "editable": false
   },
   "outputs": [],
   "source": [
    "grader.check(\"q4_5\")"
   ]
  },
  {
   "cell_type": "markdown",
   "metadata": {
    "deletable": false,
    "editable": false
   },
   "source": [
    "Use the predict method to predict the price of 3,000 square feet property."
   ]
  },
  {
   "cell_type": "code",
   "execution_count": null,
   "metadata": {
    "tags": [
     "otter_answer_cell"
    ]
   },
   "outputs": [],
   "source": [
    "predictions_2 = ...\n",
    "predictions_2"
   ]
  },
  {
   "cell_type": "code",
   "execution_count": null,
   "metadata": {
    "deletable": false,
    "editable": false
   },
   "outputs": [],
   "source": [
    "grader.check(\"q4_6\")"
   ]
  },
  {
   "cell_type": "markdown",
   "metadata": {
    "deletable": false,
    "editable": false
   },
   "source": [
    "#### Back-Predictions"
   ]
  },
  {
   "cell_type": "markdown",
   "metadata": {
    "deletable": false,
    "editable": false
   },
   "source": [
    "Back-predict prices of all the properties."
   ]
  },
  {
   "cell_type": "code",
   "execution_count": null,
   "metadata": {
    "tags": [
     "otter_answer_cell"
    ]
   },
   "outputs": [],
   "source": [
    "all_predictions_1 = ...\n",
    "\n",
    "redfin_predictions = redfin.with_column('price_predicted', all_predictions_1)\n",
    "redfin_predictions"
   ]
  },
  {
   "cell_type": "code",
   "execution_count": null,
   "metadata": {
    "deletable": false,
    "editable": false
   },
   "outputs": [],
   "source": [
    "grader.check(\"q5_1\")"
   ]
  },
  {
   "cell_type": "markdown",
   "metadata": {
    "deletable": false,
    "editable": false
   },
   "source": [
    "Visualize the prices and predicted prices vs. square feet as a scatterplot."
   ]
  },
  {
   "cell_type": "code",
   "execution_count": null,
   "metadata": {
    "tags": [
     "otter_answer_cell"
    ]
   },
   "outputs": [],
   "source": [
    "cols_for_scatter_sqft_price = ...\n",
    "\n",
    "redfin_predictions.select(cols_for_scatter_sqft_price).scatter('SQUARE_FEET')"
   ]
  },
  {
   "cell_type": "code",
   "execution_count": null,
   "metadata": {
    "deletable": false,
    "editable": false
   },
   "outputs": [],
   "source": [
    "grader.check(\"q5_2\")"
   ]
  },
  {
   "cell_type": "markdown",
   "metadata": {
    "deletable": false,
    "editable": false
   },
   "source": [
    "### Analysis: Multiple Linear Regression"
   ]
  },
  {
   "cell_type": "markdown",
   "metadata": {
    "deletable": false,
    "editable": false
   },
   "source": [
    "#### Data (for a new model)"
   ]
  },
  {
   "cell_type": "markdown",
   "metadata": {
    "deletable": false,
    "editable": false
   },
   "source": [
    "Filter redfin_predictions to include only properties that are not missing values for BEDS.  \n",
    "You can get the those properties like this: `data = data.where(~isnan(data.column('BEDS')))`\n",
    "\n",
    "Filter redfin_predictions to include only properties that are not missing values for BATHS.  \n",
    "You can get the those properties like this: `data = data.where(~isnan(data.column('BATHS')))`\n",
    "\n",
    "Drop the price_predicted variable.\n",
    "\n",
    "Show the first few properties."
   ]
  },
  {
   "cell_type": "code",
   "execution_count": null,
   "metadata": {
    "tags": [
     "otter_answer_cell"
    ]
   },
   "outputs": [],
   "source": [
    "beds_and_baths = ...\n",
    "beds_and_baths = ...\n",
    "beds_and_baths = ...\n",
    "beds_and_baths"
   ]
  },
  {
   "cell_type": "code",
   "execution_count": null,
   "metadata": {
    "deletable": false,
    "editable": false
   },
   "outputs": [],
   "source": [
    "grader.check(\"q6_1\")"
   ]
  },
  {
   "cell_type": "markdown",
   "metadata": {
    "deletable": false,
    "editable": false
   },
   "source": [
    "#### Model"
   ]
  },
  {
   "cell_type": "markdown",
   "metadata": {
    "deletable": false,
    "editable": false
   },
   "source": [
    "Build a multiple linear regression model to predict price based on square feet, number of beds, and number of baths.  \n",
    "You can specify the outcome variable and predictor variables like this: `'PRICE ~ SQUARE_FEET + BEDS + BATHS'`\n",
    "\n",
    "Show the model goodness of fit (R^2).\n",
    "\n",
    "Show the model parameter values (intercept and coefficients)."
   ]
  },
  {
   "cell_type": "markdown",
   "metadata": {
    "deletable": false,
    "editable": false
   },
   "source": [
    "$$\n",
    "\\textit{price} \\;=\\; -64046.77 \\;+\\; 1990.33 \\times \\textit{square feet} \\;+\\; -586503.50 \\times \\textit{beds} \\;+\\; 11648.71 \\times \\textit{baths}\n",
    "$$"
   ]
  },
  {
   "cell_type": "code",
   "execution_count": null,
   "metadata": {
    "tags": [
     "otter_answer_cell"
    ]
   },
   "outputs": [],
   "source": [
    "model_2 = ...\n",
    "model_2.rsquared\n",
    "model_2.params"
   ]
  },
  {
   "cell_type": "code",
   "execution_count": null,
   "metadata": {
    "deletable": false,
    "editable": false
   },
   "outputs": [],
   "source": [
    "grader.check(\"q6_2\")"
   ]
  },
  {
   "cell_type": "markdown",
   "metadata": {
    "deletable": false,
    "editable": false
   },
   "source": [
    "#### Predictions"
   ]
  },
  {
   "cell_type": "markdown",
   "metadata": {
    "deletable": false,
    "editable": false
   },
   "source": [
    "a. Use the predict method to predict the price of 3,000 square feet, 2 bed, 2 bath property.  \n",
    "b. Use the predict method to predict the price of 3,000 square feet, 3 bed, 2 bath property.  \n",
    "c. Use the predict method to predict the price of 4,000 square feet, 2 bed, 2 bath property.  \n",
    "d. Use the predict method to predict the price of 4,000 square feet, 3 bed, 2 bath property.\n",
    "\n",
    "Refer to columns in all caps: 'SQUARE_FEET', 'BEDS', and 'BATHS'."
   ]
  },
  {
   "cell_type": "code",
   "execution_count": null,
   "metadata": {
    "tags": [
     "otter_answer_cell"
    ]
   },
   "outputs": [],
   "source": [
    "preds_3000_2_2 = ...\n",
    "preds_3000_3_2 = ...\n",
    "preds_4000_2_2 = ...\n",
    "preds_4000_3_2 = ...\n",
    "\n",
    "preds_3000_2_2, preds_3000_3_2, preds_4000_2_2, preds_4000_3_2"
   ]
  },
  {
   "cell_type": "code",
   "execution_count": null,
   "metadata": {
    "deletable": false,
    "editable": false
   },
   "outputs": [],
   "source": [
    "grader.check(\"q6_3\")"
   ]
  },
  {
   "cell_type": "markdown",
   "metadata": {
    "deletable": false,
    "editable": false
   },
   "source": [
    "#### Back-Predictions\n",
    "Back-predict prices of all the properties."
   ]
  },
  {
   "cell_type": "code",
   "execution_count": null,
   "metadata": {
    "tags": [
     "otter_answer_cell"
    ]
   },
   "outputs": [],
   "source": [
    "all_predictions_2 = ...\n",
    "\n",
    "beds_and_baths_predictions = beds_and_baths.with_column('price_predicted', all_predictions_2)\n",
    "beds_and_baths_predictions"
   ]
  },
  {
   "cell_type": "code",
   "execution_count": null,
   "metadata": {
    "deletable": false,
    "editable": false
   },
   "outputs": [],
   "source": [
    "grader.check(\"q6_4\")"
   ]
  },
  {
   "cell_type": "markdown",
   "metadata": {
    "deletable": false,
    "editable": false
   },
   "source": [
    "Visualize the prices and predicted prices vs. square feet as a scatterplot."
   ]
  },
  {
   "cell_type": "code",
   "execution_count": null,
   "metadata": {
    "tags": [
     "otter_answer_cell"
    ]
   },
   "outputs": [],
   "source": [
    "x_col3 = ...\n",
    "y1_col3 = ...\n",
    "y2_col3 = ...\n",
    "\n",
    "beds_and_baths_predictions.select(x_col3, y1_col3, y2_col3).scatter(x_col3)"
   ]
  },
  {
   "cell_type": "code",
   "execution_count": null,
   "metadata": {
    "deletable": false,
    "editable": false
   },
   "outputs": [],
   "source": [
    "grader.check(\"q6_5\")"
   ]
  },
  {
   "cell_type": "markdown",
   "metadata": {
    "deletable": false,
    "editable": false
   },
   "source": [
    "Visualize the prices and predicted prices vs. number of beds as a scatterplot."
   ]
  },
  {
   "cell_type": "code",
   "execution_count": null,
   "metadata": {
    "tags": [
     "otter_answer_cell"
    ]
   },
   "outputs": [],
   "source": [
    "x_col4 = ...\n",
    "y1_col4 = ...\n",
    "y2_col4 = ...\n",
    "\n",
    "beds_and_baths_predictions.select(x_col4, y1_col4, y2_col4).scatter(x_col4)"
   ]
  },
  {
   "cell_type": "code",
   "execution_count": null,
   "metadata": {
    "deletable": false,
    "editable": false
   },
   "outputs": [],
   "source": [
    "grader.check(\"q6_6\")"
   ]
  },
  {
   "cell_type": "markdown",
   "metadata": {
    "deletable": false,
    "editable": false
   },
   "source": [
    "Visualize the prices and predicted prices vs. number of baths as a scatterplot."
   ]
  },
  {
   "cell_type": "code",
   "execution_count": null,
   "metadata": {
    "tags": [
     "otter_answer_cell"
    ]
   },
   "outputs": [],
   "source": [
    "x_col5 = ...\n",
    "y1_col5 = ...\n",
    "y2_col5 = ...\n",
    "\n",
    "beds_and_baths_predictions.select(x_col5, y1_col5, y2_col5).scatter(x_col5)"
   ]
  },
  {
   "cell_type": "code",
   "execution_count": null,
   "metadata": {
    "deletable": false,
    "editable": false
   },
   "outputs": [],
   "source": [
    "grader.check(\"q6_7\")"
   ]
  },
  {
   "cell_type": "markdown",
   "metadata": {
    "deletable": false,
    "editable": false
   },
   "source": [
    "### Analysis: Multiple Linear Regression with Dummy Variables"
   ]
  },
  {
   "cell_type": "markdown",
   "metadata": {
    "deletable": false,
    "editable": false
   },
   "source": [
    "#### Data (for a new model)"
   ]
  },
  {
   "cell_type": "markdown",
   "metadata": {
    "deletable": false,
    "editable": false
   },
   "source": [
    "Drop the price_predicted variable from beds_and_baths_predictions."
   ]
  },
  {
   "cell_type": "code",
   "execution_count": null,
   "metadata": {
    "tags": [
     "otter_answer_cell"
    ]
   },
   "outputs": [],
   "source": [
    "beds_and_baths_2 = ...\n",
    "beds_and_baths_2"
   ]
  },
  {
   "cell_type": "code",
   "execution_count": null,
   "metadata": {
    "deletable": false,
    "editable": false
   },
   "outputs": [],
   "source": [
    "grader.check(\"q7_1\")"
   ]
  },
  {
   "cell_type": "markdown",
   "metadata": {
    "deletable": false,
    "editable": false
   },
   "source": [
    "#### Dummy Variables"
   ]
  },
  {
   "cell_type": "markdown",
   "metadata": {
    "deletable": false,
    "editable": false
   },
   "source": [
    "Show the domain of the PROPERTY_TYPE variable like this: `unique(data.column('PROPERTY_TYPE'))`"
   ]
  },
  {
   "cell_type": "code",
   "execution_count": null,
   "metadata": {
    "tags": [
     "otter_answer_cell"
    ]
   },
   "outputs": [],
   "source": [
    "domain = unique(beds_and_baths_2.column('PROPERTY_TYPE'))\n",
    "domain"
   ]
  },
  {
   "cell_type": "code",
   "execution_count": null,
   "metadata": {
    "deletable": false,
    "editable": false
   },
   "outputs": [],
   "source": [
    "grader.check(\"q7_2\")"
   ]
  },
  {
   "cell_type": "markdown",
   "metadata": {
    "deletable": false,
    "editable": false
   },
   "source": [
    "#### Model with Automatic Conversion to Dummy Variables"
   ]
  },
  {
   "cell_type": "markdown",
   "metadata": {
    "deletable": false,
    "editable": false
   },
   "source": [
    "Build a multiple linear regression model to predict price based on square feet, number of beds, and number of baths,\n",
    "whether or not the property is a single family residence, and whether or not the property is a townhouse.  Use PROPERTY_TYPE variable.\n",
    "\n",
    "Show the model goodness of fit (R^2).\n",
    "\n",
    "Show the model parameter values (intercept and coefficients)."
   ]
  },
  {
   "cell_type": "markdown",
   "metadata": {
    "deletable": false,
    "editable": false
   },
   "source": [
    "$$\n",
    "\\textit{price} \\;=\\; -139693.79 \\;+\\; 1963.30 \\times \\textit{square feet} \\;+\\; -401079.11 \\times \\textit{beds} \\;+\\; -16637.97 \\times \\textit{baths} \\;+\\; -717094.49 \\times \\textit{sfr} \\;+\\; -466476.61 \\times \\textit{th}\n",
    "$$"
   ]
  },
  {
   "cell_type": "code",
   "execution_count": null,
   "metadata": {
    "tags": [
     "otter_answer_cell"
    ]
   },
   "outputs": [],
   "source": [
    "model_3 = ...\n",
    "model_3.rsquared\n",
    "model_3.params"
   ]
  },
  {
   "cell_type": "code",
   "execution_count": null,
   "metadata": {
    "deletable": false,
    "editable": false
   },
   "outputs": [],
   "source": [
    "grader.check(\"q7_3\")"
   ]
  },
  {
   "cell_type": "markdown",
   "metadata": {
    "deletable": false,
    "editable": false
   },
   "source": [
    "#### Predictions with Automatic Conversion to Dummy Variables"
   ]
  },
  {
   "cell_type": "markdown",
   "metadata": {
    "deletable": false,
    "editable": false
   },
   "source": [
    "a. Use the predict method to predict the price of 3,000 square feet, 3 bed, 2 bath, Condo/Co-op property.  \n",
    "b. Use the predict method to predict the price of 3,000 square feet, 3 bed, 2 bath, single family residence property.  \n",
    "c. Use the predict method to predict the price of 3,000 square feet, 3 bed, 2 bath, townhouse property.\n",
    "\n",
    "Refer to features in all caps: 'SQUARE_FEET', 'BEDS', and 'BATHS', but properties as: 'Condo/Co-op', 'Single Family Residential', and 'Townhouse'."
   ]
  },
  {
   "cell_type": "code",
   "execution_count": null,
   "metadata": {
    "tags": [
     "otter_answer_cell"
    ]
   },
   "outputs": [],
   "source": [
    "preds_condo_coop = ...\n",
    "preds_single = ...\n",
    "preds_townhouse = ...\n",
    "\n",
    "preds_condo_coop, preds_single, preds_townhouse"
   ]
  },
  {
   "cell_type": "code",
   "execution_count": null,
   "metadata": {
    "deletable": false,
    "editable": false
   },
   "outputs": [],
   "source": [
    "grader.check(\"q7_4\")"
   ]
  },
  {
   "cell_type": "markdown",
   "metadata": {},
   "source": [
    "<p style=\"text-align:left; font-size:10px;\">\n",
    "Copyright (c) Huntsinger Associates, LLC\n",
    "<span style=\"float:right;\">\n",
    "Document revised November 7, 2023\n",
    "</span>\n",
    "</p>"
   ]
  }
 ],
 "metadata": {
  "kernelspec": {
   "display_name": ".venv",
   "language": "python",
   "name": "python3"
  },
  "language_info": {
   "codemirror_mode": {
    "name": "ipython",
    "version": 3
   },
   "file_extension": ".py",
   "mimetype": "text/x-python",
   "name": "python",
   "nbconvert_exporter": "python",
   "pygments_lexer": "ipython3",
   "version": "3.13.5"
  },
  "otter": {
   "OK_FORMAT": true,
   "tests": {
    "q1": {
     "name": "q1",
     "points": null,
     "suites": [
      {
       "cases": [
        {
         "code": ">>> redfin.num_columns == 27\nTrue",
         "hidden": false,
         "locked": false
        },
        {
         "code": ">>> redfin.num_rows == 637\nTrue",
         "hidden": false,
         "locked": false
        }
       ],
       "scored": true,
       "setup": "",
       "teardown": "",
       "type": "doctest"
      }
     ]
    },
    "q2_1": {
     "name": "q2_1",
     "points": null,
     "suites": [
      {
       "cases": [
        {
         "code": ">>> round(median_price, 0) == 1299000\nTrue",
         "hidden": false,
         "locked": false
        },
        {
         "code": ">>> round(mean_price, 0) == 1972153\nTrue",
         "hidden": false,
         "locked": false
        },
        {
         "code": ">>> round(std_price, 0) == 2354321\nTrue",
         "hidden": false,
         "locked": false
        }
       ],
       "scored": true,
       "setup": "",
       "teardown": "",
       "type": "doctest"
      }
     ]
    },
    "q2_2": {
     "name": "q2_2",
     "points": null,
     "suites": [
      {
       "cases": [
        {
         "code": ">>> x_col1 == 'SQUARE_FEET'\nTrue",
         "hidden": false,
         "locked": false
        },
        {
         "code": ">>> y_col1 == 'PRICE'\nTrue",
         "hidden": false,
         "locked": false
        }
       ],
       "scored": true,
       "setup": "",
       "teardown": "",
       "type": "doctest"
      }
     ]
    },
    "q3_1": {
     "name": "q3_1",
     "points": null,
     "suites": [
      {
       "cases": [
        {
         "code": ">>> cond1 = list(model_1.model.data.frame.labels) == list(redfin.labels)\n>>> cond2 = model_1.model.data.frame.num_rows == redfin.num_rows\n>>> cond3 = all((model_1.model.data.frame.row(i) == redfin.row(i) for i in range(redfin.num_rows)))\n>>> cond1 and cond2 and cond3\nFalse",
         "hidden": false,
         "locked": false
        },
        {
         "code": ">>> hasattr(model_1, 'rsquared') and hasattr(model_1, 'params') and (len(model_1.params) == 2)\nTrue",
         "hidden": false,
         "locked": false
        },
        {
         "code": ">>> i_1 == model_1.params[0]\nTrue",
         "hidden": false,
         "locked": false
        },
        {
         "code": ">>> c_1 == model_1.params[1]\nTrue",
         "hidden": false,
         "locked": false
        }
       ],
       "scored": true,
       "setup": "",
       "teardown": "",
       "type": "doctest"
      }
     ]
    },
    "q3_2": {
     "name": "q3_2",
     "points": null,
     "suites": [
      {
       "cases": [
        {
         "code": ">>> x_col2 == 'SQUARE_FEET'\nTrue",
         "hidden": false,
         "locked": false
        },
        {
         "code": ">>> y_col2 == 'PRICE'\nTrue",
         "hidden": false,
         "locked": false
        }
       ],
       "scored": true,
       "setup": "",
       "teardown": "",
       "type": "doctest"
      }
     ]
    },
    "q4_1": {
     "name": "q4_1",
     "points": null,
     "suites": [
      {
       "cases": [
        {
         "code": ">>> round(price_predicted_14000, 0) == 20663159\nTrue",
         "hidden": false,
         "locked": false
        }
       ],
       "scored": true,
       "setup": "",
       "teardown": "",
       "type": "doctest"
      }
     ]
    },
    "q4_2": {
     "name": "q4_2",
     "points": null,
     "suites": [
      {
       "cases": [
        {
         "code": ">>> round(price_predicted_3000, 0) == 3875771\nTrue",
         "hidden": false,
         "locked": false
        }
       ],
       "scored": true,
       "setup": "",
       "teardown": "",
       "type": "doctest"
      }
     ]
    },
    "q4_3": {
     "name": "q4_3",
     "points": null,
     "suites": [
      {
       "cases": [
        {
         "code": ">>> round(price_predicted_600, 0) == 213068\nTrue",
         "hidden": false,
         "locked": false
        }
       ],
       "scored": true,
       "setup": "",
       "teardown": "",
       "type": "doctest"
      }
     ]
    },
    "q4_4": {
     "name": "q4_4",
     "points": null,
     "suites": [
      {
       "cases": [
        {
         "code": ">>> round(price_predicted_400, 0) == -92157\nTrue",
         "hidden": false,
         "locked": false
        }
       ],
       "scored": true,
       "setup": "",
       "teardown": "",
       "type": "doctest"
      }
     ]
    },
    "q4_5": {
     "name": "q4_5",
     "points": null,
     "suites": [
      {
       "cases": [
        {
         "code": ">>> all(predictions_1 == model_1.predict(Table().with_column('SQUARE_FEET', make_array(14000, 3000, 600, 400))))\nTrue",
         "hidden": false,
         "locked": false
        }
       ],
       "scored": true,
       "setup": "",
       "teardown": "",
       "type": "doctest"
      }
     ]
    },
    "q4_6": {
     "name": "q4_6",
     "points": null,
     "suites": [
      {
       "cases": [
        {
         "code": ">>> all(predictions_2 == model_1.predict(Table().with_column('SQUARE_FEET', 3000)))\nTrue",
         "hidden": false,
         "locked": false
        }
       ],
       "scored": true,
       "setup": "",
       "teardown": "",
       "type": "doctest"
      }
     ]
    },
    "q5_1": {
     "name": "q5_1",
     "points": null,
     "suites": [
      {
       "cases": [
        {
         "code": ">>> all(all_predictions_1 == model_1.predict(redfin))\nTrue",
         "hidden": false,
         "locked": false
        }
       ],
       "scored": true,
       "setup": "",
       "teardown": "",
       "type": "doctest"
      }
     ]
    },
    "q5_2": {
     "name": "q5_2",
     "points": null,
     "suites": [
      {
       "cases": [
        {
         "code": ">>> cols_for_scatter_sqft_price == ('SQUARE_FEET', 'PRICE', 'price_predicted')\nTrue",
         "hidden": false,
         "locked": false
        }
       ],
       "scored": true,
       "setup": "",
       "teardown": "",
       "type": "doctest"
      }
     ]
    },
    "q6_1": {
     "name": "q6_1",
     "points": null,
     "suites": [
      {
       "cases": [
        {
         "code": ">>> not isnan(beds_and_baths.column('BEDS')).any()\nTrue",
         "hidden": false,
         "locked": false
        },
        {
         "code": ">>> not isnan(beds_and_baths.column('BATHS')).any()\nTrue",
         "hidden": false,
         "locked": false
        },
        {
         "code": ">>> 'price_predicted' not in beds_and_baths.labels and beds_and_baths.num_rows > 0\nTrue",
         "hidden": false,
         "locked": false
        }
       ],
       "scored": true,
       "setup": "",
       "teardown": "",
       "type": "doctest"
      }
     ]
    },
    "q6_2": {
     "name": "q6_2",
     "points": null,
     "suites": [
      {
       "cases": [
        {
         "code": ">>> cond1 = list(model_2.model.data.frame.labels) == list(beds_and_baths.labels)\n>>> cond2 = model_2.model.data.frame.num_rows == beds_and_baths.num_rows\n>>> cond3 = all((model_2.model.data.frame.row(i) == beds_and_baths.row(i) for i in range(beds_and_baths.num_rows)))\n>>> cond1 and cond2 and cond3\nFalse",
         "hidden": false,
         "locked": false
        },
        {
         "code": ">>> hasattr(model_2, 'rsquared') and hasattr(model_2, 'params') and (len(model_2.params) == 4)\nTrue",
         "hidden": false,
         "locked": false
        }
       ],
       "scored": true,
       "setup": "",
       "teardown": "",
       "type": "doctest"
      }
     ]
    },
    "q6_3": {
     "name": "q6_3",
     "points": null,
     "suites": [
      {
       "cases": [
        {
         "code": ">>> all(preds_3000_2_2 == model_2.predict(Table().with_columns('SQUARE_FEET', 3000, 'BEDS', 2, 'BATHS', 2)))\nTrue",
         "hidden": false,
         "locked": false
        },
        {
         "code": ">>> all(preds_3000_3_2 == model_2.predict(Table().with_columns('SQUARE_FEET', 3000, 'BEDS', 3, 'BATHS', 2)))\nTrue",
         "hidden": false,
         "locked": false
        },
        {
         "code": ">>> all(preds_4000_2_2 == model_2.predict(Table().with_columns('SQUARE_FEET', 4000, 'BEDS', 2, 'BATHS', 2)))\nTrue",
         "hidden": false,
         "locked": false
        },
        {
         "code": ">>> all(preds_4000_3_2 == model_2.predict(Table().with_columns('SQUARE_FEET', 4000, 'BEDS', 3, 'BATHS', 2)))\nTrue",
         "hidden": false,
         "locked": false
        }
       ],
       "scored": true,
       "setup": "",
       "teardown": "",
       "type": "doctest"
      }
     ]
    },
    "q6_4": {
     "name": "q6_4",
     "points": null,
     "suites": [
      {
       "cases": [
        {
         "code": ">>> all(all_predictions_2 == model_2.predict(beds_and_baths))\nTrue",
         "hidden": false,
         "locked": false
        }
       ],
       "scored": true,
       "setup": "",
       "teardown": "",
       "type": "doctest"
      }
     ]
    },
    "q6_5": {
     "name": "q6_5",
     "points": null,
     "suites": [
      {
       "cases": [
        {
         "code": ">>> x_col3 == 'SQUARE_FEET'\nTrue",
         "hidden": false,
         "locked": false
        },
        {
         "code": ">>> y1_col3 == 'PRICE'\nTrue",
         "hidden": false,
         "locked": false
        },
        {
         "code": ">>> y2_col3 == 'price_predicted'\nTrue",
         "hidden": false,
         "locked": false
        }
       ],
       "scored": true,
       "setup": "",
       "teardown": "",
       "type": "doctest"
      }
     ]
    },
    "q6_6": {
     "name": "q6_6",
     "points": null,
     "suites": [
      {
       "cases": [
        {
         "code": ">>> x_col4 == 'BEDS'\nTrue",
         "hidden": false,
         "locked": false
        },
        {
         "code": ">>> y1_col4 == 'PRICE'\nTrue",
         "hidden": false,
         "locked": false
        },
        {
         "code": ">>> y2_col4 == 'price_predicted'\nTrue",
         "hidden": false,
         "locked": false
        }
       ],
       "scored": true,
       "setup": "",
       "teardown": "",
       "type": "doctest"
      }
     ]
    },
    "q6_7": {
     "name": "q6_7",
     "points": null,
     "suites": [
      {
       "cases": [
        {
         "code": ">>> x_col5 == 'BATHS'\nTrue",
         "hidden": false,
         "locked": false
        },
        {
         "code": ">>> y1_col5 == 'PRICE'\nTrue",
         "hidden": false,
         "locked": false
        },
        {
         "code": ">>> y2_col5 == 'price_predicted'\nTrue",
         "hidden": false,
         "locked": false
        }
       ],
       "scored": true,
       "setup": "",
       "teardown": "",
       "type": "doctest"
      }
     ]
    },
    "q7_1": {
     "name": "q7_1",
     "points": null,
     "suites": [
      {
       "cases": [
        {
         "code": ">>> 'price_predicted' not in beds_and_baths_2.labels\nTrue",
         "hidden": false,
         "locked": false
        }
       ],
       "scored": true,
       "setup": "",
       "teardown": "",
       "type": "doctest"
      }
     ]
    },
    "q7_2": {
     "name": "q7_2",
     "points": null,
     "suites": [
      {
       "cases": [
        {
         "code": ">>> all(domain == unique(beds_and_baths_2.column('PROPERTY_TYPE')))\nTrue",
         "hidden": false,
         "locked": false
        }
       ],
       "scored": true,
       "setup": "",
       "teardown": "",
       "type": "doctest"
      }
     ]
    },
    "q7_3": {
     "name": "q7_3",
     "points": null,
     "suites": [
      {
       "cases": [
        {
         "code": ">>> cond1 = list(model_3.model.data.frame.labels) == list(beds_and_baths_2.labels)\n>>> cond2 = model_3.model.data.frame.num_rows == beds_and_baths_2.num_rows\n>>> cond3 = all((model_3.model.data.frame.row(i) == beds_and_baths_2.row(i) for i in range(beds_and_baths_2.num_rows)))\n>>> cond1 and cond2 and cond3\nFalse",
         "hidden": false,
         "locked": false
        },
        {
         "code": ">>> hasattr(model_3, 'rsquared') and hasattr(model_3, 'params') and (len(model_3.params) == 6)\nTrue",
         "hidden": false,
         "locked": false
        }
       ],
       "scored": true,
       "setup": "",
       "teardown": "",
       "type": "doctest"
      }
     ]
    },
    "q7_4": {
     "name": "q7_4",
     "points": null,
     "suites": [
      {
       "cases": [
        {
         "code": ">>> all(preds_condo_coop == model_3.predict(Table().with_columns('SQUARE_FEET', 3000, 'BEDS', 3, 'BATHS', 2, 'PROPERTY_TYPE', 'Condo/Co-op')))\nTrue",
         "hidden": false,
         "locked": false
        },
        {
         "code": ">>> all(preds_single == model_3.predict(Table().with_columns('SQUARE_FEET', 3000, 'BEDS', 3, 'BATHS', 2, 'PROPERTY_TYPE', 'Single Family Residential')))\nTrue",
         "hidden": false,
         "locked": false
        },
        {
         "code": ">>> all(preds_townhouse == model_3.predict(Table().with_columns('SQUARE_FEET', 3000, 'BEDS', 3, 'BATHS', 2, 'PROPERTY_TYPE', 'Townhouse')))\nTrue",
         "hidden": false,
         "locked": false
        }
       ],
       "scored": true,
       "setup": "",
       "teardown": "",
       "type": "doctest"
      }
     ]
    }
   }
  },
  "toc": {
   "base_numbering": 1,
   "nav_menu": {},
   "number_sections": true,
   "sideBar": true,
   "skip_h1_title": true,
   "title_cell": "Table of Contents",
   "title_sidebar": "Contents",
   "toc_cell": false,
   "toc_position": {
    "height": "calc(100% - 180px)",
    "left": "10px",
    "top": "150px",
    "width": "256.25px"
   },
   "toc_section_display": true,
   "toc_window_display": false
  }
 },
 "nbformat": 4,
 "nbformat_minor": 4
}
