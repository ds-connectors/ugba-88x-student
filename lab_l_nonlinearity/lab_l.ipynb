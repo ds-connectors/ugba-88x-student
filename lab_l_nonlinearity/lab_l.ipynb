{
 "cells": [
  {
   "cell_type": "code",
   "execution_count": null,
   "metadata": {
    "deletable": false,
    "editable": false
   },
   "outputs": [],
   "source": [
    "# Initialize Otter\n",
    "import otter\n",
    "grader = otter.Notebook(\"lab_l.ipynb\")"
   ]
  },
  {
   "cell_type": "markdown",
   "metadata": {},
   "source": [
    "# Lab L: Nonlinearity"
   ]
  },
  {
   "cell_type": "markdown",
   "metadata": {},
   "source": [
    "## Setup"
   ]
  },
  {
   "cell_type": "code",
   "execution_count": null,
   "metadata": {},
   "outputs": [],
   "source": [
    "import warnings\n",
    "from datascience import Table\n",
    "from numpy import log, exp\n",
    "from statsmodels.formula.api import ols\n",
    "\n",
    "# Force display of all values \n",
    "from IPython.core.interactiveshell import InteractiveShell\n",
    "InteractiveShell.ast_node_interactivity = \"all\"\n",
    "\n",
    "# Handle some obnoxious warning messages\n",
    "warnings.filterwarnings(\"ignore\")"
   ]
  },
  {
   "cell_type": "markdown",
   "metadata": {},
   "source": [
    "## Your Own Jet Airplane\n",
    "\n",
    "### Business Decision\n",
    "\n",
    "Your company wants to buy a used Boeing 747.  This is the most popular airplane on the planet so many used 747s are available.\n",
    "\n",
    "The data here describe 288 recent sales of Boeing 747s. For each sale, you have the transaction price (in millions $) and the total number of miles traveled at time of sale (in millions)."
   ]
  },
  {
   "cell_type": "markdown",
   "metadata": {
    "deletable": false,
    "editable": false
   },
   "source": [
    "### Data\n",
    "\n",
    "Retrieve data from file 'Airplane_Purchases.csv'.  Show the first few sales."
   ]
  },
  {
   "cell_type": "code",
   "execution_count": null,
   "metadata": {
    "tags": [
     "otter_answer_cell"
    ]
   },
   "outputs": [],
   "source": [
    "airplane_purchases = ...\n",
    "airplane_purchases"
   ]
  },
  {
   "cell_type": "code",
   "execution_count": null,
   "metadata": {
    "deletable": false,
    "editable": false
   },
   "outputs": [],
   "source": [
    "grader.check(\"q1\")"
   ]
  },
  {
   "cell_type": "markdown",
   "metadata": {
    "deletable": false,
    "editable": false
   },
   "source": [
    "### Analysis: Linear Regression"
   ]
  },
  {
   "cell_type": "markdown",
   "metadata": {
    "deletable": false,
    "editable": false
   },
   "source": [
    "Build a linear regression model to predict price based on mileage.  \n",
    "Show the model goodness of fit (R^2).  \n",
    "Show the model parameter values (intercept and coefficient)."
   ]
  },
  {
   "cell_type": "code",
   "execution_count": null,
   "metadata": {
    "tags": [
     "otter_answer_cell"
    ]
   },
   "outputs": [],
   "source": [
    "model_1 = ...\n",
    "model_1.rsquared\n",
    "model_1.params"
   ]
  },
  {
   "cell_type": "code",
   "execution_count": null,
   "metadata": {
    "deletable": false,
    "editable": false
   },
   "outputs": [],
   "source": [
    "grader.check(\"q2_1\")"
   ]
  },
  {
   "cell_type": "markdown",
   "metadata": {
    "deletable": false,
    "editable": false
   },
   "source": [
    "Use the model to predict the sale prices.  \n",
    "Show the first few predictions."
   ]
  },
  {
   "cell_type": "code",
   "execution_count": null,
   "metadata": {
    "tags": [
     "otter_answer_cell"
    ]
   },
   "outputs": [],
   "source": [
    "all_predictions_1 = ...\n",
    "\n",
    "airplane_purchases_preds = airplane_purchases.with_column('price_predicted', all_predictions_1)\n",
    "airplane_purchases_preds"
   ]
  },
  {
   "cell_type": "code",
   "execution_count": null,
   "metadata": {
    "deletable": false,
    "editable": false
   },
   "outputs": [],
   "source": [
    "grader.check(\"q2_2\")"
   ]
  },
  {
   "cell_type": "markdown",
   "metadata": {},
   "source": [
    "Visualize the model performance as a scatterplot of actual price and predicted price vs. mileage."
   ]
  },
  {
   "cell_type": "code",
   "execution_count": null,
   "metadata": {},
   "outputs": [],
   "source": [
    "airplane_purchases_preds.scatter('mileage')"
   ]
  },
  {
   "cell_type": "markdown",
   "metadata": {
    "deletable": false,
    "editable": false
   },
   "source": [
    "Show the errors between the sale actual prices and predicted prices."
   ]
  },
  {
   "cell_type": "code",
   "execution_count": null,
   "metadata": {
    "tags": [
     "otter_answer_cell"
    ]
   },
   "outputs": [],
   "source": [
    "price_errors = ...\n",
    "\n",
    "airplane_purchases_errors = airplane_purchases_preds.with_column('error', price_errors)\n",
    "airplane_purchases_errors"
   ]
  },
  {
   "cell_type": "code",
   "execution_count": null,
   "metadata": {
    "deletable": false,
    "editable": false
   },
   "outputs": [],
   "source": [
    "grader.check(\"q2_3\")"
   ]
  },
  {
   "cell_type": "markdown",
   "metadata": {},
   "source": [
    "Visualize the errors as a scatterplot."
   ]
  },
  {
   "cell_type": "code",
   "execution_count": null,
   "metadata": {},
   "outputs": [],
   "source": [
    "airplane_purchases_errors.select('mileage', 'error').scatter('mileage')"
   ]
  },
  {
   "cell_type": "markdown",
   "metadata": {
    "deletable": false,
    "editable": false
   },
   "source": [
    "Use the model to predict the price of a Boeing 747 that has traveled 50 million miles."
   ]
  },
  {
   "cell_type": "code",
   "execution_count": null,
   "metadata": {
    "tags": [
     "otter_answer_cell"
    ]
   },
   "outputs": [],
   "source": [
    "my_mileage = 50\n",
    "boeing_price_pred_1 = ...\n",
    "boeing_price_pred_1"
   ]
  },
  {
   "cell_type": "code",
   "execution_count": null,
   "metadata": {
    "deletable": false,
    "editable": false
   },
   "outputs": [],
   "source": [
    "grader.check(\"q2_4\")"
   ]
  },
  {
   "cell_type": "markdown",
   "metadata": {},
   "source": [
    "### Analysis: Linear-Log Regression"
   ]
  },
  {
   "cell_type": "markdown",
   "metadata": {},
   "source": [
    "Reset dataset to include mileage and price variables only."
   ]
  },
  {
   "cell_type": "code",
   "execution_count": null,
   "metadata": {},
   "outputs": [],
   "source": [
    "airplane_purchases = airplane_purchases.select('mileage','price')"
   ]
  },
  {
   "cell_type": "markdown",
   "metadata": {
    "deletable": false,
    "editable": false
   },
   "source": [
    "Add a variable for log mileage.  You can use the `log()` function.  \n",
    "Show the first few observations of the resulting dataset. "
   ]
  },
  {
   "cell_type": "code",
   "execution_count": null,
   "metadata": {
    "tags": [
     "otter_answer_cell"
    ]
   },
   "outputs": [],
   "source": [
    "log_mileage_column = ...\n",
    "airplane_purchases_mileages = airplane_purchases.with_column('log_mileage', log_mileage_column)\n",
    "airplane_purchases_mileages"
   ]
  },
  {
   "cell_type": "code",
   "execution_count": null,
   "metadata": {
    "deletable": false,
    "editable": false
   },
   "outputs": [],
   "source": [
    "grader.check(\"q3_1\")"
   ]
  },
  {
   "cell_type": "markdown",
   "metadata": {
    "deletable": false,
    "editable": false
   },
   "source": [
    "Build a linear regression model to predict price based on log mileage.  \n",
    "Show the model goodness of fit (R^2).  \n",
    "Show the model parameter values (intercept and coefficient)."
   ]
  },
  {
   "cell_type": "code",
   "execution_count": null,
   "metadata": {
    "tags": [
     "otter_answer_cell"
    ]
   },
   "outputs": [],
   "source": [
    "model_2 = ...\n",
    "model_2.rsquared\n",
    "model_2.params"
   ]
  },
  {
   "cell_type": "code",
   "execution_count": null,
   "metadata": {
    "deletable": false,
    "editable": false
   },
   "outputs": [],
   "source": [
    "grader.check(\"q3_2\")"
   ]
  },
  {
   "cell_type": "markdown",
   "metadata": {
    "deletable": false,
    "editable": false
   },
   "source": [
    "Use the model to predict the sale prices.  \n",
    "Show the first few predictions."
   ]
  },
  {
   "cell_type": "code",
   "execution_count": null,
   "metadata": {
    "tags": [
     "otter_answer_cell"
    ]
   },
   "outputs": [],
   "source": [
    "all_predictions_2 = ...\n",
    "\n",
    "airplane_mileage_preds = airplane_purchases_mileages.with_column('price_predicted', all_predictions_2)\n",
    "airplane_mileage_preds"
   ]
  },
  {
   "cell_type": "code",
   "execution_count": null,
   "metadata": {
    "deletable": false,
    "editable": false
   },
   "outputs": [],
   "source": [
    "grader.check(\"q3_3\")"
   ]
  },
  {
   "cell_type": "markdown",
   "metadata": {
    "deletable": false,
    "editable": false
   },
   "source": [
    "Visualize the model performance as a scatterplot of actual price and predicted price vs. log mileage."
   ]
  },
  {
   "cell_type": "code",
   "execution_count": null,
   "metadata": {
    "tags": [
     "otter_answer_cell"
    ]
   },
   "outputs": [],
   "source": [
    "cols_for_scatter_1 = ...\n",
    "airplane_mileage_preds.select(cols_for_scatter_1).scatter('log_mileage')"
   ]
  },
  {
   "cell_type": "code",
   "execution_count": null,
   "metadata": {
    "deletable": false,
    "editable": false
   },
   "outputs": [],
   "source": [
    "grader.check(\"q3_4\")"
   ]
  },
  {
   "cell_type": "markdown",
   "metadata": {
    "deletable": false,
    "editable": false
   },
   "source": [
    "Visualize the model performance as a scatterplot of actual price and predicted price vs. mileage."
   ]
  },
  {
   "cell_type": "code",
   "execution_count": null,
   "metadata": {
    "tags": [
     "otter_answer_cell"
    ]
   },
   "outputs": [],
   "source": [
    "cols_for_scatter_2 = ...\n",
    "airplane_mileage_preds.select(cols_for_scatter_2).scatter('mileage')"
   ]
  },
  {
   "cell_type": "code",
   "execution_count": null,
   "metadata": {
    "deletable": false,
    "editable": false
   },
   "outputs": [],
   "source": [
    "grader.check(\"q3_5\")"
   ]
  },
  {
   "cell_type": "markdown",
   "metadata": {
    "deletable": false,
    "editable": false
   },
   "source": [
    "Show the errors between the sale actual prices and predicted prices."
   ]
  },
  {
   "cell_type": "code",
   "execution_count": null,
   "metadata": {
    "tags": [
     "otter_answer_cell"
    ]
   },
   "outputs": [],
   "source": [
    "mileage_price_errors = ...\n",
    "airplane_mileage_errors = airplane_mileage_preds.with_column('error', mileage_price_errors)\n",
    "airplane_mileage_errors"
   ]
  },
  {
   "cell_type": "code",
   "execution_count": null,
   "metadata": {
    "deletable": false,
    "editable": false
   },
   "outputs": [],
   "source": [
    "grader.check(\"q3_6\")"
   ]
  },
  {
   "cell_type": "markdown",
   "metadata": {},
   "source": [
    "Visualize the errors as a scatterplot."
   ]
  },
  {
   "cell_type": "code",
   "execution_count": null,
   "metadata": {},
   "outputs": [],
   "source": [
    "cols_for_scatter_3 = 'mileage', 'error'\n",
    "airplane_mileage_errors.select(cols_for_scatter_3).scatter('mileage')"
   ]
  },
  {
   "cell_type": "markdown",
   "metadata": {
    "deletable": false,
    "editable": false
   },
   "source": [
    "Use the model to predict the price of a Boeing 747 that has traveled 50 million miles."
   ]
  },
  {
   "cell_type": "code",
   "execution_count": null,
   "metadata": {
    "tags": [
     "otter_answer_cell"
    ]
   },
   "outputs": [],
   "source": [
    "mileage = 50\n",
    "log_mileage = ...\n",
    "boeing_price_pred_2 = ...\n",
    "boeing_price_pred_2"
   ]
  },
  {
   "cell_type": "code",
   "execution_count": null,
   "metadata": {
    "deletable": false,
    "editable": false
   },
   "outputs": [],
   "source": [
    "grader.check(\"q3_7\")"
   ]
  },
  {
   "cell_type": "markdown",
   "metadata": {},
   "source": [
    "### Analysis: Log-Linear Regression"
   ]
  },
  {
   "cell_type": "markdown",
   "metadata": {},
   "source": [
    "Reset dataset to include mileage and price variables only."
   ]
  },
  {
   "cell_type": "code",
   "execution_count": null,
   "metadata": {},
   "outputs": [],
   "source": [
    "airplane_purchases = airplane_purchases.select('mileage','price')"
   ]
  },
  {
   "cell_type": "markdown",
   "metadata": {
    "deletable": false,
    "editable": false
   },
   "source": [
    "Add a variable for log price.  You can use the `log()` function.  \n",
    "Show the first few observations of the resulting dataset. "
   ]
  },
  {
   "cell_type": "code",
   "execution_count": null,
   "metadata": {
    "tags": [
     "otter_answer_cell"
    ]
   },
   "outputs": [],
   "source": [
    "log_price = ...\n",
    "airplane_purchases_log_price = airplane_purchases.with_column('log_price', log_price)\n",
    "airplane_purchases_log_price"
   ]
  },
  {
   "cell_type": "code",
   "execution_count": null,
   "metadata": {
    "deletable": false,
    "editable": false
   },
   "outputs": [],
   "source": [
    "grader.check(\"q4_1\")"
   ]
  },
  {
   "cell_type": "markdown",
   "metadata": {
    "deletable": false,
    "editable": false
   },
   "source": [
    "Build a linear regression model to predict log price based on mileage.  \n",
    "Show the model goodness of fit (R^2).  \n",
    "Show the model parameter values (intercept and coefficient)."
   ]
  },
  {
   "cell_type": "code",
   "execution_count": null,
   "metadata": {
    "tags": [
     "otter_answer_cell"
    ]
   },
   "outputs": [],
   "source": [
    "model_3 = ...\n",
    "model_3.rsquared\n",
    "model_3.params"
   ]
  },
  {
   "cell_type": "code",
   "execution_count": null,
   "metadata": {
    "deletable": false,
    "editable": false
   },
   "outputs": [],
   "source": [
    "grader.check(\"q4_2\")"
   ]
  },
  {
   "cell_type": "markdown",
   "metadata": {
    "deletable": false,
    "editable": false
   },
   "source": [
    "Use the model to predict the sale log prices.\n",
    "Show the first few predictions."
   ]
  },
  {
   "cell_type": "code",
   "execution_count": null,
   "metadata": {
    "tags": [
     "otter_answer_cell"
    ]
   },
   "outputs": [],
   "source": [
    "all_predictions_3 = ...\n",
    "airplane_log_price_preds = airplane_purchases_log_price.with_column('log_price_predicted', all_predictions_3)\n",
    "airplane_log_price_preds"
   ]
  },
  {
   "cell_type": "code",
   "execution_count": null,
   "metadata": {
    "deletable": false,
    "editable": false
   },
   "outputs": [],
   "source": [
    "grader.check(\"q4_3\")"
   ]
  },
  {
   "cell_type": "markdown",
   "metadata": {
    "deletable": false,
    "editable": false
   },
   "source": [
    "Visualize the model performance as a scatterplot of actual log price and predicted log price vs. mileage."
   ]
  },
  {
   "cell_type": "code",
   "execution_count": null,
   "metadata": {
    "tags": [
     "otter_answer_cell"
    ]
   },
   "outputs": [],
   "source": [
    "cols_for_scatter_4 = ...\n",
    "airplane_log_price_preds.select(cols_for_scatter_4).scatter('mileage')"
   ]
  },
  {
   "cell_type": "code",
   "execution_count": null,
   "metadata": {
    "deletable": false,
    "editable": false
   },
   "outputs": [],
   "source": [
    "grader.check(\"q4_4\")"
   ]
  },
  {
   "cell_type": "markdown",
   "metadata": {
    "deletable": false,
    "editable": false
   },
   "source": [
    "Predict the sale prices.  Show the first few predictions. You can use the `exp()` function."
   ]
  },
  {
   "cell_type": "code",
   "execution_count": null,
   "metadata": {
    "tags": [
     "otter_answer_cell"
    ]
   },
   "outputs": [],
   "source": [
    "sale_preds = ...\n",
    "\n",
    "airplane_log_price_preds = airplane_log_price_preds.with_column('price_predicted', sale_preds)\n",
    "airplane_log_price_preds"
   ]
  },
  {
   "cell_type": "code",
   "execution_count": null,
   "metadata": {
    "deletable": false,
    "editable": false
   },
   "outputs": [],
   "source": [
    "grader.check(\"q4_5\")"
   ]
  },
  {
   "cell_type": "markdown",
   "metadata": {
    "deletable": false,
    "editable": false
   },
   "source": [
    "Visualize the model performance as a scatterplot of actual price and predicted price vs. mileage."
   ]
  },
  {
   "cell_type": "code",
   "execution_count": null,
   "metadata": {
    "tags": [
     "otter_answer_cell"
    ]
   },
   "outputs": [],
   "source": [
    "cols_for_scatter_5 = ...\n",
    "airplane_log_price_preds.select(cols_for_scatter_5).scatter('mileage')"
   ]
  },
  {
   "cell_type": "code",
   "execution_count": null,
   "metadata": {
    "deletable": false,
    "editable": false
   },
   "outputs": [],
   "source": [
    "grader.check(\"q4_6\")"
   ]
  },
  {
   "cell_type": "markdown",
   "metadata": {
    "deletable": false,
    "editable": false
   },
   "source": [
    "Show the errors between the sale actual prices and predicted prices."
   ]
  },
  {
   "cell_type": "code",
   "execution_count": null,
   "metadata": {
    "tags": [
     "otter_answer_cell"
    ]
   },
   "outputs": [],
   "source": [
    "log_price_errors = airplane_log_price_preds.column('price')-airplane_log_price_preds.column('price_predicted')\n",
    "airplane_log_price_errors = airplane_log_price_preds.with_column('error', log_price_errors)\n",
    "airplane_log_price_errors"
   ]
  },
  {
   "cell_type": "code",
   "execution_count": null,
   "metadata": {
    "deletable": false,
    "editable": false
   },
   "outputs": [],
   "source": [
    "grader.check(\"q4_7\")"
   ]
  },
  {
   "cell_type": "markdown",
   "metadata": {},
   "source": [
    "Visualize the errors as a scatterplot."
   ]
  },
  {
   "cell_type": "code",
   "execution_count": null,
   "metadata": {},
   "outputs": [],
   "source": [
    "airplane_log_price_errors.select('mileage', 'error').scatter('mileage')"
   ]
  },
  {
   "cell_type": "markdown",
   "metadata": {
    "deletable": false,
    "editable": false
   },
   "source": [
    "Use the model to predict the price of a Boeing 747 that has traveled 50 million miles."
   ]
  },
  {
   "cell_type": "code",
   "execution_count": null,
   "metadata": {
    "tags": [
     "otter_answer_cell"
    ]
   },
   "outputs": [],
   "source": [
    "mileage = 50\n",
    "mileage_pred = ...\n",
    "boeing_price_pred_3 = exp(mileage_pred)\n",
    "boeing_price_pred_3"
   ]
  },
  {
   "cell_type": "code",
   "execution_count": null,
   "metadata": {
    "deletable": false,
    "editable": false
   },
   "outputs": [],
   "source": [
    "grader.check(\"q4_8\")"
   ]
  },
  {
   "cell_type": "markdown",
   "metadata": {},
   "source": [
    "<p style=\"text-align:left; font-size:10px;\">\n",
    "Copyright (c) Huntsinger Associates, LLC\n",
    "<span style=\"float:right;\">\n",
    "Document revised November 10, 2023\n",
    "</span>\n",
    "</p>"
   ]
  }
 ],
 "metadata": {
  "kernelspec": {
   "display_name": ".venv (3.11.4)",
   "language": "python",
   "name": "python3"
  },
  "language_info": {
   "codemirror_mode": {
    "name": "ipython",
    "version": 3
   },
   "file_extension": ".py",
   "mimetype": "text/x-python",
   "name": "python",
   "nbconvert_exporter": "python",
   "pygments_lexer": "ipython3",
   "version": "3.13.5"
  },
  "otter": {
   "OK_FORMAT": true,
   "tests": {
    "q1": {
     "name": "q1",
     "points": null,
     "suites": [
      {
       "cases": [
        {
         "code": ">>> airplane_purchases.labels == ('mileage', 'price') and airplane_purchases.num_rows == 288\nTrue",
         "hidden": false,
         "locked": false
        }
       ],
       "scored": true,
       "setup": "",
       "teardown": "",
       "type": "doctest"
      }
     ]
    },
    "q2_1": {
     "name": "q2_1",
     "points": null,
     "suites": [
      {
       "cases": [
        {
         "code": ">>> cond1 = list(model_1.model.data.frame.labels) == list(airplane_purchases.labels)\n>>> cond2 = model_1.model.data.frame.num_rows == airplane_purchases.num_rows\n>>> cond3 = all((model_1.model.data.frame.row(i) == airplane_purchases.row(i) for i in range(airplane_purchases.num_rows)))\n>>> cond1 and cond2 and cond3\nTrue",
         "hidden": false,
         "locked": false
        },
        {
         "code": ">>> hasattr(model_1, 'rsquared') and hasattr(model_1, 'params') and (len(model_1.params) == 2)\nTrue",
         "hidden": false,
         "locked": false
        }
       ],
       "scored": true,
       "setup": "",
       "teardown": "",
       "type": "doctest"
      }
     ]
    },
    "q2_2": {
     "name": "q2_2",
     "points": null,
     "suites": [
      {
       "cases": [
        {
         "code": ">>> all(all_predictions_1 == model_1.predict(airplane_purchases))\nTrue",
         "hidden": false,
         "locked": false
        }
       ],
       "scored": true,
       "setup": "",
       "teardown": "",
       "type": "doctest"
      }
     ]
    },
    "q2_3": {
     "name": "q2_3",
     "points": null,
     "suites": [
      {
       "cases": [
        {
         "code": ">>> all(price_errors == airplane_purchases_preds.column('price') - airplane_purchases_preds.column('price_predicted'))\nTrue",
         "hidden": false,
         "locked": false
        }
       ],
       "scored": true,
       "setup": "",
       "teardown": "",
       "type": "doctest"
      }
     ]
    },
    "q2_4": {
     "name": "q2_4",
     "points": null,
     "suites": [
      {
       "cases": [
        {
         "code": ">>> all(boeing_price_pred_1 == model_1.predict(Table().with_column('mileage', my_mileage)))\nTrue",
         "hidden": false,
         "locked": false
        }
       ],
       "scored": true,
       "setup": "",
       "teardown": "",
       "type": "doctest"
      }
     ]
    },
    "q3_1": {
     "name": "q3_1",
     "points": null,
     "suites": [
      {
       "cases": [
        {
         "code": ">>> all(log_mileage_column == log(airplane_purchases.column('mileage')))\nTrue",
         "hidden": false,
         "locked": false
        }
       ],
       "scored": true,
       "setup": "",
       "teardown": "",
       "type": "doctest"
      }
     ]
    },
    "q3_2": {
     "name": "q3_2",
     "points": null,
     "suites": [
      {
       "cases": [
        {
         "code": ">>> cond1 = list(model_2.model.data.frame.labels) == list(airplane_purchases_mileages.labels)\n>>> cond2 = model_2.model.data.frame.num_rows == airplane_purchases_mileages.num_rows\n>>> cond3 = all((model_2.model.data.frame.row(i) == airplane_purchases_mileages.row(i) for i in range(airplane_purchases_mileages.num_rows)))\n>>> cond1 and cond2 and cond3\nTrue",
         "hidden": false,
         "locked": false
        },
        {
         "code": ">>> hasattr(model_2, 'rsquared') and hasattr(model_2, 'params') and (len(model_2.params) == 2)\nTrue",
         "hidden": false,
         "locked": false
        }
       ],
       "scored": true,
       "setup": "",
       "teardown": "",
       "type": "doctest"
      }
     ]
    },
    "q3_3": {
     "name": "q3_3",
     "points": null,
     "suites": [
      {
       "cases": [
        {
         "code": ">>> all(all_predictions_2 == model_2.predict(airplane_purchases_mileages))\nTrue",
         "hidden": false,
         "locked": false
        }
       ],
       "scored": true,
       "setup": "",
       "teardown": "",
       "type": "doctest"
      }
     ]
    },
    "q3_4": {
     "name": "q3_4",
     "points": null,
     "suites": [
      {
       "cases": [
        {
         "code": ">>> cols_for_scatter_1 == ('log_mileage', 'price', 'price_predicted')\nTrue",
         "hidden": false,
         "locked": false
        }
       ],
       "scored": true,
       "setup": "",
       "teardown": "",
       "type": "doctest"
      }
     ]
    },
    "q3_5": {
     "name": "q3_5",
     "points": null,
     "suites": [
      {
       "cases": [
        {
         "code": ">>> cols_for_scatter_2 == ('mileage', 'price', 'price_predicted')\nTrue",
         "hidden": false,
         "locked": false
        }
       ],
       "scored": true,
       "setup": "",
       "teardown": "",
       "type": "doctest"
      }
     ]
    },
    "q3_6": {
     "name": "q3_6",
     "points": null,
     "suites": [
      {
       "cases": [
        {
         "code": ">>> all(mileage_price_errors == airplane_mileage_preds.column('price') - airplane_mileage_preds.column('price_predicted'))\nTrue",
         "hidden": false,
         "locked": false
        }
       ],
       "scored": true,
       "setup": "",
       "teardown": "",
       "type": "doctest"
      }
     ]
    },
    "q3_7": {
     "name": "q3_7",
     "points": null,
     "suites": [
      {
       "cases": [
        {
         "code": ">>> log_mileage == log(50)\nTrue",
         "hidden": false,
         "locked": false
        },
        {
         "code": ">>> all(boeing_price_pred_2 == model_2.predict(Table().with_column('log_mileage', log_mileage)))\nTrue",
         "hidden": false,
         "locked": false
        }
       ],
       "scored": true,
       "setup": "",
       "teardown": "",
       "type": "doctest"
      }
     ]
    },
    "q4_1": {
     "name": "q4_1",
     "points": null,
     "suites": [
      {
       "cases": [
        {
         "code": ">>> all(log_price == log(airplane_purchases.column('price')))\nTrue",
         "hidden": false,
         "locked": false
        }
       ],
       "scored": true,
       "setup": "",
       "teardown": "",
       "type": "doctest"
      }
     ]
    },
    "q4_2": {
     "name": "q4_2",
     "points": null,
     "suites": [
      {
       "cases": [
        {
         "code": ">>> cond1 = list(model_3.model.data.frame.labels) == list(airplane_purchases_log_price.labels)\n>>> cond2 = model_3.model.data.frame.num_rows == airplane_purchases_log_price.num_rows\n>>> cond3 = all((model_3.model.data.frame.row(i) == airplane_purchases_log_price.row(i) for i in range(airplane_purchases_log_price.num_rows)))\n>>> cond1 and cond2 and cond3\nTrue",
         "hidden": false,
         "locked": false
        },
        {
         "code": ">>> hasattr(model_3, 'rsquared') and hasattr(model_3, 'params') and (len(model_3.params) == 2)\nTrue",
         "hidden": false,
         "locked": false
        }
       ],
       "scored": true,
       "setup": "",
       "teardown": "",
       "type": "doctest"
      }
     ]
    },
    "q4_3": {
     "name": "q4_3",
     "points": null,
     "suites": [
      {
       "cases": [
        {
         "code": ">>> all(all_predictions_3 == model_3.predict(airplane_purchases_log_price))\nTrue",
         "hidden": false,
         "locked": false
        }
       ],
       "scored": true,
       "setup": "",
       "teardown": "",
       "type": "doctest"
      }
     ]
    },
    "q4_4": {
     "name": "q4_4",
     "points": null,
     "suites": [
      {
       "cases": [
        {
         "code": ">>> cols_for_scatter_4 == ('mileage', 'log_price', 'log_price_predicted')\nTrue",
         "hidden": false,
         "locked": false
        }
       ],
       "scored": true,
       "setup": "",
       "teardown": "",
       "type": "doctest"
      }
     ]
    },
    "q4_5": {
     "name": "q4_5",
     "points": null,
     "suites": [
      {
       "cases": [
        {
         "code": ">>> all(sale_preds == exp(airplane_log_price_preds.column('log_price_predicted')))\nTrue",
         "hidden": false,
         "locked": false
        }
       ],
       "scored": true,
       "setup": "",
       "teardown": "",
       "type": "doctest"
      }
     ]
    },
    "q4_6": {
     "name": "q4_6",
     "points": null,
     "suites": [
      {
       "cases": [
        {
         "code": ">>> cols_for_scatter_5 == ('mileage', 'price', 'price_predicted')\nTrue",
         "hidden": false,
         "locked": false
        }
       ],
       "scored": true,
       "setup": "",
       "teardown": "",
       "type": "doctest"
      }
     ]
    },
    "q4_7": {
     "name": "q4_7",
     "points": null,
     "suites": [
      {
       "cases": [
        {
         "code": ">>> all(log_price_errors == airplane_log_price_preds.column('price') - airplane_log_price_preds.column('price_predicted'))\nTrue",
         "hidden": false,
         "locked": false
        }
       ],
       "scored": true,
       "setup": "",
       "teardown": "",
       "type": "doctest"
      }
     ]
    },
    "q4_8": {
     "name": "q4_8",
     "points": null,
     "suites": [
      {
       "cases": [
        {
         "code": ">>> all(mileage_pred == model_3.predict(Table().with_column('mileage', mileage)))\nTrue",
         "hidden": false,
         "locked": false
        },
        {
         "code": ">>> all(boeing_price_pred_3 == exp(mileage_pred))\nTrue",
         "hidden": false,
         "locked": false
        }
       ],
       "scored": true,
       "setup": "",
       "teardown": "",
       "type": "doctest"
      }
     ]
    }
   }
  },
  "otter_service": {
   "assignment": "lab_l",
   "course": "88bx",
   "section": "3"
  },
  "toc": {
   "base_numbering": 1,
   "nav_menu": {},
   "number_sections": true,
   "sideBar": true,
   "skip_h1_title": true,
   "title_cell": "Table of Contents",
   "title_sidebar": "Contents",
   "toc_cell": false,
   "toc_position": {
    "height": "calc(100% - 180px)",
    "left": "10px",
    "top": "150px",
    "width": "256.25px"
   },
   "toc_section_display": true,
   "toc_window_display": false
  }
 },
 "nbformat": 4,
 "nbformat_minor": 4
}
