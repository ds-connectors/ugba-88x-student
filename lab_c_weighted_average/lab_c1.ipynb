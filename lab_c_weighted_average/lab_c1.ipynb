{
 "cells": [
  {
   "cell_type": "code",
   "execution_count": null,
   "metadata": {
    "deletable": false,
    "editable": false
   },
   "outputs": [],
   "source": [
    "# Initialize Otter\n",
    "import otter\n",
    "grader = otter.Notebook(\"lab_c1.ipynb\")"
   ]
  },
  {
   "cell_type": "markdown",
   "metadata": {},
   "source": [
    "# Lab C1: Weighted Average"
   ]
  },
  {
   "cell_type": "markdown",
   "metadata": {},
   "source": [
    "## Setup"
   ]
  },
  {
   "cell_type": "code",
   "execution_count": null,
   "metadata": {},
   "outputs": [],
   "source": [
    "# Import some useful functions\n",
    "import warnings\n",
    "from datascience import Table, are\n",
    "from numpy import mean, median, array\n",
    "\n",
    "# Force display of all values \n",
    "from IPython.core.interactiveshell import InteractiveShell\n",
    "InteractiveShell.ast_node_interactivity = \"all\"\n",
    "\n",
    "# Hide some unnecessary warning messages\n",
    "warnings.filterwarnings(\"ignore\")"
   ]
  },
  {
   "cell_type": "markdown",
   "metadata": {},
   "source": [
    "## Airline Reservations"
   ]
  },
  {
   "cell_type": "markdown",
   "metadata": {},
   "source": [
    "### Business Decision\n",
    "\n",
    "The Manager of Travel Operations is considering setting a policy to encourage his company's executives to do business travel on either of two specific airlines.  He needs to account for how the airlines are suited to the kind of business travel typical of the executives and the airlines' prices."
   ]
  },
  {
   "cell_type": "markdown",
   "metadata": {
    "deletable": false,
    "editable": false
   },
   "source": [
    "### Data\n",
    "\n",
    "The dataset comprises a random sample of recent roundtrip tickets purchased from 2 airlines for travel between New York’s John F. Kennedy Airport (JFK) and Los Angeles Airport (LAX). Each ticket is described by the following variables:\n",
    "\n",
    "* `carrier`: the airline\n",
    "* `rtrip_fare`: round trip fare\n",
    "* `advance`: number of days in advance of the flight that ticket was purchased\n",
    "* `busclass`: indicator for business class ('1' if business class, '0' if not)\n",
    "* `nonrefundable`: indicator for whether a ticket was nonrefundable ('1' if nonrefundable, '0' if refundable)\n",
    "* `satstayover`: indicator for whether a roundtrip ticket includes a Saturday stayover in the destination location\n",
    "\n",
    "Retrieve the airline ticket dataset, show the number of observations and the first few observations."
   ]
  },
  {
   "cell_type": "code",
   "execution_count": null,
   "metadata": {
    "tags": [
     "otter_answer_cell"
    ]
   },
   "outputs": [],
   "source": [
    "ticket_prices = ...\n",
    "...\n",
    "ticket_prices"
   ]
  },
  {
   "cell_type": "code",
   "execution_count": null,
   "metadata": {
    "deletable": false,
    "editable": false
   },
   "outputs": [],
   "source": [
    "grader.check(\"q1\")"
   ]
  },
  {
   "cell_type": "markdown",
   "metadata": {
    "deletable": false,
    "editable": false
   },
   "source": [
    "### Analysis | Weighted Averages of Groups"
   ]
  },
  {
   "cell_type": "markdown",
   "metadata": {
    "deletable": false,
    "editable": false
   },
   "source": [
    "Calculate the mean and median prices."
   ]
  },
  {
   "cell_type": "code",
   "execution_count": null,
   "metadata": {
    "tags": [
     "otter_answer_cell"
    ]
   },
   "outputs": [],
   "source": [
    "mean_ticket_price = ...\n",
    "median_ticket_price = ..."
   ]
  },
  {
   "cell_type": "code",
   "execution_count": null,
   "metadata": {
    "deletable": false,
    "editable": false
   },
   "outputs": [],
   "source": [
    "grader.check(\"q2_1\")"
   ]
  },
  {
   "cell_type": "markdown",
   "metadata": {
    "deletable": false,
    "editable": false
   },
   "source": [
    "For each airline, calculate the number of flights."
   ]
  },
  {
   "cell_type": "code",
   "execution_count": null,
   "metadata": {
    "tags": [
     "otter_answer_cell"
    ]
   },
   "outputs": [],
   "source": [
    "airline_flights = ...\n",
    "airline_flights"
   ]
  },
  {
   "cell_type": "code",
   "execution_count": null,
   "metadata": {
    "deletable": false,
    "editable": false
   },
   "outputs": [],
   "source": [
    "grader.check(\"q2_2\")"
   ]
  },
  {
   "cell_type": "markdown",
   "metadata": {
    "deletable": false,
    "editable": false
   },
   "source": [
    "Calculate statistics to show whether one airline is much cheaper than the other, on average."
   ]
  },
  {
   "cell_type": "code",
   "execution_count": null,
   "metadata": {
    "tags": [
     "otter_answer_cell"
    ]
   },
   "outputs": [],
   "source": [
    "airline_mean_prices = ...\n",
    "airline_mean_prices"
   ]
  },
  {
   "cell_type": "code",
   "execution_count": null,
   "metadata": {
    "deletable": false,
    "editable": false
   },
   "outputs": [],
   "source": [
    "grader.check(\"q2_3\")"
   ]
  },
  {
   "cell_type": "markdown",
   "metadata": {
    "deletable": false,
    "editable": false
   },
   "source": [
    "Calculate statistics to show whether flights with Saturday stayovers are much cheaper than other flights, on average."
   ]
  },
  {
   "cell_type": "code",
   "execution_count": null,
   "metadata": {
    "tags": [
     "otter_answer_cell"
    ]
   },
   "outputs": [],
   "source": [
    "stayover_groups = ticket_prices.group('satstayover', mean)\n",
    "stayover_groups\n",
    "\n",
    "diff_satstayover = stayover_groups.column('rtrip_fare mean').item(0) - stayover_groups.column('rtrip_fare mean').item(1)\n",
    "diff_satstayover"
   ]
  },
  {
   "cell_type": "code",
   "execution_count": null,
   "metadata": {
    "deletable": false,
    "editable": false
   },
   "outputs": [],
   "source": [
    "grader.check(\"q2_4\")"
   ]
  },
  {
   "cell_type": "markdown",
   "metadata": {
    "vscode": {
     "languageId": "raw"
    }
   },
   "source": [
    "# OPTIONAL Challenge Questions\n",
    "You can not get a 100% in the course without getting these questions correct but you do not need to get them correct to pass the course and get the certificate."
   ]
  },
  {
   "cell_type": "markdown",
   "metadata": {
    "deletable": false,
    "editable": false
   },
   "source": [
    "1. Calculate the weighted average roundtrip fare across both airlines, weighted by the number of flights."
   ]
  },
  {
   "cell_type": "code",
   "execution_count": null,
   "metadata": {
    "tags": [
     "otter_answer_cell"
    ]
   },
   "outputs": [],
   "source": [
    "weighted_avg_fare = ...\n",
    "weighted_avg_fare"
   ]
  },
  {
   "cell_type": "code",
   "execution_count": null,
   "metadata": {
    "deletable": false,
    "editable": false
   },
   "outputs": [],
   "source": [
    "grader.check(\"qc_1\")"
   ]
  },
  {
   "cell_type": "markdown",
   "metadata": {
    "deletable": false,
    "editable": false
   },
   "source": [
    "2. Executives prefer refundable tickets. Which airline sells fewer nonrefundable tickets on average?"
   ]
  },
  {
   "cell_type": "code",
   "execution_count": null,
   "metadata": {
    "tags": [
     "otter_answer_cell"
    ]
   },
   "outputs": [],
   "source": [
    "airlines_nonrefundable = ...\n",
    "airlines_nonrefundable"
   ]
  },
  {
   "cell_type": "code",
   "execution_count": null,
   "metadata": {
    "deletable": false,
    "editable": false
   },
   "outputs": [],
   "source": [
    "grader.check(\"qc_2\")"
   ]
  },
  {
   "cell_type": "markdown",
   "metadata": {
    "deletable": false,
    "editable": false
   },
   "source": [
    "3. Suppose the company adopts a travel policy that allows only nonrefundable economy-class tickets booked at least 14 days in advance. What is the average price under this constraint?"
   ]
  },
  {
   "cell_type": "code",
   "execution_count": null,
   "metadata": {
    "tags": [
     "otter_answer_cell"
    ]
   },
   "outputs": [],
   "source": [
    "filtered = ...\n",
    "average_filtered_price = ...\n",
    "\n",
    "filtered\n",
    "average_filtered_price"
   ]
  },
  {
   "cell_type": "code",
   "execution_count": null,
   "metadata": {
    "deletable": false,
    "editable": false
   },
   "outputs": [],
   "source": [
    "grader.check(\"qc_3\")"
   ]
  },
  {
   "cell_type": "markdown",
   "metadata": {},
   "source": [
    "<p style=\"text-align:left; font-size:10px;\">\n",
    "Copyright (c) Huntsinger Associates, LLC\n",
    "<span style=\"float:right;\">\n",
    "Document revised September 1, 2023\n",
    "</span>\n",
    "</p>"
   ]
  }
 ],
 "metadata": {
  "kernelspec": {
   "display_name": ".venv",
   "language": "python",
   "name": "python3"
  },
  "language_info": {
   "codemirror_mode": {
    "name": "ipython",
    "version": 3
   },
   "file_extension": ".py",
   "mimetype": "text/x-python",
   "name": "python",
   "nbconvert_exporter": "python",
   "pygments_lexer": "ipython3",
   "version": "3.13.5"
  },
  "otter": {
   "OK_FORMAT": true,
   "tests": {
    "q1": {
     "name": "q1",
     "points": null,
     "suites": [
      {
       "cases": [
        {
         "code": ">>> ticket_prices.num_rows == 10266\nTrue",
         "hidden": false,
         "locked": false
        },
        {
         "code": ">>> ticket_prices.labels == ('carrier', 'rtrip_fare', 'advance', 'busclass', 'nonrefundable', 'satstayover')\nTrue",
         "hidden": false,
         "locked": false
        }
       ],
       "scored": true,
       "setup": "",
       "teardown": "",
       "type": "doctest"
      }
     ]
    },
    "q2_1": {
     "name": "q2_1",
     "points": null,
     "suites": [
      {
       "cases": [
        {
         "code": ">>> round(mean_ticket_price) == 369\nTrue",
         "hidden": false,
         "locked": false
        },
        {
         "code": ">>> round(median_ticket_price) == 328\nTrue",
         "hidden": false,
         "locked": false
        }
       ],
       "scored": true,
       "setup": "",
       "teardown": "",
       "type": "doctest"
      }
     ]
    },
    "q2_2": {
     "name": "q2_2",
     "points": null,
     "suites": [
      {
       "cases": [
        {
         "code": ">>> all(airline_flights.labels == array(['carrier', 'count']))\nTrue",
         "hidden": false,
         "locked": false
        },
        {
         "code": ">>> all(airline_flights.column('carrier') == ['AA', 'UA'])\nTrue",
         "hidden": false,
         "locked": false
        }
       ],
       "scored": true,
       "setup": "",
       "teardown": "",
       "type": "doctest"
      }
     ]
    },
    "q2_3": {
     "name": "q2_3",
     "points": null,
     "suites": [
      {
       "cases": [
        {
         "code": ">>> all(airline_mean_prices.labels == array(['carrier', 'rtrip_fare mean', 'advance mean', 'busclass mean', 'nonrefundable mean', 'satstayover mean']))\nTrue",
         "hidden": false,
         "locked": false
        },
        {
         "code": ">>> all(airline_mean_prices.column('carrier') == ['AA', 'UA'])\nTrue",
         "hidden": false,
         "locked": false
        }
       ],
       "scored": true,
       "setup": "",
       "teardown": "",
       "type": "doctest"
      }
     ]
    },
    "q2_4": {
     "name": "q2_4",
     "points": null,
     "suites": [
      {
       "cases": [
        {
         "code": ">>> all(stayover_groups.column('satstayover') == [0, 1])\nTrue",
         "hidden": false,
         "locked": false
        },
        {
         "code": ">>> round(diff_satstayover) == 150\nTrue",
         "hidden": false,
         "locked": false
        }
       ],
       "scored": true,
       "setup": "",
       "teardown": "",
       "type": "doctest"
      }
     ]
    },
    "qc_1": {
     "name": "qc_1",
     "points": null,
     "suites": [
      {
       "cases": [
        {
         "code": ">>> weighted_avg_fare == (airline_flights.column('count').item(0) * airline_mean_prices.column('rtrip_fare mean').item(0) + airline_flights.column('count').item(1) * airline_mean_prices.column('rtrip_fare mean').item(1)) / ticket_prices.num_rows\nTrue",
         "hidden": false,
         "locked": false
        }
       ],
       "scored": true,
       "setup": "",
       "teardown": "",
       "type": "doctest"
      }
     ]
    },
    "qc_2": {
     "name": "qc_2",
     "points": null,
     "suites": [
      {
       "cases": [
        {
         "code": ">>> airlines_nonrefundable.labels == ('carrier', 'nonrefundable mean') and airlines_nonrefundable.num_rows == 2\nTrue",
         "hidden": false,
         "locked": false
        }
       ],
       "scored": true,
       "setup": "",
       "teardown": "",
       "type": "doctest"
      }
     ]
    },
    "qc_3": {
     "name": "qc_3",
     "points": null,
     "suites": [
      {
       "cases": [
        {
         "code": ">>> filtered.labels == ('carrier', 'rtrip_fare', 'advance', 'busclass', 'nonrefundable', 'satstayover') and filtered.num_rows == 4718\nTrue",
         "hidden": false,
         "locked": false
        },
        {
         "code": ">>> all(filtered.column('nonrefundable') == 1) and all(filtered.column('busclass') == 0) and all(filtered.column('advance') >= 14)\nTrue",
         "hidden": false,
         "locked": false
        },
        {
         "code": ">>> average_filtered_price == mean(filtered.column('rtrip_fare'))\nTrue",
         "hidden": false,
         "locked": false
        }
       ],
       "scored": true,
       "setup": "",
       "teardown": "",
       "type": "doctest"
      }
     ]
    }
   }
  },
  "otter_service": {
   "assignment": "lab_c1",
   "course": "88bx",
   "section": "1"
  },
  "toc": {
   "base_numbering": 1,
   "nav_menu": {},
   "number_sections": true,
   "sideBar": true,
   "skip_h1_title": true,
   "title_cell": "Table of Contents",
   "title_sidebar": "Contents",
   "toc_cell": false,
   "toc_position": {
    "height": "calc(100% - 180px)",
    "left": "10px",
    "top": "150px",
    "width": "256.25px"
   },
   "toc_section_display": true,
   "toc_window_display": false
  }
 },
 "nbformat": 4,
 "nbformat_minor": 4
}
