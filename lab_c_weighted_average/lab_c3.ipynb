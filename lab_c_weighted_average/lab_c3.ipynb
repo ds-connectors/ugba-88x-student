{
 "cells": [
  {
   "cell_type": "code",
   "execution_count": null,
   "metadata": {
    "deletable": false,
    "editable": false
   },
   "outputs": [],
   "source": [
    "# Initialize Otter\n",
    "import otter\n",
    "grader = otter.Notebook(\"lab_c3.ipynb\")"
   ]
  },
  {
   "cell_type": "markdown",
   "metadata": {},
   "source": [
    "# Lab C3: Weighted Average"
   ]
  },
  {
   "cell_type": "markdown",
   "metadata": {},
   "source": [
    "## Setup"
   ]
  },
  {
   "cell_type": "code",
   "execution_count": null,
   "metadata": {},
   "outputs": [],
   "source": [
    "import warnings\n",
    "from datascience import *\n",
    "from numpy import mean, unique\n",
    "\n",
    "# Force display of all values \n",
    "from IPython.core.interactiveshell import InteractiveShell\n",
    "InteractiveShell.ast_node_interactivity = \"all\"\n",
    "\n",
    "# Hide some unnecessary warning messages\n",
    "warnings.filterwarnings(\"ignore\")"
   ]
  },
  {
   "cell_type": "markdown",
   "metadata": {},
   "source": [
    "## Restaurant Reviews"
   ]
  },
  {
   "cell_type": "markdown",
   "metadata": {},
   "source": [
    "### Business Decision\n",
    "\n",
    "An independent marketing firm recently surveyed some of the city's restaurant patrons for their overall ratings of several restaurants.  It is not clear how well the surveyed patrons represent the city's entire population of patrons.  The owner of restaurant \\#135060 is considering launching a marketing campaign that would tout its favorable customer ratings."
   ]
  },
  {
   "cell_type": "markdown",
   "metadata": {
    "deletable": false,
    "editable": false
   },
   "source": [
    "### Data\n",
    "\n",
    "The dataset comprises several ratings.  Each observation corresponds to a customer's review of a restaurant.\n",
    "\n",
    "Retrieve the restaurant survey dataset, show the number of observations and the first few observations"
   ]
  },
  {
   "cell_type": "code",
   "execution_count": null,
   "metadata": {
    "scrolled": false,
    "tags": [
     "otter_answer_cell"
    ]
   },
   "outputs": [],
   "source": [
    "restaurant_reviews = ...\n",
    "...\n",
    "restaurant_reviews"
   ]
  },
  {
   "cell_type": "code",
   "execution_count": null,
   "metadata": {
    "deletable": false,
    "editable": false
   },
   "outputs": [],
   "source": [
    "grader.check(\"q1_1\")"
   ]
  },
  {
   "cell_type": "markdown",
   "metadata": {
    "deletable": false,
    "editable": false
   },
   "source": [
    "Show all the possible rating levels."
   ]
  },
  {
   "cell_type": "code",
   "execution_count": null,
   "metadata": {
    "tags": [
     "otter_answer_cell"
    ]
   },
   "outputs": [],
   "source": [
    "rating_levels = ...\n",
    "rating_levels"
   ]
  },
  {
   "cell_type": "code",
   "execution_count": null,
   "metadata": {
    "deletable": false,
    "editable": false
   },
   "outputs": [],
   "source": [
    "grader.check(\"q1_2\")"
   ]
  },
  {
   "cell_type": "markdown",
   "metadata": {
    "deletable": false,
    "editable": false
   },
   "source": [
    "### Analysis | Weighted Average by Group, missing data, proportions unknown"
   ]
  },
  {
   "cell_type": "markdown",
   "metadata": {
    "deletable": false,
    "editable": false
   },
   "source": [
    "Build and show a table comprising reviews for restaurant #135060."
   ]
  },
  {
   "cell_type": "code",
   "execution_count": null,
   "metadata": {
    "scrolled": false,
    "tags": [
     "otter_answer_cell"
    ]
   },
   "outputs": [],
   "source": [
    "restaurant1 = ...\n",
    "restaurant1.num_rows\n",
    "restaurant1.show()"
   ]
  },
  {
   "cell_type": "code",
   "execution_count": null,
   "metadata": {
    "deletable": false,
    "editable": false
   },
   "outputs": [],
   "source": [
    "grader.check(\"q2_1\")"
   ]
  },
  {
   "cell_type": "markdown",
   "metadata": {
    "deletable": false,
    "editable": false
   },
   "source": [
    "Calculate the mean rating for restaurant #135060."
   ]
  },
  {
   "cell_type": "code",
   "execution_count": null,
   "metadata": {
    "tags": [
     "otter_answer_cell"
    ]
   },
   "outputs": [],
   "source": [
    "avg = ...\n",
    "avg"
   ]
  },
  {
   "cell_type": "code",
   "execution_count": null,
   "metadata": {
    "deletable": false,
    "editable": false
   },
   "outputs": [],
   "source": [
    "grader.check(\"q2_2\")"
   ]
  },
  {
   "cell_type": "markdown",
   "metadata": {
    "deletable": false,
    "editable": false
   },
   "source": [
    "Calculate the number of student customers for restaurant #135060.  \n",
    "Calculate the number of professional customers for restaurant #135060.  \n",
    "Calculate the number of unemployed customers for restaurant #135060.  \n",
    "Calculate the number of customers with known activity type for restaurant #135060."
   ]
  },
  {
   "cell_type": "code",
   "execution_count": null,
   "metadata": {
    "tags": [
     "otter_answer_cell"
    ]
   },
   "outputs": [],
   "source": [
    "# Calculate the number of student customers for restaurant #135060\n",
    "n_student = ...\n",
    "n_student\n",
    "\n",
    "# Calculate the number of professional customers for restaurant #135060\n",
    "n_professional = ...\n",
    "n_professional\n",
    "\n",
    "# Calculate the number of unemployed customers for restaurant #135060\n",
    "n_unemployed = ...\n",
    "n_unemployed\n",
    "\n",
    "# Calculate the number of customers with known activity type for restaurant #135060\n",
    "n = ...\n",
    "n"
   ]
  },
  {
   "cell_type": "code",
   "execution_count": null,
   "metadata": {
    "deletable": false,
    "editable": false
   },
   "outputs": [],
   "source": [
    "grader.check(\"q2_3\")"
   ]
  },
  {
   "cell_type": "markdown",
   "metadata": {
    "deletable": false,
    "editable": false
   },
   "source": [
    "Calculate the mean rating by student customers for restaurant #135060.  \n",
    "Calculate the mean rating by professional customers for restaurant #135060.  \n",
    "Calculate the mean rating by unemployed customers for restaurant #135060."
   ]
  },
  {
   "cell_type": "code",
   "execution_count": null,
   "metadata": {
    "tags": [
     "otter_answer_cell"
    ]
   },
   "outputs": [],
   "source": [
    "# Calculate the mean rating by student customers for restaurant #135060\n",
    "mean_student = ...\n",
    "mean_student\n",
    "\n",
    "# Calculate the mean rating by professional customers for restaurant #135060\n",
    "mean_professional = ...\n",
    "mean_professional\n",
    "\n",
    "# Calculate the mean rating by unemployed customers for restaurant #135060\n",
    "mean_unemployed = ...\n",
    "mean_unemployed"
   ]
  },
  {
   "cell_type": "code",
   "execution_count": null,
   "metadata": {
    "deletable": false,
    "editable": false
   },
   "outputs": [],
   "source": [
    "grader.check(\"q2_4\")"
   ]
  },
  {
   "cell_type": "markdown",
   "metadata": {
    "deletable": false,
    "editable": false
   },
   "source": [
    "Calculate the weighted average rating by activity type for restaurant #135060,\n",
    "assuming activity types for the population are equally distributed."
   ]
  },
  {
   "cell_type": "code",
   "execution_count": null,
   "metadata": {
    "tags": [
     "otter_answer_cell"
    ]
   },
   "outputs": [],
   "source": [
    "avg_equal = ...\n",
    "avg_equal"
   ]
  },
  {
   "cell_type": "code",
   "execution_count": null,
   "metadata": {
    "deletable": false,
    "editable": false
   },
   "outputs": [],
   "source": [
    "grader.check(\"q2_5\")"
   ]
  },
  {
   "cell_type": "markdown",
   "metadata": {
    "deletable": false,
    "editable": false
   },
   "source": [
    "Calculate the weighted average rating by activity type for restaurant #135060,\n",
    "assuming activity types for the population are distributed as they are for restaurant #135060."
   ]
  },
  {
   "cell_type": "code",
   "execution_count": null,
   "metadata": {
    "tags": [
     "otter_answer_cell"
    ]
   },
   "outputs": [],
   "source": [
    "avg_sample = ...\n",
    "avg_sample"
   ]
  },
  {
   "cell_type": "code",
   "execution_count": null,
   "metadata": {
    "deletable": false,
    "editable": false
   },
   "outputs": [],
   "source": [
    "grader.check(\"q2_6\")"
   ]
  },
  {
   "cell_type": "markdown",
   "metadata": {
    "deletable": false,
    "editable": false
   },
   "source": [
    "Calculate the weighted average rating by activity type for restaurant #135060,\n",
    "assuming activity types for the population are distributed as in all the data."
   ]
  },
  {
   "cell_type": "code",
   "execution_count": null,
   "metadata": {
    "tags": [
     "otter_answer_cell"
    ]
   },
   "outputs": [],
   "source": [
    "n_all_student = ...\n",
    "n_all_professional = ...\n",
    "n_all_unemployed = ...\n",
    "n_all = ...\n",
    "\n",
    "n_all_student\n",
    "n_all_professional\n",
    "n_all_unemployed\n",
    "n_all\n",
    "\n",
    "avg_all = ...\n",
    "avg_all"
   ]
  },
  {
   "cell_type": "code",
   "execution_count": null,
   "metadata": {
    "deletable": false,
    "editable": false
   },
   "outputs": [],
   "source": [
    "grader.check(\"q2_7\")"
   ]
  },
  {
   "cell_type": "markdown",
   "metadata": {
    "deletable": false,
    "editable": false
   },
   "source": [
    "Build a table to compare rating averages calculated various ways like this:\n",
    "* One column for calculation method name + one column for distribution assumption + one column for rating averages\n",
    "* Four rows for calculation methods\n",
    "  * First row is mean\n",
    "  * Second row is weighted average by activity, assuming population distribution is equal\n",
    "  * Third row is weighted average by activity, assuming population distribution is as in restaurant sample\n",
    "  * Fourth row is weighted average by activity, assuming population distribution is as in all data"
   ]
  },
  {
   "cell_type": "code",
   "execution_count": null,
   "metadata": {
    "tags": [
     "otter_answer_cell"
    ]
   },
   "outputs": [],
   "source": [
    "row_values = ...\n",
    "\n",
    "rating_averages = Table().with_columns('Method', make_array('mean', 'weighted average by activity', 'weighted average by activity', 'weighted average by activity'),\n",
    "                     'Distribution Assumption', make_array('', 'equal', 'as in restaurant sample', 'as in all data'),\n",
    "                     'Restaurant #135060', row_values)"
   ]
  },
  {
   "cell_type": "code",
   "execution_count": null,
   "metadata": {
    "deletable": false,
    "editable": false
   },
   "outputs": [],
   "source": [
    "grader.check(\"q2_8\")"
   ]
  },
  {
   "cell_type": "markdown",
   "metadata": {},
   "source": [
    "# OPTIONAL Challenge Questions\n",
    "You can not get a 100% in the course without getting these questions correct but you do not need to get them correct to pass the course and get the certificate."
   ]
  },
  {
   "cell_type": "markdown",
   "metadata": {
    "deletable": false,
    "editable": false
   },
   "source": [
    "1. What is the proportion of student, professional, and unemployed customers across the entire dataset (not just this restaurant)?"
   ]
  },
  {
   "cell_type": "code",
   "execution_count": null,
   "metadata": {
    "tags": [
     "otter_answer_cell"
    ]
   },
   "outputs": [],
   "source": [
    "total = n_all\n",
    "prop_student = ...\n",
    "prop_professional = ...\n",
    "prop_unemployed = ...\n",
    "print(prop_student, prop_professional, prop_unemployed)"
   ]
  },
  {
   "cell_type": "code",
   "execution_count": null,
   "metadata": {
    "deletable": false,
    "editable": false
   },
   "outputs": [],
   "source": [
    "grader.check(\"qc_1\")"
   ]
  },
  {
   "cell_type": "markdown",
   "metadata": {
    "deletable": false,
    "editable": false
   },
   "source": [
    "2. Suppose only student activity data is considered relevant to the restaurant's reputation. What would the average rating be if you only include student ratings?"
   ]
  },
  {
   "cell_type": "code",
   "execution_count": null,
   "metadata": {
    "tags": [
     "otter_answer_cell"
    ]
   },
   "outputs": [],
   "source": [
    "only_students = ...\n",
    "only_students_avg = ...\n",
    "only_students_avg"
   ]
  },
  {
   "cell_type": "code",
   "execution_count": null,
   "metadata": {
    "deletable": false,
    "editable": false
   },
   "outputs": [],
   "source": [
    "grader.check(\"qc_2\")"
   ]
  },
  {
   "cell_type": "markdown",
   "metadata": {
    "deletable": false,
    "editable": false
   },
   "source": [
    "3. Recalculate the restaurant average rating excluding rows with missing activity. Is it different?"
   ]
  },
  {
   "cell_type": "code",
   "execution_count": null,
   "metadata": {
    "tags": [
     "otter_answer_cell"
    ]
   },
   "outputs": [],
   "source": [
    "known_activity = ...\n",
    "mean_known_activity = ...\n",
    "mean_known_activity"
   ]
  },
  {
   "cell_type": "code",
   "execution_count": null,
   "metadata": {
    "deletable": false,
    "editable": false
   },
   "outputs": [],
   "source": [
    "grader.check(\"qc_3\")"
   ]
  },
  {
   "cell_type": "markdown",
   "metadata": {},
   "source": [
    "<p style=\"text-align:left; font-size:10px;\">\n",
    "Copyright (c) Huntsinger Associates, LLC\n",
    "<span style=\"float:right;\">\n",
    "Document revised September 1, 2023\n",
    "</span>\n",
    "</p>"
   ]
  }
 ],
 "metadata": {
  "kernelspec": {
   "display_name": ".venv (3.11.4)",
   "language": "python",
   "name": "python3"
  },
  "language_info": {
   "codemirror_mode": {
    "name": "ipython",
    "version": 3
   },
   "file_extension": ".py",
   "mimetype": "text/x-python",
   "name": "python",
   "nbconvert_exporter": "python",
   "pygments_lexer": "ipython3",
   "version": "3.13.5"
  },
  "otter": {
   "OK_FORMAT": true,
   "tests": {
    "q1_1": {
     "name": "q1_1",
     "points": null,
     "suites": [
      {
       "cases": [
        {
         "code": ">>> restaurant_reviews.num_rows == 1161\nTrue",
         "hidden": false,
         "locked": false
        },
        {
         "code": ">>> len(restaurant_reviews.columns) == 23\nTrue",
         "hidden": false,
         "locked": false
        }
       ],
       "scored": true,
       "setup": "",
       "teardown": "",
       "type": "doctest"
      }
     ]
    },
    "q1_2": {
     "name": "q1_2",
     "points": null,
     "suites": [
      {
       "cases": [
        {
         "code": ">>> all(rating_levels == [0, 1, 2])\nTrue",
         "hidden": false,
         "locked": false
        }
       ],
       "scored": true,
       "setup": "",
       "teardown": "",
       "type": "doctest"
      }
     ]
    },
    "q2_1": {
     "name": "q2_1",
     "points": null,
     "suites": [
      {
       "cases": [
        {
         "code": ">>> restaurant1.num_rows == 22\nTrue",
         "hidden": false,
         "locked": false
        },
        {
         "code": ">>> all(restaurant1['placeID'] == 135060)\nTrue",
         "hidden": false,
         "locked": false
        }
       ],
       "scored": true,
       "setup": "",
       "teardown": "",
       "type": "doctest"
      }
     ]
    },
    "q2_2": {
     "name": "q2_2",
     "points": null,
     "suites": [
      {
       "cases": [
        {
         "code": ">>> round(avg, 2) == 1.14\nTrue",
         "hidden": false,
         "locked": false
        }
       ],
       "scored": true,
       "setup": "",
       "teardown": "",
       "type": "doctest"
      }
     ]
    },
    "q2_3": {
     "name": "q2_3",
     "points": null,
     "suites": [
      {
       "cases": [
        {
         "code": ">>> n_student == 17\nTrue",
         "hidden": false,
         "locked": false
        },
        {
         "code": ">>> n_professional == 3\nTrue",
         "hidden": false,
         "locked": false
        },
        {
         "code": ">>> n_unemployed == 1\nTrue",
         "hidden": false,
         "locked": false
        },
        {
         "code": ">>> n == 21\nTrue",
         "hidden": false,
         "locked": false
        }
       ],
       "scored": true,
       "setup": "",
       "teardown": "",
       "type": "doctest"
      }
     ]
    },
    "q2_4": {
     "name": "q2_4",
     "points": null,
     "suites": [
      {
       "cases": [
        {
         "code": ">>> round(mean_student, 2) == 1.18\nTrue",
         "hidden": false,
         "locked": false
        },
        {
         "code": ">>> round(mean_professional, 2) == 1.33\nTrue",
         "hidden": false,
         "locked": false
        },
        {
         "code": ">>> mean_unemployed == 0.0\nTrue",
         "hidden": false,
         "locked": false
        }
       ],
       "scored": true,
       "setup": "",
       "teardown": "",
       "type": "doctest"
      }
     ]
    },
    "q2_5": {
     "name": "q2_5",
     "points": null,
     "suites": [
      {
       "cases": [
        {
         "code": ">>> round(avg_equal, 2) == 0.84\nTrue",
         "hidden": false,
         "locked": false
        }
       ],
       "scored": true,
       "setup": "",
       "teardown": "",
       "type": "doctest"
      }
     ]
    },
    "q2_6": {
     "name": "q2_6",
     "points": null,
     "suites": [
      {
       "cases": [
        {
         "code": ">>> round(avg_sample, 2) == 1.14\nTrue",
         "hidden": false,
         "locked": false
        }
       ],
       "scored": true,
       "setup": "",
       "teardown": "",
       "type": "doctest"
      }
     ]
    },
    "q2_7": {
     "name": "q2_7",
     "points": null,
     "suites": [
      {
       "cases": [
        {
         "code": ">>> n_all_student == 971\nTrue",
         "hidden": false,
         "locked": false
        },
        {
         "code": ">>> n_all_professional == 119\nTrue",
         "hidden": false,
         "locked": false
        },
        {
         "code": ">>> n_all_unemployed == 14\nTrue",
         "hidden": false,
         "locked": false
        },
        {
         "code": ">>> n_all == 1104\nTrue",
         "hidden": false,
         "locked": false
        },
        {
         "code": ">>> round(avg_all, 2) == 1.18\nTrue",
         "hidden": false,
         "locked": false
        }
       ],
       "scored": true,
       "setup": "",
       "teardown": "",
       "type": "doctest"
      }
     ]
    },
    "q2_8": {
     "name": "q2_8",
     "points": null,
     "suites": [
      {
       "cases": [
        {
         "code": ">>> all(row_values == make_array(avg, avg_equal, avg_sample, avg_all))\nTrue",
         "hidden": false,
         "locked": false
        }
       ],
       "scored": true,
       "setup": "",
       "teardown": "",
       "type": "doctest"
      }
     ]
    },
    "qc_1": {
     "name": "qc_1",
     "points": null,
     "suites": [
      {
       "cases": [
        {
         "code": ">>> prop_student == n_all_student / total\nTrue",
         "hidden": false,
         "locked": false
        },
        {
         "code": ">>> prop_professional == n_all_professional / total\nTrue",
         "hidden": false,
         "locked": false
        },
        {
         "code": ">>> prop_unemployed == n_all_unemployed / total\nTrue",
         "hidden": false,
         "locked": false
        }
       ],
       "scored": true,
       "setup": "",
       "teardown": "",
       "type": "doctest"
      }
     ]
    },
    "qc_2": {
     "name": "qc_2",
     "points": null,
     "suites": [
      {
       "cases": [
        {
         "code": ">>> only_students.labels == ('activity', 'student')\nFalse",
         "hidden": false,
         "locked": false
        },
        {
         "code": ">>> only_students_avg == mean(only_students.column('rating'))\nTrue",
         "hidden": false,
         "locked": false
        }
       ],
       "scored": true,
       "setup": "",
       "teardown": "",
       "type": "doctest"
      }
     ]
    },
    "qc_3": {
     "name": "qc_3",
     "points": null,
     "suites": [
      {
       "cases": [
        {
         "code": ">>> all(known_activity.column('activity') != '?')\nTrue",
         "hidden": false,
         "locked": false
        },
        {
         "code": ">>> mean_known_activity == mean(known_activity.column('rating'))\nTrue",
         "hidden": false,
         "locked": false
        }
       ],
       "scored": true,
       "setup": "",
       "teardown": "",
       "type": "doctest"
      }
     ]
    }
   }
  },
  "otter_service": {
   "assignment": "lab_c3",
   "course": "88bx",
   "section": "1"
  },
  "toc": {
   "base_numbering": 1,
   "nav_menu": {},
   "number_sections": true,
   "sideBar": true,
   "skip_h1_title": true,
   "title_cell": "Table of Contents",
   "title_sidebar": "Contents",
   "toc_cell": false,
   "toc_position": {
    "height": "calc(100% - 180px)",
    "left": "10px",
    "top": "150px",
    "width": "256.25px"
   },
   "toc_section_display": true,
   "toc_window_display": false
  }
 },
 "nbformat": 4,
 "nbformat_minor": 4
}
