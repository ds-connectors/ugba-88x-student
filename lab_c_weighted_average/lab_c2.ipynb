{
 "cells": [
  {
   "cell_type": "code",
   "execution_count": null,
   "metadata": {
    "deletable": false,
    "editable": false
   },
   "outputs": [],
   "source": [
    "# Initialize Otter\n",
    "import otter\n",
    "grader = otter.Notebook(\"lab_c2.ipynb\")"
   ]
  },
  {
   "cell_type": "markdown",
   "metadata": {},
   "source": [
    "# Lab C: Weighted Average"
   ]
  },
  {
   "cell_type": "markdown",
   "metadata": {},
   "source": [
    "## Setup"
   ]
  },
  {
   "cell_type": "code",
   "execution_count": null,
   "metadata": {},
   "outputs": [],
   "source": [
    "# Import some useful functions\n",
    "import warnings\n",
    "from datascience import Table\n",
    "from numpy import mean\n",
    "\n",
    "# Force display of all values \n",
    "from IPython.core.interactiveshell import InteractiveShell\n",
    "InteractiveShell.ast_node_interactivity = \"all\"\n",
    "\n",
    "# Hide some unnecessary warning messages\n",
    "warnings.filterwarnings(\"ignore\")"
   ]
  },
  {
   "cell_type": "markdown",
   "metadata": {},
   "source": [
    "## Doctor Surveys"
   ]
  },
  {
   "cell_type": "markdown",
   "metadata": {},
   "source": [
    "### Business Decision\n",
    "\n",
    "A medical device company has surveyed customer satisfaction on a random sample of doctors that use its products.  The company partitions the doctors into three categories depending on their hospital size: small (1-50 beds), medium (51-500 beds), and large (501+ beds).  As with many, perhaps most, surveys, many of the the survey recipients did not respond.  Still, the Vice President of Customer Service needs to interpret the survey results and might need to adjust service and make product change recommendations accordingly."
   ]
  },
  {
   "cell_type": "markdown",
   "metadata": {
    "deletable": false,
    "editable": false
   },
   "source": [
    "### Data\n",
    "\n",
    "The dataset lists the doctors that were sent the survey.  Each observation corresponds to a doctor, and indicates ...\n",
    "* a unique, anonymized doctor identifier,\n",
    "* whether the doctor responded to the survey,\n",
    "* the doctor’s reported satisfaction with the company’s devices (measured on a 1-5 scale, where ‘1’ indicates ‘not satisfied at all’ and ‘5’ indicates ‘completely satisfied’), if the doctor responded, and\n",
    "* the doctor’s hospital size, which historically has been a key distinguishing feature of the company’s customers.\n",
    "\n",
    "Retrieve the hospital survey data, show the number of observations and the first few observations."
   ]
  },
  {
   "cell_type": "code",
   "execution_count": null,
   "metadata": {
    "tags": [
     "otter_answer_cell"
    ]
   },
   "outputs": [],
   "source": [
    "hospital_survey = ...\n",
    "...\n",
    "hospital_survey"
   ]
  },
  {
   "cell_type": "code",
   "execution_count": null,
   "metadata": {
    "deletable": false,
    "editable": false
   },
   "outputs": [],
   "source": [
    "grader.check(\"q1\")"
   ]
  },
  {
   "cell_type": "markdown",
   "metadata": {
    "deletable": false,
    "editable": false
   },
   "source": [
    "### Analysis | Weighted Average by Group, missing data, proportions known"
   ]
  },
  {
   "cell_type": "markdown",
   "metadata": {
    "deletable": false,
    "editable": false
   },
   "source": [
    "Calculate the number of doctors surveyed.  \n",
    "Calculate the number of responses.  \n",
    "Calculate the response rate.  \n",
    "Calculate the mean satisfaction."
   ]
  },
  {
   "cell_type": "code",
   "execution_count": null,
   "metadata": {
    "tags": [
     "otter_answer_cell"
    ]
   },
   "outputs": [],
   "source": [
    "# Calculate the number of doctors surveyed\n",
    "n_pop = ...\n",
    "n_pop\n",
    "\n",
    "# Calculate the number of responses\n",
    "n_respond = ...\n",
    "n_respond\n",
    "\n",
    "# Calculate the response rate\n",
    "rate = ...\n",
    "rate\n",
    "\n",
    "# Calculate the mean satisfaction\n",
    "avg_sat = ...\n",
    "avg_sat"
   ]
  },
  {
   "cell_type": "code",
   "execution_count": null,
   "metadata": {
    "deletable": false,
    "editable": false
   },
   "outputs": [],
   "source": [
    "grader.check(\"q2_1\")"
   ]
  },
  {
   "cell_type": "markdown",
   "metadata": {
    "deletable": false,
    "editable": false
   },
   "source": [
    "Build a table comprising the observations at small hospitals, show the first few observations.  \n",
    "Calculate the number of doctors surveyed at small hospitals.  \n",
    "Calculate the number of responses at small hospitals.  \n",
    "Calculate the response rate for small hospitals.  \n",
    "Calculate the mean satisfaction for small hospitals."
   ]
  },
  {
   "cell_type": "code",
   "execution_count": null,
   "metadata": {
    "tags": [
     "otter_answer_cell"
    ]
   },
   "outputs": [],
   "source": [
    "# Build a table comprising the observations at small hospitals, show the first few observations\n",
    "data_small = ...\n",
    "data_small\n",
    "\n",
    "# Calculate the number of doctors surveyed at small hospitals\n",
    "n_pop_small = ...\n",
    "n_pop_small\n",
    "\n",
    "# Calculate the number of responses at small hospitals\n",
    "n_respond_small = ...\n",
    "n_respond_small\n",
    "\n",
    "# Calculate the response rate for small hospitals\n",
    "rate_small = ...\n",
    "rate_small\n",
    "\n",
    "# Calculate the mean satisfaction for small hospitals\n",
    "avg_sat_small = ...\n",
    "avg_sat_small"
   ]
  },
  {
   "cell_type": "code",
   "execution_count": null,
   "metadata": {
    "deletable": false,
    "editable": false
   },
   "outputs": [],
   "source": [
    "grader.check(\"q2_2\")"
   ]
  },
  {
   "cell_type": "markdown",
   "metadata": {
    "deletable": false,
    "editable": false
   },
   "source": [
    "Build a table comprising the observations at medium hospitals, show the first few observations.  \n",
    "Calculate the number of doctors surveyed at medium hospitals.  \n",
    "Calculate the number of responses at medium hospitals.  \n",
    "Calculate the response rate for medium hospitals.  \n",
    "Calculate the mean satisfaction for medium hospitals."
   ]
  },
  {
   "cell_type": "code",
   "execution_count": null,
   "metadata": {
    "tags": [
     "otter_answer_cell"
    ]
   },
   "outputs": [],
   "source": [
    "# Build a table comprising the observations at medium hospitals, show the first few observations\n",
    "data_medium = hospital_survey.where('hospital_type','medium')\n",
    "data_medium\n",
    "\n",
    "# Calculate the number of doctors surveyed at medium hospitals\n",
    "n_pop_medium = data_medium.num_rows\n",
    "n_pop_medium\n",
    "\n",
    "# Calculate the number of responses at medium hospitals\n",
    "n_respond_medium = sum(data_medium.column('response'))\n",
    "n_respond_medium\n",
    "\n",
    "# Calculate the response rate for medium hospitals\n",
    "rate_medium = mean(data_medium.column('response'))\n",
    "rate_medium\n",
    "\n",
    "# Calculate the mean satisfaction for medium hospitals\n",
    "avg_sat_medium = mean(data_medium.where('response',1).column('satisfaction'))\n",
    "avg_sat_medium"
   ]
  },
  {
   "cell_type": "code",
   "execution_count": null,
   "metadata": {
    "deletable": false,
    "editable": false
   },
   "outputs": [],
   "source": [
    "grader.check(\"q2_3\")"
   ]
  },
  {
   "cell_type": "markdown",
   "metadata": {
    "deletable": false,
    "editable": false
   },
   "source": [
    "Build a table comprising the observations at large hospitals.  \n",
    "Calculate the number of doctors surveyed at large hospitals.  \n",
    "Calculate the number of responses at large hospitals.  \n",
    "Calculate the response rate for large hospitals.  \n",
    "Calculate the mean satisfaction for large hospitals."
   ]
  },
  {
   "cell_type": "code",
   "execution_count": null,
   "metadata": {
    "tags": [
     "otter_answer_cell"
    ]
   },
   "outputs": [],
   "source": [
    "# Build a table comprising the observations at large hospitals\n",
    "data_large = hospital_survey.where('hospital_type','large')\n",
    "data_large\n",
    "\n",
    "# Calculate the number of doctors surveyed at large hospitals\n",
    "n_pop_large = data_large.num_rows\n",
    "n_pop_large\n",
    "\n",
    "# Calculate the number of responses at large hospitals\n",
    "n_respond_large = sum(data_large.column('response'))\n",
    "n_respond_large\n",
    "\n",
    "# Calculate the response rate for large hospitals\n",
    "rate_large = mean(data_large.column('response'))\n",
    "rate_large\n",
    "\n",
    "# Calculate the mean satisfaction for large hospitals\n",
    "avg_sat_large = mean(data_large.where('response',1).column('satisfaction'))\n",
    "avg_sat_large"
   ]
  },
  {
   "cell_type": "code",
   "execution_count": null,
   "metadata": {
    "deletable": false,
    "editable": false
   },
   "outputs": [],
   "source": [
    "grader.check(\"q2_4\")"
   ]
  },
  {
   "cell_type": "markdown",
   "metadata": {
    "deletable": false,
    "editable": false
   },
   "source": [
    "Calculate the weighted average satisfaction by hospital type."
   ]
  },
  {
   "cell_type": "code",
   "execution_count": null,
   "metadata": {
    "tags": [
     "otter_answer_cell"
    ]
   },
   "outputs": [],
   "source": [
    "weighted_average = ...\n",
    "weighted_average"
   ]
  },
  {
   "cell_type": "code",
   "execution_count": null,
   "metadata": {
    "deletable": false,
    "editable": false
   },
   "outputs": [],
   "source": [
    "grader.check(\"q2_5\")"
   ]
  },
  {
   "cell_type": "markdown",
   "metadata": {},
   "source": [
    "<p style=\"text-align:left; font-size:10px;\">\n",
    "Copyright (c) Huntsinger Associates, LLC\n",
    "<span style=\"float:right;\">\n",
    "Document revised September 1, 2023\n",
    "</span>\n",
    "</p>"
   ]
  }
 ],
 "metadata": {
  "kernelspec": {
   "display_name": ".venv",
   "language": "python",
   "name": "python3"
  },
  "language_info": {
   "codemirror_mode": {
    "name": "ipython",
    "version": 3
   },
   "file_extension": ".py",
   "mimetype": "text/x-python",
   "name": "python",
   "nbconvert_exporter": "python",
   "pygments_lexer": "ipython3",
   "version": "3.13.5"
  },
  "otter": {
   "OK_FORMAT": true,
   "tests": {
    "q1": {
     "name": "q1",
     "points": null,
     "suites": [
      {
       "cases": [
        {
         "code": ">>> hospital_survey.num_rows == 10300\nTrue",
         "hidden": false,
         "locked": false
        },
        {
         "code": ">>> hospital_survey.labels == ('doctor_id', 'hospital_type', 'response', 'satisfaction')\nTrue",
         "hidden": false,
         "locked": false
        }
       ],
       "scored": true,
       "setup": "",
       "teardown": "",
       "type": "doctest"
      }
     ]
    },
    "q2_1": {
     "name": "q2_1",
     "points": null,
     "suites": [
      {
       "cases": [
        {
         "code": ">>> n_pop == 10300\nTrue",
         "hidden": false,
         "locked": false
        },
        {
         "code": ">>> n_respond == 4312\nTrue",
         "hidden": false,
         "locked": false
        },
        {
         "code": ">>> round(rate, 2) == 0.42\nTrue",
         "hidden": false,
         "locked": false
        },
        {
         "code": ">>> round(avg_sat, 2) == 3.75\nTrue",
         "hidden": false,
         "locked": false
        }
       ],
       "scored": true,
       "setup": "",
       "teardown": "",
       "type": "doctest"
      }
     ]
    },
    "q2_2": {
     "name": "q2_2",
     "points": null,
     "suites": [
      {
       "cases": [
        {
         "code": ">>> all(data_small['hospital_type'] == 'small')\nTrue",
         "hidden": false,
         "locked": false
        },
        {
         "code": ">>> n_pop_small == 3396\nTrue",
         "hidden": false,
         "locked": false
        },
        {
         "code": ">>> n_respond_small == 520\nTrue",
         "hidden": false,
         "locked": false
        },
        {
         "code": ">>> round(rate_small, 2) == 0.15\nTrue",
         "hidden": false,
         "locked": false
        },
        {
         "code": ">>> round(avg_sat_small, 2) == 2.67\nTrue",
         "hidden": false,
         "locked": false
        }
       ],
       "scored": true,
       "setup": "",
       "teardown": "",
       "type": "doctest"
      }
     ]
    },
    "q2_3": {
     "name": "q2_3",
     "points": null,
     "suites": [
      {
       "cases": [
        {
         "code": ">>> all(data_medium['hospital_type'] == 'medium')\nTrue",
         "hidden": false,
         "locked": false
        },
        {
         "code": ">>> n_pop_medium == 3484\nTrue",
         "hidden": false,
         "locked": false
        },
        {
         "code": ">>> n_respond_medium == 1395\nTrue",
         "hidden": false,
         "locked": false
        },
        {
         "code": ">>> round(rate_medium, 1) == 0.4\nTrue",
         "hidden": false,
         "locked": false
        },
        {
         "code": ">>> round(avg_sat_medium, 1) == 3.4\nTrue",
         "hidden": false,
         "locked": false
        }
       ],
       "scored": true,
       "setup": "",
       "teardown": "",
       "type": "doctest"
      }
     ]
    },
    "q2_4": {
     "name": "q2_4",
     "points": null,
     "suites": [
      {
       "cases": [
        {
         "code": ">>> all(data_large['hospital_type'] == 'large')\nTrue",
         "hidden": false,
         "locked": false
        },
        {
         "code": ">>> n_pop_large == 3420\nTrue",
         "hidden": false,
         "locked": false
        },
        {
         "code": ">>> n_respond_large == 2397\nTrue",
         "hidden": false,
         "locked": false
        },
        {
         "code": ">>> round(rate_large, 1) == 0.7\nTrue",
         "hidden": false,
         "locked": false
        },
        {
         "code": ">>> round(avg_sat_large, 2) == 4.18\nTrue",
         "hidden": false,
         "locked": false
        }
       ],
       "scored": true,
       "setup": "",
       "teardown": "",
       "type": "doctest"
      }
     ]
    },
    "q2_5": {
     "name": "q2_5",
     "points": null,
     "suites": [
      {
       "cases": [
        {
         "code": ">>> round(weighted_average, 2) == 3.42\nTrue",
         "hidden": false,
         "locked": false
        }
       ],
       "scored": true,
       "setup": "",
       "teardown": "",
       "type": "doctest"
      }
     ]
    }
   }
  },
  "toc": {
   "base_numbering": 1,
   "nav_menu": {},
   "number_sections": true,
   "sideBar": true,
   "skip_h1_title": true,
   "title_cell": "Table of Contents",
   "title_sidebar": "Contents",
   "toc_cell": false,
   "toc_position": {
    "height": "calc(100% - 180px)",
    "left": "10px",
    "top": "150px",
    "width": "256.25px"
   },
   "toc_section_display": true,
   "toc_window_display": false
  }
 },
 "nbformat": 4,
 "nbformat_minor": 4
}
