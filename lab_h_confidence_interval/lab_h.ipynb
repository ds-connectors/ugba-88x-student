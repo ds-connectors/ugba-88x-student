{
 "cells": [
  {
   "cell_type": "code",
   "execution_count": null,
   "metadata": {
    "deletable": false,
    "editable": false
   },
   "outputs": [],
   "source": [
    "# Initialize Otter\n",
    "import otter\n",
    "grader = otter.Notebook(\"lab_h.ipynb\")"
   ]
  },
  {
   "cell_type": "markdown",
   "metadata": {},
   "source": [
    "# Lab H: Confidence Interval"
   ]
  },
  {
   "cell_type": "markdown",
   "metadata": {},
   "source": [
    "## Setup"
   ]
  },
  {
   "cell_type": "code",
   "execution_count": null,
   "metadata": {},
   "outputs": [],
   "source": [
    "import warnings\n",
    "from datascience import Table, make_array, are, percentile\n",
    "from numpy import mean, std, sqrt, float64\n",
    "from numpy.random import seed, standard_t\n",
    "\n",
    "\n",
    "# Force display of all values \n",
    "from IPython.core.interactiveshell import InteractiveShell\n",
    "InteractiveShell.ast_node_interactivity = \"all\"\n",
    "\n",
    "# Handle some obnoxious warning messages\n",
    "warnings.filterwarnings(\"ignore\")"
   ]
  },
  {
   "cell_type": "code",
   "execution_count": null,
   "metadata": {},
   "outputs": [],
   "source": [
    "sample_size=81\n",
    "\n",
    "dist = Table().with_column('t', standard_t(sample_size-1, 1000000))\n",
    "dist.hist(bins=50, range=make_array(-4,4))\n",
    "\n",
    "cv = percentile(2.5, dist.column('t'))\n",
    "cv\n",
    "\n",
    "75 + 2*8/sqrt(81)\n",
    "75 - 2*8/sqrt(81)"
   ]
  },
  {
   "cell_type": "markdown",
   "metadata": {},
   "source": [
    "## Insurance Claims\n",
    "\n",
    "### Business Decision\n",
    "\n",
    "An insurance company has a special team of 10 analysts to process complex claims.   The Director of Complex Claims Processing has just learned that the volume of complex claims coming to his team might increase from the current 1500 claims per month to 1700 claims per month, or even as high as 2000 claims per month.  The General Manager asks the Director what impact he expects this will have on the operation.\n",
    "\n",
    "Should the director accept 1700 claims per month?  Should the director accept 2000 claims per month?"
   ]
  },
  {
   "cell_type": "markdown",
   "metadata": {},
   "source": [
    "### Data\n",
    "\n",
    "Here is the record of average labor (in minutes) to process a claim, one average for each of 50 days.  \n",
    "70, 72, 70, 73, 73, 30, 70, 81, 60, 60, 70, 62, 20, 50, 70, 45, 60, 75, 10, 84,  \n",
    "21, 60, 66, 81, 32, 24, 60, 67, 67, 56, 45, 49, 80, 45, 39, 67, 80, 87, 50, 51,  \n",
    "21, 60, 66, 81, 42, 24, 60, 67, 99, 81"
   ]
  },
  {
   "cell_type": "markdown",
   "metadata": {
    "deletable": false,
    "editable": false
   },
   "source": [
    "Show the sample size, sample mean, sample standard deviation, and a histogram of the sampled averages (10 bins) with range 52.9166 to 64.4033 highlighted."
   ]
  },
  {
   "cell_type": "code",
   "execution_count": null,
   "metadata": {
    "scrolled": false,
    "tags": [
     "otter_answer_cell"
    ]
   },
   "outputs": [],
   "source": [
    "sample = Table().with_column('average labor', ...)\n",
    "sample_size = ...\n",
    "sample_mean = mean(...)\n",
    "sample_std  = std(..., ddof=1)\n",
    "\n",
    "print(\"The sample size is\", sample_size)\n",
    "print(\"The sample mean is\", sample_mean)\n",
    "print(\"The sample standard deviation is\", sample_std)\n",
    "sample.hist(bins=10, left_end=52.9166, right_end=64.4033)"
   ]
  },
  {
   "cell_type": "code",
   "execution_count": null,
   "metadata": {
    "deletable": false,
    "editable": false
   },
   "outputs": [],
   "source": [
    "grader.check(\"q11\")"
   ]
  },
  {
   "cell_type": "markdown",
   "metadata": {},
   "source": [
    "### Analysis: Hypothesis Tests"
   ]
  },
  {
   "cell_type": "markdown",
   "metadata": {
    "deletable": false,
    "editable": false
   },
   "source": [
    "Get 1,000,000 values from the standard t distribution for sample size 50.\n",
    "Show a histogram of all the values (50 bins, range -4 to 4)."
   ]
  },
  {
   "cell_type": "code",
   "execution_count": null,
   "metadata": {
    "tags": [
     "otter_answer_cell"
    ]
   },
   "outputs": [],
   "source": [
    "seed(0)\n",
    "dist = Table().with_column('t', standard_t(..., ...))\n",
    "dist.hist(bins=50, range=make_array(-4,4))"
   ]
  },
  {
   "cell_type": "code",
   "execution_count": null,
   "metadata": {
    "deletable": false,
    "editable": false
   },
   "outputs": [],
   "source": [
    "grader.check(\"q12\")"
   ]
  },
  {
   "cell_type": "markdown",
   "metadata": {
    "deletable": false,
    "editable": false
   },
   "source": [
    "Hypothesize that the population mean is $52.9166$ or lower.\n",
    "\n",
    "Calculate and show the sample `t`, assuming the hypothesized population mean.\n",
    "\n",
    "Calculate and show the p-value for the sample, assuming this sample t.\n",
    "This is the probability of a getting the sample (or one with an equal or higher t value)\n",
    "if the actual population mean is below or equal to 52.9166. "
   ]
  },
  {
   "cell_type": "code",
   "execution_count": null,
   "metadata": {
    "tags": [
     "otter_answer_cell"
    ]
   },
   "outputs": [],
   "source": [
    "pop_mean_hypo_1 = ...\n",
    "sample_t_1 = ...\n",
    "p_value_1 = ...\n",
    "\n",
    "print(\"The assumed population mean is\", pop_mean_hypo_1)\n",
    "print(\"The sample t is\", sample_t_1)\n",
    "print(\"The p-value is\", p_value_1)"
   ]
  },
  {
   "cell_type": "code",
   "execution_count": null,
   "metadata": {
    "deletable": false,
    "editable": false
   },
   "outputs": [],
   "source": [
    "grader.check(\"q13\")"
   ]
  },
  {
   "cell_type": "markdown",
   "metadata": {
    "deletable": false,
    "editable": false
   },
   "source": [
    "Hypothesize that the population mean is 64.4033 or higher.\n",
    "\n",
    "Calculate and show the sample t, assuming the hypothesized population mean.\n",
    "\n",
    "Calculate and show the p-value for the sample, assuming this sample t.\n",
    "This is the probability of a getting the sample (or one with an equal or lower t value)\n",
    "if the actual population mean is above or equal to 64.4033."
   ]
  },
  {
   "cell_type": "code",
   "execution_count": null,
   "metadata": {
    "tags": [
     "otter_answer_cell"
    ]
   },
   "outputs": [],
   "source": [
    "pop_mean_hypo_1 = ...\n",
    "sample_t_1 = ...\n",
    "p_value_1 = ...\n",
    "print(\"The assumed population mean is\", pop_mean_hypo_2)\n",
    "print(\"The sample t is\", sample_t_2)\n",
    "print(\"The p-value is\", p_value_2)"
   ]
  },
  {
   "cell_type": "code",
   "execution_count": null,
   "metadata": {
    "deletable": false,
    "editable": false
   },
   "outputs": [],
   "source": [
    "grader.check(\"q14\")"
   ]
  },
  {
   "cell_type": "markdown",
   "metadata": {
    "deletable": false,
    "editable": false
   },
   "source": [
    "Calculate and show the probability of getting the sample (or one even less likely),\n",
    "assuming that the population mean is below 52.9166 or above 64.4033."
   ]
  },
  {
   "cell_type": "code",
   "execution_count": null,
   "metadata": {
    "tags": [
     "otter_answer_cell"
    ]
   },
   "outputs": [],
   "source": [
    "prob_sample = ...\n",
    "print(\"The probablity of getting the sample is\", prob_sample)"
   ]
  },
  {
   "cell_type": "code",
   "execution_count": null,
   "metadata": {
    "deletable": false,
    "editable": false
   },
   "outputs": [],
   "source": [
    "grader.check(\"q15\")"
   ]
  },
  {
   "cell_type": "markdown",
   "metadata": {},
   "source": [
    "### Analysis: Confidence Interval"
   ]
  },
  {
   "cell_type": "markdown",
   "metadata": {
    "deletable": false,
    "editable": false
   },
   "source": [
    "Get 1,000,000 values from the standard t distribution for sample size 50.\n",
    "Show a histogram of all the values (50 bins, range -4 to 4)."
   ]
  },
  {
   "cell_type": "code",
   "execution_count": null,
   "metadata": {
    "tags": [
     "otter_answer_cell"
    ]
   },
   "outputs": [],
   "source": [
    "seed(0)\n",
    "dist = Table().with_column('t', standard_t(..., ...))\n",
    "dist.hist(bins=50, range=make_array(-4,4))"
   ]
  },
  {
   "cell_type": "code",
   "execution_count": null,
   "metadata": {
    "deletable": false,
    "editable": false
   },
   "outputs": [],
   "source": [
    "grader.check(\"q21\")"
   ]
  },
  {
   "cell_type": "markdown",
   "metadata": {
    "deletable": false,
    "editable": false
   },
   "source": [
    "Set the confidence level to 95%.  This indicates that you focus on the middle 95% of the standard t distribution.\n",
    "\n",
    "Calculate and show the probability of t values **below** the middle 95% of the standard t distribution.  \n",
    "Calculate and show the probability of t values **above** the middle 95% of the standard t distribution. "
   ]
  },
  {
   "cell_type": "code",
   "execution_count": null,
   "metadata": {
    "tags": [
     "otter_answer_cell"
    ]
   },
   "outputs": [],
   "source": [
    "confidence_level = ...\n",
    "prob_lower = ...\n",
    "prob_upper = ...\n",
    "print(\"Our confidence level is\", confidence_level)\n",
    "print(\"Our probability ot t values below the middle 95% is\", prob_lower)\n",
    "print(\"Our probability ot t values below the middle 95% is\", prob_upper)"
   ]
  },
  {
   "cell_type": "code",
   "execution_count": null,
   "metadata": {
    "deletable": false,
    "editable": false
   },
   "outputs": [],
   "source": [
    "grader.check(\"q22\")"
   ]
  },
  {
   "cell_type": "markdown",
   "metadata": {
    "deletable": false,
    "editable": false
   },
   "source": [
    "Calculate and show the critical values corresponding to the probabilities.\n",
    "\n",
    "Show a histogram of all the t values (50 bins, range -4 to 4) with values below the middle 95% highlighted.  \n",
    "Show a histogram of all the t values (50 bins, range -4 to 4) with values above the middle 95% highlighted."
   ]
  },
  {
   "cell_type": "code",
   "execution_count": null,
   "metadata": {
    "tags": [
     "otter_answer_cell"
    ]
   },
   "outputs": [],
   "source": [
    "cv_lower = percentile(..., dist.column('t'))\n",
    "cv_upper = ...\n",
    "dist.hist(bins=50, range=make_array(-4,4), left_end=-4, right_end=cv_lower)\n",
    "dist.hist(bins=50, range=make_array(-4,4), left_end=cv_upper, right_end=4)\n",
    "print(\"lower critical value\", cv_lower)\n",
    "print(\"upper critical value\", cv_upper)"
   ]
  },
  {
   "cell_type": "code",
   "execution_count": null,
   "metadata": {
    "deletable": false,
    "editable": false
   },
   "outputs": [],
   "source": [
    "grader.check(\"q23\")"
   ]
  },
  {
   "cell_type": "markdown",
   "metadata": {
    "deletable": false,
    "editable": false
   },
   "source": [
    "Calculate and show hypothetical population means corresponding to the lower and upper critical values, like this:\n",
    "\n",
    "$$\n",
    "\\textit{critical value} = \\cfrac{\\textit{sample mean} - \\textit{pop mean hypo}}{\\left(\\cfrac{\\textit{sample standard deviation}}{\\sqrt{\\textit{sample size}}}\\right)}\n",
    "$$\n",
    "\n",
    "<br>\n",
    "\n",
    "$$\n",
    "\\textit{critical value} \\times \\left(\\cfrac{\\textit{sample standard deviation}}{\\sqrt{\\textit{sample size}}} \\right) = \\textit{sample mean} - \\textit{pop mean hypo}  \n",
    "$$\n",
    "\n",
    "<br>\n",
    "\n",
    "$$\n",
    "\\textit{critical value} \\times \\left(\\cfrac{\\textit{sample standard deviation}}{\\sqrt{\\textit{sample size}}} \\right) - \\textit{sample mean} = - \\textit{pop mean hypo}\n",
    "$$\n",
    "\n",
    "<br>\n",
    "\n",
    "$$\n",
    "- \\textit{critical value} \\times \\left(\\cfrac{\\textit{sample standard deviation}}{\\sqrt{\\textit{sample size}}} \\right) + \\textit{sample mean} = \\textit{pop mean hypo}\n",
    "$$\n",
    "\n",
    "<br>\n",
    "\n",
    "$$\n",
    "\\textit{pop mean hypo} =  \\textit{sample mean} - \\textit{critical value} \\times \\left(\\cfrac{\\textit{sample standard deviation}}{\\sqrt{\\textit{sample size}}} \\right)\n",
    "$$"
   ]
  },
  {
   "cell_type": "code",
   "execution_count": null,
   "metadata": {
    "tags": [
     "otter_answer_cell"
    ]
   },
   "outputs": [],
   "source": [
    "prob_sample = ...\n",
    "print(\"The mean high is \", mean_high)\n",
    "print(\"The mean low is \", mean_low)"
   ]
  },
  {
   "cell_type": "code",
   "execution_count": null,
   "metadata": {
    "deletable": false,
    "editable": false
   },
   "outputs": [],
   "source": [
    "grader.check(\"q24\")"
   ]
  },
  {
   "cell_type": "markdown",
   "metadata": {
    "deletable": false,
    "editable": false
   },
   "source": [
    "Again, calculate and show a hypothetical population mean corresponding to the lower critical value, like this:\n",
    "\n",
    "$$\n",
    "\\textit{pop mean hypo} =  \\textit{sample mean} - \\textit{lower critical value} \\times \\left(\\cfrac{\\textit{sample standard deviation}}{\\sqrt{\\textit{sample size}}} \\right)\n",
    "$$\n",
    "\n",
    "<br>\n",
    "\n",
    "Note that $\\textit{upper critical value} = - \\textit{lower critical value}$.  So now, calculate and show a hypothetical population mean corresponding to the upper critical value, like this:\n",
    "\n",
    "$$\n",
    "\\textit{pop mean hypo} =  \\textit{sample mean} + \\textit{lower critical value} \\times \\left(\\cfrac{\\textit{sample standard deviation}}{\\sqrt{\\textit{sample size}}} \\right)\n",
    "$$"
   ]
  },
  {
   "cell_type": "code",
   "execution_count": null,
   "metadata": {
    "tags": [
     "otter_answer_cell"
    ]
   },
   "outputs": [],
   "source": [
    "mean_high = ...\n",
    "mean_low = ...\n",
    "print(\"The mean high is \", mean_high)\n",
    "print(\"The mean low is \", mean_low)"
   ]
  },
  {
   "cell_type": "code",
   "execution_count": null,
   "metadata": {
    "deletable": false,
    "editable": false
   },
   "outputs": [],
   "source": [
    "grader.check(\"q25\")"
   ]
  },
  {
   "cell_type": "markdown",
   "metadata": {},
   "source": [
    "Hence, the formula for confidence interval:\n",
    "\n",
    "$$\n",
    "\\textit{pop mean hypo} =  \\textit{sample mean} \\pm \\textit{critical value} \\times \\left(\\cfrac{\\textit{sample standard deviation}}{\\sqrt{\\textit{sample size}}} \\right)\n",
    "$$"
   ]
  },
  {
   "cell_type": "markdown",
   "metadata": {},
   "source": [
    "### Analysis: Business Impact"
   ]
  },
  {
   "cell_type": "markdown",
   "metadata": {
    "deletable": false,
    "editable": false
   },
   "source": [
    "Recall that the team comprises 10 analysts.\n",
    "\n",
    "Calculate and show the labor (expressed in minutes) available in a 21-day month,\n",
    "assuming all the analysts work 8 hours per day."
   ]
  },
  {
   "cell_type": "code",
   "execution_count": null,
   "metadata": {
    "tags": [
     "otter_answer_cell"
    ]
   },
   "outputs": [],
   "source": [
    "number_of_analysts = ...\n",
    "labor_available = ...\n",
    "print(\"The number of analysts is \", number_of_analysts)\n",
    "print(\"The labor available is \", labor_available)"
   ]
  },
  {
   "cell_type": "code",
   "execution_count": null,
   "metadata": {
    "deletable": false,
    "editable": false
   },
   "outputs": [],
   "source": [
    "grader.check(\"q31\")"
   ]
  },
  {
   "cell_type": "markdown",
   "metadata": {
    "deletable": false,
    "editable": false
   },
   "source": [
    "Calculate and show how many claims you would expect to process completely in a month,\n",
    "if the actual average labor per claim is the sample average labor per claim.\n",
    "\n",
    "Calculate and show how many claims would be left unprocessed, assuming the team receives 2000 claims per month.  \n",
    "Calculate and show how many claims would be left unprocessed, assuming the team receives 1700 claims per month.  \n",
    "Calculate and show how many claims would be left unprocessed, assuming the team receives 1500 claims per month."
   ]
  },
  {
   "cell_type": "code",
   "execution_count": null,
   "metadata": {
    "tags": [
     "otter_answer_cell"
    ]
   },
   "outputs": [],
   "source": [
    "claims_processed = ...\n",
    "unprocessed_2000 = ...\n",
    "unprocessed_1700 = ...\n",
    "unprocessed_1500 = ...\n",
    "print(\"The number of claims processed is\", claims_processed)\n",
    "print(\"Unprocessed claims, given 2000 claims per month \", unprocessed_2000)\n",
    "print(\"Unprocessed claims, given 1700 claims per month \", unprocessed_1700)\n",
    "print(\"Unprocessed claims, given 1500 claims per month \", unprocessed_1500)"
   ]
  },
  {
   "cell_type": "code",
   "execution_count": null,
   "metadata": {
    "deletable": false,
    "editable": false
   },
   "outputs": [],
   "source": [
    "grader.check(\"q32\")"
   ]
  },
  {
   "cell_type": "markdown",
   "metadata": {
    "deletable": false,
    "editable": false
   },
   "source": [
    "Calculate and show how many claims you would expect to process completely in a month,\n",
    "if the actual average labor per claim is the lower end of the 95% confidence interval.\n",
    "\n",
    "Calculate and show how many claims would be left unprocessed, assuming the team receives 2000 claims per month.  \n",
    "Calculate and show how many claims would be left unprocessed, assuming the team receives 1700 claims per month.  \n",
    "Calculate and show how many claims would be left unprocessed, assuming the team receives 1500 claims per month."
   ]
  },
  {
   "cell_type": "code",
   "execution_count": null,
   "metadata": {
    "tags": [
     "otter_answer_cell"
    ]
   },
   "outputs": [],
   "source": [
    "claims_processed = ...\n",
    "unprocessed_2000 = ...\n",
    "unprocessed_1700 = ...\n",
    "unprocessed_1500 = ...\n",
    "print(\"The number of claims processed is\", claims_processed)\n",
    "print(\"Unprocessed claims, given 2000 claims per month \", unprocessed_2000)\n",
    "print(\"Unprocessed claims, given 1700 claims per month \", unprocessed_1700)\n",
    "print(\"Unprocessed claims, given 1500 claims per month \", unprocessed_1500)"
   ]
  },
  {
   "cell_type": "code",
   "execution_count": null,
   "metadata": {
    "deletable": false,
    "editable": false
   },
   "outputs": [],
   "source": [
    "grader.check(\"q33\")"
   ]
  },
  {
   "cell_type": "markdown",
   "metadata": {
    "deletable": false,
    "editable": false
   },
   "source": [
    "Calculate and show how many claims you would expect to process completely in a month,\n",
    "if the actual average labor per claim is the upper end of the 95% confidence interval.\n",
    "\n",
    "Calculate and show how many claims would be left unprocessed, assuming the team receives 2000 claims per month.  \n",
    "Calculate and show how many claims would be left unprocessed, assuming the team receives 1700 claims per month.  \n",
    "Calculate and show how many claims would be left unprocessed, assuming the team receives 1500 claims per month."
   ]
  },
  {
   "cell_type": "code",
   "execution_count": null,
   "metadata": {
    "tags": [
     "otter_answer_cell"
    ]
   },
   "outputs": [],
   "source": [
    "claims_processed = ...\n",
    "unprocessed_2000 = ...\n",
    "unprocessed_1700 = ...\n",
    "unprocessed_1500 = ...\n",
    "print(\"The number of claims processed is\", claims_processed)\n",
    "print(\"Unprocessed claims, given 2000 claims per month \", unprocessed_2000)\n",
    "print(\"Unprocessed claims, given 1700 claims per month \", unprocessed_1700)\n",
    "print(\"Unprocessed claims, given 1500 claims per month \", unprocessed_1500)"
   ]
  },
  {
   "cell_type": "code",
   "execution_count": null,
   "metadata": {
    "deletable": false,
    "editable": false
   },
   "outputs": [],
   "source": [
    "grader.check(\"q34\")"
   ]
  },
  {
   "cell_type": "markdown",
   "metadata": {},
   "source": [
    "## Hypothesis Tests vs. Confidence Interval: The Math\n",
    "\n",
    "For your reference, here is the math showing the relationship between hypothesis tests and a confidence interval."
   ]
  },
  {
   "cell_type": "markdown",
   "metadata": {},
   "source": [
    "DEFINITIONS\n",
    "\n",
    "* $t$ is the sample t\n",
    "* $\\bar{x}$ is the sample mean\n",
    "* $\\hat{\\mu}$ is a hypothetical population mean\n",
    "* $s$ is the sample standard deviation\n",
    "* $n$ is the sample size\n",
    "<br><br>\n",
    "* $cv_{\\scriptsize{0.025 , n-1}}$ is the critical value at the lower 2.5% of t values in a standard t distribution taken at sample size n\n",
    "* $cv_{\\scriptsize{0.975 , n-1}}$ is the critical value at the lower 97.5% (upper 2.5%) of t values in a standard t distribution taken at sample size n\n",
    "* $percentile_{\\scriptsize{0.025}}(...)$ is the 2.5th percentile of a distribution\n",
    "* $percentile_{\\scriptsize{0.975}}(...)$ is the 97.5th percentile of a distribution\n",
    "* $\\vec{T}_{n-1}$ is a standard t distribution taken at sample size n\n",
    "<br><br>\n",
    "\n",
    "VIEWED AS HYPOTHESIS TESTS<br>\n",
    "Set $\\hat{\\mu}$, calculate $t$, compare $t$ to $cv$\n",
    "\n",
    "* $t = \\large{\\frac{\\bar{x} - \\hat{\\mu}}{\\frac{s}{\\sqrt{n}}}}$\n",
    "* $cv_{\\scriptsize{0.025 , n-1}} = percentile_{\\scriptsize{0.025}}(\\vec{T}_{n-1})$\n",
    "* $cv_{\\scriptsize{0.975 , n-1}} = percentile_{\\scriptsize{0.975}}(\\vec{T}_{n-1}) = - cv_{\\scriptsize{0.025 , n-1}}$\n",
    "<br><br>\n",
    "\n",
    "VIEWED AS A CONFIDENCE INTERVAL<br>\n",
    "Set $t$, calculate $\\hat{\\mu}$ based on $cv$\n",
    "\n",
    "* If $t = cv_{\\scriptsize{0.025 , n-1}}$, then $\\hat{\\mu} = \\bar{x} - cv_{\\scriptsize{0.025 , n-1}} \\frac{s}{\\sqrt{n}}$\n",
    "* If $t = cv_{\\scriptsize{0.975 , n-1}}$, then $\\hat{\\mu} = \\bar{x} + cv_{\\scriptsize{0.025 , n-1}} \\frac{s}{\\sqrt{n}}$"
   ]
  },
  {
   "cell_type": "markdown",
   "metadata": {},
   "source": [
    "<p style=\"text-align:left; font-size:10px;\">\n",
    "Copyright (c) Huntsinger Associates, LLC\n",
    "<span style=\"float:right;\">\n",
    "Document revised February 26, 2024\n",
    "</span>\n",
    "</p>"
   ]
  }
 ],
 "metadata": {
  "kernelspec": {
   "display_name": ".venv",
   "language": "python",
   "name": "python3"
  },
  "language_info": {
   "codemirror_mode": {
    "name": "ipython",
    "version": 3
   },
   "file_extension": ".py",
   "mimetype": "text/x-python",
   "name": "python",
   "nbconvert_exporter": "python",
   "pygments_lexer": "ipython3",
   "version": "3.13.5"
  },
  "otter": {
   "OK_FORMAT": true,
   "tests": {
    "q11": {
     "name": "q11",
     "points": null,
     "suites": [
      {
       "cases": [
        {
         "code": ">>> type(sample_size) is int and sample_size > 0 and (sample_size == 50)\nTrue",
         "hidden": false,
         "locked": false
        },
        {
         "code": ">>> type(sample_mean) is float64 and sample_mean > 0 and (round(sample_mean) == 59.0)\nTrue",
         "hidden": false,
         "locked": false
        },
        {
         "code": ">>> type(sample) is Table and sample.num_rows == 50 and (round(mean(sample.column('average labor'))) == 59.0)\nTrue",
         "hidden": false,
         "locked": false
        }
       ],
       "scored": true,
       "setup": "",
       "teardown": "",
       "type": "doctest"
      }
     ]
    },
    "q12": {
     "name": "q12",
     "points": null,
     "suites": [
      {
       "cases": [
        {
         "code": ">>> round(mean(dist.column('t')), 1) == 0.0\nTrue",
         "hidden": false,
         "locked": false
        },
        {
         "code": ">>> type(dist) is Table and dist.num_rows == 1000000 and (dist.num_columns == 1)\nTrue",
         "hidden": false,
         "locked": false
        }
       ],
       "scored": true,
       "setup": "",
       "teardown": "",
       "type": "doctest"
      }
     ]
    },
    "q13": {
     "name": "q13",
     "points": null,
     "suites": [
      {
       "cases": [
        {
         "code": ">>> pop_mean_hypo_1 == 52.9166\nTrue",
         "hidden": false,
         "locked": false
        },
        {
         "code": ">>> round(sample_t_1, 1) == 2.0\nTrue",
         "hidden": false,
         "locked": false
        },
        {
         "code": ">>> round(p_value_1, 3) == 0.025\nTrue",
         "hidden": false,
         "locked": false
        }
       ],
       "scored": true,
       "setup": "",
       "teardown": "",
       "type": "doctest"
      }
     ]
    },
    "q14": {
     "name": "q14",
     "points": null,
     "suites": [
      {
       "cases": [
        {
         "code": ">>> pop_mean_hypo_2 == 64.4033\nTrue",
         "hidden": false,
         "locked": false
        },
        {
         "code": ">>> sample_t_2 < 0 and round(sample_t_2, 1) == -2.0\nTrue",
         "hidden": false,
         "locked": false
        },
        {
         "code": ">>> p_value_2 > 0 and round(p_value_2, 3) == 0.025\nTrue",
         "hidden": false,
         "locked": false
        }
       ],
       "scored": true,
       "setup": "",
       "teardown": "",
       "type": "doctest"
      }
     ]
    },
    "q15": {
     "name": "q15",
     "points": null,
     "suites": [
      {
       "cases": [
        {
         "code": ">>> prob_sample == 0.049921\nTrue",
         "hidden": false,
         "locked": false
        }
       ],
       "scored": true,
       "setup": "",
       "teardown": "",
       "type": "doctest"
      }
     ]
    },
    "q21": {
     "name": "q21",
     "points": null,
     "suites": [
      {
       "cases": [
        {
         "code": ">>> round(dist.column('t').item(4)) == 1\nTrue",
         "hidden": false,
         "locked": false
        },
        {
         "code": ">>> round(mean(dist.column('t'))) == 0.0\nTrue",
         "hidden": false,
         "locked": false
        },
        {
         "code": ">>> type(dist) is Table and dist.num_rows == 1000000 and (dist.num_columns == 1)\nTrue",
         "hidden": false,
         "locked": false
        }
       ],
       "scored": true,
       "setup": "",
       "teardown": "",
       "type": "doctest"
      }
     ]
    },
    "q22": {
     "name": "q22",
     "points": null,
     "suites": [
      {
       "cases": [
        {
         "code": ">>> confidence_level == 0.95\nTrue",
         "hidden": false,
         "locked": false
        },
        {
         "code": ">>> round(prob_lower, 3) == 0.025\nTrue",
         "hidden": false,
         "locked": false
        },
        {
         "code": ">>> prob_lower == prob_upper\nTrue",
         "hidden": false,
         "locked": false
        }
       ],
       "scored": true,
       "setup": "",
       "teardown": "",
       "type": "doctest"
      }
     ]
    },
    "q23": {
     "name": "q23",
     "points": null,
     "suites": [
      {
       "cases": [
        {
         "code": ">>> cv_lower == -cv_upper\nTrue",
         "hidden": false,
         "locked": false
        },
        {
         "code": ">>> round(cv_lower) == -2.0\nTrue",
         "hidden": false,
         "locked": false
        }
       ],
       "scored": true,
       "setup": "",
       "teardown": "",
       "type": "doctest"
      }
     ]
    },
    "q24": {
     "name": "q24",
     "points": null,
     "suites": [
      {
       "cases": [
        {
         "code": ">>> type(mean_high) is float64 and mean_high > 0 and (round(mean_high, 1) == 64.4)\nTrue",
         "hidden": false,
         "locked": false
        },
        {
         "code": ">>> type(mean_low) is float64 and mean_low > 0 and (round(mean_low, 1) == 52.9)\nTrue",
         "hidden": false,
         "locked": false
        }
       ],
       "scored": true,
       "setup": "",
       "teardown": "",
       "type": "doctest"
      }
     ]
    },
    "q25": {
     "name": "q25",
     "points": null,
     "suites": [
      {
       "cases": [
        {
         "code": ">>> type(mean_high) is float64 and mean_high > 0 and (round(mean_high, 1) == 64.4)\nTrue",
         "hidden": false,
         "locked": false
        },
        {
         "code": ">>> type(mean_low) is float64 and mean_low > 0 and (round(mean_low, 1) == 52.9)\nTrue",
         "hidden": false,
         "locked": false
        }
       ],
       "scored": true,
       "setup": "",
       "teardown": "",
       "type": "doctest"
      }
     ]
    },
    "q31": {
     "name": "q31",
     "points": null,
     "suites": [
      {
       "cases": [
        {
         "code": ">>> type(number_of_analysts) is int and number_of_analysts > 0 and (number_of_analysts == 10)\nTrue",
         "hidden": false,
         "locked": false
        },
        {
         "code": ">>> type(labor_available) is int and labor_available > 0 and (labor_available == 100800)\nTrue",
         "hidden": false,
         "locked": false
        }
       ],
       "scored": true,
       "setup": "",
       "teardown": "",
       "type": "doctest"
      }
     ]
    },
    "q32": {
     "name": "q32",
     "points": null,
     "suites": [
      {
       "cases": [
        {
         "code": ">>> type(claims_processed) is int and claims_processed > 0 and (claims_processed == 1718)\nTrue",
         "hidden": false,
         "locked": false
        },
        {
         "code": ">>> type(unprocessed_2000) is int and unprocessed_2000 > 0 and (unprocessed_2000 == 282)\nTrue",
         "hidden": false,
         "locked": false
        },
        {
         "code": ">>> type(unprocessed_1700) is int and type(unprocessed_1500) is int and (unprocessed_1700 == 0) and (unprocessed_1500 == 0)\nTrue",
         "hidden": false,
         "locked": false
        }
       ],
       "scored": true,
       "setup": "",
       "teardown": "",
       "type": "doctest"
      }
     ]
    },
    "q33": {
     "name": "q33",
     "points": null,
     "suites": [
      {
       "cases": [
        {
         "code": ">>> type(claims_processed) is int and claims_processed > 0 and (claims_processed == 1904)\nTrue",
         "hidden": false,
         "locked": false
        },
        {
         "code": ">>> type(unprocessed_2000) is int and unprocessed_2000 > 0 and (unprocessed_2000 == 96)\nTrue",
         "hidden": false,
         "locked": false
        },
        {
         "code": ">>> type(unprocessed_1700) is int and type(unprocessed_1500) is int and (unprocessed_1700 == 0) and (unprocessed_1500 == 0)\nTrue",
         "hidden": false,
         "locked": false
        }
       ],
       "scored": true,
       "setup": "",
       "teardown": "",
       "type": "doctest"
      }
     ]
    },
    "q34": {
     "name": "q34",
     "points": null,
     "suites": [
      {
       "cases": [
        {
         "code": ">>> type(claims_processed) is int and claims_processed > 0 and (claims_processed == 1565)\nTrue",
         "hidden": false,
         "locked": false
        },
        {
         "code": ">>> type(unprocessed_2000) is int and unprocessed_2000 > 0 and (unprocessed_2000 == 435)\nTrue",
         "hidden": false,
         "locked": false
        },
        {
         "code": ">>> type(unprocessed_1700) is int and unprocessed_1700 > 0 and (unprocessed_1700 == 135)\nTrue",
         "hidden": false,
         "locked": false
        },
        {
         "code": ">>> type(unprocessed_1500) is int and unprocessed_1500 == 0\nTrue",
         "hidden": false,
         "locked": false
        }
       ],
       "scored": true,
       "setup": "",
       "teardown": "",
       "type": "doctest"
      }
     ]
    }
   }
  },
  "otter_service": {
   "assignment": "lab_h",
   "course": "88bx",
   "section": "2"
  },
  "toc": {
   "base_numbering": 1,
   "nav_menu": {},
   "number_sections": true,
   "sideBar": true,
   "skip_h1_title": true,
   "title_cell": "Table of Contents",
   "title_sidebar": "Contents",
   "toc_cell": false,
   "toc_position": {
    "height": "calc(100% - 180px)",
    "left": "10px",
    "top": "150px",
    "width": "256.25px"
   },
   "toc_section_display": true,
   "toc_window_display": false
  }
 },
 "nbformat": 4,
 "nbformat_minor": 2
}
