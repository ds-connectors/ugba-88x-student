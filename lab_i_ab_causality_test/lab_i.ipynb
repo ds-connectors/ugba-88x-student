{
 "cells": [
  {
   "cell_type": "code",
   "execution_count": null,
   "metadata": {
    "deletable": false,
    "editable": false
   },
   "outputs": [],
   "source": [
    "# Initialize Otter\n",
    "import otter\n",
    "grader = otter.Notebook(\"lab_i.ipynb\")"
   ]
  },
  {
   "cell_type": "markdown",
   "metadata": {},
   "source": [
    "# Lab I: A/B Causality Test"
   ]
  },
  {
   "cell_type": "markdown",
   "metadata": {},
   "source": [
    "## Setup"
   ]
  },
  {
   "cell_type": "code",
   "execution_count": null,
   "metadata": {},
   "outputs": [],
   "source": [
    "import warnings\n",
    "from datascience import Table, make_array, are, percentile\n",
    "from numpy import mean, arange, append\n",
    "from numpy.random import seed, choice\n",
    "\n",
    "# Force display of all values \n",
    "from IPython.core.interactiveshell import InteractiveShell\n",
    "InteractiveShell.ast_node_interactivity = \"all\"\n",
    "\n",
    "# Handle some obnoxious warning messages\n",
    "warnings.filterwarnings(\"ignore\")"
   ]
  },
  {
   "cell_type": "markdown",
   "metadata": {},
   "source": [
    "## Website Click-Throughs\n",
    "\n",
    "### Business Decision\n",
    "\n",
    "A software and services company wants to drive its website visitors from the splash page to commerce pages that describe and offer additional for-fee services.  The regular splash page includes graphics, text, and a link to the commerce pages.  At the start of each month, a new splash page design is introduced on a trial basis for a week, which includes certain new graphics, new text, and a link to the commerce pages.  When a visitor goes to the company's website, that visitor is presented with either the regular splash page or the new splash page, selected by machine randomly with equal probabilities.  After a week, if the new splash page seems more effective, then it replaces the regular splash page for the remainder of the month.\n",
    "\n",
    "Assume that you are the Vice President of Marketing.  Does Design A cause more visitors to go to the commerce pages than Design B does?  Should you revise the splash page to present Design A instead of Design B to all visitors?"
   ]
  },
  {
   "cell_type": "markdown",
   "metadata": {
    "deletable": false,
    "editable": false
   },
   "source": [
    "### Data\n",
    "\n",
    "Retrieve the website splash page click-through dataset of all visitors during the trial period (Splash_Page_1.csv).  \n",
    "Each observation represents one visitor interaction: \n",
    "* customer_id is a unique identifier for the visitor\n",
    "* design is A or B, and indicates which design was presented\n",
    "* clickthru is 0 or 1, where 0 indicates that the visitor did not go to the commerce pages, and 1 indicates that the visitor did\n",
    "\n",
    "Show the first few observations."
   ]
  },
  {
   "cell_type": "code",
   "execution_count": null,
   "metadata": {
    "tags": [
     "otter_answer_cell"
    ]
   },
   "outputs": [],
   "source": [
    "splash_page = ...\n",
    "..."
   ]
  },
  {
   "cell_type": "code",
   "execution_count": null,
   "metadata": {
    "deletable": false,
    "editable": false
   },
   "outputs": [],
   "source": [
    "grader.check(\"q1\")"
   ]
  },
  {
   "cell_type": "markdown",
   "metadata": {
    "deletable": false,
    "editable": false
   },
   "source": [
    "### Analysis"
   ]
  },
  {
   "cell_type": "markdown",
   "metadata": {
    "deletable": false,
    "editable": false
   },
   "source": [
    "#### Actual Outcome"
   ]
  },
  {
   "cell_type": "markdown",
   "metadata": {
    "deletable": false,
    "editable": false
   },
   "source": [
    "Explore what actually happened during the trial period."
   ]
  },
  {
   "cell_type": "markdown",
   "metadata": {
    "deletable": false,
    "editable": false
   },
   "source": [
    "For each design, show the number of visitors that were presented that design during the trial period."
   ]
  },
  {
   "cell_type": "code",
   "execution_count": null,
   "metadata": {
    "tags": [
     "otter_answer_cell"
    ]
   },
   "outputs": [],
   "source": [
    "trial_visitors = ...\n",
    "trial_visitors"
   ]
  },
  {
   "cell_type": "code",
   "execution_count": null,
   "metadata": {
    "deletable": false,
    "editable": false
   },
   "outputs": [],
   "source": [
    "grader.check(\"q2_1\")"
   ]
  },
  {
   "cell_type": "markdown",
   "metadata": {
    "deletable": false,
    "editable": false
   },
   "source": [
    "For each design, show the probability that a visitor went to the commerce pages during the trial period."
   ]
  },
  {
   "cell_type": "code",
   "execution_count": null,
   "metadata": {
    "tags": [
     "otter_answer_cell"
    ]
   },
   "outputs": [],
   "source": [
    "trial_prob = ...\n",
    "trial_prob"
   ]
  },
  {
   "cell_type": "code",
   "execution_count": null,
   "metadata": {
    "deletable": false,
    "editable": false
   },
   "outputs": [],
   "source": [
    "grader.check(\"q2_2\")"
   ]
  },
  {
   "cell_type": "markdown",
   "metadata": {
    "deletable": false,
    "editable": false
   },
   "source": [
    "Show the difference between the probabilities."
   ]
  },
  {
   "cell_type": "code",
   "execution_count": null,
   "metadata": {
    "tags": [
     "otter_answer_cell"
    ]
   },
   "outputs": [],
   "source": [
    "trial_diff = ...\n",
    "trial_diff"
   ]
  },
  {
   "cell_type": "code",
   "execution_count": null,
   "metadata": {
    "deletable": false,
    "editable": false
   },
   "outputs": [],
   "source": [
    "grader.check(\"q2_3\")"
   ]
  },
  {
   "cell_type": "markdown",
   "metadata": {},
   "source": [
    "#### Hypothesized Outcome"
   ]
  },
  {
   "cell_type": "markdown",
   "metadata": {},
   "source": [
    "Note that visitors were presented with one of two possible designs by chance.  Perhaps these results are due to chance, too.  In other words, perhaps some visitors would have gone to the commerce pages regardless of which design was presented.  Similarly, perhaps some vistors would have not gone regardless.\n",
    "\n",
    "To test for this possible chance occurrence, hypothesize that the designs had no effect on the visitors' actions, and then look for evidence that suggests that your hypothesis is unlikely."
   ]
  },
  {
   "cell_type": "markdown",
   "metadata": {},
   "source": [
    "Under the assumption that the designs have no effect, you could have scrambled which visitors were presented with which designs, and the visitors' actions would have been the same."
   ]
  },
  {
   "cell_type": "markdown",
   "metadata": {
    "deletable": false,
    "editable": false
   },
   "source": [
    "Construct an array of design choices (A or B), in the same proportion as in the actual trial period,\n",
    "but randomly ordered.  _To do this, use the choice() function with argument replace=False._"
   ]
  },
  {
   "cell_type": "code",
   "execution_count": null,
   "metadata": {
    "tags": [
     "otter_answer_cell"
    ]
   },
   "outputs": [],
   "source": [
    "seed(1)\n",
    "design_data = ...\n",
    "design_total = ...\n",
    "\n",
    "scramble = choice(design_data, splash_page.num_rows, replace=False)\n",
    "scramble"
   ]
  },
  {
   "cell_type": "code",
   "execution_count": null,
   "metadata": {
    "deletable": false,
    "editable": false
   },
   "outputs": [],
   "source": [
    "grader.check(\"q3_1\")"
   ]
  },
  {
   "cell_type": "markdown",
   "metadata": {
    "deletable": false,
    "editable": false
   },
   "source": [
    "Construct a table like the one you just did showing the assumed clickthru values, except\n",
    "replace the design column with the one new array (for scrambled design choices)."
   ]
  },
  {
   "cell_type": "code",
   "execution_count": null,
   "metadata": {
    "tags": [
     "otter_answer_cell"
    ]
   },
   "outputs": [],
   "source": [
    "data_hypo = ...\n",
    "data_hypo"
   ]
  },
  {
   "cell_type": "code",
   "execution_count": null,
   "metadata": {
    "deletable": false,
    "editable": false
   },
   "outputs": [],
   "source": [
    "grader.check(\"q3_2\")"
   ]
  },
  {
   "cell_type": "markdown",
   "metadata": {
    "deletable": false,
    "editable": false
   },
   "source": [
    "For each design, show the probability that a visitor would have gone to the commerce pages during the trial period\n",
    "(one probability for Design A and another probability for Design B), assuming the scrambled design choices."
   ]
  },
  {
   "cell_type": "code",
   "execution_count": null,
   "metadata": {
    "tags": [
     "otter_answer_cell"
    ]
   },
   "outputs": [],
   "source": [
    "prob = ...\n",
    "prob"
   ]
  },
  {
   "cell_type": "code",
   "execution_count": null,
   "metadata": {
    "deletable": false,
    "editable": false
   },
   "outputs": [],
   "source": [
    "grader.check(\"q3_3\")"
   ]
  },
  {
   "cell_type": "markdown",
   "metadata": {
    "deletable": false,
    "editable": false
   },
   "source": [
    "Show the difference between the probabilities."
   ]
  },
  {
   "cell_type": "code",
   "execution_count": null,
   "metadata": {
    "tags": [
     "otter_answer_cell"
    ]
   },
   "outputs": [],
   "source": [
    "diff = ...\n",
    "diff"
   ]
  },
  {
   "cell_type": "code",
   "execution_count": null,
   "metadata": {
    "deletable": false,
    "editable": false
   },
   "outputs": [],
   "source": [
    "grader.check(\"q3_4\")"
   ]
  },
  {
   "cell_type": "markdown",
   "metadata": {
    "deletable": false,
    "editable": false
   },
   "source": [
    "Explore the range of results you could have seen if the design choice had no effect on visitors' actions."
   ]
  },
  {
   "cell_type": "markdown",
   "metadata": {
    "deletable": false,
    "editable": false
   },
   "source": [
    "Get 1000 different scrambles of design choices.  For each scramble, calculate what would have been\n",
    "the probabilities of a vistor going to the commerce pages (one probability for Design A and another\n",
    "probability for Design B).  Calculate and show a histogram of all 1000 probability differences (30 bins, range -0.1 to 0.1)."
   ]
  },
  {
   "cell_type": "code",
   "execution_count": null,
   "metadata": {
    "scrolled": false,
    "tags": [
     "otter_answer_cell"
    ]
   },
   "outputs": [],
   "source": [
    "seed(1)\n",
    "\n",
    "dist_array = make_array()\n",
    "\n",
    "for i in arange(1000):\n",
    "    scramble_i = choice(splash_page.column('design'), splash_page.num_rows, replace=False)\n",
    "    data_hypo_i = ...\n",
    "    prob_i = ...\n",
    "    diff_i = ...\n",
    "    dist_array = append(dist_array, diff_i)\n",
    "\n",
    "# Name the column of probability differences 'diff'\n",
    "dist = ...\n",
    "\n",
    "dist_hist = dist.hist(bins=30, range=make_array(-0.1, 0.1))\n",
    "dist_hist"
   ]
  },
  {
   "cell_type": "code",
   "execution_count": null,
   "metadata": {
    "deletable": false,
    "editable": false
   },
   "outputs": [],
   "source": [
    "grader.check(\"q3_5\")"
   ]
  },
  {
   "cell_type": "markdown",
   "metadata": {
    "deletable": false,
    "editable": false
   },
   "source": [
    "Calculate and show the probability that the trial probability difference would be >= 0.0512\n",
    "if the design has no effect on visitors' actions. (This is the p-value.)\n",
    "Also show the histogram of probability differences with the area corresponding to the probability highlighted."
   ]
  },
  {
   "cell_type": "code",
   "execution_count": null,
   "metadata": {
    "tags": [
     "otter_answer_cell"
    ]
   },
   "outputs": [],
   "source": [
    "p_value = ...\n",
    "p_value\n",
    "\n",
    "left_end_values = ...\n",
    "\n",
    "dist.hist(bins=30, range=make_array(-0.1, 0.1), left_end=left_end_values, right_end=0.1)"
   ]
  },
  {
   "cell_type": "code",
   "execution_count": null,
   "metadata": {
    "deletable": false,
    "editable": false
   },
   "outputs": [],
   "source": [
    "grader.check(\"q3_6\")"
   ]
  },
  {
   "cell_type": "markdown",
   "metadata": {
    "deletable": false,
    "editable": false
   },
   "source": [
    "Calculate and show the lower bound of the probability difference corresponding to the highest 5%\n",
    "of results, based on what you could have seen if the design choice has no effect on visitors' actions.\n",
    "(This is the critical value @ significance level 0.05.)\n",
    "Also show the histogram of probability differences with the area corresponding to the significance level highlighted."
   ]
  },
  {
   "cell_type": "code",
   "execution_count": null,
   "metadata": {
    "tags": [
     "otter_answer_cell"
    ]
   },
   "outputs": [],
   "source": [
    "cv = ...\n",
    "cv\n",
    "\n",
    "left_end_values2 = ...\n",
    "\n",
    "dist.hist(bins=30, range=make_array(-0.1, 0.1), left_end=left_end_values2, right_end=0.1)"
   ]
  },
  {
   "cell_type": "code",
   "execution_count": null,
   "metadata": {
    "deletable": false,
    "editable": false
   },
   "outputs": [],
   "source": [
    "grader.check(\"q3_7\")"
   ]
  },
  {
   "cell_type": "markdown",
   "metadata": {
    "deletable": false,
    "editable": false
   },
   "source": [
    "Show that you should conclude that the hypothesis is correct (i.e., conclude that the design makes no difference), at significance level 0.05. You should only use comparison symbols (>, <, =) in the blank. Define reason_1 and reason_2 as the full string expressing the statement. For example, reason_1 = \"p_value = sig_level\". Don't include any extra spaces."
   ]
  },
  {
   "cell_type": "code",
   "execution_count": null,
   "metadata": {
    "tags": [
     "otter_answer_cell"
    ]
   },
   "outputs": [],
   "source": [
    "# Reason 1: \"p_value ___ 0.05\"\n",
    "reason_1 = ...\n",
    "\n",
    "# Reason 2: \"trial_diff ___ cv\"\n",
    "reason_2 = ...\n",
    "\n",
    "reason_1, reason_2"
   ]
  },
  {
   "cell_type": "code",
   "execution_count": null,
   "metadata": {
    "deletable": false,
    "editable": false
   },
   "outputs": [],
   "source": [
    "grader.check(\"q3_8\")"
   ]
  },
  {
   "cell_type": "markdown",
   "metadata": {},
   "source": [
    "<p style=\"text-align:left; font-size:10px;\">\n",
    "Copyright (c) Huntsinger Associates, LLC\n",
    "<span style=\"float:right;\">\n",
    "Document revised October 20, 2023\n",
    "</span>\n",
    "</p>"
   ]
  }
 ],
 "metadata": {
  "kernelspec": {
   "display_name": ".venv",
   "language": "python",
   "name": "python3"
  },
  "language_info": {
   "codemirror_mode": {
    "name": "ipython",
    "version": 3
   },
   "file_extension": ".py",
   "mimetype": "text/x-python",
   "name": "python",
   "nbconvert_exporter": "python",
   "pygments_lexer": "ipython3",
   "version": "3.13.5"
  },
  "otter": {
   "OK_FORMAT": true,
   "tests": {
    "q1": {
     "name": "q1",
     "points": null,
     "suites": [
      {
       "cases": [
        {
         "code": ">>> splash_page.labels == ('customer_id', 'design', 'clickthru')\nTrue",
         "hidden": false,
         "locked": false
        },
        {
         "code": ">>> splash_page.num_rows == 1014\nTrue",
         "hidden": false,
         "locked": false
        }
       ],
       "scored": true,
       "setup": "",
       "teardown": "",
       "type": "doctest"
      }
     ]
    },
    "q2_1": {
     "name": "q2_1",
     "points": null,
     "suites": [
      {
       "cases": [
        {
         "code": ">>> trial_visitors.labels == ('design', 'count')\nTrue",
         "hidden": false,
         "locked": false
        },
        {
         "code": ">>> trial_visitors.num_rows == 2\nTrue",
         "hidden": false,
         "locked": false
        }
       ],
       "scored": true,
       "setup": "",
       "teardown": "",
       "type": "doctest"
      }
     ]
    },
    "q2_2": {
     "name": "q2_2",
     "points": null,
     "suites": [
      {
       "cases": [
        {
         "code": ">>> trial_prob.labels == ('design', 'clickthru mean')\nTrue",
         "hidden": false,
         "locked": false
        },
        {
         "code": ">>> trial_prob.num_rows == 2\nTrue",
         "hidden": false,
         "locked": false
        }
       ],
       "scored": true,
       "setup": "",
       "teardown": "",
       "type": "doctest"
      }
     ]
    },
    "q2_3": {
     "name": "q2_3",
     "points": null,
     "suites": [
      {
       "cases": [
        {
         "code": ">>> round(trial_diff, 2) == 0.05\nTrue",
         "hidden": false,
         "locked": false
        }
       ],
       "scored": true,
       "setup": "",
       "teardown": "",
       "type": "doctest"
      }
     ]
    },
    "q3_1": {
     "name": "q3_1",
     "points": null,
     "suites": [
      {
       "cases": [
        {
         "code": ">>> all(design_data == splash_page.column('design'))\nTrue",
         "hidden": false,
         "locked": false
        },
        {
         "code": ">>> design_total == splash_page.num_rows\nTrue",
         "hidden": false,
         "locked": false
        }
       ],
       "scored": true,
       "setup": "",
       "teardown": "",
       "type": "doctest"
      }
     ]
    },
    "q3_2": {
     "name": "q3_2",
     "points": null,
     "suites": [
      {
       "cases": [
        {
         "code": ">>> data_hypo.labels == ('customer_id', 'design', 'clickthru')\nTrue",
         "hidden": false,
         "locked": false
        },
        {
         "code": ">>> data_hypo.num_rows == 1014\nTrue",
         "hidden": false,
         "locked": false
        }
       ],
       "scored": true,
       "setup": "",
       "teardown": "",
       "type": "doctest"
      }
     ]
    },
    "q3_3": {
     "name": "q3_3",
     "points": null,
     "suites": [
      {
       "cases": [
        {
         "code": ">>> prob.labels == ('design', 'clickthru mean')\nTrue",
         "hidden": false,
         "locked": false
        },
        {
         "code": ">>> prob.num_rows == 2\nTrue",
         "hidden": false,
         "locked": false
        }
       ],
       "scored": true,
       "setup": "",
       "teardown": "",
       "type": "doctest"
      }
     ]
    },
    "q3_4": {
     "name": "q3_4",
     "points": null,
     "suites": [
      {
       "cases": [
        {
         "code": ">>> round(diff, 2) == 0.03\nTrue",
         "hidden": false,
         "locked": false
        }
       ],
       "scored": true,
       "setup": "",
       "teardown": "",
       "type": "doctest"
      }
     ]
    },
    "q3_5": {
     "name": "q3_5",
     "points": null,
     "suites": [
      {
       "cases": [
        {
         "code": ">>> data_hypo_i.labels == ('customer_id', 'design', 'clickthru') and data_hypo_i.num_rows == 1014\nTrue",
         "hidden": false,
         "locked": false
        },
        {
         "code": ">>> prob_i.labels == ('design', 'clickthru mean') and prob_i.num_rows == 2\nTrue",
         "hidden": false,
         "locked": false
        },
        {
         "code": ">>> round(diff_i, 3) == -0.008\nTrue",
         "hidden": false,
         "locked": false
        },
        {
         "code": ">>> 'diff' in dist.labels and all(dist.column('diff') == dist_array)\nTrue",
         "hidden": false,
         "locked": false
        }
       ],
       "scored": true,
       "setup": "",
       "teardown": "",
       "type": "doctest"
      }
     ]
    },
    "q3_6": {
     "name": "q3_6",
     "points": null,
     "suites": [
      {
       "cases": [
        {
         "code": ">>> p_value == 0.065\nTrue",
         "hidden": false,
         "locked": false
        },
        {
         "code": ">>> left_end_values == trial_diff\nTrue",
         "hidden": false,
         "locked": false
        }
       ],
       "scored": true,
       "setup": "",
       "teardown": "",
       "type": "doctest"
      }
     ]
    },
    "q3_7": {
     "name": "q3_7",
     "points": null,
     "suites": [
      {
       "cases": [
        {
         "code": ">>> round(cv, 3) == 0.055\nTrue",
         "hidden": false,
         "locked": false
        },
        {
         "code": ">>> left_end_values2 == cv\nTrue",
         "hidden": false,
         "locked": false
        }
       ],
       "scored": true,
       "setup": "",
       "teardown": "",
       "type": "doctest"
      }
     ]
    },
    "q3_8": {
     "name": "q3_8",
     "points": null,
     "suites": [
      {
       "cases": [
        {
         "code": ">>> (reason_1 == 'p_value > 0.05') | (reason_1 == 'p_value>0.05')\nTrue",
         "hidden": false,
         "locked": false
        },
        {
         "code": ">>> (reason_2 == 'trial_diff < cv') | (reason_2 == 'trial_diff<cv')\nTrue",
         "hidden": false,
         "locked": false
        }
       ],
       "scored": true,
       "setup": "",
       "teardown": "",
       "type": "doctest"
      }
     ]
    }
   }
  },
  "otter_service": {
   "assignment": "lab_i",
   "course": "88bx",
   "section": "2"
  },
  "toc": {
   "base_numbering": 1,
   "nav_menu": {},
   "number_sections": true,
   "sideBar": true,
   "skip_h1_title": true,
   "title_cell": "Table of Contents",
   "title_sidebar": "Contents",
   "toc_cell": false,
   "toc_position": {
    "height": "calc(100% - 180px)",
    "left": "10px",
    "top": "150px",
    "width": "256.25px"
   },
   "toc_section_display": true,
   "toc_window_display": false
  }
 },
 "nbformat": 4,
 "nbformat_minor": 2
}
