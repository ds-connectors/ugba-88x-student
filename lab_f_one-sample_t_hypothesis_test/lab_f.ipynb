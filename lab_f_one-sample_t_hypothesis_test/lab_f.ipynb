{
 "cells": [
  {
   "cell_type": "code",
   "execution_count": null,
   "metadata": {
    "deletable": false,
    "editable": false
   },
   "outputs": [],
   "source": [
    "# Initialize Otter\n",
    "import otter\n",
    "grader = otter.Notebook(\"lab_f.ipynb\")"
   ]
  },
  {
   "cell_type": "markdown",
   "metadata": {},
   "source": [
    "# Lab F: One-Sample t Hypothesis Test"
   ]
  },
  {
   "cell_type": "markdown",
   "metadata": {},
   "source": [
    "## Setup"
   ]
  },
  {
   "cell_type": "code",
   "execution_count": null,
   "metadata": {},
   "outputs": [],
   "source": [
    "import warnings\n",
    "from datascience import Table, make_array, are, percentile\n",
    "from numpy import mean, std, arange, sqrt, append, ndarray, float64, isclose\n",
    "from numpy.random import seed, standard_t\n",
    "\n",
    "# Force display of all values \n",
    "from IPython.core.interactiveshell import InteractiveShell\n",
    "InteractiveShell.ast_node_interactivity = \"all\"\n",
    "\n",
    "# Handle some obnoxious warning messages\n",
    "warnings.filterwarnings(\"ignore\")"
   ]
  },
  {
   "cell_type": "markdown",
   "metadata": {},
   "source": [
    "## Customer Satisfaction Alarm - known population (unrealistic business situation)\n",
    "\n",
    "### Business Decision\n",
    "\n",
    "A customer service organization in a large multi-national conglomerate serves about $100,000$ customers.  Each month, an independent vendor interviews $10$ customers chosen at random for their levels of customer satisfaction.  The scores range from $0$ for highly dissatisfied to $100$ for highly satisfied.  The vendor then reports the average score for this sample of customers to the Vice President of Customer Service.  Historically, the average score for a sample of $10$ customers has usually been about $75$, which the Vice President considers acceptable.\n",
    "\n",
    "For this analysis, suppose (somewhat unrealistically) that you know the satisfaction levels of all customers. "
   ]
  },
  {
   "cell_type": "markdown",
   "metadata": {},
   "source": [
    "### Data"
   ]
  },
  {
   "cell_type": "markdown",
   "metadata": {
    "deletable": false,
    "editable": false
   },
   "source": [
    "**Question 0.1.** Retrieve the satisfaction levels of all customers from the file `'Population CSat1.csv'`. Show the population size, the population mean score, and a histogram of the population scores (100 bins, range 0 to 100)."
   ]
  },
  {
   "cell_type": "code",
   "execution_count": null,
   "metadata": {
    "tags": [
     "otter_answer_cell"
    ]
   },
   "outputs": [],
   "source": [
    "data = Table.read_table(...)\n",
    "pop_mean = ...\n",
    "data\n",
    "print(\"There are\", data.num_rows, \"in the dataset.\")\n",
    "print(\"The mean of the population is\", pop_mean)\n",
    "data.hist(bins=100, range=make_array(0,100))"
   ]
  },
  {
   "cell_type": "code",
   "execution_count": null,
   "metadata": {
    "deletable": false,
    "editable": false
   },
   "outputs": [],
   "source": [
    "grader.check(\"q01\")"
   ]
  },
  {
   "cell_type": "markdown",
   "metadata": {},
   "source": [
    "### 1. Analysis"
   ]
  },
  {
   "cell_type": "markdown",
   "metadata": {},
   "source": [
    "#### Sample "
   ]
  },
  {
   "cell_type": "markdown",
   "metadata": {
    "deletable": false,
    "editable": false
   },
   "source": [
    "**Question 1.1.** Set sample size to `10`."
   ]
  },
  {
   "cell_type": "code",
   "execution_count": null,
   "metadata": {
    "tags": [
     "otter_answer_cell"
    ]
   },
   "outputs": [],
   "source": [
    "sample_size = ...\n",
    "sample_size"
   ]
  },
  {
   "cell_type": "code",
   "execution_count": null,
   "metadata": {
    "deletable": false,
    "editable": false
   },
   "outputs": [],
   "source": [
    "grader.check(\"q11\")"
   ]
  },
  {
   "cell_type": "markdown",
   "metadata": {
    "deletable": false,
    "editable": false
   },
   "source": [
    "**Question 1.2.** Set the randomization seed to `4`, get a sample, show the sample scores, and show a histogram of the sample scores (100 bins, range 0 to 100)."
   ]
  },
  {
   "cell_type": "code",
   "execution_count": null,
   "metadata": {
    "scrolled": false,
    "tags": [
     "otter_answer_cell"
    ]
   },
   "outputs": [],
   "source": [
    "seed_value = ...\n",
    "seed(seed_value)\n",
    "\n",
    "sampled_data = ...\n",
    "\n",
    "num_bins = ...\n",
    "range_bins = ...\n",
    "sampled_data.hist(bins=num_bins, range=range_bins)"
   ]
  },
  {
   "cell_type": "code",
   "execution_count": null,
   "metadata": {
    "deletable": false,
    "editable": false
   },
   "outputs": [],
   "source": [
    "grader.check(\"q12\")"
   ]
  },
  {
   "cell_type": "markdown",
   "metadata": {
    "deletable": false,
    "editable": false
   },
   "source": [
    "**Question 1.3** Show the sample mean."
   ]
  },
  {
   "cell_type": "code",
   "execution_count": null,
   "metadata": {
    "tags": [
     "otter_answer_cell"
    ]
   },
   "outputs": [],
   "source": [
    "sample_mean = ...\n",
    "sample_mean"
   ]
  },
  {
   "cell_type": "code",
   "execution_count": null,
   "metadata": {
    "deletable": false,
    "editable": false
   },
   "outputs": [],
   "source": [
    "grader.check(\"q13\")"
   ]
  },
  {
   "cell_type": "markdown",
   "metadata": {
    "deletable": false,
    "editable": false
   },
   "source": [
    "**Question 1.4** Show the sample standard deviation."
   ]
  },
  {
   "cell_type": "code",
   "execution_count": null,
   "metadata": {
    "tags": [
     "otter_answer_cell"
    ]
   },
   "outputs": [],
   "source": [
    "sample_std = ...\n",
    "sample_std"
   ]
  },
  {
   "cell_type": "code",
   "execution_count": null,
   "metadata": {
    "deletable": false,
    "editable": false
   },
   "outputs": [],
   "source": [
    "grader.check(\"q14\")"
   ]
  },
  {
   "cell_type": "markdown",
   "metadata": {
    "deletable": false,
    "editable": false
   },
   "source": [
    "**Question 1.5** Calculate the sample t-statistic to test whether your sample mean is significantly different from the population mean of $75.00$.\n",
    "\n",
    "Use the formula:\n",
    "\n",
    "$$\n",
    "t = \\frac{\\bar{x} - \\text{pop. mean}}{s / \\sqrt{n}}\n",
    "$$\n",
    "\n",
    "where:  \n",
    "- $\\bar{x}$ is the sample mean  \n",
    "- $s$ is the sample standard deviation  \n",
    "- $n$ is the sample size"
   ]
  },
  {
   "cell_type": "code",
   "execution_count": null,
   "metadata": {
    "tags": [
     "otter_answer_cell"
    ]
   },
   "outputs": [],
   "source": [
    "sample_t = ...\n",
    "sample_t"
   ]
  },
  {
   "cell_type": "code",
   "execution_count": null,
   "metadata": {
    "deletable": false,
    "editable": false
   },
   "outputs": [],
   "source": [
    "grader.check(\"q15\")"
   ]
  },
  {
   "cell_type": "markdown",
   "metadata": {},
   "source": [
    "#### 2. Distribution of Sample t's"
   ]
  },
  {
   "cell_type": "markdown",
   "metadata": {
    "deletable": false,
    "editable": false
   },
   "source": [
    "**Question 2.1** Get a new sample of $10$ customers. Show the sample scores. Calculate and show the sample t.  Visualize as a histogram of the **sample scores** (100 bins, range 0 to 100).\n",
    "\n",
    "Try this several times and notice that the shapes of the histograms are dissimilar."
   ]
  },
  {
   "cell_type": "code",
   "execution_count": null,
   "metadata": {
    "tags": [
     "otter_answer_cell"
    ]
   },
   "outputs": [],
   "source": [
    "new_sample_i =  ...\n",
    "sample_mean_i = ...\n",
    "sample_std_i = ...\n",
    "sample_t_i = (sample_mean_i - pop_mean) / (sample_std_i / sqrt(sample_size))\n",
    "\n",
    "new_sample_i\n",
    "sample_t_i\n",
    "new_sample_i.hist(bins=100, range=make_array(0,100))"
   ]
  },
  {
   "cell_type": "code",
   "execution_count": null,
   "metadata": {
    "deletable": false,
    "editable": false
   },
   "outputs": [],
   "source": [
    "grader.check(\"q21\")"
   ]
  },
  {
   "cell_type": "markdown",
   "metadata": {
    "deletable": false,
    "editable": false
   },
   "source": [
    "**Question 2.2** Get $5$ new samples of $10$ customers each.  Calculate and show the sample t's.  Visualize as a histogram of the **sample t's** (50 bins, range -4 to 4).\n",
    "\n",
    "Try this several times and notice that the shapes of the histograms are dissimilar."
   ]
  },
  {
   "cell_type": "code",
   "execution_count": null,
   "metadata": {
    "tags": [
     "otter_answer_cell"
    ]
   },
   "outputs": [],
   "source": [
    "dist_array = make_array()\n",
    "\n",
    "for i in ...:\n",
    "    sample_i = ...\n",
    "    sample_mean_i = ...\n",
    "    sample_std_i = ...\n",
    "    sample_t_i = ...\n",
    "    dist_array = append(..., ...)\n",
    "dist = Table().with_column('t', dist_array)\n",
    "\n",
    "dist\n",
    "dist.hist(bins=50, range=make_array(-4,4))"
   ]
  },
  {
   "cell_type": "code",
   "execution_count": null,
   "metadata": {
    "deletable": false,
    "editable": false
   },
   "outputs": [],
   "source": [
    "grader.check(\"q22\")"
   ]
  },
  {
   "cell_type": "markdown",
   "metadata": {
    "deletable": false,
    "editable": false
   },
   "source": [
    "**Question 2.3** Get $100,000$ new samples of $10$ customers each.  Calculate and show the first few sample t's.  Visualize as a histogram of the sample `t`'s (50 bins, range -4 to 4).\n",
    "\n",
    "Try this several times and notice that the shapes of the histograms are similar."
   ]
  },
  {
   "cell_type": "code",
   "execution_count": null,
   "metadata": {
    "scrolled": false,
    "tags": [
     "otter_answer_cell"
    ]
   },
   "outputs": [],
   "source": [
    "dist_array = make_array()\n",
    "\n",
    "for i in ...:\n",
    "    sample_i = ...\n",
    "    sample_mean_i = ...\n",
    "    sample_std_i = ...\n",
    "    sample_t_i = ...                  # caution: potential divide by zero\n",
    "    dist_array = append(..., ...)\n",
    "dist = Table().with_column('t', dist_array)\n",
    "\n",
    "dist\n",
    "dist.hist(bins=50, range=make_array(-4,4))"
   ]
  },
  {
   "cell_type": "code",
   "execution_count": null,
   "metadata": {
    "deletable": false,
    "editable": false
   },
   "outputs": [],
   "source": [
    "grader.check(\"q23\")"
   ]
  },
  {
   "cell_type": "markdown",
   "metadata": {
    "deletable": false,
    "editable": false
   },
   "source": [
    "**Question 2.4** Calculate and show the probability of getting a sample `t` $\\le -0.6687$ (when population mean is $75.00$ and sample size is $10$).\n",
    "\n",
    "Visualize as a histogram of standard `t`'s with the area corresponding to the probability highlighted (50 bins, range -4 to 4)."
   ]
  },
  {
   "cell_type": "code",
   "execution_count": null,
   "metadata": {
    "tags": [
     "otter_answer_cell"
    ]
   },
   "outputs": [],
   "source": [
    "prob = ...\n",
    "print(\"Our sample t is\", sample_t)\n",
    "print(\"Our probability of observing a t as small, or even smaller than\", sample_t, \"is\", prob)\n",
    "dist.hist(bins=50, range=make_array(-4,4), left_end=-4, right_end=sample_t)"
   ]
  },
  {
   "cell_type": "code",
   "execution_count": null,
   "metadata": {
    "deletable": false,
    "editable": false
   },
   "outputs": [],
   "source": [
    "grader.check(\"q24\")"
   ]
  },
  {
   "cell_type": "markdown",
   "metadata": {},
   "source": [
    "There was a $26.14$\\% probability of getting a sample like the one we did.  That's not a surprising result."
   ]
  },
  {
   "cell_type": "markdown",
   "metadata": {},
   "source": [
    "## 3. Customer Satisfaction Alarm - unknown population (realistic business situation)\n",
    "\n",
    "### Business Decision\n",
    "\n",
    "As in Part 2, our customer service organization has hired a vendor to interview some of its customers monthly.  For this analysis, suppose (somewhat realistically) that you do NOT know the satisfaction levels of all customers.\n",
    "\n",
    "This month, the average of 10 customer satisfaction scores is far below $75$.  The Vice President of Customer Service must decide whether to initiate action to address low customer satisfaction."
   ]
  },
  {
   "cell_type": "markdown",
   "metadata": {},
   "source": [
    "### Data"
   ]
  },
  {
   "cell_type": "markdown",
   "metadata": {},
   "source": [
    "You get a sample with scores that look like this:  \n",
    "$$ 63.1142, 86.2235, 75.3150, 62.5061, 73.3992, 67.3861, 53.3442, 67.4657, 76.6753, 67.5086 $$"
   ]
  },
  {
   "cell_type": "code",
   "execution_count": null,
   "metadata": {},
   "outputs": [],
   "source": [
    "observed_sample = Table().with_column('score', make_array(63.1142, 86.2235, 75.3150, 62.5061, 73.3992, 67.3861, 53.3442, 67.4657, 76.6753, 67.5086))\n",
    "\n",
    "observed_sample"
   ]
  },
  {
   "cell_type": "markdown",
   "metadata": {},
   "source": [
    "### Analysis"
   ]
  },
  {
   "cell_type": "markdown",
   "metadata": {},
   "source": [
    "#### Hypothesis"
   ]
  },
  {
   "cell_type": "markdown",
   "metadata": {},
   "source": [
    "Hypothesize that the population mean $\\ge$ $75.00$.  This would be business as usual and not require action."
   ]
  },
  {
   "cell_type": "code",
   "execution_count": null,
   "metadata": {},
   "outputs": [],
   "source": [
    "pop_mean_hypo = 75.00\n",
    "pop_mean_hypo"
   ]
  },
  {
   "cell_type": "markdown",
   "metadata": {},
   "source": [
    "#### Sample"
   ]
  },
  {
   "cell_type": "markdown",
   "metadata": {
    "deletable": false,
    "editable": false
   },
   "source": [
    "**Question 3.1** Show the sample size, sample mean, sample standard deviation, sample `t`, and a histogram of the sample scores (100 bins, range 0 to 100)."
   ]
  },
  {
   "cell_type": "code",
   "execution_count": null,
   "metadata": {
    "tags": [
     "otter_answer_cell"
    ]
   },
   "outputs": [],
   "source": [
    "sample_size = ...\n",
    "sample_mean = ...\n",
    "sample_std = ...\n",
    "sample_t = (sample_mean - pop_mean_hypo) / (sample_std / sqrt(sample_size))\n",
    "print(\"Our sample size is\", sample_size)\n",
    "print(\"Our sample mean is\", sample_mean)\n",
    "print(\"Our sample standard deviation is\", sample_std)\n",
    "print(\"Our sample t is\", sample_t)\n",
    "observed_sample.hist(bins=100, range=make_array(0,100))"
   ]
  },
  {
   "cell_type": "code",
   "execution_count": null,
   "metadata": {
    "deletable": false,
    "editable": false
   },
   "outputs": [],
   "source": [
    "grader.check(\"q31\")"
   ]
  },
  {
   "cell_type": "markdown",
   "metadata": {},
   "source": [
    "Because the sample mean is less than the hypothesized population mean, we suspect that the real population mean might be less than the hypothesized population mean.  Note that what we suspect is the opposite of the hypothesis. "
   ]
  },
  {
   "cell_type": "markdown",
   "metadata": {},
   "source": [
    "#### Standard t Distribution"
   ]
  },
  {
   "cell_type": "markdown",
   "metadata": {
    "deletable": false,
    "editable": false
   },
   "source": [
    "**Question 3.2** Get $1,000,000$ values from the standard `t` distribution for sample size $10$.  To do this, use `standard_t(sample_size - 1, 1000000)`.  Visualize as a histogram of all the standard `t`'s. (50 bins, range -4 to 4).\n",
    "\n",
    "Treat the standard `t` distribution as the population `t` distribution."
   ]
  },
  {
   "cell_type": "code",
   "execution_count": null,
   "metadata": {
    "scrolled": false,
    "tags": [
     "otter_answer_cell"
    ]
   },
   "outputs": [],
   "source": [
    "degrees_freedom = ...\n",
    "dist_array = standard_t(degrees_freedom, ...)\n",
    "dist = Table().with_column('t', dist_array)\n",
    "dist\n",
    "dist.hist(bins=50, range=make_array(-4,4))"
   ]
  },
  {
   "cell_type": "code",
   "execution_count": null,
   "metadata": {
    "deletable": false,
    "editable": false
   },
   "outputs": [],
   "source": [
    "grader.check(\"q32\")"
   ]
  },
  {
   "cell_type": "markdown",
   "metadata": {},
   "source": [
    "#### p-Value"
   ]
  },
  {
   "cell_type": "markdown",
   "metadata": {
    "deletable": false,
    "editable": false
   },
   "source": [
    "**Question 3.3** Show the sample `t`.  Calculate and show the probability that the sample `t` $\\le -1.9859$ when `pop mean` $\\ge 75.00$ (this is the p-value).  Visualize as a histogram of standard t's with the area corresponding to the probability highlighted (50 bins, range -4 to 4)."
   ]
  },
  {
   "cell_type": "code",
   "execution_count": null,
   "metadata": {
    "tags": [
     "otter_answer_cell"
    ]
   },
   "outputs": [],
   "source": [
    "num_below_sample_t = ...\n",
    "p_value = num_below_sample_t / dist.num_rows\n",
    "print(\"Our sample t was found to be\", sample_t)\n",
    "print(\"Our p-value is\", p_value)\n",
    "dist.hist(bins=50, range=make_array(-4,4), left_end=-4, right_end=sample_t)"
   ]
  },
  {
   "cell_type": "code",
   "execution_count": null,
   "metadata": {
    "deletable": false,
    "editable": false
   },
   "outputs": [],
   "source": [
    "grader.check(\"q33\")"
   ]
  },
  {
   "cell_type": "markdown",
   "metadata": {},
   "source": [
    "#### Conclusion at Significance Level $0.05$"
   ]
  },
  {
   "cell_type": "markdown",
   "metadata": {
    "deletable": false,
    "editable": false
   },
   "source": [
    "**Question 3.4** Set and show the significance level $0.05$.  Calculate and show the critical value at significance level $0.05$ based on the standard t distribution for sample size $10$.  Note that the suspected population mean is **below** the hypothesized population mean.  Visualize as a histogram of standard t's with the area corresponding to the significance level highlighted (50 bins, range -4 to 4)."
   ]
  },
  {
   "cell_type": "code",
   "execution_count": null,
   "metadata": {
    "scrolled": true,
    "tags": [
     "otter_answer_cell"
    ]
   },
   "outputs": [],
   "source": [
    "sig_level = ...\n",
    "cv = percentile(sig_level*100, ...)\n",
    "print(\"Our significance level is\", sig_level)\n",
    "print(\"Our critical value is\", cv)\n",
    "dist.hist(bins=50, range=make_array(-4,4), left_end=-4, right_end=cv)"
   ]
  },
  {
   "cell_type": "code",
   "execution_count": null,
   "metadata": {
    "deletable": false,
    "editable": false
   },
   "outputs": [],
   "source": [
    "grader.check(\"q34\")"
   ]
  },
  {
   "cell_type": "markdown",
   "metadata": {
    "deletable": false,
    "editable": false
   },
   "source": [
    "**Question 3.5** Calculate and show that you should conclude the hypothesis is not correct (i.e., conclude population mean < 75.00), at significance level 0.05."
   ]
  },
  {
   "cell_type": "code",
   "execution_count": null,
   "metadata": {
    "tags": [
     "otter_answer_cell"
    ]
   },
   "outputs": [],
   "source": [
    "do_we_reject_null = p_value <= ... and sample_t <= ...\n",
    "print(\"Do we reject the null hypothesis?\", do_we_reject_null)"
   ]
  },
  {
   "cell_type": "code",
   "execution_count": null,
   "metadata": {
    "deletable": false,
    "editable": false
   },
   "outputs": [],
   "source": [
    "grader.check(\"q35\")"
   ]
  },
  {
   "cell_type": "markdown",
   "metadata": {},
   "source": [
    "If average customer satisfaction of all customers were really $75$ or higher, then there would be only a 3.39% probability of getting a sample like the one we did.  Although that's possible, it's very unlikely, so the Vice President of Customer Service decides to initiate action to address low customer satisfaction."
   ]
  },
  {
   "cell_type": "markdown",
   "metadata": {},
   "source": [
    "<p style=\"text-align:left; font-size:10px;\">\n",
    "Copyright (c) Huntsinger Associates, LLC\n",
    "<span style=\"float:right;\">\n",
    "Document revised October 5, 2024\n",
    "</span>\n",
    "</p>"
   ]
  }
 ],
 "metadata": {
  "kernelspec": {
   "display_name": ".venv",
   "language": "python",
   "name": "python3"
  },
  "language_info": {
   "codemirror_mode": {
    "name": "ipython",
    "version": 3
   },
   "file_extension": ".py",
   "mimetype": "text/x-python",
   "name": "python",
   "nbconvert_exporter": "python",
   "pygments_lexer": "ipython3",
   "version": "3.13.5"
  },
  "otter": {
   "OK_FORMAT": true,
   "tests": {
    "q01": {
     "name": "q01",
     "points": null,
     "suites": [
      {
       "cases": [
        {
         "code": ">>> type(data) is Table and data.num_rows == 99911 and isclose(pop_mean, 74.98, atol=0.01)\nTrue",
         "hidden": false,
         "locked": false
        },
        {
         "code": ">>> isclose(data.column(0).item(0), 78.02, atol=0.01)\nTrue",
         "hidden": false,
         "locked": false
        }
       ],
       "scored": true,
       "setup": "",
       "teardown": "",
       "type": "doctest"
      }
     ]
    },
    "q11": {
     "name": "q11",
     "points": null,
     "suites": [
      {
       "cases": [
        {
         "code": ">>> type(sample_size) is int and sample_size > 0 and (sample_size == 10)\nTrue",
         "hidden": false,
         "locked": false
        }
       ],
       "scored": true,
       "setup": "",
       "teardown": "",
       "type": "doctest"
      }
     ]
    },
    "q12": {
     "name": "q12",
     "points": null,
     "suites": [
      {
       "cases": [
        {
         "code": ">>> type(seed_value) is int and seed_value > 0 and (seed_value == 4)\nTrue",
         "hidden": false,
         "locked": false
        },
        {
         "code": ">>> sampled_data.num_rows == 10 and len(sampled_data.columns) == 1 and isclose(mean(sampled_data.column(0)), 73.2, atol=0.1)\nTrue",
         "hidden": false,
         "locked": false
        },
        {
         "code": ">>> type(num_bins) is int and num_bins > 0 and (num_bins == 100)\nTrue",
         "hidden": false,
         "locked": false
        },
        {
         "code": ">>> type(range_bins) is ndarray and len(range_bins) == 2 and (range_bins.item(0) == 0) and (range_bins.item(1) == 100)\nTrue",
         "hidden": false,
         "locked": false
        }
       ],
       "scored": true,
       "setup": "",
       "teardown": "",
       "type": "doctest"
      }
     ]
    },
    "q13": {
     "name": "q13",
     "points": null,
     "suites": [
      {
       "cases": [
        {
         "code": ">>> type(sample_mean) is float64 and isclose(sample_mean, 73.2, atol=0.1)\nTrue",
         "hidden": false,
         "locked": false
        }
       ],
       "scored": true,
       "setup": "",
       "teardown": "",
       "type": "doctest"
      }
     ]
    },
    "q14": {
     "name": "q14",
     "points": null,
     "suites": [
      {
       "cases": [
        {
         "code": ">>> type(sample_std) is float64 and isclose(sample_std, 8.19, atol=0.01)\nTrue",
         "hidden": false,
         "locked": false
        }
       ],
       "scored": true,
       "setup": "",
       "teardown": "",
       "type": "doctest"
      }
     ]
    },
    "q15": {
     "name": "q15",
     "points": null,
     "suites": [
      {
       "cases": [
        {
         "code": ">>> isclose(sample_t, -0.668, atol=0.001)\nTrue",
         "hidden": false,
         "locked": false
        }
       ],
       "scored": true,
       "setup": "",
       "teardown": "",
       "type": "doctest"
      }
     ]
    },
    "q21": {
     "name": "q21",
     "points": null,
     "suites": [
      {
       "cases": [
        {
         "code": ">>> new_sample_i.num_rows == 10 and len(new_sample_i.columns) == 1\nTrue",
         "hidden": false,
         "locked": false
        },
        {
         "code": ">>> type(sample_mean_i) is float64 and -10 <= sample_t_i <= 10\nTrue",
         "hidden": false,
         "locked": false
        }
       ],
       "scored": true,
       "setup": "",
       "teardown": "",
       "type": "doctest"
      }
     ]
    },
    "q22": {
     "name": "q22",
     "points": null,
     "suites": [
      {
       "cases": [
        {
         "code": ">>> dist.num_rows == 5 and len(dist.columns) == 1\nTrue",
         "hidden": false,
         "locked": false
        },
        {
         "code": ">>> sample_i.num_rows == 10 and len(sample_i.columns) == 1\nTrue",
         "hidden": false,
         "locked": false
        },
        {
         "code": ">>> sum(dist_array >= -10) == 5 and sum(dist_array <= 10) == 5\nTrue",
         "hidden": false,
         "locked": false
        }
       ],
       "scored": true,
       "setup": "",
       "teardown": "",
       "type": "doctest"
      }
     ]
    },
    "q23": {
     "name": "q23",
     "points": null,
     "suites": [
      {
       "cases": [
        {
         "code": ">>> len(dist_array) == 100000 and dist.num_rows == 100000 and (len(dist.columns) == 1)\nTrue",
         "hidden": false,
         "locked": false
        },
        {
         "code": ">>> sum(dist_array >= -10) == 100000 and sum(dist_array <= 10) == 100000\nTrue",
         "hidden": false,
         "locked": false
        }
       ],
       "scored": true,
       "setup": "",
       "teardown": "",
       "type": "doctest"
      }
     ]
    },
    "q24": {
     "name": "q24",
     "points": null,
     "suites": [
      {
       "cases": [
        {
         "code": ">>> type(prob) is float and isclose(prob, 0.26, atol=0.01)\nTrue",
         "hidden": false,
         "locked": false
        }
       ],
       "scored": true,
       "setup": "",
       "teardown": "",
       "type": "doctest"
      }
     ]
    },
    "q31": {
     "name": "q31",
     "points": null,
     "suites": [
      {
       "cases": [
        {
         "code": ">>> sample_size * 100 == 1000\nTrue",
         "hidden": false,
         "locked": false
        },
        {
         "code": ">>> isclose(sample_mean, 69.3, atol=0.01) and type(sample_mean) is float64 and (sample_mean > 0)\nTrue",
         "hidden": false,
         "locked": false
        },
        {
         "code": ">>> isclose(sample_std, 9.08, atol=0.01) and type(sample_mean) is float64 and (sample_mean > 0)\nTrue",
         "hidden": false,
         "locked": false
        },
        {
         "code": ">>> round(sample_t) == -2 and type(sample_std) is float64 and (sample_std > 0)\nTrue",
         "hidden": false,
         "locked": false
        }
       ],
       "scored": true,
       "setup": "",
       "teardown": "",
       "type": "doctest"
      }
     ]
    },
    "q32": {
     "name": "q32",
     "points": null,
     "suites": [
      {
       "cases": [
        {
         "code": ">>> dist.num_rows == 1000000 and len(dist.columns) == 1\nTrue",
         "hidden": false,
         "locked": false
        },
        {
         "code": ">>> round(mean(dist_array)) == 0\nTrue",
         "hidden": false,
         "locked": false
        }
       ],
       "scored": true,
       "setup": "",
       "teardown": "",
       "type": "doctest"
      }
     ]
    },
    "q33": {
     "name": "q33",
     "points": null,
     "suites": [
      {
       "cases": [
        {
         "code": ">>> type(p_value) is float and p_value <= 0.1 and (p_value >= 0.01)\nTrue",
         "hidden": false,
         "locked": false
        }
       ],
       "scored": true,
       "setup": "",
       "teardown": "",
       "type": "doctest"
      }
     ]
    },
    "q34": {
     "name": "q34",
     "points": null,
     "suites": [
      {
       "cases": [
        {
         "code": ">>> sig_level == 0.05 and type(sig_level) is float\nTrue",
         "hidden": false,
         "locked": false
        },
        {
         "code": ">>> isclose(cv, -1.836, atol=0.01)\nTrue",
         "hidden": false,
         "locked": false
        }
       ],
       "scored": true,
       "setup": "",
       "teardown": "",
       "type": "doctest"
      }
     ]
    },
    "q35": {
     "name": "q35",
     "points": null,
     "suites": [
      {
       "cases": [
        {
         "code": ">>> do_we_reject_null\nTrue",
         "hidden": false,
         "locked": false
        }
       ],
       "scored": true,
       "setup": "",
       "teardown": "",
       "type": "doctest"
      }
     ]
    }
   }
  },
  "toc": {
   "base_numbering": 1,
   "nav_menu": {},
   "number_sections": true,
   "sideBar": true,
   "skip_h1_title": true,
   "title_cell": "Table of Contents",
   "title_sidebar": "Contents",
   "toc_cell": false,
   "toc_position": {
    "height": "calc(100% - 180px)",
    "left": "10px",
    "top": "150px",
    "width": "256.25px"
   },
   "toc_section_display": true,
   "toc_window_display": false
  }
 },
 "nbformat": 4,
 "nbformat_minor": 2
}
