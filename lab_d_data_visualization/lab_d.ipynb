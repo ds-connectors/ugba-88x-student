{
 "cells": [
  {
   "cell_type": "code",
   "execution_count": null,
   "metadata": {
    "deletable": false,
    "editable": false
   },
   "outputs": [],
   "source": [
    "# Initialize Otter\n",
    "import otter\n",
    "grader = otter.Notebook(\"lab_d.ipynb\")"
   ]
  },
  {
   "cell_type": "markdown",
   "metadata": {},
   "source": [
    "# Lab D: Data Visualization"
   ]
  },
  {
   "cell_type": "markdown",
   "metadata": {},
   "source": [
    "## Setup"
   ]
  },
  {
   "cell_type": "code",
   "execution_count": null,
   "metadata": {},
   "outputs": [],
   "source": [
    "import warnings\n",
    "from datascience import Table, make_array, are\n",
    "from numpy import mean, std, arange, cumsum, float64, int64, ndarray\n",
    "\n",
    "# Force display of all values \n",
    "from IPython.core.interactiveshell import InteractiveShell\n",
    "InteractiveShell.ast_node_interactivity = \"all\"\n",
    "\n",
    "# Handle some obnoxious warning messages\n",
    "warnings.filterwarnings(\"ignore\")"
   ]
  },
  {
   "cell_type": "markdown",
   "metadata": {},
   "source": [
    "## Fundraising for a Political Campaign "
   ]
  },
  {
   "cell_type": "markdown",
   "metadata": {},
   "source": [
    "### Business Decision\n",
    "\n",
    "The Director of Fundraising in California for a US presidential candidate is considering where best to focus the campaign's effort during the early period January to September of the year prior to the election.  To inform her decision, she would like insight into how fundraising has gone for other candidates in the past. "
   ]
  },
  {
   "cell_type": "markdown",
   "metadata": {},
   "source": [
    "### Data\n",
    "\n",
    "The donor dataset here is from the US Federal Election Commission (FEC) and itemizes individual contributions from California to federal campaign committees for US presidential candidates received January 2019 to September 2019 (refer: US Federal Election Commission https://www.fec.gov/data/browse-data/?tab=bulk-data).\n",
    "\n",
    "Retrieve the donor dataset, filter to include only transactions where amount is between \\\\$0 and \\\\$2,200, show the number of transactions and the first few transactions."
   ]
  },
  {
   "cell_type": "code",
   "execution_count": null,
   "metadata": {
    "scrolled": false
   },
   "outputs": [],
   "source": [
    "data = Table.read_table('donations.csv', low_memory=False)\n",
    "data = data.where('AMOUNT', are.between_or_equal_to(0, 2200))\n",
    "data.num_rows\n",
    "data"
   ]
  },
  {
   "cell_type": "markdown",
   "metadata": {},
   "source": [
    "### 1. Statistics by Party"
   ]
  },
  {
   "cell_type": "markdown",
   "metadata": {
    "deletable": false,
    "editable": false
   },
   "source": [
    "**Question 1.1.** Calculate the number of donations.  Calculate the mean \\\\$ donated.  Calculate the standard deviation of \\\\$ donated.  Calculate the total \\\\$ donated."
   ]
  },
  {
   "cell_type": "code",
   "execution_count": null,
   "metadata": {
    "tags": [
     "otter_answer_cell"
    ]
   },
   "outputs": [],
   "source": [
    "num_donations = ...\n",
    "mean_donations = ...\n",
    "sd_donations = ...\n",
    "sum_donations = ...\n",
    "print(\"Number of donations:\", num_donations)\n",
    "print(\"Mean donation amount:\", mean_donations)\n",
    "print(\"Standard deviation of donation amounts:\", sd_donations)\n",
    "print(\"Total amount donated:\", sum_donations)"
   ]
  },
  {
   "cell_type": "code",
   "execution_count": null,
   "metadata": {
    "deletable": false,
    "editable": false
   },
   "outputs": [],
   "source": [
    "grader.check(\"q11\")"
   ]
  },
  {
   "cell_type": "markdown",
   "metadata": {
    "deletable": false,
    "editable": false
   },
   "source": [
    "**Question 1.2.** Calculate the number of donations for each party."
   ]
  },
  {
   "cell_type": "code",
   "execution_count": null,
   "metadata": {
    "scrolled": true,
    "tags": [
     "otter_answer_cell"
    ]
   },
   "outputs": [],
   "source": [
    "agg_party_count = ...\n",
    "agg_party_count"
   ]
  },
  {
   "cell_type": "code",
   "execution_count": null,
   "metadata": {
    "deletable": false,
    "editable": false
   },
   "outputs": [],
   "source": [
    "grader.check(\"q12\")"
   ]
  },
  {
   "cell_type": "markdown",
   "metadata": {
    "deletable": false,
    "editable": false
   },
   "source": [
    "**Question 1.3.** Calculate the mean $ donated for each party. "
   ]
  },
  {
   "cell_type": "code",
   "execution_count": null,
   "metadata": {
    "tags": [
     "otter_answer_cell"
    ]
   },
   "outputs": [],
   "source": [
    "agg_party_mean = ...\n",
    "agg_party_mean"
   ]
  },
  {
   "cell_type": "code",
   "execution_count": null,
   "metadata": {
    "deletable": false,
    "editable": false
   },
   "outputs": [],
   "source": [
    "grader.check(\"q13\")"
   ]
  },
  {
   "cell_type": "markdown",
   "metadata": {
    "deletable": false,
    "editable": false
   },
   "source": [
    "**Question 1.4.** Calculate the $ donated for each party."
   ]
  },
  {
   "cell_type": "code",
   "execution_count": null,
   "metadata": {
    "tags": [
     "otter_answer_cell"
    ]
   },
   "outputs": [],
   "source": [
    "agg_party_sum = ...\n",
    "agg_party_sum"
   ]
  },
  {
   "cell_type": "code",
   "execution_count": null,
   "metadata": {
    "deletable": false,
    "editable": false
   },
   "outputs": [],
   "source": [
    "grader.check(\"q14\")"
   ]
  },
  {
   "cell_type": "markdown",
   "metadata": {
    "deletable": false,
    "editable": false
   },
   "source": [
    "**Question 1.5.** Visualize the number of donations for each party as a bar chart."
   ]
  },
  {
   "cell_type": "code",
   "execution_count": null,
   "metadata": {
    "tags": [
     "otter_answer_cell"
    ]
   },
   "outputs": [],
   "source": [
    "agg_party_mean = ...\n",
    "agg_party_count_bh"
   ]
  },
  {
   "cell_type": "code",
   "execution_count": null,
   "metadata": {
    "deletable": false,
    "editable": false
   },
   "outputs": [],
   "source": [
    "grader.check(\"q15\")"
   ]
  },
  {
   "cell_type": "markdown",
   "metadata": {
    "deletable": false,
    "editable": false
   },
   "source": [
    "**Question 1.6.** Visualize the mean $ donated for each party as a bar chart."
   ]
  },
  {
   "cell_type": "code",
   "execution_count": null,
   "metadata": {
    "tags": [
     "otter_answer_cell"
    ]
   },
   "outputs": [],
   "source": [
    "agg_party_mean_barh = ...\n",
    "agg_party_mean_barh"
   ]
  },
  {
   "cell_type": "code",
   "execution_count": null,
   "metadata": {
    "deletable": false,
    "editable": false
   },
   "outputs": [],
   "source": [
    "grader.check(\"q16\")"
   ]
  },
  {
   "cell_type": "markdown",
   "metadata": {
    "deletable": false,
    "editable": false
   },
   "source": [
    "**Question 1.7.** Visualize the $ donated for each party as a bar chart."
   ]
  },
  {
   "cell_type": "code",
   "execution_count": null,
   "metadata": {
    "tags": [
     "otter_answer_cell"
    ]
   },
   "outputs": [],
   "source": [
    "agg_party_sum_barh = ...\n",
    "agg_party_sum_barh"
   ]
  },
  {
   "cell_type": "code",
   "execution_count": null,
   "metadata": {
    "deletable": false,
    "editable": false
   },
   "outputs": [],
   "source": [
    "grader.check(\"q17\")"
   ]
  },
  {
   "cell_type": "markdown",
   "metadata": {},
   "source": [
    "### 2. Statistics by Candidate"
   ]
  },
  {
   "cell_type": "markdown",
   "metadata": {
    "deletable": false,
    "editable": false
   },
   "source": [
    "**Question 2.1.** Visualize the number of donations for the top-10 high-count candidates as a bar chart, sorted highest to lowest."
   ]
  },
  {
   "cell_type": "code",
   "execution_count": null,
   "metadata": {
    "scrolled": false,
    "tags": [
     "otter_answer_cell"
    ]
   },
   "outputs": [],
   "source": [
    "top_10 = ...\n",
    "top_10.barh('...')"
   ]
  },
  {
   "cell_type": "code",
   "execution_count": null,
   "metadata": {
    "deletable": false,
    "editable": false
   },
   "outputs": [],
   "source": [
    "grader.check(\"q21\")"
   ]
  },
  {
   "cell_type": "markdown",
   "metadata": {
    "deletable": false,
    "editable": false
   },
   "source": [
    "**Question 2.2.** Visualize the mean \\\\$ donated for the top-10 high-mean candidates as a bar chart, sorted highest to lowest."
   ]
  },
  {
   "cell_type": "code",
   "execution_count": null,
   "metadata": {
    "tags": [
     "otter_answer_cell"
    ]
   },
   "outputs": [],
   "source": [
    "top_10_amount_mean = ...\n",
    "top_10_amount_mean.barh('...')"
   ]
  },
  {
   "cell_type": "code",
   "execution_count": null,
   "metadata": {
    "deletable": false,
    "editable": false
   },
   "outputs": [],
   "source": [
    "grader.check(\"q22\")"
   ]
  },
  {
   "cell_type": "markdown",
   "metadata": {
    "deletable": false,
    "editable": false
   },
   "source": [
    "**Question 2.3.** Visualize the \\\\$ donated for the top-10 high-\\\\$ candidates as a bar chart, sorted highest to lowest."
   ]
  },
  {
   "cell_type": "code",
   "execution_count": null,
   "metadata": {
    "tags": [
     "otter_answer_cell"
    ]
   },
   "outputs": [],
   "source": [
    "top_10_amount_sum = ...\n",
    "top_10_amount_sum.barh('...')"
   ]
  },
  {
   "cell_type": "code",
   "execution_count": null,
   "metadata": {
    "deletable": false,
    "editable": false
   },
   "outputs": [],
   "source": [
    "grader.check(\"q23\")"
   ]
  },
  {
   "cell_type": "markdown",
   "metadata": {},
   "source": [
    "### 3. Statistics by Occupation"
   ]
  },
  {
   "cell_type": "markdown",
   "metadata": {
    "deletable": false,
    "editable": false
   },
   "source": [
    "**Question 3.1.** Calculate mean \\\\$ donated to Democrats for each occupation that donated to Democrats."
   ]
  },
  {
   "cell_type": "code",
   "execution_count": null,
   "metadata": {
    "tags": [
     "otter_answer_cell"
    ]
   },
   "outputs": [],
   "source": [
    "agg_dem = ...\n",
    "agg_dem"
   ]
  },
  {
   "cell_type": "code",
   "execution_count": null,
   "metadata": {
    "deletable": false,
    "editable": false
   },
   "outputs": [],
   "source": [
    "grader.check(\"q31\")"
   ]
  },
  {
   "cell_type": "markdown",
   "metadata": {
    "deletable": false,
    "editable": false
   },
   "source": [
    "**Question 3.2.** Calculate mean \\\\$ donated to Republicans for each occupation that donated to Republicans."
   ]
  },
  {
   "cell_type": "code",
   "execution_count": null,
   "metadata": {
    "tags": [
     "otter_answer_cell"
    ]
   },
   "outputs": [],
   "source": [
    "agg_rep = ...\n",
    "agg_rep"
   ]
  },
  {
   "cell_type": "code",
   "execution_count": null,
   "metadata": {
    "deletable": false,
    "editable": false
   },
   "outputs": [],
   "source": [
    "grader.check(\"q32\")"
   ]
  },
  {
   "cell_type": "markdown",
   "metadata": {
    "deletable": false,
    "editable": false
   },
   "source": [
    "**Question 3.3.** Construct a table to compare mean \\\\$ donated to Democrats vs. mean \\\\$ donated to Republicans for each occupation (from among occupations that donated to both Democrats and Republicans)."
   ]
  },
  {
   "cell_type": "code",
   "execution_count": null,
   "metadata": {
    "tags": [
     "otter_answer_cell"
    ]
   },
   "outputs": [],
   "source": [
    "agg = ...\n",
    "agg"
   ]
  },
  {
   "cell_type": "code",
   "execution_count": null,
   "metadata": {
    "deletable": false,
    "editable": false
   },
   "outputs": [],
   "source": [
    "grader.check(\"q33\")"
   ]
  },
  {
   "cell_type": "markdown",
   "metadata": {
    "deletable": false,
    "editable": false
   },
   "source": [
    "**Question 3.4.** Find the 10 occupations with the highest mean \\\\$ donated to Democrats (from among occupations that donated to both Democrats and Republicans).  These are the top-10 Democrat donor occupations.  Use a bar chart to visualize mean \\\\$ donated to Democrats and mean \\\\$ donated to Republicans for each of the top-10 Democrat donor occupations, sorted by mean \\\\$ donated to Democrats."
   ]
  },
  {
   "cell_type": "code",
   "execution_count": null,
   "metadata": {
    "tags": [
     "otter_answer_cell"
    ]
   },
   "outputs": [],
   "source": [
    "agg_sort_dem = ...\n",
    "agg_sort_dem.barh('...')"
   ]
  },
  {
   "cell_type": "code",
   "execution_count": null,
   "metadata": {
    "deletable": false,
    "editable": false
   },
   "outputs": [],
   "source": [
    "grader.check(\"q34\")"
   ]
  },
  {
   "cell_type": "markdown",
   "metadata": {
    "deletable": false,
    "editable": false
   },
   "source": [
    "**Question 3.5.** Find the 10 occupations with the highest mean \\\\$ donated to Republicans (from among occupations that donated to both Democrats and Republicans).  These are the top-10 Republican donor occupations.  Use a bar chart to visualize mean \\\\$ donated to Democrats and mean \\\\$ donated to Republicans for each of the top-10 Republican donor occupations, sorted by mean \\\\$ donated to Republicans."
   ]
  },
  {
   "cell_type": "code",
   "execution_count": null,
   "metadata": {
    "tags": [
     "otter_answer_cell"
    ]
   },
   "outputs": [],
   "source": [
    "agg_sort_rep = ...\n",
    "agg_sort_rep.barh('...')"
   ]
  },
  {
   "cell_type": "code",
   "execution_count": null,
   "metadata": {
    "deletable": false,
    "editable": false
   },
   "outputs": [],
   "source": [
    "grader.check(\"q35\")"
   ]
  },
  {
   "cell_type": "markdown",
   "metadata": {},
   "source": [
    "### 4. Distribution of Donations"
   ]
  },
  {
   "cell_type": "markdown",
   "metadata": {},
   "source": [
    "For this analysis of distribution of donations, consider donations between \\\\$0 and \\\\$100."
   ]
  },
  {
   "cell_type": "markdown",
   "metadata": {
    "deletable": false,
    "editable": false
   },
   "source": [
    "**Question 4.1.** Construct a table to show counts of donations partitioned into 10 evenly spaced bins.  Note the bin variable indicates an amount range, the AMOUNT count variable indicates a number of donations."
   ]
  },
  {
   "cell_type": "code",
   "execution_count": null,
   "metadata": {
    "tags": [
     "otter_answer_cell"
    ]
   },
   "outputs": [],
   "source": [
    "bin_table = ...\n",
    "bin_table.show()"
   ]
  },
  {
   "cell_type": "code",
   "execution_count": null,
   "metadata": {
    "deletable": false,
    "editable": false
   },
   "outputs": [],
   "source": [
    "grader.check(\"q41\")"
   ]
  },
  {
   "cell_type": "markdown",
   "metadata": {
    "deletable": false,
    "editable": false
   },
   "source": [
    "**Question 4.2.** Given the table above, visualize the counts of donations, partitioned into 10 evenly spaced bins, as a bar chart."
   ]
  },
  {
   "cell_type": "code",
   "execution_count": null,
   "metadata": {
    "tags": [
     "otter_answer_cell"
    ]
   },
   "outputs": [],
   "source": [
    "bin_quantity = ...\n",
    "bin_table.bar(bin_quantity)"
   ]
  },
  {
   "cell_type": "code",
   "execution_count": null,
   "metadata": {
    "deletable": false,
    "editable": false
   },
   "outputs": [],
   "source": [
    "grader.check(\"q42\")"
   ]
  },
  {
   "cell_type": "markdown",
   "metadata": {
    "deletable": false,
    "editable": false
   },
   "source": [
    "**Question 4.3.** Visualize the counts of donations, partitioned into 10 evenly spaced bins, as a histogram.  Note that the bar chart and histogram visualizations match, except for the bar center positioning.  "
   ]
  },
  {
   "cell_type": "code",
   "execution_count": null,
   "metadata": {
    "tags": [
     "otter_answer_cell"
    ]
   },
   "outputs": [],
   "source": [
    "quantity = ...\n",
    "num_bins = ...\n",
    "bin_ranges = ...\n",
    "data.hist(quantity, normed=False, bins=num_bins, range=bin_ranges)"
   ]
  },
  {
   "cell_type": "code",
   "execution_count": null,
   "metadata": {
    "deletable": false,
    "editable": false
   },
   "outputs": [],
   "source": [
    "grader.check(\"q43\")"
   ]
  },
  {
   "cell_type": "markdown",
   "metadata": {
    "deletable": false,
    "editable": false
   },
   "source": [
    "**Question 4.4.** Visualize the counts of donation amounts between \\\\$0 and \\\\$100, partitioned into 1000 evenly spaced bins, as a histogram.  Note that too many bins results in a non-useful histogram."
   ]
  },
  {
   "cell_type": "code",
   "execution_count": null,
   "metadata": {
    "tags": [
     "otter_answer_cell"
    ]
   },
   "outputs": [],
   "source": [
    "num_bins = ...\n",
    "data.hist(quantity, normed=False, bins=num_bins, range=bin_ranges)"
   ]
  },
  {
   "cell_type": "code",
   "execution_count": null,
   "metadata": {
    "deletable": false,
    "editable": false
   },
   "outputs": [],
   "source": [
    "grader.check(\"q44\")"
   ]
  },
  {
   "cell_type": "markdown",
   "metadata": {
    "deletable": false,
    "editable": false
   },
   "source": [
    "**Question 4.5.** Visualize the counts of donation amounts between \\\\$0 and \\\\$100, partitioned into 3 evenly spaced bins, as a histogram.  Note that too few bins results in a non-useful histogram."
   ]
  },
  {
   "cell_type": "code",
   "execution_count": null,
   "metadata": {
    "tags": [
     "otter_answer_cell"
    ]
   },
   "outputs": [],
   "source": [
    "num_bins = ...\n",
    "data.hist(quantity, normed=False, bins=num_bins, range=bin_ranges)"
   ]
  },
  {
   "cell_type": "code",
   "execution_count": null,
   "metadata": {
    "deletable": false,
    "editable": false
   },
   "outputs": [],
   "source": [
    "grader.check(\"q45\")"
   ]
  },
  {
   "cell_type": "markdown",
   "metadata": {
    "deletable": false,
    "editable": false
   },
   "source": [
    "**Question 4.6.** Visualize the counts of donation amounts between \\\\$0 and \\\\$100 to Democrats, partitioned into 10 evenly spaced bins, as a histogram."
   ]
  },
  {
   "cell_type": "code",
   "execution_count": null,
   "metadata": {
    "tags": [
     "otter_answer_cell"
    ]
   },
   "outputs": [],
   "source": [
    "dem_only = ..\n",
    "num_bins = ...\n",
    "dem_only.hist(quantity, normed=False, bins=num_bins, range=bin_ranges)"
   ]
  },
  {
   "cell_type": "code",
   "execution_count": null,
   "metadata": {
    "deletable": false,
    "editable": false
   },
   "outputs": [],
   "source": [
    "grader.check(\"q46\")"
   ]
  },
  {
   "cell_type": "markdown",
   "metadata": {
    "deletable": false,
    "editable": false
   },
   "source": [
    "**Question 4.7.** Visualize the counts of donation amounts between \\\\$0 and \\\\$100 to Republicans, partitioned into 10 evenly spaced bins, as a histogram."
   ]
  },
  {
   "cell_type": "code",
   "execution_count": null,
   "metadata": {
    "tags": [
     "otter_answer_cell"
    ]
   },
   "outputs": [],
   "source": [
    "rep_only = ..\n",
    "num_bins = ...\n",
    "rep_only.hist(quantity, normed=False, bins=num_bins, range=bin_ranges)"
   ]
  },
  {
   "cell_type": "code",
   "execution_count": null,
   "metadata": {
    "deletable": false,
    "editable": false
   },
   "outputs": [],
   "source": [
    "grader.check(\"q47\")"
   ]
  },
  {
   "cell_type": "markdown",
   "metadata": {
    "deletable": false,
    "editable": false
   },
   "source": [
    "**Question 4.8.** Visualize the counts of donations, partitioned into 10 evenly spaced bins, as a histogram.  Scale the vertical axis so that area of the histogram equals one. "
   ]
  },
  {
   "cell_type": "code",
   "execution_count": null,
   "metadata": {
    "tags": [
     "otter_answer_cell"
    ]
   },
   "outputs": [],
   "source": [
    "data.hist(quantity, normed=..., bins=num_bins, range=bin_ranges)"
   ]
  },
  {
   "cell_type": "code",
   "execution_count": null,
   "metadata": {
    "deletable": false,
    "editable": false
   },
   "outputs": [],
   "source": [
    "grader.check(\"q48\")"
   ]
  },
  {
   "cell_type": "markdown",
   "metadata": {
    "deletable": false,
    "editable": false
   },
   "source": [
    "**Question 4.9.** Calculate the probability that a donation is between \\\\$0 and \\\\$10 given the donations between \\\\$0 and \\\\$100. Also calculate the area of the first bar of the previous histogram."
   ]
  },
  {
   "cell_type": "code",
   "execution_count": null,
   "metadata": {
    "tags": [
     "otter_answer_cell"
    ]
   },
   "outputs": [],
   "source": [
    "num_less_than_10 = ...\n",
    "num_between_0_100 = ...\n",
    "conditional_prob = num_less_than_10 / num_between_0_100\n",
    "print(\"Probability that a donation is between $0 and $10 given the donations between $0 and $100:\", conditional_prob)"
   ]
  },
  {
   "cell_type": "code",
   "execution_count": null,
   "metadata": {
    "deletable": false,
    "editable": false
   },
   "outputs": [],
   "source": [
    "grader.check(\"q49\")"
   ]
  },
  {
   "cell_type": "markdown",
   "metadata": {
    "deletable": false,
    "editable": false
   },
   "source": [
    "**Question 4.10.** Calculate the height of the first bar of the previous histogram. "
   ]
  },
  {
   "cell_type": "code",
   "execution_count": null,
   "metadata": {
    "tags": [
     "otter_answer_cell"
    ]
   },
   "outputs": [],
   "source": [
    "width_bar = ...\n",
    "height = ...\n",
    "print(\"Height of the first bar in the histogram (in % per unit):\", height)"
   ]
  },
  {
   "cell_type": "code",
   "execution_count": null,
   "metadata": {
    "deletable": false,
    "editable": false
   },
   "outputs": [],
   "source": [
    "grader.check(\"q410\")"
   ]
  },
  {
   "cell_type": "markdown",
   "metadata": {},
   "source": [
    "### 5. Accumulation of Donations"
   ]
  },
  {
   "cell_type": "markdown",
   "metadata": {
    "deletable": false,
    "editable": false
   },
   "source": [
    "**Question 5.1.** Construct a table to show the cumulative $ donated, by date."
   ]
  },
  {
   "cell_type": "code",
   "execution_count": null,
   "metadata": {
    "tags": [
     "otter_answer_cell"
    ]
   },
   "outputs": [],
   "source": [
    "data_sorted_by_date = ...\n",
    "data = data_sorted_by_date.with_column('CUMSUM', ...)\n",
    "data"
   ]
  },
  {
   "cell_type": "code",
   "execution_count": null,
   "metadata": {
    "deletable": false,
    "editable": false
   },
   "outputs": [],
   "source": [
    "grader.check(\"q51\")"
   ]
  },
  {
   "cell_type": "markdown",
   "metadata": {
    "deletable": false,
    "editable": false
   },
   "source": [
    "**Question 5.2.** Visualize the cumulative $ donated, by date, as a scatter plot."
   ]
  },
  {
   "cell_type": "code",
   "execution_count": null,
   "metadata": {
    "tags": [
     "otter_answer_cell"
    ]
   },
   "outputs": [],
   "source": [
    "only_date_cumsum =...\n",
    "only_date_cumsum.scatter(...)"
   ]
  },
  {
   "cell_type": "code",
   "execution_count": null,
   "metadata": {
    "deletable": false,
    "editable": false
   },
   "outputs": [],
   "source": [
    "grader.check(\"q52\")"
   ]
  },
  {
   "cell_type": "markdown",
   "metadata": {
    "deletable": false,
    "editable": false
   },
   "source": [
    "**Question 5.3.** Visualize the cumulative $ donated, by date, as a line plot."
   ]
  },
  {
   "cell_type": "code",
   "execution_count": null,
   "metadata": {
    "tags": [
     "otter_answer_cell"
    ]
   },
   "outputs": [],
   "source": [
    "only_date_cumsum..."
   ]
  },
  {
   "cell_type": "code",
   "execution_count": null,
   "metadata": {
    "deletable": false,
    "editable": false
   },
   "outputs": [],
   "source": [
    "grader.check(\"q53\")"
   ]
  },
  {
   "cell_type": "markdown",
   "metadata": {},
   "source": [
    "<p style=\"text-align:left; font-size:10px;\">\n",
    "Copyright (c) Huntsinger Associates, LLC\n",
    "<span style=\"float:right;\">\n",
    "Document revised September 10, 2023\n",
    "</span>\n",
    "</p>"
   ]
  }
 ],
 "metadata": {
  "kernelspec": {
   "display_name": ".venv",
   "language": "python",
   "name": "python3"
  },
  "language_info": {
   "codemirror_mode": {
    "name": "ipython",
    "version": 3
   },
   "file_extension": ".py",
   "mimetype": "text/x-python",
   "name": "python",
   "nbconvert_exporter": "python",
   "pygments_lexer": "ipython3",
   "version": "3.13.5"
  },
  "otter": {
   "OK_FORMAT": true,
   "tests": {
    "q11": {
     "name": "q11",
     "points": null,
     "suites": [
      {
       "cases": [
        {
         "code": ">>> type(num_donations) is int and num_donations > 0 and (num_donations == 264119)\nTrue",
         "hidden": false,
         "locked": false
        },
        {
         "code": ">>> type(mean_donations) is float64 and mean_donations > 0 and (round(mean_donations, 2) == 101.47)\nTrue",
         "hidden": false,
         "locked": false
        },
        {
         "code": ">>> type(sd_donations) is float64 and sd_donations >= 0 and (round(sd_donations, 2) == 221.02)\nTrue",
         "hidden": false,
         "locked": false
        },
        {
         "code": ">>> type(sum_donations) is int64 and sum_donations > 0 and (sum_donations == 26801008)\nTrue",
         "hidden": false,
         "locked": false
        }
       ],
       "scored": true,
       "setup": "",
       "teardown": "",
       "type": "doctest"
      }
     ]
    },
    "q12": {
     "name": "q12",
     "points": null,
     "suites": [
      {
       "cases": [
        {
         "code": ">>> bool(sum(agg_party_count[0] == ['DEM', 'IND', 'LIB', 'OTH', 'REP', 'UN', 'UNK']) / 7)\nTrue",
         "hidden": false,
         "locked": false
        },
        {
         "code": ">>> agg_party_count.column('PARTY').item(0) == 'DEM' and agg_party_count.column('count').item(0) == 251145\nTrue",
         "hidden": false,
         "locked": false
        },
        {
         "code": ">>> min(agg_party_count.column('count')) == 1\nTrue",
         "hidden": false,
         "locked": false
        }
       ],
       "scored": true,
       "setup": "",
       "teardown": "",
       "type": "doctest"
      }
     ]
    },
    "q13": {
     "name": "q13",
     "points": null,
     "suites": [
      {
       "cases": [
        {
         "code": ">>> bool(sum(agg_party_mean[0] == ['DEM', 'IND', 'LIB', 'OTH', 'REP', 'UN', 'UNK']) / 7)\nTrue",
         "hidden": false,
         "locked": false
        },
        {
         "code": ">>> agg_party_mean.column('PARTY').item(0) == 'DEM' and round(agg_party_mean.column('AMOUNT mean').item(0), 3) == 101.884\nTrue",
         "hidden": false,
         "locked": false
        },
        {
         "code": ">>> type(agg_party_mean) is Table\nTrue",
         "hidden": false,
         "locked": false
        },
        {
         "code": ">>> len(agg_party_mean.columns) == 2\nTrue",
         "hidden": false,
         "locked": false
        }
       ],
       "scored": true,
       "setup": "",
       "teardown": "",
       "type": "doctest"
      }
     ]
    },
    "q14": {
     "name": "q14",
     "points": null,
     "suites": [
      {
       "cases": [
        {
         "code": ">>> bool(sum(agg_party_sum[0] == ['DEM', 'IND', 'LIB', 'OTH', 'REP', 'UN', 'UNK']) / 7)\nTrue",
         "hidden": false,
         "locked": false
        },
        {
         "code": ">>> agg_party_sum.column('PARTY').item(0) == 'DEM' and agg_party_sum.column('AMOUNT sum').item(0) == 25587612\nTrue",
         "hidden": false,
         "locked": false
        },
        {
         "code": ">>> len(agg_party_sum.columns) == 2\nTrue",
         "hidden": false,
         "locked": false
        },
        {
         "code": ">>> len(agg_party_sum.rows) == 7\nTrue",
         "hidden": false,
         "locked": false
        }
       ],
       "scored": true,
       "setup": "",
       "teardown": "",
       "type": "doctest"
      }
     ]
    },
    "q15": {
     "name": "q15",
     "points": null,
     "suites": [
      {
       "cases": [
        {
         "code": ">>> agg_party_count_bh is not True\nTrue",
         "hidden": false,
         "locked": false
        }
       ],
       "scored": true,
       "setup": "",
       "teardown": "",
       "type": "doctest"
      }
     ]
    },
    "q16": {
     "name": "q16",
     "points": null,
     "suites": [
      {
       "cases": [
        {
         "code": ">>> agg_party_mean is not True\nTrue",
         "hidden": false,
         "locked": false
        }
       ],
       "scored": true,
       "setup": "",
       "teardown": "",
       "type": "doctest"
      }
     ]
    },
    "q17": {
     "name": "q17",
     "points": null,
     "suites": [
      {
       "cases": [
        {
         "code": ">>> agg_party_mean is not True\nTrue",
         "hidden": false,
         "locked": false
        }
       ],
       "scored": true,
       "setup": "",
       "teardown": "",
       "type": "doctest"
      }
     ]
    },
    "q21": {
     "name": "q21",
     "points": null,
     "suites": [
      {
       "cases": [
        {
         "code": ">>> len(top_10.rows) == 10 and len(top_10.columns) == 2\nTrue",
         "hidden": false,
         "locked": false
        },
        {
         "code": ">>> top_10.column('CAND_NAME').item(0) == 'SANDERS, BERNARD' and top_10.column('count').item(0) == 93913\nTrue",
         "hidden": false,
         "locked": false
        },
        {
         "code": ">>> top_10.column('CAND_NAME').item(-1) == 'WILLIAMSON, MARIANNE' and top_10.column('count').item(-1) == 4632\nTrue",
         "hidden": false,
         "locked": false
        }
       ],
       "scored": true,
       "setup": "",
       "teardown": "",
       "type": "doctest"
      }
     ]
    },
    "q22": {
     "name": "q22",
     "points": null,
     "suites": [
      {
       "cases": [
        {
         "code": ">>> top_10_amount_mean\nCAND_NAME               | AMOUNT mean\nDE BLASIO, BILL         | 1068.18\nSANFORD, MARSHALL HON   | 725\nGLEIBERMAN, BEN         | 628.571\nCHARLES, MARK R.        | 562.5\nOJEDA, RICHARD NEECE II | 512.5\nWALSH, JOE              | 464.286\nMOULTON, SETH           | 395.568\nGILLIBRAND, KIRSTEN     | 376.282\nHOROWITZ, AMI           | 375.75\nDELANEY, JOHN K.        | 373.577",
         "hidden": false,
         "locked": false
        },
        {
         "code": ">>> len(top_10_amount_mean.rows) == 10 and len(top_10_amount_mean.columns) == 2\nTrue",
         "hidden": false,
         "locked": false
        },
        {
         "code": ">>> top_10_amount_mean.column('CAND_NAME').item(0) == 'DE BLASIO, BILL' and round(top_10_amount_mean.column('AMOUNT mean').item(0), 2) == 1068.18\nTrue",
         "hidden": false,
         "locked": false
        },
        {
         "code": ">>> top_10_amount_mean.column('CAND_NAME').item(-1) == 'DELANEY, JOHN K.' and round(top_10_amount_mean.column('AMOUNT mean').item(-1), 2) == 373.58\nTrue",
         "hidden": false,
         "locked": false
        }
       ],
       "scored": true,
       "setup": "",
       "teardown": "",
       "type": "doctest"
      }
     ]
    },
    "q23": {
     "name": "q23",
     "points": null,
     "suites": [
      {
       "cases": [
        {
         "code": ">>> len(top_10_amount_sum.rows) == 10 and len(top_10_amount_sum.columns) == 2\nTrue",
         "hidden": false,
         "locked": false
        },
        {
         "code": ">>> top_10_amount_sum.column('CAND_NAME').item(0) == 'BUTTIGIEG, PETE' and top_10_amount_sum.column('AMOUNT sum').item(0) == 6240894\nTrue",
         "hidden": false,
         "locked": false
        },
        {
         "code": ">>> top_10_amount_sum.column('CAND_NAME').item(-1) == 'WILLIAMSON, MARIANNE' and top_10_amount_sum.column('AMOUNT sum').item(-1) == 500255\nTrue",
         "hidden": false,
         "locked": false
        }
       ],
       "scored": true,
       "setup": "",
       "teardown": "",
       "type": "doctest"
      }
     ]
    },
    "q31": {
     "name": "q31",
     "points": null,
     "suites": [
      {
       "cases": [
        {
         "code": ">>> len(agg_dem.rows) == 7838 and len(agg_dem.columns) == 2\nTrue",
         "hidden": false,
         "locked": false
        },
        {
         "code": ">>> agg_dem.column('OCCUPATION').item(0) == '(NULL)' and round(agg_dem.column('DEM mean').item(0), 1) == 178.5\nTrue",
         "hidden": false,
         "locked": false
        }
       ],
       "scored": true,
       "setup": "",
       "teardown": "",
       "type": "doctest"
      }
     ]
    },
    "q32": {
     "name": "q32",
     "points": null,
     "suites": [
      {
       "cases": [
        {
         "code": ">>> len(agg_rep.rows) == 1070 and len(agg_rep.columns) == 2\nTrue",
         "hidden": false,
         "locked": false
        },
        {
         "code": ">>> agg_rep.column('OCCUPATION').item(0) == 'ACCOUNT EXECUTIVE' and agg_rep.column('REP mean').item(0) == 50\nTrue",
         "hidden": false,
         "locked": false
        }
       ],
       "scored": true,
       "setup": "",
       "teardown": "",
       "type": "doctest"
      }
     ]
    },
    "q33": {
     "name": "q33",
     "points": null,
     "suites": [
      {
       "cases": [
        {
         "code": ">>> agg\nOCCUPATION            | DEM mean | REP mean\nACCOUNT EXECUTIVE     | 86.6923  | 50\nACCOUNT MANAGER       | 83.0488  | 31\nACCOUNTANT            | 74.9879  | 49.7143\nACCOUNTING            | 49.551   | 60.2174\nACCOUNTING SPECIALIST | 20       | 20\nACTIVE DUTY           | 89.5714  | 250\nACTOR                 | 165.39   | 25\nADMIN                 | 46.0405  | 5\nADMINISTRATION        | 69.6757  | 82.6923\nADMINISTRATIVE        | 94.2174  | 35\n... (508 rows omitted)",
         "hidden": false,
         "locked": false
        },
        {
         "code": ">>> len(agg_rep.rows)\n1070",
         "hidden": false,
         "locked": false
        },
        {
         "code": ">>> len(agg.rows) == 518 and len(agg.columns) == 3\nTrue",
         "hidden": false,
         "locked": false
        },
        {
         "code": ">>> agg.column('OCCUPATION').item(0) == 'ACCOUNT EXECUTIVE' and round(agg.column('DEM mean').item(0), 1) == 86.7 and (round(agg.column('REP mean').item(0), 1) == 50.0)\nTrue",
         "hidden": false,
         "locked": false
        }
       ],
       "scored": true,
       "setup": "",
       "teardown": "",
       "type": "doctest"
      }
     ]
    },
    "q34": {
     "name": "q34",
     "points": null,
     "suites": [
      {
       "cases": [
        {
         "code": ">>> agg_sort_dem.column('REP mean').item(0)\n1000.0",
         "hidden": false,
         "locked": false
        },
        {
         "code": ">>> len(agg_sort_dem.rows) == 10 and len(agg_sort_dem.columns) == 3\nTrue",
         "hidden": false,
         "locked": false
        },
        {
         "code": ">>> agg_sort_dem.column('OCCUPATION').item(0) == 'SOLAR ENERGY' and agg_sort_dem.column('DEM mean').item(0) == 1250.0\nTrue",
         "hidden": false,
         "locked": false
        }
       ],
       "scored": true,
       "setup": "",
       "teardown": "",
       "type": "doctest"
      }
     ]
    },
    "q35": {
     "name": "q35",
     "points": null,
     "suites": [
      {
       "cases": [
        {
         "code": ">>> agg_sort_rep.column('REP mean').item(0)\n1000.0",
         "hidden": false,
         "locked": false
        },
        {
         "code": ">>> len(agg_sort_rep.rows) == 10 and len(agg_sort_rep.columns) == 3\nTrue",
         "hidden": false,
         "locked": false
        },
        {
         "code": ">>> agg_sort_rep.column('OCCUPATION').item(0) == 'BUSINESS PARTNER' and agg_sort_rep.column('REP mean').item(0) == 1000.0\nTrue",
         "hidden": false,
         "locked": false
        }
       ],
       "scored": true,
       "setup": "",
       "teardown": "",
       "type": "doctest"
      }
     ]
    },
    "q41": {
     "name": "q41",
     "points": null,
     "suites": [
      {
       "cases": [
        {
         "code": ">>> len(bin_table.columns)\n2",
         "hidden": false,
         "locked": false
        },
        {
         "code": ">>> type(bin_table) is Table and bin_table.num_rows == 11 and (len(bin_table.columns) == 2)\nTrue",
         "hidden": false,
         "locked": false
        },
        {
         "code": ">>> bin_table.column(0).item(0) == 0 and bin_table.column(1).item(0) == 41619\nTrue",
         "hidden": false,
         "locked": false
        }
       ],
       "scored": true,
       "setup": "",
       "teardown": "",
       "type": "doctest"
      }
     ]
    },
    "q410": {
     "name": "q410",
     "points": null,
     "suites": [
      {
       "cases": [
        {
         "code": ">>> type(width_bar) is int and width_bar > 0 and (width_bar == 10)\nTrue",
         "hidden": false,
         "locked": false
        },
        {
         "code": ">>> type(height) is float and height >= 0 and (round(height, 3) == 0.019)\nTrue",
         "hidden": false,
         "locked": false
        }
       ],
       "scored": true,
       "setup": "",
       "teardown": "",
       "type": "doctest"
      }
     ]
    },
    "q42": {
     "name": "q42",
     "points": null,
     "suites": [
      {
       "cases": [
        {
         "code": ">>> type(bin_quantity) is str\nTrue",
         "hidden": false,
         "locked": false
        },
        {
         "code": ">>> len(bin_quantity) == 3 and len(bin_quantity) > 0\nTrue",
         "hidden": false,
         "locked": false
        },
        {
         "code": ">>> bin_quantity == 'bin'\nTrue",
         "hidden": false,
         "locked": false
        }
       ],
       "scored": true,
       "setup": "",
       "teardown": "",
       "type": "doctest"
      }
     ]
    },
    "q43": {
     "name": "q43",
     "points": null,
     "suites": [
      {
       "cases": [
        {
         "code": ">>> type(quantity) is str and len(quantity) > 0 and (quantity == 'AMOUNT')\nTrue",
         "hidden": false,
         "locked": false
        },
        {
         "code": ">>> type(num_bins) is int and num_bins > 0 and (num_bins ** 2 == 100)\nTrue",
         "hidden": false,
         "locked": false
        },
        {
         "code": ">>> type(bin_ranges) is ndarray and len(bin_ranges) == 2 and (bin_ranges.item(0) == 0) and (bin_ranges.item(1) == 100)\nTrue",
         "hidden": false,
         "locked": false
        }
       ],
       "scored": true,
       "setup": "",
       "teardown": "",
       "type": "doctest"
      }
     ]
    },
    "q44": {
     "name": "q44",
     "points": null,
     "suites": [
      {
       "cases": [
        {
         "code": ">>> type(num_bins) is int and num_bins > 0 and (num_bins * 1000 == 1000000)\nTrue",
         "hidden": false,
         "locked": false
        }
       ],
       "scored": true,
       "setup": "",
       "teardown": "",
       "type": "doctest"
      }
     ]
    },
    "q45": {
     "name": "q45",
     "points": null,
     "suites": [
      {
       "cases": [
        {
         "code": ">>> type(num_bins) is int and num_bins > 0 and (round(num_bins * 4 * 8 / 10, 2) == 9.6)\nTrue",
         "hidden": false,
         "locked": false
        }
       ],
       "scored": true,
       "setup": "",
       "teardown": "",
       "type": "doctest"
      }
     ]
    },
    "q46": {
     "name": "q46",
     "points": null,
     "suites": [
      {
       "cases": [
        {
         "code": ">>> type(dem_only) is Table and dem_only.num_rows == 251145 and (len(dem_only.columns) == 7)\nTrue",
         "hidden": false,
         "locked": false
        },
        {
         "code": ">>> dem_only.column('CAND_NAME').item(0) == 'DELANEY, JOHN K.' and dem_only.column('AMOUNT').item(0) == 25\nTrue",
         "hidden": false,
         "locked": false
        },
        {
         "code": ">>> mean(dem_only.column('PARTY') == 'DEM') == 1\nTrue",
         "hidden": false,
         "locked": false
        }
       ],
       "scored": true,
       "setup": "",
       "teardown": "",
       "type": "doctest"
      }
     ]
    },
    "q47": {
     "name": "q47",
     "points": null,
     "suites": [
      {
       "cases": [
        {
         "code": ">>> type(rep_only) is Table and rep_only.num_rows == 12946 and (len(rep_only.columns) == 7)\nTrue",
         "hidden": false,
         "locked": false
        },
        {
         "code": ">>> rep_only.column('CAND_NAME').item(0) == 'SANFORD, MARSHALL HON' and rep_only.column('AMOUNT').item(0) == 400\nTrue",
         "hidden": false,
         "locked": false
        },
        {
         "code": ">>> mean(rep_only.column('PARTY') == 'REP') == 1\nTrue",
         "hidden": false,
         "locked": false
        }
       ],
       "scored": true,
       "setup": "",
       "teardown": "",
       "type": "doctest"
      }
     ]
    },
    "q48": {
     "name": "q48",
     "points": null,
     "suites": [
      {
       "cases": [
        {
         "code": ">>> is_normed is True\nTrue",
         "hidden": false,
         "locked": false
        }
       ],
       "scored": true,
       "setup": "",
       "teardown": "",
       "type": "doctest"
      }
     ]
    },
    "q49": {
     "name": "q49",
     "points": null,
     "suites": [
      {
       "cases": [
        {
         "code": ">>> type(num_less_than_10) is int and num_less_than_10 >= 0 and (num_less_than_10 == 41619)\nTrue",
         "hidden": false,
         "locked": false
        },
        {
         "code": ">>> type(num_between_0_100) is int and num_between_0_100 >= 0 and (num_between_0_100 == 223959)\nTrue",
         "hidden": false,
         "locked": false
        },
        {
         "code": ">>> type(conditional_prob) is float and conditional_prob >= 0 and (round(conditional_prob, 3) == 0.186)\nTrue",
         "hidden": false,
         "locked": false
        }
       ],
       "scored": true,
       "setup": "",
       "teardown": "",
       "type": "doctest"
      }
     ]
    },
    "q51": {
     "name": "q51",
     "points": null,
     "suites": [
      {
       "cases": [
        {
         "code": ">>> type(data) is Table and data.num_rows == 264119 and (len(data.columns) == 8)\nTrue",
         "hidden": false,
         "locked": false
        },
        {
         "code": ">>> type(data_sorted_by_date) is Table and data_sorted_by_date.column(0).item(0) == 'TRUMP, DONALD J.' and (data_sorted_by_date.column(5).item(0) == '2019-01-01')\nTrue",
         "hidden": false,
         "locked": false
        },
        {
         "code": ">>> data.column('CUMSUM').item(0) == 50 and data.column('OCCUPATION').item(2) == 'ENTREPRENEUR'\nTrue",
         "hidden": false,
         "locked": false
        }
       ],
       "scored": true,
       "setup": "",
       "teardown": "",
       "type": "doctest"
      }
     ]
    },
    "q52": {
     "name": "q52",
     "points": null,
     "suites": [
      {
       "cases": [
        {
         "code": ">>> type(only_date_cumsum) is Table and only_date_cumsum.num_rows == 264119 and (len(only_date_cumsum.columns) == 2)\nTrue",
         "hidden": false,
         "locked": false
        }
       ],
       "scored": true,
       "setup": "",
       "teardown": "",
       "type": "doctest"
      }
     ]
    },
    "q53": {
     "name": "q53",
     "points": null,
     "suites": [
      {
       "cases": [
        {
         "code": ">>> type(only_date_cumsum) is Table and only_date_cumsum.num_rows == 264119 and (len(only_date_cumsum.columns) == 2)\nTrue",
         "hidden": false,
         "locked": false
        }
       ],
       "scored": true,
       "setup": "",
       "teardown": "",
       "type": "doctest"
      }
     ]
    }
   }
  },
  "toc": {
   "base_numbering": 1,
   "nav_menu": {},
   "number_sections": true,
   "sideBar": true,
   "skip_h1_title": true,
   "title_cell": "Table of Contents",
   "title_sidebar": "Contents",
   "toc_cell": false,
   "toc_position": {
    "height": "calc(100% - 180px)",
    "left": "10px",
    "top": "150px",
    "width": "256.25px"
   },
   "toc_section_display": true,
   "toc_window_display": false
  }
 },
 "nbformat": 4,
 "nbformat_minor": 2
}
