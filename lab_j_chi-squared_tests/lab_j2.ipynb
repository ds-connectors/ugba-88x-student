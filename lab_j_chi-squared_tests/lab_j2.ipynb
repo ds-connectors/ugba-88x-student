{
 "cells": [
  {
   "cell_type": "code",
   "execution_count": null,
   "metadata": {
    "deletable": false,
    "editable": false
   },
   "outputs": [],
   "source": [
    "# Initialize Otter\n",
    "import otter\n",
    "grader = otter.Notebook(\"lab_j2.ipynb\")"
   ]
  },
  {
   "cell_type": "markdown",
   "metadata": {},
   "source": [
    "# Lab J2: Chi-Squared Test for Specific Probabilities"
   ]
  },
  {
   "cell_type": "markdown",
   "metadata": {},
   "source": [
    "## Setup"
   ]
  },
  {
   "cell_type": "code",
   "execution_count": null,
   "metadata": {},
   "outputs": [],
   "source": [
    "import warnings\n",
    "from datascience import Table, make_array, percentile, are\n",
    "from numpy import isclose\n",
    "from numpy.random import chisquare\n",
    "\n",
    "# Force display of all values \n",
    "from IPython.core.interactiveshell import InteractiveShell\n",
    "InteractiveShell.ast_node_interactivity = \"all\"\n",
    "\n",
    "# Handle some obnoxious warning messages\n",
    "warnings.filterwarnings(\"ignore\")"
   ]
  },
  {
   "cell_type": "markdown",
   "metadata": {},
   "source": [
    "## Customer Preference for Microwave Oven Brand\n",
    "\n",
    "### Business Decision\n",
    "\n",
    "An appliance retail chain wants to test whether customer preference for brand of microwave oven is the same in Milwaukee as in Cleveland."
   ]
  },
  {
   "cell_type": "markdown",
   "metadata": {},
   "source": [
    "### Data"
   ]
  },
  {
   "cell_type": "markdown",
   "metadata": {
    "deletable": false,
    "editable": false
   },
   "source": [
    "**Question 0.1** Here are the probabilities that customers prefer various brands in Cleveland:  \n",
    "\n",
    "Brand 1: 20%, Brand 2: 35%, Brand 3: 30%, Brand 4: 15% \n",
    "\n",
    "Show the sample information as a table."
   ]
  },
  {
   "cell_type": "code",
   "execution_count": null,
   "metadata": {
    "tags": [
     "otter_answer_cell"
    ]
   },
   "outputs": [],
   "source": [
    "data_cleveland = Table().with_columns('brand', ...,\n",
    "                            'prob',...)\n",
    "data_cleveland"
   ]
  },
  {
   "cell_type": "code",
   "execution_count": null,
   "metadata": {
    "deletable": false,
    "editable": false
   },
   "outputs": [],
   "source": [
    "grader.check(\"q01\")"
   ]
  },
  {
   "cell_type": "markdown",
   "metadata": {
    "deletable": false,
    "editable": false
   },
   "source": [
    "\n",
    "**Question 0.2** Here are the numbers of sales of various brands in Milwaukee during a specific time period:  \n",
    "\n",
    "Brand 1: 102, Brand 2: 121, Brand 3: 120, Brand 4: 57 \n",
    "\n",
    "Show the sample information as a table."
   ]
  },
  {
   "cell_type": "code",
   "execution_count": null,
   "metadata": {
    "tags": [
     "otter_answer_cell"
    ]
   },
   "outputs": [],
   "source": [
    "data_milwaukee = Table().with_columns('brand', ...,\n",
    "                            'sales',...)\n",
    "data_milwaukee"
   ]
  },
  {
   "cell_type": "code",
   "execution_count": null,
   "metadata": {
    "deletable": false,
    "editable": false
   },
   "outputs": [],
   "source": [
    "grader.check(\"q02\")"
   ]
  },
  {
   "cell_type": "markdown",
   "metadata": {},
   "source": [
    "### Analysis"
   ]
  },
  {
   "cell_type": "markdown",
   "metadata": {
    "deletable": false,
    "editable": false
   },
   "source": [
    "**Question 1.1** Hypothesize that the preferences for brands in Milwaukee are the same as those in Cleveland,\n",
    "so that the probability of a sale of any specific brand in Milwaukee is equal to the probability of a sale of that brand in Cleveland.\n",
    "The alternative to this hypothesis is that the preferences in Milwaukee are different than in Cleveland."
   ]
  },
  {
   "cell_type": "code",
   "execution_count": null,
   "metadata": {
    "tags": [
     "otter_answer_cell"
    ]
   },
   "outputs": [],
   "source": [
    "data = data_milwaukee\n",
    "data = ...\n",
    "data"
   ]
  },
  {
   "cell_type": "code",
   "execution_count": null,
   "metadata": {
    "deletable": false,
    "editable": false
   },
   "outputs": [],
   "source": [
    "grader.check(\"q11\")"
   ]
  },
  {
   "cell_type": "markdown",
   "metadata": {
    "deletable": false,
    "editable": false
   },
   "source": [
    "**Question 1.2** Calculate and show the expected number of sales of each brand, based on the hypothesized probability a sale of that brand. "
   ]
  },
  {
   "cell_type": "code",
   "execution_count": null,
   "metadata": {
    "tags": [
     "otter_answer_cell"
    ]
   },
   "outputs": [],
   "source": [
    "sales = data.column(...)\n",
    "prob_hypo = data.column(...)\n",
    "sales_expected = ...\n",
    "data = data.with_column(... , ...)\n",
    "data"
   ]
  },
  {
   "cell_type": "code",
   "execution_count": null,
   "metadata": {
    "deletable": false,
    "editable": false
   },
   "outputs": [],
   "source": [
    "grader.check(\"q12\")"
   ]
  },
  {
   "cell_type": "markdown",
   "metadata": {
    "deletable": false,
    "editable": false
   },
   "source": [
    "**Question 1.3** Calculate and show the sample chi-squared like this:  \n",
    "\n",
    "$$\n",
    "\\chi^2 = \\sum \\cfrac{\\left(\\textit{actual} - \\textit{expected}\\right)^2}{\\textit{expected} }\n",
    "$$"
   ]
  },
  {
   "cell_type": "code",
   "execution_count": null,
   "metadata": {
    "tags": [
     "otter_answer_cell"
    ]
   },
   "outputs": [],
   "source": [
    "diff = ...\n",
    "diff_squared = diff**2\n",
    "relative_diff_squared = ...\n",
    "\n",
    "data = data.with_columns(...)\n",
    "\n",
    "sample_chisquared = ...\n",
    "data\n",
    "print(\"Our sample Chi-Squared is \", sample_chisquared)"
   ]
  },
  {
   "cell_type": "code",
   "execution_count": null,
   "metadata": {
    "deletable": false,
    "editable": false
   },
   "outputs": [],
   "source": [
    "grader.check(\"q13\")"
   ]
  },
  {
   "cell_type": "markdown",
   "metadata": {
    "deletable": false,
    "editable": false
   },
   "source": [
    "**Question 1.4** Get $1,000,000$ values from the standard chi-squared distribution for the appropriate degrees of freedom.\n",
    "\n",
    "$$\n",
    "\\textit{df} = \\textit{number of unique values} - 1\n",
    "$$\n",
    "\n",
    "Show the degrees of freedom, a few of the values, and a histogram of all the values (50 bins, range 0 to 25)."
   ]
  },
  {
   "cell_type": "code",
   "execution_count": null,
   "metadata": {
    "tags": [
     "otter_answer_cell"
    ]
   },
   "outputs": [],
   "source": [
    "degrees_freedom = ...\n",
    "dist_array = chisquare(..., ...)\n",
    "dist = ...\n",
    "print(\"Degrees of freedom: \", degrees_freedom)\n",
    "dist\n",
    "dist.hist(bins=50, range=make_array(0,25))"
   ]
  },
  {
   "cell_type": "code",
   "execution_count": null,
   "metadata": {
    "deletable": false,
    "editable": false
   },
   "outputs": [],
   "source": [
    "grader.check(\"q14\")"
   ]
  },
  {
   "cell_type": "markdown",
   "metadata": {
    "deletable": false,
    "editable": false
   },
   "source": [
    "**Question 1.5** Calculate and show the probability of getting a sample with the sample chi-squared (or above), given that the hypothesis is correct (this is the p-value).\n",
    "Also show the sample chi-squared and a histogram of the standard chi-squared distribution with the area corresponding to the probability highlighted."
   ]
  },
  {
   "cell_type": "code",
   "execution_count": null,
   "metadata": {
    "tags": [
     "otter_answer_cell"
    ]
   },
   "outputs": [],
   "source": [
    "p_value = ... / dist.num_rows\n",
    "dist.hist(bins=50, range=make_array(0,25), left_end=sample_chisquared, right_end=25)\n",
    "print(\"We calculate the p-value as: \", p_value)\n",
    "print(\"Sample Chi-Squared: \", sample_chisquared)"
   ]
  },
  {
   "cell_type": "code",
   "execution_count": null,
   "metadata": {
    "deletable": false,
    "editable": false
   },
   "outputs": [],
   "source": [
    "grader.check(\"q15\")"
   ]
  },
  {
   "cell_type": "markdown",
   "metadata": {
    "deletable": false,
    "editable": false
   },
   "source": [
    "**Question 1.6** Calculate and show the critical value at significance level 0.05.\n",
    "Also show the significance level and a histogram of the standard chi-squared distribution with the area corresponding to the significance level highlighted."
   ]
  },
  {
   "cell_type": "code",
   "execution_count": null,
   "metadata": {
    "tags": [
     "otter_answer_cell"
    ]
   },
   "outputs": [],
   "source": [
    "p_value = ... / dist.num_rows\n",
    "print(\"Our Signifance Level is \", sig_level)\n",
    "print(\"Our Critical Value is \", cv)\n",
    "dist.hist(bins=50, range=make_array(0,25), left_end=cv, right_end=25)"
   ]
  },
  {
   "cell_type": "code",
   "execution_count": null,
   "metadata": {
    "deletable": false,
    "editable": false
   },
   "outputs": [],
   "source": [
    "grader.check(\"q16\")"
   ]
  },
  {
   "cell_type": "markdown",
   "metadata": {
    "deletable": false,
    "editable": false
   },
   "source": [
    "**Question 1.7** Calculate and show what to conclude about the hypothesis at significance level 0.05."
   ]
  },
  {
   "cell_type": "code",
   "execution_count": null,
   "metadata": {
    "tags": [
     "otter_answer_cell"
    ]
   },
   "outputs": [],
   "source": [
    "reject_null_1 = p_value <= \n",
    "reject_null_2 = ...sample_chisquared >=\n",
    "print(\"We choose to Reject the null hypothesis \", reject_null_1)\n",
    "print(\"We choose to Reject the null hypothesis \", reject_null_2)"
   ]
  },
  {
   "cell_type": "code",
   "execution_count": null,
   "metadata": {
    "deletable": false,
    "editable": false
   },
   "outputs": [],
   "source": [
    "grader.check(\"q17\")"
   ]
  },
  {
   "cell_type": "markdown",
   "metadata": {},
   "source": [
    "Reject the hypothesis. Conclude that the preferences for brands in Cleveland is different than in Milwaukee."
   ]
  },
  {
   "cell_type": "markdown",
   "metadata": {},
   "source": [
    "<p style=\"text-align:left; font-size:10px;\">\n",
    "Copyright (c) Huntsinger Associates, LLC\n",
    "<span style=\"float:right;\">\n",
    "Document revised October 27, 2023\n",
    "</span>\n",
    "</p>"
   ]
  }
 ],
 "metadata": {
  "kernelspec": {
   "display_name": ".venv",
   "language": "python",
   "name": "python3"
  },
  "language_info": {
   "codemirror_mode": {
    "name": "ipython",
    "version": 3
   },
   "file_extension": ".py",
   "mimetype": "text/x-python",
   "name": "python",
   "nbconvert_exporter": "python",
   "pygments_lexer": "ipython3",
   "version": "3.13.5"
  },
  "otter": {
   "OK_FORMAT": true,
   "tests": {
    "q01": {
     "name": "q01",
     "points": null,
     "suites": [
      {
       "cases": [
        {
         "code": ">>> type(data_cleveland) is Table and data_cleveland.num_rows == 4 and (data_cleveland.num_columns == 2)\nTrue",
         "hidden": false,
         "locked": false
        },
        {
         "code": ">>> sum(data_cleveland.column(1) == make_array(0.2, 0.35, 0.3, 0.15)) == 4\nTrue",
         "hidden": false,
         "locked": false
        },
        {
         "code": ">>> sum(data_cleveland.column('prob')) == 1.0\nTrue",
         "hidden": false,
         "locked": false
        }
       ],
       "scored": true,
       "setup": "",
       "teardown": "",
       "type": "doctest"
      }
     ]
    },
    "q02": {
     "name": "q02",
     "points": null,
     "suites": [
      {
       "cases": [
        {
         "code": ">>> type(data_milwaukee) is Table and data_milwaukee.num_rows == 4 and (data_cleveland.num_columns == 2)\nTrue",
         "hidden": false,
         "locked": false
        },
        {
         "code": ">>> sum(data_milwaukee.column(1) == make_array(102, 121, 120, 57)) == 4\nTrue",
         "hidden": false,
         "locked": false
        },
        {
         "code": ">>> sum(data_milwaukee.column('sales')) == 400\nTrue",
         "hidden": false,
         "locked": false
        }
       ],
       "scored": true,
       "setup": "",
       "teardown": "",
       "type": "doctest"
      }
     ]
    },
    "q11": {
     "name": "q11",
     "points": null,
     "suites": [
      {
       "cases": [
        {
         "code": ">>> type(data) is Table and data.num_rows == 4 and (data.num_columns == 3) and (data.column(1).item(2) == 120) and (data.column(2).item(0) == 0.2)\nTrue",
         "hidden": false,
         "locked": false
        },
        {
         "code": ">>> sum(data.column(1) == make_array(102, 121, 120, 57)) == 4\nTrue",
         "hidden": false,
         "locked": false
        },
        {
         "code": ">>> sum(data.column('prob_hypo')) == 1\nTrue",
         "hidden": false,
         "locked": false
        }
       ],
       "scored": true,
       "setup": "",
       "teardown": "",
       "type": "doctest"
      }
     ]
    },
    "q12": {
     "name": "q12",
     "points": null,
     "suites": [
      {
       "cases": [
        {
         "code": ">>> type(data) is Table and data.num_rows == 4 and (data.num_columns == 4) and (data.column(1).item(2) == 120) and (data.column(3).item(0) == 80)\nTrue",
         "hidden": false,
         "locked": false
        },
        {
         "code": ">>> sum(data.column(3) == make_array(80, 140, 120, 60)) == 4\nTrue",
         "hidden": false,
         "locked": false
        }
       ],
       "scored": true,
       "setup": "",
       "teardown": "",
       "type": "doctest"
      }
     ]
    },
    "q13": {
     "name": "q13",
     "points": null,
     "suites": [
      {
       "cases": [
        {
         "code": ">>> type(data) is Table and data.num_rows == 4 and (data.num_columns == 7) and isclose(data.column(6).item(1), 2.579, rtol=0.01) and isclose(data.column(6).item(0), 6.05, rtol=0.01)\nTrue",
         "hidden": false,
         "locked": false
        },
        {
         "code": ">>> sum(data.column(5) == make_array(484, 361, 0, 9)) == 4\nTrue",
         "hidden": false,
         "locked": false
        }
       ],
       "scored": true,
       "setup": "",
       "teardown": "",
       "type": "doctest"
      }
     ]
    },
    "q14": {
     "name": "q14",
     "points": null,
     "suites": [
      {
       "cases": [
        {
         "code": ">>> type(data) is Table and data.num_rows == 4 and (data.num_columns == 7) and isclose(data.column(6).item(1), 2.579, rtol=0.01) and isclose(data.column(6).item(0), 6.05, rtol=0.01)\nTrue",
         "hidden": false,
         "locked": false
        },
        {
         "code": ">>> sum(data.column(5) == make_array(484, 361, 0, 9)) == 4\nTrue",
         "hidden": false,
         "locked": false
        }
       ],
       "scored": true,
       "setup": "",
       "teardown": "",
       "type": "doctest"
      }
     ]
    },
    "q15": {
     "name": "q15",
     "points": null,
     "suites": [
      {
       "cases": [
        {
         "code": ">>> p_value < 0.033\nTrue",
         "hidden": false,
         "locked": false
        }
       ],
       "scored": true,
       "setup": "",
       "teardown": "",
       "type": "doctest"
      }
     ]
    },
    "q16": {
     "name": "q16",
     "points": null,
     "suites": [
      {
       "cases": [
        {
         "code": ">>> sig_level == 0.05\nTrue",
         "hidden": false,
         "locked": false
        },
        {
         "code": ">>> isclose(cv, 7.835, rtol=0.01)\nTrue",
         "hidden": false,
         "locked": false
        }
       ],
       "scored": true,
       "setup": "",
       "teardown": "",
       "type": "doctest"
      }
     ]
    },
    "q17": {
     "name": "q17",
     "points": null,
     "suites": [
      {
       "cases": [
        {
         "code": ">>> reject_null_1 == reject_null_1\nTrue",
         "hidden": false,
         "locked": false
        },
        {
         "code": ">>> reject_null_1 == 1\nTrue",
         "hidden": false,
         "locked": false
        }
       ],
       "scored": true,
       "setup": "",
       "teardown": "",
       "type": "doctest"
      }
     ]
    }
   }
  },
  "toc": {
   "base_numbering": 1,
   "nav_menu": {},
   "number_sections": true,
   "sideBar": true,
   "skip_h1_title": true,
   "title_cell": "Table of Contents",
   "title_sidebar": "Contents",
   "toc_cell": false,
   "toc_position": {
    "height": "calc(100% - 180px)",
    "left": "10px",
    "top": "150px",
    "width": "256.25px"
   },
   "toc_section_display": true,
   "toc_window_display": false
  }
 },
 "nbformat": 4,
 "nbformat_minor": 2
}
