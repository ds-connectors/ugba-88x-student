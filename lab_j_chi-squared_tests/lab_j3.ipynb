{
 "cells": [
  {
   "cell_type": "code",
   "execution_count": null,
   "metadata": {
    "deletable": false,
    "editable": false
   },
   "outputs": [],
   "source": [
    "# Initialize Otter\n",
    "import otter\n",
    "grader = otter.Notebook(\"lab_j3.ipynb\")"
   ]
  },
  {
   "cell_type": "markdown",
   "metadata": {},
   "source": [
    "# Lab J3: Chi-Squared Test for Independence"
   ]
  },
  {
   "cell_type": "markdown",
   "metadata": {},
   "source": [
    "## Setup"
   ]
  },
  {
   "cell_type": "code",
   "execution_count": null,
   "metadata": {},
   "outputs": [],
   "source": [
    "import warnings\n",
    "from datascience import Table, make_array, percentile, are\n",
    "from numpy import mean, unique, isclose\n",
    "from numpy.random import chisquare\n",
    "\n",
    "# Force display of all values \n",
    "from IPython.core.interactiveshell import InteractiveShell\n",
    "InteractiveShell.ast_node_interactivity = \"all\"\n",
    "\n",
    "# Handle some obnoxious warning messages\n",
    "warnings.filterwarnings(\"ignore\")"
   ]
  },
  {
   "cell_type": "markdown",
   "metadata": {},
   "source": [
    "## Commerce Website and Customer Demographics\n",
    "\n",
    "### Business Decision\n",
    "\n",
    "An online retailer of cameras and phones is considering how to customize its website to drive more revenue.  It suspects that visitors to the website with higher incomes have different preferences than visitors with lower incomes do.  If they do, then it will treat visitors to information primarily about the product category they prefer based on their incomes.  Otherwise, it will treat all visitors to information about both product categories.  Is preference for a product category independent of income level?"
   ]
  },
  {
   "cell_type": "markdown",
   "metadata": {},
   "source": [
    "### Data"
   ]
  },
  {
   "cell_type": "markdown",
   "metadata": {
    "deletable": false,
    "editable": false
   },
   "source": [
    "**Question 0.1** Retrieve a sample of purchases, show the number of observations and the first few observations"
   ]
  },
  {
   "cell_type": "code",
   "execution_count": null,
   "metadata": {
    "tags": [
     "otter_answer_cell"
    ]
   },
   "outputs": [],
   "source": [
    "data = Table().read_table('...')\n",
    "print(\"There are\", data.num_rows, \"rows in the dataset.\")\n",
    "data"
   ]
  },
  {
   "cell_type": "code",
   "execution_count": null,
   "metadata": {
    "deletable": false,
    "editable": false
   },
   "outputs": [],
   "source": [
    "grader.check(\"q01\")"
   ]
  },
  {
   "cell_type": "markdown",
   "metadata": {},
   "source": [
    "### Analysis"
   ]
  },
  {
   "cell_type": "markdown",
   "metadata": {
    "deletable": false,
    "editable": false
   },
   "source": [
    "**Question 1.1** Show the count of each category-income pair."
   ]
  },
  {
   "cell_type": "code",
   "execution_count": null,
   "metadata": {
    "tags": [
     "otter_answer_cell"
    ]
   },
   "outputs": [],
   "source": [
    "data_pair = data.groups(...)\n",
    "data_pair"
   ]
  },
  {
   "cell_type": "code",
   "execution_count": null,
   "metadata": {
    "deletable": false,
    "editable": false
   },
   "outputs": [],
   "source": [
    "grader.check(\"q11\")"
   ]
  },
  {
   "cell_type": "markdown",
   "metadata": {
    "deletable": false,
    "editable": false
   },
   "source": [
    "**Question 1.2** Calculate and show the count of each category."
   ]
  },
  {
   "cell_type": "code",
   "execution_count": null,
   "metadata": {
    "tags": [
     "otter_answer_cell"
    ]
   },
   "outputs": [],
   "source": [
    "data_category = data.group(...)\n",
    "data_category"
   ]
  },
  {
   "cell_type": "code",
   "execution_count": null,
   "metadata": {
    "deletable": false,
    "editable": false
   },
   "outputs": [],
   "source": [
    "grader.check(\"q12\")"
   ]
  },
  {
   "cell_type": "markdown",
   "metadata": {
    "deletable": false,
    "editable": false
   },
   "source": [
    "**Question 1.3** Calculate and show the count of each income."
   ]
  },
  {
   "cell_type": "code",
   "execution_count": null,
   "metadata": {
    "tags": [
     "otter_answer_cell"
    ]
   },
   "outputs": [],
   "source": [
    "data_category = data.group(...)\n",
    "data_income"
   ]
  },
  {
   "cell_type": "code",
   "execution_count": null,
   "metadata": {
    "deletable": false,
    "editable": false
   },
   "outputs": [],
   "source": [
    "grader.check(\"q13\")"
   ]
  },
  {
   "cell_type": "markdown",
   "metadata": {
    "deletable": false,
    "editable": false
   },
   "source": [
    "**Question 1.4** Construct a table that shows category, income, count of category-income pair, and probability of category-income pair."
   ]
  },
  {
   "cell_type": "code",
   "execution_count": null,
   "metadata": {
    "tags": [
     "otter_answer_cell"
    ]
   },
   "outputs": [],
   "source": [
    "n = ...\n",
    "data_agg = data_pair\n",
    "data_agg = data_agg.relabel(..., 'count pair')\n",
    "data_agg = data_agg.with_column('prob pair', ...)\n",
    "data_agg"
   ]
  },
  {
   "cell_type": "code",
   "execution_count": null,
   "metadata": {
    "deletable": false,
    "editable": false
   },
   "outputs": [],
   "source": [
    "grader.check(\"q14\")"
   ]
  },
  {
   "cell_type": "markdown",
   "metadata": {
    "deletable": false,
    "editable": false
   },
   "source": [
    "**Question 1.5** Extend the table to show count of income and probability of income."
   ]
  },
  {
   "cell_type": "code",
   "execution_count": null,
   "metadata": {
    "tags": [
     "otter_answer_cell"
    ]
   },
   "outputs": [],
   "source": [
    "data_agg = data_agg.join(...)\n",
    "data_agg = data_agg.relabel(..., 'count income')\n",
    "data_agg = data_agg.with_column('prob income',...)\n",
    "data_agg"
   ]
  },
  {
   "cell_type": "code",
   "execution_count": null,
   "metadata": {
    "deletable": false,
    "editable": false
   },
   "outputs": [],
   "source": [
    "grader.check(\"q15\")"
   ]
  },
  {
   "cell_type": "markdown",
   "metadata": {
    "deletable": false,
    "editable": false
   },
   "source": [
    "**Question 1.6** Extend the table to show count of category and probability of category."
   ]
  },
  {
   "cell_type": "code",
   "execution_count": null,
   "metadata": {
    "tags": [
     "otter_answer_cell"
    ]
   },
   "outputs": [],
   "source": [
    "data_agg = data_agg.join(...)\n",
    "data_agg = data_agg.relabel(..., 'count category')\n",
    "data_agg = data_agg.with_column('prob category',...)\n",
    "data_agg"
   ]
  },
  {
   "cell_type": "code",
   "execution_count": null,
   "metadata": {
    "deletable": false,
    "editable": false
   },
   "outputs": [],
   "source": [
    "grader.check(\"q16\")"
   ]
  },
  {
   "cell_type": "markdown",
   "metadata": {
    "deletable": false,
    "editable": false
   },
   "source": [
    "**Question 1.7** Hypothesize that category and income are independent of each other.\n",
    "\n",
    "Recall the definition of independence:\n",
    "\n",
    "$$\n",
    "P(A \\cap B) = P(A) \\times P(B)\n",
    "$$\n",
    "\n",
    "So, if category and income are independent of each other, then the probability of a specific category and a specific income is equal to the probability of that category times the probability of that income:\n",
    "\n",
    "$$\n",
    "P((\\textit{category}=x) \\cap (\\textit{income}=y)) = P(category=x) \\times P(income=y)\n",
    "$$\n",
    "\n",
    "Extend the table to show the hypothesized indepedence."
   ]
  },
  {
   "cell_type": "code",
   "execution_count": null,
   "metadata": {
    "tags": [
     "otter_answer_cell"
    ]
   },
   "outputs": [],
   "source": [
    "data_agg = data_agg.with_column('prob pair hypo', ...)\n",
    "data_agg"
   ]
  },
  {
   "cell_type": "code",
   "execution_count": null,
   "metadata": {
    "deletable": false,
    "editable": false
   },
   "outputs": [],
   "source": [
    "grader.check(\"q17\")"
   ]
  },
  {
   "cell_type": "markdown",
   "metadata": {
    "deletable": false,
    "editable": false
   },
   "source": [
    "**Question 1.8** Calculate and show the expected count of each category-income pair, based on the hypothesized probabilities."
   ]
  },
  {
   "cell_type": "code",
   "execution_count": null,
   "metadata": {
    "tags": [
     "otter_answer_cell"
    ]
   },
   "outputs": [],
   "source": [
    "data_agg = data_agg.with_column('count pair expected', ...)\n",
    "data_agg"
   ]
  },
  {
   "cell_type": "code",
   "execution_count": null,
   "metadata": {
    "deletable": false,
    "editable": false
   },
   "outputs": [],
   "source": [
    "grader.check(\"q18\")"
   ]
  },
  {
   "cell_type": "markdown",
   "metadata": {
    "deletable": false,
    "editable": false
   },
   "source": [
    "**Question 1.9** Calculate and show the sample chi-squared like this:  \n",
    "\n",
    "$$\n",
    "\\chi^2 = \\sum \\cfrac{\\left(\\textit{actual} - \\textit{expected}\\right)^2}{\\textit{expected} }\n",
    "$$"
   ]
  },
  {
   "cell_type": "code",
   "execution_count": null,
   "metadata": {
    "tags": [
     "otter_answer_cell"
    ]
   },
   "outputs": [],
   "source": [
    "actual = ...\n",
    "expected = ...\n",
    "sample_chisquared = ...\n",
    "print(\"Sample Chi-squared statistic:\", sample_chisquared)"
   ]
  },
  {
   "cell_type": "code",
   "execution_count": null,
   "metadata": {
    "deletable": false,
    "editable": false
   },
   "outputs": [],
   "source": [
    "grader.check(\"q19\")"
   ]
  },
  {
   "cell_type": "markdown",
   "metadata": {
    "deletable": false,
    "editable": false
   },
   "source": [
    "**Question 1.10** Get 1,000,000 values from the standard chi-squared distribution for the appropriate degrees of freedom.\n",
    "\n",
    "$$\n",
    "\\textit{df} = (\\textit{number of unique values in variable \\#1} - 1) \\times (\\textit{number of unique values in variable \\#2} - 1)\n",
    "$$ \n",
    "\n",
    "Show the degrees of freedom, a few of the values, and a histogram of all the values (50 bins, range 0 to 35)."
   ]
  },
  {
   "cell_type": "code",
   "execution_count": null,
   "metadata": {
    "tags": [
     "otter_answer_cell"
    ]
   },
   "outputs": [],
   "source": [
    "r = len(...)\n",
    "c = len(...)\n",
    "df = (r-1)*(c-1)\n",
    "dist_array = chisquare(df, 1000000)\n",
    "print(\"Degrees of freedom:\", df)\n",
    "dist = Table().with_column('chisquared', dist_array)\n",
    "dist.hist(bins=50, range=make_array(0,35))"
   ]
  },
  {
   "cell_type": "code",
   "execution_count": null,
   "metadata": {
    "deletable": false,
    "editable": false
   },
   "outputs": [],
   "source": [
    "grader.check(\"q110\")"
   ]
  },
  {
   "cell_type": "markdown",
   "metadata": {
    "deletable": false,
    "editable": false
   },
   "source": [
    "**Question 1.11** Calculate and show the probability of getting a sample with the sample chi-squared (or above), given that the hypothesis is correct (this is the p-value).\n",
    "Also show the sample chi-squared and a histogram of the standard chi-squared distribution with the area corresponding to the probability highlighted."
   ]
  },
  {
   "cell_type": "code",
   "execution_count": null,
   "metadata": {
    "tags": [
     "otter_answer_cell"
    ]
   },
   "outputs": [],
   "source": [
    "p_value = ... / dist.num_rows\n",
    "print(\"Sample Chi-squared statistic:\", sample_chisquared)\n",
    "print(\"P-value:\", p_value)\n",
    "dist.hist(bins=50, range=make_array(0,35), left_end=sample_chisquared, right_end=35) "
   ]
  },
  {
   "cell_type": "code",
   "execution_count": null,
   "metadata": {
    "deletable": false,
    "editable": false
   },
   "outputs": [],
   "source": [
    "grader.check(\"q111\")"
   ]
  },
  {
   "cell_type": "markdown",
   "metadata": {
    "deletable": false,
    "editable": false
   },
   "source": [
    "**Question 1.12** Calculate and show the critical value at significance level 0.05.\n",
    "Also show the significance level and a histogram of the standard chi-squared distribution with the area corresponding to the significance level highlighted."
   ]
  },
  {
   "cell_type": "code",
   "execution_count": null,
   "metadata": {
    "tags": [
     "otter_answer_cell"
    ]
   },
   "outputs": [],
   "source": [
    "sig_level = ...\n",
    "cv = percentile((..., dist.column('chisquared'))\n",
    "print(\"Significance level:\", sig_level)\n",
    "print(\"Critical Value:\", cv)\n",
    "dist.hist(bins=50, range=make_array(0,35), left_end=cv, right_end=35)"
   ]
  },
  {
   "cell_type": "code",
   "execution_count": null,
   "metadata": {
    "deletable": false,
    "editable": false
   },
   "outputs": [],
   "source": [
    "grader.check(\"q112\")"
   ]
  },
  {
   "cell_type": "markdown",
   "metadata": {
    "deletable": false,
    "editable": false
   },
   "source": [
    "**Question 1.13** Calculate and show what to conclude about the hypothesis at significance level 0.05."
   ]
  },
  {
   "cell_type": "code",
   "execution_count": null,
   "metadata": {
    "tags": [
     "otter_answer_cell"
    ]
   },
   "outputs": [],
   "source": [
    "reject_null_1 = p_value <= \n",
    "reject_null_2 = ...sample_chisquared >=\n",
    "print(\"We choose to Reject the null hypothesis \", reject_null_1)\n",
    "print(\"We choose to Reject the null hypothesis \", reject_null_2)"
   ]
  },
  {
   "cell_type": "code",
   "execution_count": null,
   "metadata": {
    "deletable": false,
    "editable": false
   },
   "outputs": [],
   "source": [
    "grader.check(\"q113\")"
   ]
  },
  {
   "cell_type": "markdown",
   "metadata": {},
   "source": [
    "Reject the hypothesis.  Conclude that customer preference for product category does depend on income level.  Take action to customize the website accordingly. "
   ]
  },
  {
   "cell_type": "markdown",
   "metadata": {},
   "source": [
    "<p style=\"text-align:left; font-size:10px;\">\n",
    "Copyright (c) Huntsinger Associates, LLC\n",
    "<span style=\"float:right;\">\n",
    "Document revised October 27, 2023\n",
    "</span>\n",
    "</p>"
   ]
  }
 ],
 "metadata": {
  "kernelspec": {
   "display_name": ".venv",
   "language": "python",
   "name": "python3"
  },
  "language_info": {
   "codemirror_mode": {
    "name": "ipython",
    "version": 3
   },
   "file_extension": ".py",
   "mimetype": "text/x-python",
   "name": "python",
   "nbconvert_exporter": "python",
   "pygments_lexer": "ipython3",
   "version": "3.13.5"
  },
  "otter": {
   "OK_FORMAT": true,
   "tests": {
    "q01": {
     "name": "q01",
     "points": null,
     "suites": [
      {
       "cases": [
        {
         "code": ">>> data.num_rows\n555",
         "hidden": false,
         "locked": false
        },
        {
         "code": ">>> type(data) is Table and data.num_rows == 555 and (data.num_columns == 3)\nTrue",
         "hidden": false,
         "locked": false
        },
        {
         "code": ">>> data.column(1).item(0) == 'phone' and data.column(2).item(0) == 'from_25k_to_50k'\nTrue",
         "hidden": false,
         "locked": false
        }
       ],
       "scored": true,
       "setup": "",
       "teardown": "",
       "type": "doctest"
      }
     ]
    },
    "q11": {
     "name": "q11",
     "points": null,
     "suites": [
      {
       "cases": [
        {
         "code": ">>> mean(data_pair.column('count')) == 55.5\nTrue",
         "hidden": false,
         "locked": false
        }
       ],
       "scored": true,
       "setup": "",
       "teardown": "",
       "type": "doctest"
      }
     ]
    },
    "q110": {
     "name": "q110",
     "points": null,
     "suites": [
      {
       "cases": [
        {
         "code": ">>> df == 4\nTrue",
         "hidden": false,
         "locked": false
        },
        {
         "code": ">>> r == 2 and c == 5\nTrue",
         "hidden": false,
         "locked": false
        }
       ],
       "scored": true,
       "setup": "",
       "teardown": "",
       "type": "doctest"
      }
     ]
    },
    "q111": {
     "name": "q111",
     "points": null,
     "suites": [
      {
       "cases": [
        {
         "code": ">>> p_value < 0.001\nTrue",
         "hidden": false,
         "locked": false
        }
       ],
       "scored": true,
       "setup": "",
       "teardown": "",
       "type": "doctest"
      }
     ]
    },
    "q112": {
     "name": "q112",
     "points": null,
     "suites": [
      {
       "cases": [
        {
         "code": ">>> sig_level == 0.05\nTrue",
         "hidden": false,
         "locked": false
        },
        {
         "code": ">>> isclose(cv, 9.494, atol=0.1)\nTrue",
         "hidden": false,
         "locked": false
        }
       ],
       "scored": true,
       "setup": "",
       "teardown": "",
       "type": "doctest"
      }
     ]
    },
    "q113": {
     "name": "q113",
     "points": null,
     "suites": [
      {
       "cases": [
        {
         "code": ">>> reject_null_1 and reject_null_2\nTrue",
         "hidden": false,
         "locked": false
        }
       ],
       "scored": true,
       "setup": "",
       "teardown": "",
       "type": "doctest"
      }
     ]
    },
    "q12": {
     "name": "q12",
     "points": null,
     "suites": [
      {
       "cases": [
        {
         "code": ">>> type(data_category) is Table and data_category.num_rows == 2 and (data_category.num_columns == 2)\nTrue",
         "hidden": false,
         "locked": false
        },
        {
         "code": ">>> mean(data_category.column('count')) == 277.5\nTrue",
         "hidden": false,
         "locked": false
        },
        {
         "code": ">>> sum(data_category.column(0) == make_array('camera', 'phone')) == 2\nTrue",
         "hidden": false,
         "locked": false
        }
       ],
       "scored": true,
       "setup": "",
       "teardown": "",
       "type": "doctest"
      }
     ]
    },
    "q13": {
     "name": "q13",
     "points": null,
     "suites": [
      {
       "cases": [
        {
         "code": ">>> type(data_income) is Table and data_income.num_rows == 5 and (data_income.num_columns == 2)\nTrue",
         "hidden": false,
         "locked": false
        },
        {
         "code": ">>> mean(data_income.column('count')) == 111.0\nTrue",
         "hidden": false,
         "locked": false
        },
        {
         "code": ">>> sum(data_income.column(0) == make_array('above_100k', 'below_25k', 'from_25k_to_50k', 'from_50k_to_75k', 'from_75k_to_100K')) == 5\nTrue",
         "hidden": false,
         "locked": false
        }
       ],
       "scored": true,
       "setup": "",
       "teardown": "",
       "type": "doctest"
      }
     ]
    },
    "q14": {
     "name": "q14",
     "points": null,
     "suites": [
      {
       "cases": [
        {
         "code": ">>> type(data_agg) is Table and data_agg.num_rows == 10 and (len(data_agg.columns) == 4)\nTrue",
         "hidden": false,
         "locked": false
        },
        {
         "code": ">>> mean(data_agg.column('count pair')) == 55.5\nTrue",
         "hidden": false,
         "locked": false
        },
        {
         "code": ">>> round(mean(data_agg.column('prob pair')), 2) == 0.1\nTrue",
         "hidden": false,
         "locked": false
        }
       ],
       "scored": true,
       "setup": "",
       "teardown": "",
       "type": "doctest"
      }
     ]
    },
    "q15": {
     "name": "q15",
     "points": null,
     "suites": [
      {
       "cases": [
        {
         "code": ">>> type(data_agg) is Table and data_agg.num_rows == 10 and (len(data_agg.columns) == 6)\nTrue",
         "hidden": false,
         "locked": false
        },
        {
         "code": ">>> data_agg.labels == ('income', 'category', 'count pair', 'prob pair', 'count income', 'prob income')\nTrue",
         "hidden": false,
         "locked": false
        },
        {
         "code": ">>> mean(data_agg.column('count income')) == 111.0\nTrue",
         "hidden": false,
         "locked": false
        }
       ],
       "scored": true,
       "setup": "",
       "teardown": "",
       "type": "doctest"
      }
     ]
    },
    "q16": {
     "name": "q16",
     "points": null,
     "suites": [
      {
       "cases": [
        {
         "code": ">>> type(data_agg) is Table and data_agg.num_rows == 10 and (len(data_agg.columns) == 8)\nTrue",
         "hidden": false,
         "locked": false
        },
        {
         "code": ">>> data_agg.labels == ('category', 'income', 'count pair', 'prob pair', 'count income', 'prob income', 'count category', 'prob category')\nTrue",
         "hidden": false,
         "locked": false
        },
        {
         "code": ">>> mean(data_agg.column('prob category')) == 0.5\nTrue",
         "hidden": false,
         "locked": false
        }
       ],
       "scored": true,
       "setup": "",
       "teardown": "",
       "type": "doctest"
      }
     ]
    },
    "q17": {
     "name": "q17",
     "points": null,
     "suites": [
      {
       "cases": [
        {
         "code": ">>> type(data_agg) is Table and data_agg.num_rows == 10 and (len(data_agg.columns) == 9)\nTrue",
         "hidden": false,
         "locked": false
        },
        {
         "code": ">>> data_agg.labels == ('category', 'income', 'count pair', 'prob pair', 'count income', 'prob income', 'count category', 'prob category', 'prob pair hypo')\nTrue",
         "hidden": false,
         "locked": false
        },
        {
         "code": ">>> mean(data_agg.column('prob pair hypo')) == 0.1\nTrue",
         "hidden": false,
         "locked": false
        }
       ],
       "scored": true,
       "setup": "",
       "teardown": "",
       "type": "doctest"
      }
     ]
    },
    "q18": {
     "name": "q18",
     "points": null,
     "suites": [
      {
       "cases": [
        {
         "code": ">>> type(data_agg) is Table and data_agg.num_rows == 10 and (len(data_agg.columns) == 10)\nTrue",
         "hidden": false,
         "locked": false
        },
        {
         "code": ">>> data_agg.labels == ('category', 'income', 'count pair', 'prob pair', 'count income', 'prob income', 'count category', 'prob category', 'prob pair hypo', 'count pair expected')\nTrue",
         "hidden": false,
         "locked": false
        },
        {
         "code": ">>> mean(data_agg.column('count pair expected')) == 55.5\nTrue",
         "hidden": false,
         "locked": false
        }
       ],
       "scored": true,
       "setup": "",
       "teardown": "",
       "type": "doctest"
      }
     ]
    },
    "q19": {
     "name": "q19",
     "points": null,
     "suites": [
      {
       "cases": [
        {
         "code": ">>> round(sample_chisquared, 2) == 33.92\nTrue",
         "hidden": false,
         "locked": false
        }
       ],
       "scored": true,
       "setup": "",
       "teardown": "",
       "type": "doctest"
      }
     ]
    }
   }
  },
  "otter_service": {
   "assignment": "lab_j3",
   "course": "88bx",
   "section": "2"
  },
  "toc": {
   "base_numbering": 1,
   "nav_menu": {},
   "number_sections": true,
   "sideBar": true,
   "skip_h1_title": true,
   "title_cell": "Table of Contents",
   "title_sidebar": "Contents",
   "toc_cell": false,
   "toc_position": {
    "height": "calc(100% - 180px)",
    "left": "10px",
    "top": "150px",
    "width": "256.25px"
   },
   "toc_section_display": true,
   "toc_window_display": false
  }
 },
 "nbformat": 4,
 "nbformat_minor": 4
}
