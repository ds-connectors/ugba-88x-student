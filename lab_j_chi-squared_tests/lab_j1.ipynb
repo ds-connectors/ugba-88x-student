{
 "cells": [
  {
   "cell_type": "code",
   "execution_count": null,
   "metadata": {
    "deletable": false,
    "editable": false
   },
   "outputs": [],
   "source": [
    "# Initialize Otter\n",
    "import otter\n",
    "grader = otter.Notebook(\"lab_j1.ipynb\")"
   ]
  },
  {
   "cell_type": "markdown",
   "metadata": {},
   "source": [
    "# Lab J1: Chi-Squared Test for Uniform Probabilities"
   ]
  },
  {
   "cell_type": "markdown",
   "metadata": {},
   "source": [
    "## Setup"
   ]
  },
  {
   "cell_type": "code",
   "execution_count": null,
   "metadata": {},
   "outputs": [],
   "source": [
    "import warnings\n",
    "from datascience import Table, make_array, percentile, are\n",
    "from numpy import mean, ndarray, isclose\n",
    "from numpy.random import chisquare\n",
    "\n",
    "# Force display of all values \n",
    "from IPython.core.interactiveshell import InteractiveShell\n",
    "InteractiveShell.ast_node_interactivity = \"all\"\n",
    "\n",
    "# Handle some obnoxious warning messages\n",
    "warnings.filterwarnings(\"ignore\")"
   ]
  },
  {
   "cell_type": "markdown",
   "metadata": {},
   "source": [
    "## Manufacturing Cars & Lemons\n",
    "\n",
    "### Business Decision\n",
    "\n",
    "A car manufacturing organization produces cars 5 days per week, Monday through Friday.  We might expect that the day of the week that cars are produced has no relationship to the number of defects in those cars.  However, car buyers are sometimes warned that cars made on a Monday or a Friday have more defects on average, i.e., they are more likely to be \"lemons\". "
   ]
  },
  {
   "cell_type": "markdown",
   "metadata": {},
   "source": [
    "### Data\n",
    "\n",
    "Here are the number of defects per day from a one week sample:  \n",
    "Monday 32, Tuesday 22, Wednesday 26, Thursday 19, Friday 30 "
   ]
  },
  {
   "cell_type": "markdown",
   "metadata": {
    "deletable": false,
    "editable": false
   },
   "source": [
    "Show the sample information as a table."
   ]
  },
  {
   "cell_type": "code",
   "execution_count": null,
   "metadata": {
    "tags": [
     "otter_answer_cell"
    ]
   },
   "outputs": [],
   "source": [
    "data = Table().with_columns('dow', ...,\n",
    "                            'defects',...)\n",
    "data"
   ]
  },
  {
   "cell_type": "code",
   "execution_count": null,
   "metadata": {
    "deletable": false,
    "editable": false
   },
   "outputs": [],
   "source": [
    "grader.check(\"q01\")"
   ]
  },
  {
   "cell_type": "markdown",
   "metadata": {},
   "source": [
    "### Analysis"
   ]
  },
  {
   "cell_type": "markdown",
   "metadata": {
    "deletable": false,
    "editable": false
   },
   "source": [
    "Hypothesize that for the population of all cars manufactured, the proportion of defects occurring over a week is the same for every day of the week.  That would imply that the probability that a defect occurs on any specific day of the week is 20%.  The alternative to this hypothesis is that the proportion of defects occurring on some one day is different than for some\n",
    "other day of the week."
   ]
  },
  {
   "cell_type": "code",
   "execution_count": null,
   "metadata": {
    "tags": [
     "otter_answer_cell"
    ]
   },
   "outputs": [],
   "source": [
    "prob_hypo = ...\n",
    "data = data.with_column('prob_hypo', ...)\n",
    "\n",
    "print(\"Hypothesis probability is\", prob_hypo)\n",
    "data"
   ]
  },
  {
   "cell_type": "code",
   "execution_count": null,
   "metadata": {
    "deletable": false,
    "editable": false
   },
   "outputs": [],
   "source": [
    "grader.check(\"q11\")"
   ]
  },
  {
   "cell_type": "markdown",
   "metadata": {
    "deletable": false,
    "editable": false
   },
   "source": [
    "Calculate and show the expected number of defects for each day of the week,\n",
    "based on the hypothesized probability of a defect occurring on that day of the week. "
   ]
  },
  {
   "cell_type": "code",
   "execution_count": null,
   "metadata": {
    "tags": [
     "otter_answer_cell"
    ]
   },
   "outputs": [],
   "source": [
    "data = data.with_column('defects_expected', prob_hypo * ...)\n",
    "data"
   ]
  },
  {
   "cell_type": "code",
   "execution_count": null,
   "metadata": {
    "deletable": false,
    "editable": false
   },
   "outputs": [],
   "source": [
    "grader.check(\"q12\")"
   ]
  },
  {
   "cell_type": "markdown",
   "metadata": {
    "deletable": false,
    "editable": false
   },
   "source": [
    "Calculate and show the sample chi-squared like this:  \n",
    "\n",
    "$$\n",
    "\\chi^2 = \\sum \\cfrac{\\left(\\textit{actual} - \\textit{expected}\\right)^2}{\\textit{expected} }\n",
    "$$"
   ]
  },
  {
   "cell_type": "code",
   "execution_count": null,
   "metadata": {
    "tags": [
     "otter_answer_cell"
    ]
   },
   "outputs": [],
   "source": [
    "defects = ...\n",
    "defects_expected = ...\n",
    "\n",
    "diff = ...\n",
    "diff_squared = ...\n",
    "relative_diff_squared = ...\n",
    "\n",
    "sample_chisquared = sum(relative_diff_squared)\n",
    "data = data.with_columns('diff', diff, 'diff**2', diff_squared, 'relative diff**2', relative_diff_squared)\n",
    "data\n",
    "print(\"Sample chisquared is\", sample_chisquared)"
   ]
  },
  {
   "cell_type": "code",
   "execution_count": null,
   "metadata": {
    "deletable": false,
    "editable": false
   },
   "outputs": [],
   "source": [
    "grader.check(\"q13\")"
   ]
  },
  {
   "cell_type": "markdown",
   "metadata": {
    "deletable": false,
    "editable": false
   },
   "source": [
    "Get 1,000,000 values from the standard chi-squared distribution for the appropriate degrees of freedom.\n",
    "\n",
    "$$\n",
    "\\textit{df} = \\textit{number of unique values} - 1\n",
    "$$\n",
    "\n",
    "Show the degrees of freedom, a few of the values, and a histogram of all the values (50 bins, range 0 to 25)."
   ]
  },
  {
   "cell_type": "code",
   "execution_count": null,
   "metadata": {
    "tags": [
     "otter_answer_cell"
    ]
   },
   "outputs": [],
   "source": [
    "degrees_of_freedom = ...\n",
    "\n",
    "dist_array = chisquare(..., 1000000)\n",
    "dist = Table().with_column('chisquared', ...)\n",
    "print(\"Degrees of freedom is\", degrees_of_freedom)\n",
    "dist\n",
    "dist.hist(bins=50, range=make_array(0,25))"
   ]
  },
  {
   "cell_type": "code",
   "execution_count": null,
   "metadata": {
    "deletable": false,
    "editable": false
   },
   "outputs": [],
   "source": [
    "grader.check(\"q14\")"
   ]
  },
  {
   "cell_type": "markdown",
   "metadata": {
    "deletable": false,
    "editable": false
   },
   "source": [
    "Calculate and show the probability of getting a sample with the sample chi-squared (or above), given that the hypothesis is correct (this is the p-value).\n",
    "Also show the sample chi-squared and a histogram of the standard chi-squared distribution with the area corresponding to the probability highlighted."
   ]
  },
  {
   "cell_type": "code",
   "execution_count": null,
   "metadata": {
    "tags": [
     "otter_answer_cell"
    ]
   },
   "outputs": [],
   "source": [
    "p_value = dist.where('chisquared', ...).num_rows / ...\n",
    "print(\"Sample chisquared is\", sample_chisquared)\n",
    "print(\"Our p-value is\", p_value)\n",
    "dist.hist(bins=50, range=make_array(0,25), left_end=sample_chisquared, right_end=25)"
   ]
  },
  {
   "cell_type": "code",
   "execution_count": null,
   "metadata": {
    "deletable": false,
    "editable": false
   },
   "outputs": [],
   "source": [
    "grader.check(\"q15\")"
   ]
  },
  {
   "cell_type": "markdown",
   "metadata": {
    "deletable": false,
    "editable": false
   },
   "source": [
    "Calculate and show the critical value at significance level 0.05.\n",
    "Also show the significance level and a histogram of the standard chi-squared distribution with the area corresponding to the significance level highlighted."
   ]
  },
  {
   "cell_type": "code",
   "execution_count": null,
   "metadata": {
    "tags": [
     "otter_answer_cell"
    ]
   },
   "outputs": [],
   "source": [
    "sig_level = ...\n",
    "cv = percentile(..., dist.column('chisquared'))\n",
    "print(\"Our significance level is\", sig_level)\n",
    "print(\"Our critical value is\", cv)\n",
    "dist.hist(bins=50, range=make_array(0,25), left_end=cv, right_end=25)"
   ]
  },
  {
   "cell_type": "code",
   "execution_count": null,
   "metadata": {
    "deletable": false,
    "editable": false
   },
   "outputs": [],
   "source": [
    "grader.check(\"q16\")"
   ]
  },
  {
   "cell_type": "markdown",
   "metadata": {
    "deletable": false,
    "editable": false
   },
   "source": [
    "Calculate and show what to conclude about the hypothesis at significance level 0.05"
   ]
  },
  {
   "cell_type": "code",
   "execution_count": null,
   "metadata": {
    "tags": [
     "otter_answer_cell"
    ]
   },
   "outputs": [],
   "source": [
    "reject_the_null_1 = p_value <= ...\n",
    "reject_the_null_2 = sample_chisquared >= ...\n",
    "print(\"Do we reject the null hypothesis?\", reject_the_null_1)\n",
    "print(\"Do we reject the null hypothesis?\", reject_the_null_2)"
   ]
  },
  {
   "cell_type": "code",
   "execution_count": null,
   "metadata": {
    "deletable": false,
    "editable": false
   },
   "outputs": [],
   "source": [
    "grader.check(\"q17\")"
   ]
  },
  {
   "cell_type": "markdown",
   "metadata": {},
   "source": [
    "Accept the hypothesis. Conclude that there is no difference in number of defects based on day of the week."
   ]
  },
  {
   "cell_type": "markdown",
   "metadata": {},
   "source": [
    "<p style=\"text-align:left; font-size:10px;\">\n",
    "Copyright (c) Huntsinger Associates, LLC\n",
    "<span style=\"float:right;\">\n",
    "Document revised October 27, 2023\n",
    "</span>\n",
    "</p>"
   ]
  }
 ],
 "metadata": {
  "kernelspec": {
   "display_name": ".venv",
   "language": "python",
   "name": "python3"
  },
  "language_info": {
   "codemirror_mode": {
    "name": "ipython",
    "version": 3
   },
   "file_extension": ".py",
   "mimetype": "text/x-python",
   "name": "python",
   "nbconvert_exporter": "python",
   "pygments_lexer": "ipython3",
   "version": "3.13.5"
  },
  "otter": {
   "OK_FORMAT": true,
   "tests": {
    "q01": {
     "name": "q01",
     "points": null,
     "suites": [
      {
       "cases": [
        {
         "code": ">>> type(data) is Table and data.num_rows == 5 and (data.num_columns == 2) and (data.column(0).item(0) == 'Monday') and (data.column(1).item(0) == 32)\nTrue",
         "hidden": false,
         "locked": false
        }
       ],
       "scored": true,
       "setup": "",
       "teardown": "",
       "type": "doctest"
      }
     ]
    },
    "q11": {
     "name": "q11",
     "points": null,
     "suites": [
      {
       "cases": [
        {
         "code": ">>> type(prob_hypo) is float and prob_hypo > 0 and (prob_hypo == 0.2)\nTrue",
         "hidden": false,
         "locked": false
        },
        {
         "code": ">>> type(data) is Table and data.num_rows == 5 and (data.num_columns == 3) and (data.column(0).item(3) == 'Thursday') and (data.column(1).item(3) == 19)\nTrue",
         "hidden": false,
         "locked": false
        },
        {
         "code": ">>> mean(data.column('prob_hypo')) == 0.2\nTrue",
         "hidden": false,
         "locked": false
        }
       ],
       "scored": true,
       "setup": "",
       "teardown": "",
       "type": "doctest"
      }
     ]
    },
    "q12": {
     "name": "q12",
     "points": null,
     "suites": [
      {
       "cases": [
        {
         "code": ">>> type(data) is Table and data.num_rows == 5 and (data.num_columns == 4) and (data.column(0).item(0) == 'Monday') and (data.column(3).item(0) == 25.8)\nTrue",
         "hidden": false,
         "locked": false
        },
        {
         "code": ">>> mean(data.column('defects_expected')) == 25.8\nTrue",
         "hidden": false,
         "locked": false
        }
       ],
       "scored": true,
       "setup": "",
       "teardown": "",
       "type": "doctest"
      }
     ]
    },
    "q13": {
     "name": "q13",
     "points": null,
     "suites": [
      {
       "cases": [
        {
         "code": ">>> type(defects) is ndarray and defects.shape == (5,) and (defects[0] == 32) and (defects[1] == 22) and (defects[2] == 26) and (defects[3] == 19) and (defects[4] == 30)\nTrue",
         "hidden": false,
         "locked": false
        },
        {
         "code": ">>> type(diff) is ndarray and diff.shape == (5,) and (round(diff[1], 1) == -3.8) and (round(diff[2], 1) == 0.2) and (round(diff[4], 1) == 4.2)\nTrue",
         "hidden": false,
         "locked": false
        },
        {
         "code": ">>> type(data) is Table and data.num_rows == 5 and (data.num_columns == 7) and (round(data.column(5).item(0), 2) == 38.44) and (round(data.column(4).item(0), 2) == 6.2)\nTrue",
         "hidden": false,
         "locked": false
        },
        {
         "code": ">>> round(sample_chisquared, 1) == 4.5\nTrue",
         "hidden": false,
         "locked": false
        }
       ],
       "scored": true,
       "setup": "",
       "teardown": "",
       "type": "doctest"
      }
     ]
    },
    "q14": {
     "name": "q14",
     "points": null,
     "suites": [
      {
       "cases": [
        {
         "code": ">>> degrees_of_freedom == data.num_rows - 1\nTrue",
         "hidden": false,
         "locked": false
        },
        {
         "code": ">>> dist_array.shape == (1000000,) and type(dist_array) is ndarray\nTrue",
         "hidden": false,
         "locked": false
        }
       ],
       "scored": true,
       "setup": "",
       "teardown": "",
       "type": "doctest"
      }
     ]
    },
    "q15": {
     "name": "q15",
     "points": null,
     "suites": [
      {
       "cases": [
        {
         "code": ">>> isclose(p_value, 0.34, rtol=0.01)\nTrue",
         "hidden": false,
         "locked": false
        }
       ],
       "scored": true,
       "setup": "",
       "teardown": "",
       "type": "doctest"
      }
     ]
    },
    "q16": {
     "name": "q16",
     "points": null,
     "suites": [
      {
       "cases": [
        {
         "code": ">>> sig_level == 0.05\nTrue",
         "hidden": false,
         "locked": false
        },
        {
         "code": ">>> round(cv, 1) == 9.5\nTrue",
         "hidden": false,
         "locked": false
        }
       ],
       "scored": true,
       "setup": "",
       "teardown": "",
       "type": "doctest"
      }
     ]
    },
    "q17": {
     "name": "q17",
     "points": null,
     "suites": [
      {
       "cases": [
        {
         "code": ">>> reject_the_null_1 == reject_the_null_2\nTrue",
         "hidden": false,
         "locked": false
        },
        {
         "code": ">>> reject_the_null_1 == 0\nTrue",
         "hidden": false,
         "locked": false
        }
       ],
       "scored": true,
       "setup": "",
       "teardown": "",
       "type": "doctest"
      }
     ]
    }
   }
  },
  "otter_service": {
   "assignment": "lab_j1",
   "course": "88bx",
   "section": "2"
  },
  "toc": {
   "base_numbering": 1,
   "nav_menu": {},
   "number_sections": true,
   "sideBar": true,
   "skip_h1_title": true,
   "title_cell": "Table of Contents",
   "title_sidebar": "Contents",
   "toc_cell": false,
   "toc_position": {
    "height": "calc(100% - 180px)",
    "left": "10px",
    "top": "150px",
    "width": "256.25px"
   },
   "toc_section_display": true,
   "toc_window_display": false
  }
 },
 "nbformat": 4,
 "nbformat_minor": 2
}
