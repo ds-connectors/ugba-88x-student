{
 "cells": [
  {
   "cell_type": "code",
   "execution_count": null,
   "metadata": {
    "deletable": false,
    "editable": false
   },
   "outputs": [],
   "source": [
    "# Initialize Otter\n",
    "import otter\n",
    "grader = otter.Notebook(\"lab_e.ipynb\")"
   ]
  },
  {
   "cell_type": "markdown",
   "metadata": {},
   "source": [
    "# Lab E: Simulation"
   ]
  },
  {
   "cell_type": "markdown",
   "metadata": {},
   "source": [
    "## Setup"
   ]
  },
  {
   "cell_type": "code",
   "execution_count": null,
   "metadata": {},
   "outputs": [],
   "source": [
    "import warnings\n",
    "from datascience import Table, make_array, are\n",
    "from numpy import mean, minimum, ndarray, allclose\n",
    "from numpy.random import choice\n",
    "\n",
    "# Force display of all values \n",
    "from IPython.core.interactiveshell import InteractiveShell\n",
    "InteractiveShell.ast_node_interactivity = \"all\"\n",
    "\n",
    "# Handle some obnoxious warning messages\n",
    "warnings.filterwarnings(\"ignore\")"
   ]
  },
  {
   "cell_type": "markdown",
   "metadata": {},
   "source": [
    "## Hot Dog Vendor - without investment decision\n",
    "\n",
    "### Business Situation\n",
    "\n",
    "A vendor sells hot dogs at sporting events.  For each event, the vendor orders 5,000 hot dogs and pays for them in advance.  Each hot dog costs the vendor \\\\$3 and, if there is demand for it, can be sold for \\\\$5.  To assist in estimating demand, the vendor can consult data about demand at the prior 1,000 events."
   ]
  },
  {
   "cell_type": "markdown",
   "metadata": {
    "deletable": false,
    "editable": false
   },
   "source": [
    "### Data\n",
    "\n",
    "Retrieve historical demand data, show the number of observations and the first few observations."
   ]
  },
  {
   "cell_type": "code",
   "execution_count": null,
   "metadata": {
    "scrolled": false,
    "tags": [
     "otter_answer_cell"
    ]
   },
   "outputs": [],
   "source": [
    "data = ...\n",
    "...\n",
    "data"
   ]
  },
  {
   "cell_type": "code",
   "execution_count": null,
   "metadata": {
    "deletable": false,
    "editable": false
   },
   "outputs": [],
   "source": [
    "grader.check(\"q1\")"
   ]
  },
  {
   "cell_type": "markdown",
   "metadata": {
    "deletable": false,
    "editable": false
   },
   "source": [
    "### Analysis"
   ]
  },
  {
   "cell_type": "markdown",
   "metadata": {
    "deletable": false,
    "editable": false
   },
   "source": [
    "Calculate and show the mean, minimum, and maximum historical demand.  Visualize historical demand as a 10-bin histogram."
   ]
  },
  {
   "cell_type": "code",
   "execution_count": null,
   "metadata": {
    "tags": [
     "otter_answer_cell"
    ]
   },
   "outputs": [],
   "source": [
    "demand_history = ...\n",
    "\n",
    "demand_mean = ...\n",
    "demand_min = ...\n",
    "demand_max = ...\n",
    "\n",
    "demand_hist = Table().with_column(\"demand\", demand_history).hist()\n",
    "\n",
    "print(demand_mean, demand_min, demand_max)\n",
    "demand_hist"
   ]
  },
  {
   "cell_type": "code",
   "execution_count": null,
   "metadata": {
    "deletable": false,
    "editable": false
   },
   "outputs": [],
   "source": [
    "grader.check(\"q2_1\")"
   ]
  },
  {
   "cell_type": "markdown",
   "metadata": {
    "deletable": false,
    "editable": false
   },
   "source": [
    "Set the unit price to \\\\$5, unit cost to \\\\$3, and order size to 5,000.\n",
    "Calculate and show the investment required to make an order."
   ]
  },
  {
   "cell_type": "code",
   "execution_count": null,
   "metadata": {
    "tags": [
     "otter_answer_cell"
    ]
   },
   "outputs": [],
   "source": [
    "unit_price = ...\n",
    "unit_cost  = ...\n",
    "order  = ...\n",
    "invest = ...\n",
    "\n",
    "invest"
   ]
  },
  {
   "cell_type": "code",
   "execution_count": null,
   "metadata": {
    "deletable": false,
    "editable": false
   },
   "outputs": [],
   "source": [
    "grader.check(\"q2_2\")"
   ]
  },
  {
   "cell_type": "markdown",
   "metadata": {
    "deletable": false,
    "editable": false
   },
   "source": [
    "Assume demand at an event is 5,000 units.  Calculate and show what the profit would be."
   ]
  },
  {
   "cell_type": "code",
   "execution_count": null,
   "metadata": {
    "tags": [
     "otter_answer_cell"
    ]
   },
   "outputs": [],
   "source": [
    "demand = 5000 # units\n",
    "sold = ...\n",
    "profit = ...\n",
    "\n",
    "profit"
   ]
  },
  {
   "cell_type": "code",
   "execution_count": null,
   "metadata": {
    "deletable": false,
    "editable": false
   },
   "outputs": [],
   "source": [
    "grader.check(\"q2_3\")"
   ]
  },
  {
   "cell_type": "markdown",
   "metadata": {
    "deletable": false,
    "editable": false
   },
   "source": [
    "Simulate 5 events.  Assume each event has demand equal to demand at some randomly chosen prior event.  \n",
    "Visualize the distribution of profit across these 5 events as a 10-bin histogram, range -20,000 to 20,000."
   ]
  },
  {
   "cell_type": "code",
   "execution_count": null,
   "metadata": {
    "tags": [
     "otter_answer_cell"
    ]
   },
   "outputs": [],
   "source": [
    "demand = ...\n",
    "sold = minimum(order, demand) # units\n",
    "profit = ...\n",
    "\n",
    "profit_table = Table().with_column('profit', profit)\n",
    "profit_hist = ...\n",
    "profit_hist"
   ]
  },
  {
   "cell_type": "code",
   "execution_count": null,
   "metadata": {
    "deletable": false,
    "editable": false
   },
   "outputs": [],
   "source": [
    "grader.check(\"q2_4\")"
   ]
  },
  {
   "cell_type": "markdown",
   "metadata": {
    "deletable": false,
    "editable": false
   },
   "source": [
    "Simulate 1,000,000 events.  Assume each event has demand equal to demand at some randomly chosen prior event.  \n",
    "Keep track of the would-be profit at each event, stored in an array.  \n",
    "Visualize the distribution of profits across these 1,000,000 events as a 10-bin histogram, range -20,000 to 20,000."
   ]
  },
  {
   "cell_type": "code",
   "execution_count": null,
   "metadata": {
    "tags": [
     "otter_answer_cell"
    ]
   },
   "outputs": [],
   "source": [
    "demand = ...\n",
    "sold = minimum(order, demand) # units\n",
    "profit = ...\n",
    "\n",
    "profit_table = Table().with_column('profit', profit)\n",
    "profit_hist = ...\n",
    "profit_hist"
   ]
  },
  {
   "cell_type": "code",
   "execution_count": null,
   "metadata": {
    "deletable": false,
    "editable": false
   },
   "outputs": [],
   "source": [
    "grader.check(\"q2_5\")"
   ]
  },
  {
   "cell_type": "markdown",
   "metadata": {
    "deletable": false,
    "editable": false
   },
   "source": [
    "Calculate and show the expected profit (i.e., mean profit)."
   ]
  },
  {
   "cell_type": "code",
   "execution_count": null,
   "metadata": {
    "tags": [
     "otter_answer_cell"
    ]
   },
   "outputs": [],
   "source": [
    "mean_profit = ...\n",
    "mean_profit"
   ]
  },
  {
   "cell_type": "code",
   "execution_count": null,
   "metadata": {
    "deletable": false,
    "editable": false
   },
   "outputs": [],
   "source": [
    "grader.check(\"q2_6\")"
   ]
  },
  {
   "cell_type": "markdown",
   "metadata": {
    "deletable": false,
    "editable": false
   },
   "source": [
    "Calculate and show the best case profit."
   ]
  },
  {
   "cell_type": "code",
   "execution_count": null,
   "metadata": {
    "tags": [
     "otter_answer_cell"
    ]
   },
   "outputs": [],
   "source": [
    "best_case_profit = ...\n",
    "best_case_profit"
   ]
  },
  {
   "cell_type": "code",
   "execution_count": null,
   "metadata": {
    "deletable": false,
    "editable": false
   },
   "outputs": [],
   "source": [
    "grader.check(\"q2_7\")"
   ]
  },
  {
   "cell_type": "markdown",
   "metadata": {
    "deletable": false,
    "editable": false
   },
   "source": [
    "Calculate and show the probability of a loss."
   ]
  },
  {
   "cell_type": "code",
   "execution_count": null,
   "metadata": {
    "tags": [
     "otter_answer_cell"
    ]
   },
   "outputs": [],
   "source": [
    "probability_of_loss = ...\n",
    "probability_of_loss"
   ]
  },
  {
   "cell_type": "code",
   "execution_count": null,
   "metadata": {
    "deletable": false,
    "editable": false
   },
   "outputs": [],
   "source": [
    "grader.check(\"q2_8\")"
   ]
  },
  {
   "cell_type": "markdown",
   "metadata": {
    "deletable": false,
    "editable": false
   },
   "source": [
    "Calculate and show the worst case profit."
   ]
  },
  {
   "cell_type": "code",
   "execution_count": null,
   "metadata": {
    "tags": [
     "otter_answer_cell"
    ]
   },
   "outputs": [],
   "source": [
    "worst_case_profit = ...\n",
    "worst_case_profit"
   ]
  },
  {
   "cell_type": "code",
   "execution_count": null,
   "metadata": {
    "deletable": false,
    "editable": false
   },
   "outputs": [],
   "source": [
    "grader.check(\"q2_9\")"
   ]
  },
  {
   "cell_type": "markdown",
   "metadata": {
    "deletable": false,
    "editable": false
   },
   "source": [
    "Construct and show a table with columns for\n",
    "order, invest, expected profit, best case, probability of loss, probability of best case, worst case."
   ]
  },
  {
   "cell_type": "code",
   "execution_count": null,
   "metadata": {
    "hide_input": false,
    "tags": [
     "otter_answer_cell"
    ]
   },
   "outputs": [],
   "source": [
    "result_5000 = Table().with_columns('order', order,\n",
    "                                   'invest', invest,\n",
    "                                   'expected profit', mean(profit),\n",
    "                                   'best case', max(profit),\n",
    "                                   'prob loss', profit_table.where('profit', are.below(0)).num_rows/profit_table.num_rows,\n",
    "                                   'prob best case', profit_table.where('profit', max(profit)).num_rows/profit_table.num_rows,\n",
    "                                   ...\n",
    "\n",
    "result_5000"
   ]
  },
  {
   "cell_type": "code",
   "execution_count": null,
   "metadata": {
    "deletable": false,
    "editable": false
   },
   "outputs": [],
   "source": [
    "grader.check(\"q2_10\")"
   ]
  },
  {
   "cell_type": "markdown",
   "metadata": {},
   "source": [
    "## Hot Dog Vendor - with investment decision\n",
    "\n",
    "### Business Decision\n",
    "\n",
    "A vendor sells hot dogs at sporting events.  For each event, the vendor must decide how many hot dogs to order and pay for them in advance.  Each hotdog costs the vendor \\\\$3 and, if there is demand for it, can be sold for \\\\$5.  To assist in estimating demand, the vendor can consult data about demand at the prior 1,000 events."
   ]
  },
  {
   "cell_type": "markdown",
   "metadata": {},
   "source": [
    "### Data"
   ]
  },
  {
   "cell_type": "markdown",
   "metadata": {
    "hide_input": true
   },
   "source": [
    "Use the historical data retrieved in Section 2. "
   ]
  },
  {
   "cell_type": "markdown",
   "metadata": {
    "deletable": false,
    "editable": false
   },
   "source": [
    "### Analysis"
   ]
  },
  {
   "cell_type": "markdown",
   "metadata": {
    "deletable": false,
    "editable": false
   },
   "source": [
    "Set and show the unit price to \\\\$5 and unit cost to \\\\$3."
   ]
  },
  {
   "cell_type": "code",
   "execution_count": null,
   "metadata": {
    "tags": [
     "otter_answer_cell"
    ]
   },
   "outputs": [],
   "source": [
    "unit_price = ...\n",
    "unit_cost  = ...\n",
    "unit_price\n",
    "unit_cost"
   ]
  },
  {
   "cell_type": "code",
   "execution_count": null,
   "metadata": {
    "deletable": false,
    "editable": false
   },
   "outputs": [],
   "source": [
    "grader.check(\"q3_1\")"
   ]
  },
  {
   "cell_type": "markdown",
   "metadata": {
    "deletable": false,
    "editable": false
   },
   "source": [
    "Set the order size to **4,000** and calculate the investment required.\n",
    "\n",
    "Simulate 1,000,000 events.  Assume each event has demand equal to demand at some randomly chosen prior event.\n",
    "Keep track of the would-be profit at each event, stored in an array.\n",
    "\n",
    "Construct and show a table with columns for\n",
    "order, invest, expected profit, best case, probability of loss, probability of best case, worst case.\n",
    "\n",
    "Visualize the distribution of profits across these 1,000,000 events as a 10-bin histogram, range -20,000 to 20,000."
   ]
  },
  {
   "cell_type": "code",
   "execution_count": null,
   "metadata": {
    "tags": [
     "otter_answer_cell"
    ]
   },
   "outputs": [],
   "source": [
    "order = ...\n",
    "invest = ...\n",
    "\n",
    "demand = ...\n",
    "sold = minimum(order, demand) # units\n",
    "profit = ...\n",
    "\n",
    "profit_table = Table().with_column('profit', profit)\n",
    "\n",
    "result_4000 = Table().with_columns('order', order,\n",
    "                                   'invest', invest,\n",
    "                                   'expected profit', mean(profit),\n",
    "                                   'best case', max(profit),\n",
    "                                   'prob loss', profit_table.where('profit', are.below(0)).num_rows/profit_table.num_rows,\n",
    "                                   'prob best case', profit_table.where('profit', max(profit)).num_rows/profit_table.num_rows,\n",
    "                                   ...\n",
    "result_4000\n",
    "\n",
    "profit_hist_4000 = ...\n",
    "profit_hist_4000"
   ]
  },
  {
   "cell_type": "code",
   "execution_count": null,
   "metadata": {
    "deletable": false,
    "editable": false
   },
   "outputs": [],
   "source": [
    "grader.check(\"q3_2\")"
   ]
  },
  {
   "cell_type": "markdown",
   "metadata": {
    "deletable": false,
    "editable": false
   },
   "source": [
    "Set the order size to **5,000** and calculate the investment required.\n",
    "\n",
    "Simulate 1,000,000 events.  Assume each event has demand equal to demand at some randomly chosen prior event.\n",
    "Keep track of the would-be profit at each event, stored in an array.\n",
    "\n",
    "Construct and show a table with columns for\n",
    "order, invest, expected profit, best case, probability of loss, probability of best case, worst case.\n",
    "\n",
    "Visualize the distribution of profits across these 1,000,000 events as a 10-bin histogram, range -20,000 to 20,000."
   ]
  },
  {
   "cell_type": "code",
   "execution_count": null,
   "metadata": {
    "tags": [
     "otter_answer_cell"
    ]
   },
   "outputs": [],
   "source": [
    "order = ...\n",
    "invest = ...\n",
    "\n",
    "demand = ...\n",
    "sold = minimum(order, demand) # units\n",
    "profit = ...\n",
    "\n",
    "profit_table = Table().with_column('profit', profit)\n",
    "\n",
    "result_5000 = Table().with_columns('order', order,\n",
    "                                   'invest', invest,\n",
    "                                   'expected profit', mean(profit),\n",
    "                                   'best case', max(profit),\n",
    "                                   'prob loss', profit_table.where('profit', are.below(0)).num_rows/profit_table.num_rows,\n",
    "                                   'prob best case', profit_table.where('profit', max(profit)).num_rows/profit_table.num_rows,\n",
    "                                   ...\n",
    "result_5000\n",
    "\n",
    "profit_hist_5000 = ...\n",
    "profit_hist_5000"
   ]
  },
  {
   "cell_type": "code",
   "execution_count": null,
   "metadata": {
    "deletable": false,
    "editable": false
   },
   "outputs": [],
   "source": [
    "grader.check(\"q3_3\")"
   ]
  },
  {
   "cell_type": "markdown",
   "metadata": {
    "deletable": false,
    "editable": false
   },
   "source": [
    "Set the order size to **6,000** and calculate the investment required.\n",
    "\n",
    "Simulate 1,000,000 events.  Assume each event has demand equal to demand at some randomly chosen prior event.\n",
    "Keep track of the would-be profit at each event, stored in an array.\n",
    "\n",
    "Construct and show a table with columns for\n",
    "order, invest, expected profit, best case, probability of loss, probability of best case, worst case.\n",
    "\n",
    "Visualize the distribution of profits across these 1,000,000 events as a 10-bin histogram, range -20,000 to 20,000."
   ]
  },
  {
   "cell_type": "code",
   "execution_count": null,
   "metadata": {
    "tags": [
     "otter_answer_cell"
    ]
   },
   "outputs": [],
   "source": [
    "order = ...\n",
    "invest = ...\n",
    "\n",
    "demand = ...\n",
    "sold = minimum(order, demand) # units\n",
    "profit = ...\n",
    "\n",
    "profit_table = Table().with_column('profit', profit)\n",
    "\n",
    "result_6000 = Table().with_columns('order', order,\n",
    "                                   'invest', invest,\n",
    "                                   'expected profit', mean(profit),\n",
    "                                   'best case', max(profit),\n",
    "                                   'prob loss', profit_table.where('profit', are.below(0)).num_rows/profit_table.num_rows,\n",
    "                                   'prob best case', profit_table.where('profit', max(profit)).num_rows/profit_table.num_rows,\n",
    "                                   ...\n",
    "result_6000\n",
    "\n",
    "profit_hist_6000 = ...\n",
    "profit_hist_6000"
   ]
  },
  {
   "cell_type": "code",
   "execution_count": null,
   "metadata": {
    "deletable": false,
    "editable": false
   },
   "outputs": [],
   "source": [
    "grader.check(\"q3_4\")"
   ]
  },
  {
   "cell_type": "markdown",
   "metadata": {
    "deletable": false,
    "editable": false
   },
   "source": [
    "Set the order size to **7,000** and calculate the investment required.\n",
    "\n",
    "Simulate 1,000,000 events.  Assume each event has demand equal to demand at some randomly chosen prior event.\n",
    "Keep track of the would-be profit at each event, stored in an array.\n",
    "\n",
    "Construct and show a table with columns for\n",
    "order, invest, expected profit, best case, probability of loss, probability of best case, worst case.\n",
    "\n",
    "Visualize the distribution of profits across these 1,000,000 events as a 10-bin histogram, range -20,000 to 20,000."
   ]
  },
  {
   "cell_type": "code",
   "execution_count": null,
   "metadata": {
    "tags": [
     "otter_answer_cell"
    ]
   },
   "outputs": [],
   "source": [
    "order = ...\n",
    "invest = ...\n",
    "\n",
    "demand = ...\n",
    "sold = minimum(order, demand) # units\n",
    "profit = ...\n",
    "\n",
    "profit_table = Table().with_column('profit', profit)\n",
    "\n",
    "result_7000 = Table().with_columns('order', order,\n",
    "                                   'invest', invest,\n",
    "                                   'expected profit', mean(profit),\n",
    "                                   'best case', max(profit),\n",
    "                                   'prob loss', profit_table.where('profit', are.below(0)).num_rows/profit_table.num_rows,\n",
    "                                   'prob best case', profit_table.where('profit', max(profit)).num_rows/profit_table.num_rows,\n",
    "                                   ...\n",
    "result_7000\n",
    "\n",
    "profit_hist_7000 = ...\n",
    "profit_hist_7000"
   ]
  },
  {
   "cell_type": "code",
   "execution_count": null,
   "metadata": {
    "deletable": false,
    "editable": false
   },
   "outputs": [],
   "source": [
    "grader.check(\"q3_5\")"
   ]
  },
  {
   "cell_type": "markdown",
   "metadata": {
    "deletable": false,
    "editable": false
   },
   "source": [
    "Combine the results into a single table and show the table."
   ]
  },
  {
   "cell_type": "code",
   "execution_count": null,
   "metadata": {
    "tags": [
     "otter_answer_cell"
    ]
   },
   "outputs": [],
   "source": [
    "result = result_4000\n",
    "result = ...\n",
    "result = ...\n",
    "result = ...\n",
    "\n",
    "result"
   ]
  },
  {
   "cell_type": "code",
   "execution_count": null,
   "metadata": {
    "deletable": false,
    "editable": false
   },
   "outputs": [],
   "source": [
    "grader.check(\"q3_6\")"
   ]
  },
  {
   "cell_type": "markdown",
   "metadata": {
    "deletable": false,
    "editable": false
   },
   "source": [
    "Visualize the results as a lineplot with expected profit, best case, and worst case vs. order decision."
   ]
  },
  {
   "cell_type": "code",
   "execution_count": null,
   "metadata": {
    "tags": [
     "otter_answer_cell"
    ]
   },
   "outputs": [],
   "source": [
    "results_plot = ...\n",
    "results_plot"
   ]
  },
  {
   "cell_type": "code",
   "execution_count": null,
   "metadata": {
    "deletable": false,
    "editable": false
   },
   "outputs": [],
   "source": [
    "grader.check(\"q3_7\")"
   ]
  },
  {
   "cell_type": "markdown",
   "metadata": {
    "deletable": false,
    "editable": false
   },
   "source": [
    "Visualize the results as a lineplot with probability of loss vs. order decision."
   ]
  },
  {
   "cell_type": "code",
   "execution_count": null,
   "metadata": {
    "tags": [
     "otter_answer_cell"
    ]
   },
   "outputs": [],
   "source": [
    "prob_loss_order_plot = ...\n",
    "prob_loss_order_plot"
   ]
  },
  {
   "cell_type": "code",
   "execution_count": null,
   "metadata": {
    "deletable": false,
    "editable": false
   },
   "outputs": [],
   "source": [
    "grader.check(\"q3_8\")"
   ]
  },
  {
   "cell_type": "markdown",
   "metadata": {
    "deletable": false,
    "editable": false
   },
   "source": [
    "Calculate and show the order decision that maximizes expected profit."
   ]
  },
  {
   "cell_type": "code",
   "execution_count": null,
   "metadata": {
    "tags": [
     "otter_answer_cell"
    ]
   },
   "outputs": [],
   "source": [
    "best_expected_profit = ...\n",
    "order_best_expected_profit = ...\n",
    "order_best_expected_profit"
   ]
  },
  {
   "cell_type": "code",
   "execution_count": null,
   "metadata": {
    "deletable": false,
    "editable": false
   },
   "outputs": [],
   "source": [
    "grader.check(\"q3_9\")"
   ]
  },
  {
   "cell_type": "markdown",
   "metadata": {
    "deletable": false,
    "editable": false
   },
   "source": [
    "Calculate and show the order decision that minimizes probability of a loss."
   ]
  },
  {
   "cell_type": "code",
   "execution_count": null,
   "metadata": {
    "tags": [
     "otter_answer_cell"
    ]
   },
   "outputs": [],
   "source": [
    "best_prob_loss = ...\n",
    "order_best_prob_loss = ...\n",
    "order_best_prob_loss"
   ]
  },
  {
   "cell_type": "code",
   "execution_count": null,
   "metadata": {
    "deletable": false,
    "editable": false
   },
   "outputs": [],
   "source": [
    "grader.check(\"q3_10\")"
   ]
  },
  {
   "cell_type": "markdown",
   "metadata": {
    "deletable": false,
    "editable": false
   },
   "source": [
    "Show the order decision that maximizes best case profit."
   ]
  },
  {
   "cell_type": "code",
   "execution_count": null,
   "metadata": {
    "tags": [
     "otter_answer_cell"
    ]
   },
   "outputs": [],
   "source": [
    "best_best_case = ...\n",
    "order_best_best_case = ...\n",
    "order_best_best_case"
   ]
  },
  {
   "cell_type": "code",
   "execution_count": null,
   "metadata": {
    "deletable": false,
    "editable": false
   },
   "outputs": [],
   "source": [
    "grader.check(\"q3_11\")"
   ]
  },
  {
   "cell_type": "markdown",
   "metadata": {
    "deletable": false,
    "editable": false
   },
   "source": [
    "Show the order decision that maximizes worst case profit."
   ]
  },
  {
   "cell_type": "code",
   "execution_count": null,
   "metadata": {
    "tags": [
     "otter_answer_cell"
    ]
   },
   "outputs": [],
   "source": [
    "best_worst_case = ...\n",
    "order_best_worst_case = ...\n",
    "order_best_worst_case"
   ]
  },
  {
   "cell_type": "code",
   "execution_count": null,
   "metadata": {
    "deletable": false,
    "editable": false
   },
   "outputs": [],
   "source": [
    "grader.check(\"q3_12\")"
   ]
  },
  {
   "cell_type": "markdown",
   "metadata": {
    "deletable": false,
    "editable": false
   },
   "source": [
    "Calculate and show the best case profit when decision is to order 4,000.  \n",
    "Calculate and show the probability of the best case profit when decision is to order 4,000.  \n",
    "Calculate and show the best case profit when decision is to order 7,000.  \n",
    "Calculate and show the probability of the best case profit when decision is to order 7,000."
   ]
  },
  {
   "cell_type": "code",
   "execution_count": null,
   "metadata": {
    "tags": [
     "otter_answer_cell"
    ]
   },
   "outputs": [],
   "source": [
    "best_4000 = ...\n",
    "prob_best_4000 = ...\n",
    "\n",
    "best_7000 = ...\n",
    "prob_best_7000 = ...\n",
    "\n",
    "best_4000, prob_best_4000, best_7000, prob_best_7000"
   ]
  },
  {
   "cell_type": "code",
   "execution_count": null,
   "metadata": {
    "deletable": false,
    "editable": false
   },
   "outputs": [],
   "source": [
    "grader.check(\"q3_13\")"
   ]
  },
  {
   "cell_type": "markdown",
   "metadata": {},
   "source": [
    "# OPTIONAL Challenge Questions\n",
    "You can not get a 100% in the course without getting these questions correct but you do not need to get them correct to pass the course and get the certificate."
   ]
  },
  {
   "cell_type": "markdown",
   "metadata": {
    "deletable": false,
    "editable": false
   },
   "source": [
    "1. Simulate 1,000,000 events for an order size of 5,000 and calculate the probability that profit exceeds $9,000."
   ]
  },
  {
   "cell_type": "code",
   "execution_count": null,
   "metadata": {
    "tags": [
     "otter_answer_cell"
    ]
   },
   "outputs": [],
   "source": [
    "order_5000 = 5000\n",
    "invest_5000 = ...\n",
    "demand_5000 = ...\n",
    "sold_5000 = ...\n",
    "profit_5000 = ...\n",
    "prob_profit_above_9000 = ...\n",
    "prob_profit_above_9000"
   ]
  },
  {
   "cell_type": "code",
   "execution_count": null,
   "metadata": {
    "deletable": false,
    "editable": false
   },
   "outputs": [],
   "source": [
    "grader.check(\"qc_1\")"
   ]
  },
  {
   "cell_type": "markdown",
   "metadata": {
    "deletable": false,
    "editable": false
   },
   "source": [
    "2. Set the order size to 4,500, simulate 1,000,000 events and calculate the expected profit."
   ]
  },
  {
   "cell_type": "code",
   "execution_count": null,
   "metadata": {
    "tags": [
     "otter_answer_cell"
    ]
   },
   "outputs": [],
   "source": [
    "order = 4500\n",
    "invest = ...\n",
    "demand = ...\n",
    "sold = ...\n",
    "profit = ...\n",
    "expected_profit_4500 = ...\n",
    "expected_profit_4500"
   ]
  },
  {
   "cell_type": "code",
   "execution_count": null,
   "metadata": {
    "deletable": false,
    "editable": false
   },
   "outputs": [],
   "source": [
    "grader.check(\"qc_2\")"
   ]
  },
  {
   "cell_type": "markdown",
   "metadata": {
    "deletable": false,
    "editable": false
   },
   "source": [
    "3. Using the result table, determine the order quantity that has the highest worst-case profit."
   ]
  },
  {
   "cell_type": "code",
   "execution_count": null,
   "metadata": {
    "tags": [
     "otter_answer_cell"
    ]
   },
   "outputs": [],
   "source": [
    "order_best_worst_case_5000 = ...\n",
    "order_best_worst_case_5000"
   ]
  },
  {
   "cell_type": "code",
   "execution_count": null,
   "metadata": {
    "deletable": false,
    "editable": false
   },
   "outputs": [],
   "source": [
    "grader.check(\"qc_3\")"
   ]
  },
  {
   "cell_type": "markdown",
   "metadata": {},
   "source": [
    "<p style=\"text-align:left; font-size:10px;\">\n",
    "Copyright (c) Huntsinger Associates, LLC\n",
    "<span style=\"float:right;\">\n",
    "Document revised September 19, 2024\n",
    "</span>\n",
    "</p>"
   ]
  }
 ],
 "metadata": {
  "kernelspec": {
   "display_name": ".venv (3.11.4)",
   "language": "python",
   "name": "python3"
  },
  "language_info": {
   "codemirror_mode": {
    "name": "ipython",
    "version": 3
   },
   "file_extension": ".py",
   "mimetype": "text/x-python",
   "name": "python",
   "nbconvert_exporter": "python",
   "pygments_lexer": "ipython3",
   "version": "3.13.5"
  },
  "otter": {
   "OK_FORMAT": true,
   "tests": {
    "q1": {
     "name": "q1",
     "points": null,
     "suites": [
      {
       "cases": [
        {
         "code": ">>> data.num_rows == 1000\nTrue",
         "hidden": false,
         "locked": false
        },
        {
         "code": ">>> data.labels == ('Demand',)\nTrue",
         "hidden": false,
         "locked": false
        }
       ],
       "scored": true,
       "setup": "",
       "teardown": "",
       "type": "doctest"
      }
     ]
    },
    "q2_1": {
     "name": "q2_1",
     "points": null,
     "suites": [
      {
       "cases": [
        {
         "code": ">>> demand_mean == 5019.176\nTrue",
         "hidden": false,
         "locked": false
        },
        {
         "code": ">>> demand_min == 1662\nTrue",
         "hidden": false,
         "locked": false
        },
        {
         "code": ">>> demand_max = 7984\n",
         "hidden": false,
         "locked": false
        },
        {
         "code": ">>> all(demand_history == data.column('Demand'))\nTrue",
         "hidden": false,
         "locked": false
        }
       ],
       "scored": true,
       "setup": "",
       "teardown": "",
       "type": "doctest"
      }
     ]
    },
    "q2_10": {
     "name": "q2_10",
     "points": null,
     "suites": [
      {
       "cases": [
        {
         "code": ">>> row = result_5000.row(0)\n>>> expected = [order, invest, mean(profit), max(profit), profit_table.where('profit', are.below(0)).num_rows / profit_table.num_rows, profit_table.where('profit', max(profit)).num_rows / profit_table.num_rows, min(profit)]\n>>> row.item('order') == expected[0] and row.item('invest') == expected[1] and (row.item('expected profit') == expected[2]) and (row.item('best case') == expected[3]) and (row.item('prob loss') == expected[4]) and (row.item('prob best case') == expected[5]) and (row.item('worst case') == expected[6])\nTrue",
         "hidden": false,
         "locked": false
        }
       ],
       "scored": true,
       "setup": "",
       "teardown": "",
       "type": "doctest"
      }
     ]
    },
    "q2_2": {
     "name": "q2_2",
     "points": null,
     "suites": [
      {
       "cases": [
        {
         "code": ">>> invest == 15000\nTrue",
         "hidden": false,
         "locked": false
        }
       ],
       "scored": true,
       "setup": "",
       "teardown": "",
       "type": "doctest"
      }
     ]
    },
    "q2_3": {
     "name": "q2_3",
     "points": null,
     "suites": [
      {
       "cases": [
        {
         "code": ">>> profit == 10000\nTrue",
         "hidden": false,
         "locked": false
        }
       ],
       "scored": true,
       "setup": "",
       "teardown": "",
       "type": "doctest"
      }
     ]
    },
    "q2_4": {
     "name": "q2_4",
     "points": null,
     "suites": [
      {
       "cases": [
        {
         "code": ">>> isinstance(demand, (list, ndarray)) and len(demand) == 5\nTrue",
         "hidden": false,
         "locked": false
        },
        {
         "code": ">>> all(profit == sold * unit_price - order * unit_cost)\nTrue",
         "hidden": false,
         "locked": false
        }
       ],
       "scored": true,
       "setup": "",
       "teardown": "",
       "type": "doctest"
      }
     ]
    },
    "q2_5": {
     "name": "q2_5",
     "points": null,
     "suites": [
      {
       "cases": [
        {
         "code": ">>> isinstance(demand, (list, ndarray)) and len(demand) == 1000000\nTrue",
         "hidden": false,
         "locked": false
        },
        {
         "code": ">>> all(profit == sold * unit_price - order * unit_cost)\nTrue",
         "hidden": false,
         "locked": false
        }
       ],
       "scored": true,
       "setup": "",
       "teardown": "",
       "type": "doctest"
      }
     ]
    },
    "q2_6": {
     "name": "q2_6",
     "points": null,
     "suites": [
      {
       "cases": [
        {
         "code": ">>> mean_profit == mean(profit)\nTrue",
         "hidden": false,
         "locked": false
        }
       ],
       "scored": true,
       "setup": "",
       "teardown": "",
       "type": "doctest"
      }
     ]
    },
    "q2_7": {
     "name": "q2_7",
     "points": null,
     "suites": [
      {
       "cases": [
        {
         "code": ">>> best_case_profit == max(profit)\nTrue",
         "hidden": false,
         "locked": false
        }
       ],
       "scored": true,
       "setup": "",
       "teardown": "",
       "type": "doctest"
      }
     ]
    },
    "q2_8": {
     "name": "q2_8",
     "points": null,
     "suites": [
      {
       "cases": [
        {
         "code": ">>> probability_of_loss == profit_table.where('profit', are.below(0)).num_rows / profit_table.num_rows\nTrue",
         "hidden": false,
         "locked": false
        }
       ],
       "scored": true,
       "setup": "",
       "teardown": "",
       "type": "doctest"
      }
     ]
    },
    "q2_9": {
     "name": "q2_9",
     "points": null,
     "suites": [
      {
       "cases": [
        {
         "code": ">>> worst_case_profit == min(profit)\nTrue",
         "hidden": false,
         "locked": false
        }
       ],
       "scored": true,
       "setup": "",
       "teardown": "",
       "type": "doctest"
      }
     ]
    },
    "q3_1": {
     "name": "q3_1",
     "points": null,
     "suites": [
      {
       "cases": [
        {
         "code": ">>> unit_price == 5\nTrue",
         "hidden": false,
         "locked": false
        },
        {
         "code": ">>> unit_cost == 3\nTrue",
         "hidden": false,
         "locked": false
        }
       ],
       "scored": true,
       "setup": "",
       "teardown": "",
       "type": "doctest"
      }
     ]
    },
    "q3_10": {
     "name": "q3_10",
     "points": null,
     "suites": [
      {
       "cases": [
        {
         "code": ">>> probs_of_loss = [(result_4000.column(0)[0], result_4000.column(4)[0]), (result_5000.column(0)[0], result_5000.column(4)[0]), (result_6000.column(0)[0], result_6000.column(4)[0]), (result_7000.column(0)[0], result_7000.column(4)[0])]\n>>> min_loss = probs_of_loss[0][1]\n>>> correct_order = probs_of_loss[0][0]\n>>> for order, prob in probs_of_loss[1:]:\n...     if prob < min_loss:\n...         min_loss = prob\n...         correct_order = order\n>>> order_best_prob_loss == correct_order\nTrue",
         "hidden": false,
         "locked": false
        }
       ],
       "scored": true,
       "setup": "",
       "teardown": "",
       "type": "doctest"
      }
     ]
    },
    "q3_11": {
     "name": "q3_11",
     "points": null,
     "suites": [
      {
       "cases": [
        {
         "code": ">>> best_cases = [(result_4000.column(0)[0], result_4000.column(3)[0]), (result_5000.column(0)[0], result_5000.column(3)[0]), (result_6000.column(0)[0], result_6000.column(3)[0]), (result_7000.column(0)[0], result_7000.column(3)[0])]\n>>> max_best_case = best_cases[0][1]\n>>> correct_order = best_cases[0][0]\n>>> for order, best_case in best_cases[1:]:\n...     if best_case > max_best_case:\n...         max_best_case = best_case\n...         correct_order = order\n>>> order_best_best_case == correct_order\nTrue",
         "hidden": false,
         "locked": false
        }
       ],
       "scored": true,
       "setup": "",
       "teardown": "",
       "type": "doctest"
      }
     ]
    },
    "q3_12": {
     "name": "q3_12",
     "points": null,
     "suites": [
      {
       "cases": [
        {
         "code": ">>> worst_cases = [(result_4000.column(0)[0], result_4000.column(6)[0]), (result_5000.column(0)[0], result_5000.column(6)[0]), (result_6000.column(0)[0], result_6000.column(6)[0]), (result_7000.column(0)[0], result_7000.column(6)[0])]\n>>> max_worst_case = worst_cases[0][1]\n>>> correct_order = worst_cases[0][0]\n>>> for order, wc in worst_cases[1:]:\n...     if wc > max_worst_case:\n...         max_worst_case = wc\n...         correct_order = order\n>>> order_best_worst_case == correct_order\nTrue",
         "hidden": false,
         "locked": false
        }
       ],
       "scored": true,
       "setup": "",
       "teardown": "",
       "type": "doctest"
      }
     ]
    },
    "q3_13": {
     "name": "q3_13",
     "points": null,
     "suites": [
      {
       "cases": [
        {
         "code": ">>> row_4000 = result.where(0, 4000).row(0)\n>>> row_7000 = result.where(0, 7000).row(0)\n>>> correct_best_4000 = row_4000[3]\n>>> best_4000 == correct_best_4000\nTrue",
         "hidden": false,
         "locked": false
        },
        {
         "code": ">>> row_4000 = result.where(0, 4000).row(0)\n>>> row_7000 = result.where(0, 7000).row(0)\n>>> correct_prob_best_4000 = row_4000[5]\n>>> prob_best_4000 == correct_prob_best_4000\nTrue",
         "hidden": false,
         "locked": false
        },
        {
         "code": ">>> row_4000 = result.where(0, 4000).row(0)\n>>> row_7000 = result.where(0, 7000).row(0)\n>>> correct_best_7000 = row_7000[3]\n>>> best_7000 == correct_best_7000\nTrue",
         "hidden": false,
         "locked": false
        },
        {
         "code": ">>> row_4000 = result.where(0, 4000).row(0)\n>>> row_7000 = result.where(0, 7000).row(0)\n>>> correct_prob_best_7000 = row_7000[5]\n>>> prob_best_7000 == correct_prob_best_7000\nTrue",
         "hidden": false,
         "locked": false
        }
       ],
       "scored": true,
       "setup": "",
       "teardown": "",
       "type": "doctest"
      }
     ]
    },
    "q3_2": {
     "name": "q3_2",
     "points": null,
     "suites": [
      {
       "cases": [
        {
         "code": ">>> order == 4000 and invest == order * unit_cost\nTrue",
         "hidden": false,
         "locked": false
        },
        {
         "code": ">>> correct_length = len(demand) == 1000000\n>>> valid_values = all((d in demand_history for d in demand[:100]))\n>>> sold_correct = all(sold == minimum(order, demand))\n>>> profit_correct = allclose(profit, sold * unit_price - order * unit_cost)\n>>> correct_length and valid_values and sold_correct and profit_correct\nTrue",
         "hidden": false,
         "locked": false
        },
        {
         "code": ">>> expected = [order, invest, mean(profit), max(profit), profit_table.where('profit', are.below(0)).num_rows / profit_table.num_rows, profit_table.where('profit', max(profit)).num_rows / profit_table.num_rows, min(profit)]\n>>> row = result_4000.row(0)\n>>> row.item('order') == expected[0] and row.item('invest') == expected[1] and (row.item('expected profit') == expected[2]) and (row.item('best case') == expected[3]) and (row.item('prob loss') == expected[4]) and (row.item('prob best case') == expected[5]) and (row.item('worst case') == expected[6])\nTrue",
         "hidden": false,
         "locked": false
        }
       ],
       "scored": true,
       "setup": "",
       "teardown": "",
       "type": "doctest"
      }
     ]
    },
    "q3_3": {
     "name": "q3_3",
     "points": null,
     "suites": [
      {
       "cases": [
        {
         "code": ">>> order == 5000 and invest == order * unit_cost\nTrue",
         "hidden": false,
         "locked": false
        },
        {
         "code": ">>> correct_length = len(demand) == 1000000\n>>> valid_values = all((d in demand_history for d in demand[:100]))\n>>> sold_correct = all(sold == minimum(order, demand))\n>>> profit_correct = allclose(profit, sold * unit_price - order * unit_cost)\n>>> correct_length and valid_values and sold_correct and profit_correct\nTrue",
         "hidden": false,
         "locked": false
        },
        {
         "code": ">>> expected_values = [order, invest, mean(profit), max(profit), profit_table.where('profit', are.below(0)).num_rows / profit_table.num_rows, profit_table.where('profit', max(profit)).num_rows / profit_table.num_rows, min(profit)]\n>>> actual_row = result_5000.row(0)\n>>> actual_row.item('order') == expected_values[0] and actual_row.item('invest') == expected_values[1] and (actual_row.item('expected profit') == expected_values[2]) and (actual_row.item('best case') == expected_values[3]) and (actual_row.item('prob loss') == expected_values[4]) and (actual_row.item('prob best case') == expected_values[5]) and (actual_row.item('worst case') == expected_values[6])\nTrue",
         "hidden": false,
         "locked": false
        }
       ],
       "scored": true,
       "setup": "",
       "teardown": "",
       "type": "doctest"
      }
     ]
    },
    "q3_4": {
     "name": "q3_4",
     "points": null,
     "suites": [
      {
       "cases": [
        {
         "code": ">>> order == 6000 and invest == order * unit_cost\nTrue",
         "hidden": false,
         "locked": false
        },
        {
         "code": ">>> correct_length = len(demand) == 1000000\n>>> valid_values = all((d in demand_history for d in demand[:100]))\n>>> sold_correct = all(sold == minimum(order, demand))\n>>> profit_correct = allclose(profit, sold * unit_price - order * unit_cost)\n>>> correct_length and valid_values and sold_correct and profit_correct\nTrue",
         "hidden": false,
         "locked": false
        },
        {
         "code": ">>> expected_values = [order, invest, mean(profit), max(profit), profit_table.where('profit', are.below(0)).num_rows / profit_table.num_rows, profit_table.where('profit', max(profit)).num_rows / profit_table.num_rows, min(profit)]\n>>> actual_row = result_6000.row(0)\n>>> actual_row.item('order') == expected_values[0] and actual_row.item('invest') == expected_values[1] and (actual_row.item('expected profit') == expected_values[2]) and (actual_row.item('best case') == expected_values[3]) and (actual_row.item('prob loss') == expected_values[4]) and (actual_row.item('prob best case') == expected_values[5]) and (actual_row.item('worst case') == expected_values[6])\nTrue",
         "hidden": false,
         "locked": false
        }
       ],
       "scored": true,
       "setup": "",
       "teardown": "",
       "type": "doctest"
      }
     ]
    },
    "q3_5": {
     "name": "q3_5",
     "points": null,
     "suites": [
      {
       "cases": [
        {
         "code": ">>> order == 7000 and invest == order * unit_cost\nTrue",
         "hidden": false,
         "locked": false
        },
        {
         "code": ">>> correct_length = len(demand) == 1000000\n>>> valid_values = all((d in demand_history for d in demand[:100]))\n>>> sold_correct = all(sold == minimum(order, demand))\n>>> profit_correct = allclose(profit, sold * unit_price - order * unit_cost)\n>>> correct_length and valid_values and sold_correct and profit_correct\nTrue",
         "hidden": false,
         "locked": false
        },
        {
         "code": ">>> expected_values = [order, invest, mean(profit), max(profit), profit_table.where('profit', are.below(0)).num_rows / profit_table.num_rows, profit_table.where('profit', max(profit)).num_rows / profit_table.num_rows, min(profit)]\n>>> actual_row = result_7000.row(0)\n>>> actual_row.item('order') == expected_values[0] and actual_row.item('invest') == expected_values[1] and (actual_row.item('expected profit') == expected_values[2]) and (actual_row.item('best case') == expected_values[3]) and (actual_row.item('prob loss') == expected_values[4]) and (actual_row.item('prob best case') == expected_values[5]) and (actual_row.item('worst case') == expected_values[6])\nTrue",
         "hidden": false,
         "locked": false
        }
       ],
       "scored": true,
       "setup": "",
       "teardown": "",
       "type": "doctest"
      }
     ]
    },
    "q3_6": {
     "name": "q3_6",
     "points": null,
     "suites": [
      {
       "cases": [
        {
         "code": ">>> correct_row_count = result.num_rows == 4\n>>> correct_orders = all((row.item('order') in [4000, 5000, 6000, 7000] for row in result.rows))\n>>> correct_row_count and correct_orders\nTrue",
         "hidden": false,
         "locked": false
        }
       ],
       "scored": true,
       "setup": "",
       "teardown": "",
       "type": "doctest"
      }
     ]
    },
    "q3_7": {
     "name": "q3_7",
     "points": null,
     "suites": [
      {
       "cases": [
        {
         "code": ">>> t = result.select('order', 'expected profit', 'best case', 'worst case')\n>>> t.num_rows == 4 and t.labels == ('order', 'expected profit', 'best case', 'worst case')\nTrue",
         "hidden": false,
         "locked": false
        }
       ],
       "scored": true,
       "setup": "",
       "teardown": "",
       "type": "doctest"
      }
     ]
    },
    "q3_8": {
     "name": "q3_8",
     "points": null,
     "suites": [
      {
       "cases": [
        {
         "code": ">>> t = result.select('order', 'prob loss')\n>>> t.num_rows == 4 and t.labels == ('order', 'prob loss')\nTrue",
         "hidden": false,
         "locked": false
        }
       ],
       "scored": true,
       "setup": "",
       "teardown": "",
       "type": "doctest"
      }
     ]
    },
    "q3_9": {
     "name": "q3_9",
     "points": null,
     "suites": [
      {
       "cases": [
        {
         "code": ">>> expected_profits = [(result_4000.column(0)[0], result_4000.column(2)[0]), (result_5000.column(0)[0], result_5000.column(2)[0]), (result_6000.column(0)[0], result_6000.column(2)[0]), (result_7000.column(0)[0], result_7000.column(2)[0])]\n>>> max_profit = expected_profits[0][1]\n>>> correct_order = expected_profits[0][0]\n>>> for order, profit in expected_profits[1:]:\n...     if profit > max_profit:\n...         max_profit = profit\n...         correct_order = order\n>>> order_best_expected_profit == correct_order\nTrue",
         "hidden": false,
         "locked": false
        }
       ],
       "scored": true,
       "setup": "",
       "teardown": "",
       "type": "doctest"
      }
     ]
    },
    "qc_1": {
     "name": "qc_1",
     "points": null,
     "suites": [
      {
       "cases": [
        {
         "code": ">>> invest_5000 == order_5000 * unit_cost\nTrue",
         "hidden": false,
         "locked": false
        },
        {
         "code": ">>> demand_5000 == choice(demand_history, 1000000)\narray([False, False, False, ..., False, False, False], dtype=bool)",
         "hidden": false,
         "locked": false
        },
        {
         "code": ">>> sold == minimum(order, demand)\narray([ True,  True,  True, ...,  True,  True,  True], dtype=bool)",
         "hidden": false,
         "locked": false
        },
        {
         "code": ">>> profit == sold * unit_price - invest\narray([False, False, False, ..., False, False, False], dtype=bool)",
         "hidden": false,
         "locked": false
        },
        {
         "code": ">>> prob_profit_above_9000 == (profit > 9000).mean()\nFalse",
         "hidden": false,
         "locked": false
        }
       ],
       "scored": true,
       "setup": "",
       "teardown": "",
       "type": "doctest"
      }
     ]
    },
    "qc_2": {
     "name": "qc_2",
     "points": null,
     "suites": [
      {
       "cases": [
        {
         "code": ">>> invest == order * unit_cost\nTrue",
         "hidden": false,
         "locked": false
        },
        {
         "code": ">>> isinstance(demand_5000, (list, ndarray)) and len(demand_5000) == 1000000\nTrue",
         "hidden": false,
         "locked": false
        },
        {
         "code": ">>> all(sold_5000 == minimum(order_5000, demand_5000))\nTrue",
         "hidden": false,
         "locked": false
        },
        {
         "code": ">>> all(profit_5000 == sold_5000 * unit_price - invest_5000)\nTrue",
         "hidden": false,
         "locked": false
        },
        {
         "code": ">>> expected_profit_4500 == mean(profit)\nTrue",
         "hidden": false,
         "locked": false
        }
       ],
       "scored": true,
       "setup": "",
       "teardown": "",
       "type": "doctest"
      }
     ]
    },
    "qc_3": {
     "name": "qc_3",
     "points": null,
     "suites": [
      {
       "cases": [
        {
         "code": ">>> order_best_worst_case_5000 == 4000\nTrue",
         "hidden": false,
         "locked": false
        }
       ],
       "scored": true,
       "setup": "",
       "teardown": "",
       "type": "doctest"
      }
     ]
    }
   }
  },
  "otter_service": {
   "assignment": "lab_e",
   "course": "88bx",
   "section": "1"
  },
  "toc": {
   "base_numbering": 1,
   "nav_menu": {},
   "number_sections": true,
   "sideBar": true,
   "skip_h1_title": true,
   "title_cell": "Table of Contents",
   "title_sidebar": "Contents",
   "toc_cell": false,
   "toc_position": {
    "height": "calc(100% - 180px)",
    "left": "10px",
    "top": "150px",
    "width": "256.25px"
   },
   "toc_section_display": true,
   "toc_window_display": false
  }
 },
 "nbformat": 4,
 "nbformat_minor": 2
}
